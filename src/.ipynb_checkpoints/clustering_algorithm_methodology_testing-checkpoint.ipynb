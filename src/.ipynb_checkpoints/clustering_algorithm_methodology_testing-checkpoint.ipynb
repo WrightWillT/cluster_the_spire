{
 "cells": [
  {
   "cell_type": "markdown",
   "metadata": {},
   "source": [
    "# Clustering Algorithm Methodology and Testing\n",
    "Will Wright"
   ]
  },
  {
   "cell_type": "markdown",
   "metadata": {},
   "source": [
    "### Purpose and Context\n",
    "\n",
    "I've worked with several unsupervised clustering algorithms as part of my professional and academic career, but I had never built one from scratch.  Because the data for this project is binary and I had never worked exclusively with this type of data, I decided to test my creativity and see if I could build a functioning algorithmm from scratch with no outside influence.  \n",
    "\n",
    "Once complete, this algorithm will be used to classify the resource data from the Slay the Spire character datasets into resource-personas (i.e. the unique 'builds' possible to win with each character on Ascension 20)."
   ]
  },
  {
   "cell_type": "code",
   "execution_count": 1,
   "metadata": {},
   "outputs": [],
   "source": [
    "# Load packages\n",
    "import shutil\n",
    "from os import listdir\n",
    "import json\n",
    "import glob\n",
    "import os\n",
    "import numpy as np\n",
    "import pandas as pd\n",
    "import random\n",
    "import copy\n",
    "from heapq import nsmallest\n",
    "\n",
    "# increase viewable dataframe rows and columns\n",
    "pd.set_option('display.max_rows', 50)\n",
    "pd.set_option('display.max_columns', 20)\n",
    "\n",
    "# set random seed\n",
    "random.seed(30)"
   ]
  },
  {
   "cell_type": "markdown",
   "metadata": {},
   "source": [
    "___\n",
    "## Simulating Clusters\n",
    "There are several algorithms out there for clustering binary data, but I'd like to try my hand at developing my own. After much whiteboarding, my plan is to test and see if I can get my own idea to work.\n",
    "\n",
    "**Clustering Algorithm**\n",
    "1. Start with nodes equal to the number of games (k=m)\n",
    "2. Calculate the distance between each node and every other node where distance is the sum of resources that don't match (i.e. if a card is in both decks, that resource adds 0 distance, but it if is in one and not the other, then it adds 1 distance.  \"Distance\" is the sum of all these resource differences)\n",
    "3. For each node, calculate the nearest node(s) via distance + tolerance and add to the node via averaging. \n",
    "4. For each updated node, calculate the distances to all other nodes and the min and max distances per node\n",
    "5. Drop the node for which the min distance is the smallest and, of those, the max distance is the smallest (this steps adds maximum distance between the nodes)\n",
    "6. Repeat 2-5 until k=1\n",
    "7. Plot average distance for k=1 through k=m\n",
    "8. Select a reasonable k"
   ]
  },
  {
   "cell_type": "markdown",
   "metadata": {},
   "source": [
    "### Generating Test Data\n",
    "\n",
    "Lets imagine we have 20 resources in 100 games and 4 relatively-tight clusters.  In order to do this, we'll create 4 medoids by drawing from the binomial distribution with p = 0.2, 0.4, 0.6, and 0.8 for each draw being a 1 instead of a 0 for each resource within a medoid."
   ]
  },
  {
   "cell_type": "code",
   "execution_count": 2,
   "metadata": {},
   "outputs": [
    {
     "name": "stdout",
     "output_type": "stream",
     "text": [
      "[1 0 0 0 0 0 0 0 0 0 0 0 0 1 0 0 0 0 0 1]\n",
      "[0 0 0 1 0 1 1 0 0 0 1 1 0 0 0 0 0 1 0 0]\n",
      "[0 1 0 1 1 1 0 0 1 0 0 1 1 1 0 1 0 0 1 0]\n",
      "[1 1 1 1 1 1 1 0 1 0 1 1 1 0 1 1 1 1 1 1]\n"
     ]
    }
   ],
   "source": [
    "first_medoid = np.random.binomial(1, 0.2, 20)\n",
    "second_medoid = np.random.binomial(1, 0.4, 20)\n",
    "third_medoid = np.random.binomial(1, 0.6, 20)\n",
    "fourth_medoid = np.random.binomial(1, 0.8, 20)\n",
    "\n",
    "print(first_medoid)\n",
    "print(second_medoid)\n",
    "print(third_medoid)\n",
    "print(fourth_medoid)\n"
   ]
  },
  {
   "cell_type": "markdown",
   "metadata": {},
   "source": [
    "We'll want a function to measure the distance between games (as described in step 2 of the algorithm):"
   ]
  },
  {
   "cell_type": "code",
   "execution_count": 3,
   "metadata": {},
   "outputs": [],
   "source": [
    "def cluster_distance_calculator(cluster1_input, cluster2_input):\n",
    "    '''\n",
    "    input: arrays of binary data for two clusters\n",
    "    output: a distance measurement\n",
    "    method: distance is the sum of differences in the binary data, by position\n",
    "    '''\n",
    "    distance = sum(abs(cluster1_input-cluster2_input))\n",
    "    return(distance)"
   ]
  },
  {
   "cell_type": "code",
   "execution_count": 4,
   "metadata": {},
   "outputs": [
    {
     "name": "stdout",
     "output_type": "stream",
     "text": [
      "0\n",
      "9\n",
      "11\n",
      "16\n"
     ]
    }
   ],
   "source": [
    "# test it out for the distance between the first medoid and the others\n",
    "print(cluster_distance_calculator(first_medoid, first_medoid))\n",
    "print(cluster_distance_calculator(first_medoid, second_medoid))\n",
    "print(cluster_distance_calculator(first_medoid, third_medoid))\n",
    "print(cluster_distance_calculator(first_medoid, fourth_medoid))\n"
   ]
  },
  {
   "cell_type": "markdown",
   "metadata": {},
   "source": [
    "As expected, there is 0 distance for the first medoid compared to itself. Both the second and the third medoids have 9 total differences and the fourth medoid has 14. We'll want to see what the confusion matrix of each cluster's distance from each other cluster in a function for easy and comprehensive evaluation:"
   ]
  },
  {
   "cell_type": "code",
   "execution_count": 5,
   "metadata": {},
   "outputs": [],
   "source": [
    "def cluster_confusioner(cluster_list_input):\n",
    "    '''\n",
    "    input: a list of clusters of equal length\n",
    "    output: a matrix which applies the cluster_distance_calculator to each pair of clusters\n",
    "    '''\n",
    "    distance_matrix = np.empty((len(cluster_list_input), len(cluster_list_input)))\n",
    "    \n",
    "    # iterate through each comparison to populate the matrix\n",
    "    for i in range(len(cluster_list_input)):\n",
    "        for j in range(len(cluster_list_input)):\n",
    "            distance_matrix[i,j] = cluster_distance_calculator(cluster_list_input[i], cluster_list_input[j])\n",
    "    \n",
    "    return(distance_matrix)\n",
    "    "
   ]
  },
  {
   "cell_type": "code",
   "execution_count": 6,
   "metadata": {},
   "outputs": [
    {
     "data": {
      "text/plain": [
       "array([[ 0.,  9., 11., 16.],\n",
       "       [ 9.,  0., 10., 11.],\n",
       "       [11., 10.,  0.,  9.],\n",
       "       [16., 11.,  9.,  0.]])"
      ]
     },
     "execution_count": 6,
     "metadata": {},
     "output_type": "execute_result"
    }
   ],
   "source": [
    "cluster_confusioner([first_medoid, second_medoid, third_medoid, fourth_medoid])"
   ]
  },
  {
   "cell_type": "markdown",
   "metadata": {},
   "source": [
    "Here, we can see those same 0, 9, 9, 14 values across the first row and down the first column as well as the distances between the other clusters.  It looks like the maximum distance is 14 (difference between the first and fourth medoid) and the minimum distance is a three-way tie between medoids 1:2, 1:3, and 2:4 with a distance of 9.\n",
    "\n",
    "Next, we'll want to create 24 similar games per medoid to simulate a situation in which there were 4 winning sets of resources.  We'll do this by randomly selecting 0-25% of the elements in each cluster and flipping them. such that we'll have 75% to 100% similarity between each game intended for a cluster and its medoid (I say _intended_ because it's possible that, after applying the random changes, it becomes more similar to a different medoid)."
   ]
  },
  {
   "cell_type": "code",
   "execution_count": 7,
   "metadata": {},
   "outputs": [],
   "source": [
    "def cluster_creator(medoid_input, difference_percent_range, n_games):\n",
    "    '''\n",
    "    input: medoid_input is a one-dimensional array of binary data\n",
    "           difference_percent_range is a list with a min and max percent (e.g. [0,0.25] for 0-25%); cannot do <1% \n",
    "           n_games is the number of games needed in the output\n",
    "    output: a list of n games with the speficied similarity to the medoid_input\n",
    "    '''\n",
    "    \n",
    "    simulated_games = []\n",
    "    \n",
    "    for i in range(n_games):\n",
    "        # select how many elements will be changed\n",
    "        # must multiply by 100 and add 1 due to randrange needing integers and being exclusive with the high end\n",
    "        percent_change = random.randrange(difference_percent_range[0]*100, (difference_percent_range[1]+0.01)*100, 1)/100\n",
    "        \n",
    "        # convert the percent to an integer by multiplying by the total number of elements and rounding\n",
    "        element_change = round(len(medoid_input)*percent_change)\n",
    "        \n",
    "        # select which elements will be changed\n",
    "        element_change_positions = []\n",
    "        for j in range(element_change):\n",
    "            element_change_positions.append(random.randrange(0,len(medoid_input)))\n",
    "        \n",
    "        # change those elements\n",
    "        simulated_game = copy.copy(medoid_input)\n",
    "        for k in range(len(element_change_positions)):\n",
    "            if simulated_game[element_change_positions[k]]==1:\n",
    "                simulated_game[element_change_positions[k]]=0\n",
    "            else:\n",
    "                simulated_game[element_change_positions[k]]=1\n",
    "        \n",
    "        # append to list of games\n",
    "        simulated_games.append(simulated_game)\n",
    "    \n",
    "    return(simulated_games)\n",
    "        "
   ]
  },
  {
   "cell_type": "code",
   "execution_count": 8,
   "metadata": {
    "scrolled": false
   },
   "outputs": [],
   "source": [
    "# create the cluster and add the medoid to it\n",
    "first_medoid_cluster = cluster_creator(first_medoid, [0,0.25], 24)"
   ]
  },
  {
   "cell_type": "code",
   "execution_count": 9,
   "metadata": {},
   "outputs": [
    {
     "data": {
      "text/plain": [
       "[array([0, 0, 0, 0, 0, 0, 0, 0, 0, 1, 0, 0, 0, 1, 0, 0, 0, 0, 0, 0]),\n",
       " array([1, 1, 0, 0, 0, 0, 1, 0, 1, 0, 0, 0, 1, 1, 0, 0, 0, 0, 0, 1]),\n",
       " array([1, 0, 1, 0, 1, 0, 0, 0, 0, 0, 0, 0, 0, 1, 0, 0, 0, 0, 0, 1]),\n",
       " array([0, 0, 0, 0, 0, 0, 0, 1, 0, 0, 0, 0, 0, 1, 0, 0, 1, 0, 0, 1]),\n",
       " array([1, 0, 0, 0, 0, 0, 0, 0, 0, 0, 0, 0, 0, 1, 0, 0, 0, 0, 0, 1]),\n",
       " array([1, 0, 0, 0, 0, 0, 0, 0, 0, 0, 0, 0, 0, 1, 0, 0, 0, 0, 0, 1]),\n",
       " array([1, 0, 0, 0, 0, 0, 0, 0, 0, 0, 0, 0, 0, 1, 0, 0, 0, 0, 0, 0]),\n",
       " array([1, 0, 0, 0, 0, 0, 0, 0, 0, 0, 0, 1, 1, 1, 0, 0, 0, 1, 0, 1]),\n",
       " array([1, 0, 0, 0, 0, 0, 0, 0, 0, 0, 0, 0, 0, 1, 0, 0, 0, 0, 0, 1]),\n",
       " array([0, 0, 0, 0, 0, 0, 0, 1, 0, 0, 0, 0, 0, 1, 0, 0, 0, 0, 0, 1]),\n",
       " array([1, 0, 0, 1, 0, 0, 0, 0, 1, 0, 0, 0, 0, 0, 0, 0, 0, 0, 0, 1]),\n",
       " array([1, 0, 0, 1, 0, 0, 0, 0, 1, 0, 0, 0, 0, 1, 0, 0, 0, 1, 0, 0]),\n",
       " array([1, 0, 0, 0, 1, 0, 0, 0, 0, 0, 0, 0, 0, 1, 0, 0, 0, 0, 0, 1]),\n",
       " array([1, 0, 0, 0, 0, 0, 0, 0, 1, 0, 0, 0, 0, 1, 0, 0, 1, 0, 0, 1]),\n",
       " array([1, 0, 0, 0, 0, 0, 0, 0, 0, 0, 0, 0, 0, 1, 0, 0, 0, 0, 0, 1]),\n",
       " array([1, 0, 0, 0, 0, 0, 0, 1, 0, 0, 0, 0, 0, 1, 0, 0, 0, 0, 0, 1]),\n",
       " array([0, 0, 0, 1, 0, 0, 0, 0, 0, 0, 1, 0, 0, 0, 0, 0, 0, 0, 0, 1]),\n",
       " array([1, 0, 0, 0, 0, 0, 0, 0, 0, 1, 0, 0, 0, 1, 0, 0, 0, 0, 0, 1]),\n",
       " array([1, 0, 0, 0, 0, 0, 0, 0, 0, 0, 1, 0, 0, 1, 1, 0, 1, 0, 0, 1]),\n",
       " array([1, 0, 1, 0, 0, 0, 0, 0, 0, 0, 0, 0, 0, 1, 0, 0, 1, 0, 0, 1]),\n",
       " array([1, 0, 0, 0, 0, 0, 0, 0, 0, 0, 0, 0, 0, 1, 0, 0, 0, 0, 0, 1]),\n",
       " array([1, 0, 0, 1, 0, 0, 0, 0, 1, 0, 0, 0, 0, 1, 0, 0, 0, 0, 0, 1]),\n",
       " array([1, 0, 0, 0, 0, 0, 0, 0, 0, 0, 0, 0, 0, 1, 0, 0, 0, 0, 1, 1]),\n",
       " array([1, 0, 0, 0, 0, 1, 0, 0, 0, 0, 0, 0, 0, 1, 0, 0, 1, 0, 0, 1])]"
      ]
     },
     "execution_count": 9,
     "metadata": {},
     "output_type": "execute_result"
    }
   ],
   "source": [
    "first_medoid_cluster"
   ]
  },
  {
   "cell_type": "markdown",
   "metadata": {},
   "source": [
    "Looks right, but just to test, let's make sure the differences between each simulated game and the medoid is less than or equal to 25% (5 elements of the 20):"
   ]
  },
  {
   "cell_type": "code",
   "execution_count": 10,
   "metadata": {
    "scrolled": false
   },
   "outputs": [
    {
     "name": "stdout",
     "output_type": "stream",
     "text": [
      "4\n"
     ]
    }
   ],
   "source": [
    "distances = []\n",
    "for i in range(len(first_medoid_cluster)):\n",
    "    distances = distances + [cluster_distance_calculator(first_medoid, first_medoid_cluster[i])]\n",
    "print(max(distances))"
   ]
  },
  {
   "cell_type": "markdown",
   "metadata": {},
   "source": [
    "Perfect! now to create the other clusters of games around the other medoids."
   ]
  },
  {
   "cell_type": "code",
   "execution_count": 11,
   "metadata": {},
   "outputs": [],
   "source": [
    "second_medoid_cluster = cluster_creator(second_medoid, [0,0.25], 24)\n",
    "third_medoid_cluster = cluster_creator(third_medoid, [0,0.25], 24)\n",
    "fourth_medoid_cluster = cluster_creator(fourth_medoid, [0,0.25], 24)"
   ]
  },
  {
   "cell_type": "markdown",
   "metadata": {},
   "source": [
    "Finally, we can stitch all the games together into one dataframe:"
   ]
  },
  {
   "cell_type": "code",
   "execution_count": 12,
   "metadata": {},
   "outputs": [],
   "source": [
    "simulated_games = [first_medoid] + first_medoid_cluster + [second_medoid] + second_medoid_cluster +\\\n",
    "[third_medoid] + third_medoid_cluster + [fourth_medoid] + fourth_medoid_cluster"
   ]
  },
  {
   "cell_type": "code",
   "execution_count": 13,
   "metadata": {},
   "outputs": [],
   "source": [
    "simulated_games = pd.DataFrame(np.array(simulated_games))"
   ]
  },
  {
   "cell_type": "code",
   "execution_count": 14,
   "metadata": {},
   "outputs": [
    {
     "data": {
      "text/html": [
       "<div>\n",
       "<style scoped>\n",
       "    .dataframe tbody tr th:only-of-type {\n",
       "        vertical-align: middle;\n",
       "    }\n",
       "\n",
       "    .dataframe tbody tr th {\n",
       "        vertical-align: top;\n",
       "    }\n",
       "\n",
       "    .dataframe thead th {\n",
       "        text-align: right;\n",
       "    }\n",
       "</style>\n",
       "<table border=\"1\" class=\"dataframe\">\n",
       "  <thead>\n",
       "    <tr style=\"text-align: right;\">\n",
       "      <th></th>\n",
       "      <th>0</th>\n",
       "      <th>1</th>\n",
       "      <th>2</th>\n",
       "      <th>3</th>\n",
       "      <th>4</th>\n",
       "      <th>5</th>\n",
       "      <th>6</th>\n",
       "      <th>7</th>\n",
       "      <th>8</th>\n",
       "      <th>9</th>\n",
       "      <th>10</th>\n",
       "      <th>11</th>\n",
       "      <th>12</th>\n",
       "      <th>13</th>\n",
       "      <th>14</th>\n",
       "      <th>15</th>\n",
       "      <th>16</th>\n",
       "      <th>17</th>\n",
       "      <th>18</th>\n",
       "      <th>19</th>\n",
       "    </tr>\n",
       "  </thead>\n",
       "  <tbody>\n",
       "    <tr>\n",
       "      <td>0</td>\n",
       "      <td>1</td>\n",
       "      <td>0</td>\n",
       "      <td>0</td>\n",
       "      <td>0</td>\n",
       "      <td>0</td>\n",
       "      <td>0</td>\n",
       "      <td>0</td>\n",
       "      <td>0</td>\n",
       "      <td>0</td>\n",
       "      <td>0</td>\n",
       "      <td>0</td>\n",
       "      <td>0</td>\n",
       "      <td>0</td>\n",
       "      <td>1</td>\n",
       "      <td>0</td>\n",
       "      <td>0</td>\n",
       "      <td>0</td>\n",
       "      <td>0</td>\n",
       "      <td>0</td>\n",
       "      <td>1</td>\n",
       "    </tr>\n",
       "    <tr>\n",
       "      <td>1</td>\n",
       "      <td>0</td>\n",
       "      <td>0</td>\n",
       "      <td>0</td>\n",
       "      <td>0</td>\n",
       "      <td>0</td>\n",
       "      <td>0</td>\n",
       "      <td>0</td>\n",
       "      <td>0</td>\n",
       "      <td>0</td>\n",
       "      <td>1</td>\n",
       "      <td>0</td>\n",
       "      <td>0</td>\n",
       "      <td>0</td>\n",
       "      <td>1</td>\n",
       "      <td>0</td>\n",
       "      <td>0</td>\n",
       "      <td>0</td>\n",
       "      <td>0</td>\n",
       "      <td>0</td>\n",
       "      <td>0</td>\n",
       "    </tr>\n",
       "    <tr>\n",
       "      <td>2</td>\n",
       "      <td>1</td>\n",
       "      <td>1</td>\n",
       "      <td>0</td>\n",
       "      <td>0</td>\n",
       "      <td>0</td>\n",
       "      <td>0</td>\n",
       "      <td>1</td>\n",
       "      <td>0</td>\n",
       "      <td>1</td>\n",
       "      <td>0</td>\n",
       "      <td>0</td>\n",
       "      <td>0</td>\n",
       "      <td>1</td>\n",
       "      <td>1</td>\n",
       "      <td>0</td>\n",
       "      <td>0</td>\n",
       "      <td>0</td>\n",
       "      <td>0</td>\n",
       "      <td>0</td>\n",
       "      <td>1</td>\n",
       "    </tr>\n",
       "    <tr>\n",
       "      <td>3</td>\n",
       "      <td>1</td>\n",
       "      <td>0</td>\n",
       "      <td>1</td>\n",
       "      <td>0</td>\n",
       "      <td>1</td>\n",
       "      <td>0</td>\n",
       "      <td>0</td>\n",
       "      <td>0</td>\n",
       "      <td>0</td>\n",
       "      <td>0</td>\n",
       "      <td>0</td>\n",
       "      <td>0</td>\n",
       "      <td>0</td>\n",
       "      <td>1</td>\n",
       "      <td>0</td>\n",
       "      <td>0</td>\n",
       "      <td>0</td>\n",
       "      <td>0</td>\n",
       "      <td>0</td>\n",
       "      <td>1</td>\n",
       "    </tr>\n",
       "    <tr>\n",
       "      <td>4</td>\n",
       "      <td>0</td>\n",
       "      <td>0</td>\n",
       "      <td>0</td>\n",
       "      <td>0</td>\n",
       "      <td>0</td>\n",
       "      <td>0</td>\n",
       "      <td>0</td>\n",
       "      <td>1</td>\n",
       "      <td>0</td>\n",
       "      <td>0</td>\n",
       "      <td>0</td>\n",
       "      <td>0</td>\n",
       "      <td>0</td>\n",
       "      <td>1</td>\n",
       "      <td>0</td>\n",
       "      <td>0</td>\n",
       "      <td>1</td>\n",
       "      <td>0</td>\n",
       "      <td>0</td>\n",
       "      <td>1</td>\n",
       "    </tr>\n",
       "    <tr>\n",
       "      <td>...</td>\n",
       "      <td>...</td>\n",
       "      <td>...</td>\n",
       "      <td>...</td>\n",
       "      <td>...</td>\n",
       "      <td>...</td>\n",
       "      <td>...</td>\n",
       "      <td>...</td>\n",
       "      <td>...</td>\n",
       "      <td>...</td>\n",
       "      <td>...</td>\n",
       "      <td>...</td>\n",
       "      <td>...</td>\n",
       "      <td>...</td>\n",
       "      <td>...</td>\n",
       "      <td>...</td>\n",
       "      <td>...</td>\n",
       "      <td>...</td>\n",
       "      <td>...</td>\n",
       "      <td>...</td>\n",
       "      <td>...</td>\n",
       "    </tr>\n",
       "    <tr>\n",
       "      <td>95</td>\n",
       "      <td>1</td>\n",
       "      <td>1</td>\n",
       "      <td>1</td>\n",
       "      <td>1</td>\n",
       "      <td>1</td>\n",
       "      <td>0</td>\n",
       "      <td>1</td>\n",
       "      <td>1</td>\n",
       "      <td>1</td>\n",
       "      <td>0</td>\n",
       "      <td>1</td>\n",
       "      <td>0</td>\n",
       "      <td>1</td>\n",
       "      <td>0</td>\n",
       "      <td>1</td>\n",
       "      <td>1</td>\n",
       "      <td>0</td>\n",
       "      <td>1</td>\n",
       "      <td>1</td>\n",
       "      <td>1</td>\n",
       "    </tr>\n",
       "    <tr>\n",
       "      <td>96</td>\n",
       "      <td>0</td>\n",
       "      <td>1</td>\n",
       "      <td>1</td>\n",
       "      <td>1</td>\n",
       "      <td>1</td>\n",
       "      <td>1</td>\n",
       "      <td>1</td>\n",
       "      <td>0</td>\n",
       "      <td>0</td>\n",
       "      <td>0</td>\n",
       "      <td>1</td>\n",
       "      <td>1</td>\n",
       "      <td>1</td>\n",
       "      <td>0</td>\n",
       "      <td>1</td>\n",
       "      <td>1</td>\n",
       "      <td>1</td>\n",
       "      <td>1</td>\n",
       "      <td>1</td>\n",
       "      <td>1</td>\n",
       "    </tr>\n",
       "    <tr>\n",
       "      <td>97</td>\n",
       "      <td>1</td>\n",
       "      <td>1</td>\n",
       "      <td>1</td>\n",
       "      <td>1</td>\n",
       "      <td>1</td>\n",
       "      <td>1</td>\n",
       "      <td>1</td>\n",
       "      <td>0</td>\n",
       "      <td>1</td>\n",
       "      <td>0</td>\n",
       "      <td>1</td>\n",
       "      <td>1</td>\n",
       "      <td>1</td>\n",
       "      <td>0</td>\n",
       "      <td>1</td>\n",
       "      <td>1</td>\n",
       "      <td>1</td>\n",
       "      <td>1</td>\n",
       "      <td>1</td>\n",
       "      <td>1</td>\n",
       "    </tr>\n",
       "    <tr>\n",
       "      <td>98</td>\n",
       "      <td>0</td>\n",
       "      <td>1</td>\n",
       "      <td>0</td>\n",
       "      <td>1</td>\n",
       "      <td>0</td>\n",
       "      <td>1</td>\n",
       "      <td>1</td>\n",
       "      <td>0</td>\n",
       "      <td>1</td>\n",
       "      <td>0</td>\n",
       "      <td>1</td>\n",
       "      <td>1</td>\n",
       "      <td>1</td>\n",
       "      <td>0</td>\n",
       "      <td>1</td>\n",
       "      <td>1</td>\n",
       "      <td>0</td>\n",
       "      <td>1</td>\n",
       "      <td>1</td>\n",
       "      <td>1</td>\n",
       "    </tr>\n",
       "    <tr>\n",
       "      <td>99</td>\n",
       "      <td>1</td>\n",
       "      <td>1</td>\n",
       "      <td>1</td>\n",
       "      <td>1</td>\n",
       "      <td>1</td>\n",
       "      <td>1</td>\n",
       "      <td>1</td>\n",
       "      <td>0</td>\n",
       "      <td>1</td>\n",
       "      <td>0</td>\n",
       "      <td>1</td>\n",
       "      <td>1</td>\n",
       "      <td>1</td>\n",
       "      <td>0</td>\n",
       "      <td>1</td>\n",
       "      <td>0</td>\n",
       "      <td>1</td>\n",
       "      <td>1</td>\n",
       "      <td>1</td>\n",
       "      <td>0</td>\n",
       "    </tr>\n",
       "  </tbody>\n",
       "</table>\n",
       "<p>100 rows × 20 columns</p>\n",
       "</div>"
      ],
      "text/plain": [
       "    0  1  2  3  4  5  6  7  8  9  10  11  12  13  14  15  16  17  18  19\n",
       "0   1  0  0  0  0  0  0  0  0  0   0   0   0   1   0   0   0   0   0   1\n",
       "1   0  0  0  0  0  0  0  0  0  1   0   0   0   1   0   0   0   0   0   0\n",
       "2   1  1  0  0  0  0  1  0  1  0   0   0   1   1   0   0   0   0   0   1\n",
       "3   1  0  1  0  1  0  0  0  0  0   0   0   0   1   0   0   0   0   0   1\n",
       "4   0  0  0  0  0  0  0  1  0  0   0   0   0   1   0   0   1   0   0   1\n",
       ".. .. .. .. .. .. .. .. .. .. ..  ..  ..  ..  ..  ..  ..  ..  ..  ..  ..\n",
       "95  1  1  1  1  1  0  1  1  1  0   1   0   1   0   1   1   0   1   1   1\n",
       "96  0  1  1  1  1  1  1  0  0  0   1   1   1   0   1   1   1   1   1   1\n",
       "97  1  1  1  1  1  1  1  0  1  0   1   1   1   0   1   1   1   1   1   1\n",
       "98  0  1  0  1  0  1  1  0  1  0   1   1   1   0   1   1   0   1   1   1\n",
       "99  1  1  1  1  1  1  1  0  1  0   1   1   1   0   1   0   1   1   1   0\n",
       "\n",
       "[100 rows x 20 columns]"
      ]
     },
     "execution_count": 14,
     "metadata": {},
     "output_type": "execute_result"
    }
   ],
   "source": [
    "simulated_games"
   ]
  },
  {
   "cell_type": "markdown",
   "metadata": {},
   "source": [
    "### Building the Clustering Algorithm\n",
    "So now, in total, we have 100 games of 20 resources with 25 in each cluster centered around 4 medoids. This is roughly what we should expect to find with the actual game data so it should serve as a relevant proxy.\n",
    "\n",
    "To restate the goal of the Algorithm:  \n",
    "**Clustering Algorithm**\n",
    "1. Start with nodes equal to the number of games (k=m)\n",
    "2. Calculate the distance between each node and every other node where distance is the sum of resources that don't match (i.e. if a card is in both decks, that resource adds 0 distance, but it if is in one and not the other, then it adds 1 distance.  \"Distance\" is the sum of all these resource differences)\n",
    "3. For each node, calculate the nearest node(s) via distance + tolerance and add to the node via averaging. \n",
    "4. For each updated node, calculate the distances to all other nodes and the min and max distances per node\n",
    "5. Drop the node for which the min distance is the smallest and, of those, the max distance is the smallest (this steps adds maximum distance between the nodes)\n",
    "6. Repeat 2-5 until k=1\n",
    "7. Plot average distance for k=1 through k=m\n",
    "8. Select a reasonable k"
   ]
  },
  {
   "cell_type": "code",
   "execution_count": 15,
   "metadata": {},
   "outputs": [],
   "source": [
    "def node_distancer(resource_dataframe_input):\n",
    "    '''\n",
    "    input: resouce_dataframe_input is a dataframe with resources in the columns and games in the rows with \n",
    "            binary data filling the table.\n",
    "           k_input is the number of clusters\n",
    "    output: k centroids\n",
    "    '''\n",
    "    # create empty array to hold all the distances comparing each combination\n",
    "    all_node_distances = np.zeros([len(resource_dataframe_input),len(resource_dataframe_input)])\n",
    "    # calculate distance between the ith game and the jth game\n",
    "    for i in range(len(all_node_distances)):\n",
    "        for j in range(len(all_node_distances)):\n",
    "            all_node_distances[i,j] = cluster_distance_calculator(resource_dataframe_input.iloc[i], resource_dataframe_input.iloc[j])\n",
    "    \n",
    "    return(all_node_distances)"
   ]
  },
  {
   "cell_type": "code",
   "execution_count": 16,
   "metadata": {},
   "outputs": [],
   "source": [
    "simulated_node_distances = node_distancer(simulated_games)"
   ]
  },
  {
   "cell_type": "code",
   "execution_count": 17,
   "metadata": {},
   "outputs": [
    {
     "data": {
      "text/plain": [
       "array([[ 0.,  3.,  4., ..., 16., 14., 16.],\n",
       "       [ 3.,  0.,  7., ..., 19., 15., 17.],\n",
       "       [ 4.,  7.,  0., ..., 12., 10., 12.],\n",
       "       ...,\n",
       "       [16., 19., 12., ...,  0.,  4.,  2.],\n",
       "       [14., 15., 10., ...,  4.,  0.,  6.],\n",
       "       [16., 17., 12., ...,  2.,  6.,  0.]])"
      ]
     },
     "execution_count": 17,
     "metadata": {},
     "output_type": "execute_result"
    }
   ],
   "source": [
    "simulated_node_distances"
   ]
  },
  {
   "cell_type": "markdown",
   "metadata": {},
   "source": [
    "Above is a 100x100 array which shows the distance of each node to every other node.  Below is just the first row, which compares the first node to all 100 other nodes, separated by cluster:"
   ]
  },
  {
   "cell_type": "code",
   "execution_count": 18,
   "metadata": {},
   "outputs": [
    {
     "name": "stdout",
     "output_type": "stream",
     "text": [
      "[0. 3. 4. 2. 3. 0. 0. 1. 3. 0. 2. 3. 4. 1. 2. 0. 1. 4. 1. 3. 2. 0. 2. 1.\n",
      " 2.]\n",
      "[ 9.  9. 10.  7. 11. 11. 11.  8.  5.  9. 11.  9.  9.  8. 10. 11.  6.  8.\n",
      "  9. 11.  8.  9.  8. 10. 10.]\n",
      "[11.  9. 12. 10.  8. 12.  9. 10. 14.  9. 10. 11. 13. 10. 13. 11.  8. 10.\n",
      " 12. 10. 12.  7. 11. 11. 12.]\n",
      "[16. 15. 17. 16. 16. 16. 12. 15. 15. 14. 14. 16. 15. 13. 14. 16. 16. 16.\n",
      " 14. 12. 14. 16. 16. 14. 16.]\n"
     ]
    }
   ],
   "source": [
    "print(simulated_node_distances[0,0:25])\n",
    "print(simulated_node_distances[0,25:50])\n",
    "print(simulated_node_distances[0,50:75])\n",
    "print(simulated_node_distances[0,75:100])"
   ]
  },
  {
   "cell_type": "markdown",
   "metadata": {},
   "source": [
    "Above is the first row of what I'm calling a 'node' distance separated into each of the medoid-centered groupings.  In this case, the node is 1 game, but we'll eventually be merging games of resources together so it's easier to call these the more generic 'node' than calling it 'the combination of game 1, game 10,..., game n'.  \n",
    "\n",
    "What it's showing is that the distance between the first node and itself is, as expected, 0 and the distances between the first node and the others centered around that medoid ranges between 0 and 5.  Compared to the second medoid and the simulated games around it, we see values from 9 to 12. We see a difference of 8-13 for the third medoid cluster and 12-17 for the fourth medoid cluster. In all, it seems to be working as expected.\n",
    "\n",
    "At step 3 in the algorithm, we calculate the nearest node and combine the two by taking the average of the resources. As can be seen, the nearest of all the nodes (that isn't itself) is 1 and there are 7 nodes that have the same distance.  This means that 7 nodes have only a 1-resource difference to the first node. I'm not exactly sure how to handle ties, but it seems reasonable to simply take an average across all nodes that are equally close.  I can imagine a better (and more complex) strategy doing backtracking and seeing which node-pairing results in a smaller distance in the n+1 iteration and going with that, but I'll keep this version simple. \n",
    "\n",
    "As per this plan, let's create a function which creates a new node based on an average of the equally-close nodes:"
   ]
  },
  {
   "cell_type": "code",
   "execution_count": 19,
   "metadata": {},
   "outputs": [],
   "source": [
    "def node_averager(list_of_nodes):\n",
    "    return(np.mean((list_of_nodes), axis = 0))"
   ]
  },
  {
   "cell_type": "markdown",
   "metadata": {},
   "source": [
    "Next, for each row of 100 distances, we'll want to select the node(s) with the equally-minimal distance from the original node to send to the `node_averager()` and store the resulting nodes along with indices for the nodes included.  In other words, in the case of the first iteration when the nodes are equal to the games, we're finding the most similar other game(s) and creating an average new node."
   ]
  },
  {
   "cell_type": "code",
   "execution_count": 20,
   "metadata": {},
   "outputs": [],
   "source": [
    "def new_noder(node_table_input, node_distance_table_input, node_index, tolerance_input):\n",
    "    '''\n",
    "    inputs: resource_table_input: a table with games in the rows and resources in the columns (mxn)\n",
    "            node_distance_table_input: an array of node distances (mxm)\n",
    "            node_index: an integer value (should range from 0 to m)\n",
    "            tolderance_input: value to be added to the minimum distance to be included in the closest nodes\n",
    "    output: a tuple of a new average node and a list of the nodes averaged together\n",
    "    '''\n",
    "    node_distances = node_distance_table_input[node_index]\n",
    "    min_distance = min(node_distances[1:])+tolerance_input # find the closest node(s) that aren't the primary node\n",
    "    closest_node_indices = np.where(node_distances<=min_distance)[0] # [0] since these are 1-dimensional slices\n",
    "    \n",
    "    # grab the closest nodes and put into a list\n",
    "    closest_nodes = []\n",
    "    for i in range(len(closest_node_indices)):\n",
    "        closest_nodes.append(node_table_input.iloc[closest_node_indices[i]].values)\n",
    "    \n",
    "    # grab primary_node and add to the list of closest_nodes\n",
    "    primary_node = node_table_input.iloc[node_index].values\n",
    "    closest_nodes.append(primary_node)\n",
    "    \n",
    "    \n",
    "    # take an average of the primary and closest node(s)\n",
    "    new_node = node_averager(closest_nodes)\n",
    "    \n",
    "    return([new_node,[node_index,closest_node_indices]])\n",
    "    "
   ]
  },
  {
   "cell_type": "code",
   "execution_count": 21,
   "metadata": {},
   "outputs": [],
   "source": [
    "new_node = new_noder(simulated_games, simulated_node_distances, 0,0)"
   ]
  },
  {
   "cell_type": "markdown",
   "metadata": {},
   "source": [
    "Excellent! We now have a way of generating a new node, which is the average of the closest nodes (within some tolerance), along with the indices for the primary node and the nodes closest.  \n",
    "\n",
    "As per the algorithm, we'll want to do this for all nodes before calculating the distances between each of them and removing the closest."
   ]
  },
  {
   "cell_type": "code",
   "execution_count": 22,
   "metadata": {},
   "outputs": [],
   "source": [
    "def node_updater(node_table_input, node_distance_table_input, tolerance_input = 1):\n",
    "    '''\n",
    "    TODO: add deets\n",
    "    '''\n",
    "    new_resource_list = []\n",
    "    for i in range(len(node_table_input)):\n",
    "        new_resource_list.append(new_noder(node_table_input, node_distance_table_input,i,tolerance_input)[0])\n",
    "    \n",
    "    # convert to dataframe\n",
    "    updated_node_table = pd.DataFrame(np.array(new_resource_list))\n",
    "    \n",
    "    return(updated_node_table)"
   ]
  },
  {
   "cell_type": "code",
   "execution_count": 23,
   "metadata": {},
   "outputs": [],
   "source": [
    "simulated_games_step2 = node_updater(simulated_games, simulated_node_distances,1)"
   ]
  },
  {
   "cell_type": "code",
   "execution_count": 24,
   "metadata": {},
   "outputs": [
    {
     "data": {
      "text/html": [
       "<div>\n",
       "<style scoped>\n",
       "    .dataframe tbody tr th:only-of-type {\n",
       "        vertical-align: middle;\n",
       "    }\n",
       "\n",
       "    .dataframe tbody tr th {\n",
       "        vertical-align: top;\n",
       "    }\n",
       "\n",
       "    .dataframe thead th {\n",
       "        text-align: right;\n",
       "    }\n",
       "</style>\n",
       "<table border=\"1\" class=\"dataframe\">\n",
       "  <thead>\n",
       "    <tr style=\"text-align: right;\">\n",
       "      <th></th>\n",
       "      <th>0</th>\n",
       "      <th>1</th>\n",
       "      <th>2</th>\n",
       "      <th>3</th>\n",
       "      <th>4</th>\n",
       "      <th>5</th>\n",
       "      <th>6</th>\n",
       "      <th>7</th>\n",
       "      <th>8</th>\n",
       "      <th>9</th>\n",
       "      <th>10</th>\n",
       "      <th>11</th>\n",
       "      <th>12</th>\n",
       "      <th>13</th>\n",
       "      <th>14</th>\n",
       "      <th>15</th>\n",
       "      <th>16</th>\n",
       "      <th>17</th>\n",
       "      <th>18</th>\n",
       "      <th>19</th>\n",
       "    </tr>\n",
       "  </thead>\n",
       "  <tbody>\n",
       "    <tr>\n",
       "      <td>0</td>\n",
       "      <td>1.000000</td>\n",
       "      <td>0.000000</td>\n",
       "      <td>0.000000</td>\n",
       "      <td>0.0</td>\n",
       "      <td>0.083333</td>\n",
       "      <td>0.0</td>\n",
       "      <td>0.000000</td>\n",
       "      <td>0.083333</td>\n",
       "      <td>0.000000</td>\n",
       "      <td>0.083333</td>\n",
       "      <td>0.0</td>\n",
       "      <td>0.0</td>\n",
       "      <td>0.000000</td>\n",
       "      <td>1.0</td>\n",
       "      <td>0.0</td>\n",
       "      <td>0.0</td>\n",
       "      <td>0.000000</td>\n",
       "      <td>0.0</td>\n",
       "      <td>0.083333</td>\n",
       "      <td>0.916667</td>\n",
       "    </tr>\n",
       "    <tr>\n",
       "      <td>1</td>\n",
       "      <td>0.000000</td>\n",
       "      <td>0.000000</td>\n",
       "      <td>0.000000</td>\n",
       "      <td>0.0</td>\n",
       "      <td>0.000000</td>\n",
       "      <td>0.0</td>\n",
       "      <td>0.000000</td>\n",
       "      <td>0.000000</td>\n",
       "      <td>0.000000</td>\n",
       "      <td>1.000000</td>\n",
       "      <td>0.0</td>\n",
       "      <td>0.0</td>\n",
       "      <td>0.000000</td>\n",
       "      <td>1.0</td>\n",
       "      <td>0.0</td>\n",
       "      <td>0.0</td>\n",
       "      <td>0.000000</td>\n",
       "      <td>0.0</td>\n",
       "      <td>0.000000</td>\n",
       "      <td>0.000000</td>\n",
       "    </tr>\n",
       "    <tr>\n",
       "      <td>2</td>\n",
       "      <td>1.000000</td>\n",
       "      <td>1.000000</td>\n",
       "      <td>0.000000</td>\n",
       "      <td>0.0</td>\n",
       "      <td>0.000000</td>\n",
       "      <td>0.0</td>\n",
       "      <td>1.000000</td>\n",
       "      <td>0.000000</td>\n",
       "      <td>1.000000</td>\n",
       "      <td>0.000000</td>\n",
       "      <td>0.0</td>\n",
       "      <td>0.0</td>\n",
       "      <td>1.000000</td>\n",
       "      <td>1.0</td>\n",
       "      <td>0.0</td>\n",
       "      <td>0.0</td>\n",
       "      <td>0.000000</td>\n",
       "      <td>0.0</td>\n",
       "      <td>0.000000</td>\n",
       "      <td>1.000000</td>\n",
       "    </tr>\n",
       "    <tr>\n",
       "      <td>3</td>\n",
       "      <td>1.000000</td>\n",
       "      <td>0.000000</td>\n",
       "      <td>0.666667</td>\n",
       "      <td>0.0</td>\n",
       "      <td>1.000000</td>\n",
       "      <td>0.0</td>\n",
       "      <td>0.000000</td>\n",
       "      <td>0.000000</td>\n",
       "      <td>0.000000</td>\n",
       "      <td>0.000000</td>\n",
       "      <td>0.0</td>\n",
       "      <td>0.0</td>\n",
       "      <td>0.000000</td>\n",
       "      <td>1.0</td>\n",
       "      <td>0.0</td>\n",
       "      <td>0.0</td>\n",
       "      <td>0.000000</td>\n",
       "      <td>0.0</td>\n",
       "      <td>0.000000</td>\n",
       "      <td>1.000000</td>\n",
       "    </tr>\n",
       "    <tr>\n",
       "      <td>4</td>\n",
       "      <td>0.000000</td>\n",
       "      <td>0.000000</td>\n",
       "      <td>0.000000</td>\n",
       "      <td>0.0</td>\n",
       "      <td>0.000000</td>\n",
       "      <td>0.0</td>\n",
       "      <td>0.000000</td>\n",
       "      <td>1.000000</td>\n",
       "      <td>0.000000</td>\n",
       "      <td>0.000000</td>\n",
       "      <td>0.0</td>\n",
       "      <td>0.0</td>\n",
       "      <td>0.000000</td>\n",
       "      <td>1.0</td>\n",
       "      <td>0.0</td>\n",
       "      <td>0.0</td>\n",
       "      <td>0.666667</td>\n",
       "      <td>0.0</td>\n",
       "      <td>0.000000</td>\n",
       "      <td>1.000000</td>\n",
       "    </tr>\n",
       "    <tr>\n",
       "      <td>...</td>\n",
       "      <td>...</td>\n",
       "      <td>...</td>\n",
       "      <td>...</td>\n",
       "      <td>...</td>\n",
       "      <td>...</td>\n",
       "      <td>...</td>\n",
       "      <td>...</td>\n",
       "      <td>...</td>\n",
       "      <td>...</td>\n",
       "      <td>...</td>\n",
       "      <td>...</td>\n",
       "      <td>...</td>\n",
       "      <td>...</td>\n",
       "      <td>...</td>\n",
       "      <td>...</td>\n",
       "      <td>...</td>\n",
       "      <td>...</td>\n",
       "      <td>...</td>\n",
       "      <td>...</td>\n",
       "      <td>...</td>\n",
       "    </tr>\n",
       "    <tr>\n",
       "      <td>95</td>\n",
       "      <td>1.000000</td>\n",
       "      <td>1.000000</td>\n",
       "      <td>1.000000</td>\n",
       "      <td>1.0</td>\n",
       "      <td>1.000000</td>\n",
       "      <td>0.0</td>\n",
       "      <td>1.000000</td>\n",
       "      <td>1.000000</td>\n",
       "      <td>1.000000</td>\n",
       "      <td>0.000000</td>\n",
       "      <td>1.0</td>\n",
       "      <td>0.0</td>\n",
       "      <td>1.000000</td>\n",
       "      <td>0.0</td>\n",
       "      <td>1.0</td>\n",
       "      <td>1.0</td>\n",
       "      <td>0.000000</td>\n",
       "      <td>1.0</td>\n",
       "      <td>1.000000</td>\n",
       "      <td>1.000000</td>\n",
       "    </tr>\n",
       "    <tr>\n",
       "      <td>96</td>\n",
       "      <td>0.000000</td>\n",
       "      <td>1.000000</td>\n",
       "      <td>1.000000</td>\n",
       "      <td>1.0</td>\n",
       "      <td>1.000000</td>\n",
       "      <td>1.0</td>\n",
       "      <td>1.000000</td>\n",
       "      <td>0.000000</td>\n",
       "      <td>0.333333</td>\n",
       "      <td>0.000000</td>\n",
       "      <td>1.0</td>\n",
       "      <td>1.0</td>\n",
       "      <td>1.000000</td>\n",
       "      <td>0.0</td>\n",
       "      <td>1.0</td>\n",
       "      <td>1.0</td>\n",
       "      <td>1.000000</td>\n",
       "      <td>1.0</td>\n",
       "      <td>1.000000</td>\n",
       "      <td>1.000000</td>\n",
       "    </tr>\n",
       "    <tr>\n",
       "      <td>97</td>\n",
       "      <td>0.909091</td>\n",
       "      <td>0.909091</td>\n",
       "      <td>1.000000</td>\n",
       "      <td>1.0</td>\n",
       "      <td>1.000000</td>\n",
       "      <td>1.0</td>\n",
       "      <td>0.909091</td>\n",
       "      <td>0.000000</td>\n",
       "      <td>1.000000</td>\n",
       "      <td>0.000000</td>\n",
       "      <td>1.0</td>\n",
       "      <td>1.0</td>\n",
       "      <td>0.909091</td>\n",
       "      <td>0.0</td>\n",
       "      <td>1.0</td>\n",
       "      <td>1.0</td>\n",
       "      <td>1.000000</td>\n",
       "      <td>1.0</td>\n",
       "      <td>1.000000</td>\n",
       "      <td>1.000000</td>\n",
       "    </tr>\n",
       "    <tr>\n",
       "      <td>98</td>\n",
       "      <td>0.000000</td>\n",
       "      <td>1.000000</td>\n",
       "      <td>0.000000</td>\n",
       "      <td>1.0</td>\n",
       "      <td>0.000000</td>\n",
       "      <td>1.0</td>\n",
       "      <td>1.000000</td>\n",
       "      <td>0.000000</td>\n",
       "      <td>1.000000</td>\n",
       "      <td>0.000000</td>\n",
       "      <td>1.0</td>\n",
       "      <td>1.0</td>\n",
       "      <td>1.000000</td>\n",
       "      <td>0.0</td>\n",
       "      <td>1.0</td>\n",
       "      <td>1.0</td>\n",
       "      <td>0.000000</td>\n",
       "      <td>1.0</td>\n",
       "      <td>1.000000</td>\n",
       "      <td>1.000000</td>\n",
       "    </tr>\n",
       "    <tr>\n",
       "      <td>99</td>\n",
       "      <td>1.000000</td>\n",
       "      <td>1.000000</td>\n",
       "      <td>1.000000</td>\n",
       "      <td>1.0</td>\n",
       "      <td>1.000000</td>\n",
       "      <td>1.0</td>\n",
       "      <td>1.000000</td>\n",
       "      <td>0.000000</td>\n",
       "      <td>1.000000</td>\n",
       "      <td>0.000000</td>\n",
       "      <td>1.0</td>\n",
       "      <td>1.0</td>\n",
       "      <td>1.000000</td>\n",
       "      <td>0.0</td>\n",
       "      <td>1.0</td>\n",
       "      <td>0.0</td>\n",
       "      <td>1.000000</td>\n",
       "      <td>1.0</td>\n",
       "      <td>1.000000</td>\n",
       "      <td>0.000000</td>\n",
       "    </tr>\n",
       "  </tbody>\n",
       "</table>\n",
       "<p>100 rows × 20 columns</p>\n",
       "</div>"
      ],
      "text/plain": [
       "           0         1         2    3         4    5         6         7  \\\n",
       "0   1.000000  0.000000  0.000000  0.0  0.083333  0.0  0.000000  0.083333   \n",
       "1   0.000000  0.000000  0.000000  0.0  0.000000  0.0  0.000000  0.000000   \n",
       "2   1.000000  1.000000  0.000000  0.0  0.000000  0.0  1.000000  0.000000   \n",
       "3   1.000000  0.000000  0.666667  0.0  1.000000  0.0  0.000000  0.000000   \n",
       "4   0.000000  0.000000  0.000000  0.0  0.000000  0.0  0.000000  1.000000   \n",
       "..       ...       ...       ...  ...       ...  ...       ...       ...   \n",
       "95  1.000000  1.000000  1.000000  1.0  1.000000  0.0  1.000000  1.000000   \n",
       "96  0.000000  1.000000  1.000000  1.0  1.000000  1.0  1.000000  0.000000   \n",
       "97  0.909091  0.909091  1.000000  1.0  1.000000  1.0  0.909091  0.000000   \n",
       "98  0.000000  1.000000  0.000000  1.0  0.000000  1.0  1.000000  0.000000   \n",
       "99  1.000000  1.000000  1.000000  1.0  1.000000  1.0  1.000000  0.000000   \n",
       "\n",
       "           8         9   10   11        12   13   14   15        16   17  \\\n",
       "0   0.000000  0.083333  0.0  0.0  0.000000  1.0  0.0  0.0  0.000000  0.0   \n",
       "1   0.000000  1.000000  0.0  0.0  0.000000  1.0  0.0  0.0  0.000000  0.0   \n",
       "2   1.000000  0.000000  0.0  0.0  1.000000  1.0  0.0  0.0  0.000000  0.0   \n",
       "3   0.000000  0.000000  0.0  0.0  0.000000  1.0  0.0  0.0  0.000000  0.0   \n",
       "4   0.000000  0.000000  0.0  0.0  0.000000  1.0  0.0  0.0  0.666667  0.0   \n",
       "..       ...       ...  ...  ...       ...  ...  ...  ...       ...  ...   \n",
       "95  1.000000  0.000000  1.0  0.0  1.000000  0.0  1.0  1.0  0.000000  1.0   \n",
       "96  0.333333  0.000000  1.0  1.0  1.000000  0.0  1.0  1.0  1.000000  1.0   \n",
       "97  1.000000  0.000000  1.0  1.0  0.909091  0.0  1.0  1.0  1.000000  1.0   \n",
       "98  1.000000  0.000000  1.0  1.0  1.000000  0.0  1.0  1.0  0.000000  1.0   \n",
       "99  1.000000  0.000000  1.0  1.0  1.000000  0.0  1.0  0.0  1.000000  1.0   \n",
       "\n",
       "          18        19  \n",
       "0   0.083333  0.916667  \n",
       "1   0.000000  0.000000  \n",
       "2   0.000000  1.000000  \n",
       "3   0.000000  1.000000  \n",
       "4   0.000000  1.000000  \n",
       "..       ...       ...  \n",
       "95  1.000000  1.000000  \n",
       "96  1.000000  1.000000  \n",
       "97  1.000000  1.000000  \n",
       "98  1.000000  1.000000  \n",
       "99  1.000000  0.000000  \n",
       "\n",
       "[100 rows x 20 columns]"
      ]
     },
     "execution_count": 24,
     "metadata": {},
     "output_type": "execute_result"
    }
   ],
   "source": [
    "simulated_games_step2"
   ]
  },
  {
   "cell_type": "code",
   "execution_count": 25,
   "metadata": {},
   "outputs": [],
   "source": [
    "node_distance_table_step2 = node_distancer(simulated_games_step2)"
   ]
  },
  {
   "cell_type": "code",
   "execution_count": 26,
   "metadata": {},
   "outputs": [],
   "source": [
    "i = 0"
   ]
  },
  {
   "cell_type": "code",
   "execution_count": 27,
   "metadata": {},
   "outputs": [
    {
     "data": {
      "text/plain": [
       "array([ 0.        ,  3.08333333,  4.41666667,  1.91666667,  2.91666667,\n",
       "        0.        ,  0.        ,  0.5       ,  3.41666667,  0.        ,\n",
       "        2.25      ,  3.08333333,  4.25      ,  0.69444444,  2.41666667,\n",
       "        0.        ,  0.69444444,  4.41666667,  0.5       ,  3.41666667,\n",
       "        2.41666667,  0.        ,  2.75      ,  0.5       ,  2.41666667,\n",
       "        9.41666667,  9.41666667,  9.53571429,  7.41666667, 10.91666667,\n",
       "       11.08333333, 10.75      ,  8.08333333,  5.25      ,  9.41666667,\n",
       "       11.25      ,  9.41666667,  9.25      ,  8.41666667,  9.88333333,\n",
       "       10.91666667,  6.08333333,  8.08333333,  9.41666667, 10.58333333,\n",
       "        8.25      ,  9.41666667,  8.25      , 10.08333333,  9.36111111,\n",
       "       10.58333333,  9.25      , 11.91666667,  9.91666667,  7.91666667,\n",
       "       11.41666667,  9.08333333, 10.25      , 13.75      ,  9.08333333,\n",
       "       10.25      , 10.91666667, 12.91666667, 10.41666667, 12.58333333,\n",
       "       10.91666667,  7.75      ,  9.91666667, 11.91666667, 10.25      ,\n",
       "       12.08333333,  7.08333333, 10.91666667, 10.91666667, 11.91666667,\n",
       "       15.90151515, 15.83333333, 16.30555556, 15.91666667, 15.91666667,\n",
       "       15.90151515, 12.08333333, 15.83333333, 15.08333333, 13.91666667,\n",
       "       14.08333333, 15.90151515, 15.83333333, 13.41666667, 14.08333333,\n",
       "       15.90151515, 15.90151515, 15.91666667, 14.08333333, 12.08333333,\n",
       "       13.91666667, 16.41666667, 15.90151515, 14.25      , 15.91666667])"
      ]
     },
     "execution_count": 27,
     "metadata": {},
     "output_type": "execute_result"
    }
   ],
   "source": [
    "node_distance_table_step2[i]"
   ]
  },
  {
   "cell_type": "code",
   "execution_count": 28,
   "metadata": {},
   "outputs": [
    {
     "data": {
      "text/plain": [
       "0.0"
      ]
     },
     "execution_count": 28,
     "metadata": {},
     "output_type": "execute_result"
    }
   ],
   "source": [
    "min(node_distance_table_step2[i][[s for s in list(range(len(node_distance_table_step2[i]))) if s != i]])"
   ]
  },
  {
   "cell_type": "code",
   "execution_count": 29,
   "metadata": {},
   "outputs": [
    {
     "data": {
      "text/plain": [
       "16.416666666666664"
      ]
     },
     "execution_count": 29,
     "metadata": {},
     "output_type": "execute_result"
    }
   ],
   "source": [
    "max(node_distance_table_step2[i])"
   ]
  },
  {
   "cell_type": "markdown",
   "metadata": {},
   "source": [
    "It looks like the 0th node has a min distance of 1.73 (excluding the distance to itself) and a max distance of 15.87.  What we want to know is which nodes share the minimum distance, be it 1.73 or something smaller, then, of those, remove the node with the smallest maximum distance.  In order to do this, we'll create a function which returns those min and max values."
   ]
  },
  {
   "cell_type": "code",
   "execution_count": 30,
   "metadata": {},
   "outputs": [],
   "source": [
    "def node_distance_min_maxer(node_distance_table_input):\n",
    "    node_min_maxs= []\n",
    "    for i in range(len(node_distance_table_input)):\n",
    "        node_min = min(node_distance_table_input[i][[s for s in list(range(len(node_distance_table_input[i]))) \\\n",
    "                                                     if s != i]])\n",
    "        node_max = max(node_distance_table_input[i])\n",
    "        node_min_maxs.append([node_min, node_max])\n",
    "    return(node_min_maxs)"
   ]
  },
  {
   "cell_type": "code",
   "execution_count": 31,
   "metadata": {},
   "outputs": [],
   "source": [
    "node_distance_min_max_step2 = node_distance_min_maxer(node_distance_table_step2)"
   ]
  },
  {
   "cell_type": "code",
   "execution_count": 32,
   "metadata": {},
   "outputs": [
    {
     "data": {
      "text/plain": [
       "[[0.0, 16.416666666666664],\n",
       " [2.75, 18.75],\n",
       " [4.0, 13.666666666666668],\n",
       " [1.2222222222222223, 15.666666666666666],\n",
       " [0.6666666666666666, 17.333333333333336],\n",
       " [0.0, 16.416666666666664],\n",
       " [0.0, 16.416666666666664],\n",
       " [0.49999999999999994, 16.583333333333332],\n",
       " [3.25, 15.0],\n",
       " [0.0, 16.416666666666664],\n",
       " [0.6666666666666666, 17.5],\n",
       " [0.3333333333333333, 16.666666666666664],\n",
       " [2.3333333333333335, 16.0],\n",
       " [0.6944444444444444, 15.88888888888889],\n",
       " [2.0, 15.666666666666668],\n",
       " [0.0, 16.416666666666664],\n",
       " [0.6944444444444444, 16.555555555555557],\n",
       " [3.3333333333333335, 16.0],\n",
       " [0.5, 16.583333333333332],\n",
       " [3.0, 17.0],\n",
       " [2.0, 16.0],\n",
       " [0.0, 16.416666666666664],\n",
       " [0.3333333333333333, 16.333333333333336],\n",
       " [0.5, 16.083333333333332],\n",
       " [2.0, 16.0],\n",
       " [0.0, 12.88888888888889],\n",
       " [1.2222222222222223, 14.666666666666666],\n",
       " [0.3968253968253968, 12.714285714285714],\n",
       " [2.2857142857142856, 13.0],\n",
       " [1.2666666666666666, 13.333333333333334],\n",
       " [3.7142857142857144, 13.0],\n",
       " [1.2666666666666666, 13.333333333333334],\n",
       " [4.0, 15.0],\n",
       " [4.0, 17.0],\n",
       " [0.0, 12.88888888888889],\n",
       " [2.2857142857142856, 13.0],\n",
       " [0.0, 12.88888888888889],\n",
       " [3.0, 14.0],\n",
       " [3.0, 14.0],\n",
       " [0.911111111111111, 13.2],\n",
       " [1.2666666666666666, 13.666666666666666],\n",
       " [4.0, 14.0],\n",
       " [3.0, 12.0],\n",
       " [0.0, 12.88888888888889],\n",
       " [1.2222222222222223, 14.666666666666668],\n",
       " [3.0, 15.0],\n",
       " [0.0, 12.88888888888889],\n",
       " [3.2857142857142856, 14.5],\n",
       " [2.7142857142857144, 12.0],\n",
       " [0.7777777777777779, 13.444444444444445],\n",
       " [1.2222222222222225, 13.444444444444445],\n",
       " [0.6666666666666667, 12.666666666666668],\n",
       " [0.6666666666666667, 15.0],\n",
       " [0.6666666666666667, 13.0],\n",
       " [2.5, 14.0],\n",
       " [0.5, 14.0],\n",
       " [2.0, 13.0],\n",
       " [1.2222222222222225, 13.666666666666668],\n",
       " [2.5, 17.0],\n",
       " [3.3333333333333335, 15.0],\n",
       " [1.2222222222222225, 13.666666666666666],\n",
       " [2.6666666666666665, 15.0],\n",
       " [3.5, 14.666666666666666],\n",
       " [0.5, 14.0],\n",
       " [0.6666666666666667, 15.666666666666666],\n",
       " [2.0, 14.0],\n",
       " [4.0, 14.0],\n",
       " [3.0, 13.0],\n",
       " [2.0, 14.0],\n",
       " [1.2222222222222225, 13.333333333333332],\n",
       " [2.3333333333333335, 14.0],\n",
       " [3.5, 13.0],\n",
       " [4.0, 14.0],\n",
       " [0.5, 14.5],\n",
       " [2.0, 14.0],\n",
       " [0.0, 18.636363636363633],\n",
       " [0.4318181818181819, 18.75],\n",
       " [0.6262626262626264, 18.555555555555557],\n",
       " [3.0, 16.25],\n",
       " [2.0, 17.5],\n",
       " [0.0, 18.636363636363633],\n",
       " [3.75, 15.0],\n",
       " [0.4318181818181819, 18.75],\n",
       " [2.666666666666667, 16.0],\n",
       " [4.0, 16.666666666666664],\n",
       " [2.0, 17.0],\n",
       " [0.0, 18.636363636363633],\n",
       " [0.4318181818181819, 18.75],\n",
       " [3.0, 16.0],\n",
       " [2.25, 17.0],\n",
       " [0.0, 18.636363636363633],\n",
       " [0.0, 18.636363636363633],\n",
       " [2.0, 16.25],\n",
       " [2.0, 17.0],\n",
       " [3.75, 15.0],\n",
       " [4.0, 17.0],\n",
       " [1.2222222222222223, 17.333333333333332],\n",
       " [0.0, 18.636363636363633],\n",
       " [3.0, 16.0],\n",
       " [2.0, 17.5]]"
      ]
     },
     "execution_count": 32,
     "metadata": {},
     "output_type": "execute_result"
    }
   ],
   "source": [
    "node_distance_min_max_step2"
   ]
  },
  {
   "cell_type": "markdown",
   "metadata": {},
   "source": [
    "Great, now we need to subset to which node has the min first value (looks like 0) and the max second:"
   ]
  },
  {
   "cell_type": "code",
   "execution_count": 33,
   "metadata": {},
   "outputs": [],
   "source": [
    "def extract_nth(list_input, n): \n",
    "    return [element[n] for element in list_input] "
   ]
  },
  {
   "cell_type": "code",
   "execution_count": 34,
   "metadata": {},
   "outputs": [],
   "source": [
    "min_distance = min(extract_nth(node_distance_min_max_step2,0))"
   ]
  },
  {
   "cell_type": "code",
   "execution_count": 35,
   "metadata": {},
   "outputs": [],
   "source": [
    "node_min_indices = np.where(extract_nth(node_distance_min_max_step2,0)==min_distance)[0]"
   ]
  },
  {
   "cell_type": "code",
   "execution_count": 36,
   "metadata": {},
   "outputs": [
    {
     "data": {
      "text/plain": [
       "array([ 0,  5,  6,  9, 15, 21, 25, 34, 36, 43, 46, 75, 80, 86, 90, 91, 97])"
      ]
     },
     "execution_count": 36,
     "metadata": {},
     "output_type": "execute_result"
    }
   ],
   "source": [
    "node_min_indices"
   ]
  },
  {
   "cell_type": "code",
   "execution_count": 37,
   "metadata": {},
   "outputs": [],
   "source": [
    "min_distance_node_distances = [node_distance_min_max_step2[i] for i in node_min_indices]"
   ]
  },
  {
   "cell_type": "code",
   "execution_count": 38,
   "metadata": {},
   "outputs": [
    {
     "data": {
      "text/plain": [
       "[[0.0, 16.416666666666664],\n",
       " [0.0, 16.416666666666664],\n",
       " [0.0, 16.416666666666664],\n",
       " [0.0, 16.416666666666664],\n",
       " [0.0, 16.416666666666664],\n",
       " [0.0, 16.416666666666664],\n",
       " [0.0, 12.88888888888889],\n",
       " [0.0, 12.88888888888889],\n",
       " [0.0, 12.88888888888889],\n",
       " [0.0, 12.88888888888889],\n",
       " [0.0, 12.88888888888889],\n",
       " [0.0, 18.636363636363633],\n",
       " [0.0, 18.636363636363633],\n",
       " [0.0, 18.636363636363633],\n",
       " [0.0, 18.636363636363633],\n",
       " [0.0, 18.636363636363633],\n",
       " [0.0, 18.636363636363633]]"
      ]
     },
     "execution_count": 38,
     "metadata": {},
     "output_type": "execute_result"
    }
   ],
   "source": [
    "min_distance_node_distances"
   ]
  },
  {
   "cell_type": "code",
   "execution_count": 39,
   "metadata": {
    "scrolled": true
   },
   "outputs": [],
   "source": [
    "minmax_distance = min(extract_nth(min_distance_node_distances,1))"
   ]
  },
  {
   "cell_type": "code",
   "execution_count": 40,
   "metadata": {},
   "outputs": [],
   "source": [
    "node_removal_distances = np.asarray([min_distance, minmax_distance])"
   ]
  },
  {
   "cell_type": "code",
   "execution_count": 41,
   "metadata": {},
   "outputs": [
    {
     "data": {
      "text/plain": [
       "array([ 0.        , 12.88888889])"
      ]
     },
     "execution_count": 41,
     "metadata": {},
     "output_type": "execute_result"
    }
   ],
   "source": [
    "node_removal_distances"
   ]
  },
  {
   "cell_type": "markdown",
   "metadata": {},
   "source": [
    "We can see that the 0, 1, 2, 3, 4, and 5th index of the min node distances are all tied at [0, 13].  This being the case, we should remove those nodes from simulated_games_step2 and repeat the process.  What this means is we'll start with k=100 clusters, then go to k=95 since we're removing 6 nodes.  In other words, this is an algorithm which will return arbitrary viable values for k and this makes sense since we can imagine data which has distances that share min and max properties."
   ]
  },
  {
   "cell_type": "code",
   "execution_count": 42,
   "metadata": {},
   "outputs": [],
   "source": [
    "node_removal_indices = np.where((extract_nth(node_distance_min_max_step2,0)==node_removal_distances[0]) &\\\n",
    "                                (extract_nth(node_distance_min_max_step2,1)==node_removal_distances[1]))[0]"
   ]
  },
  {
   "cell_type": "code",
   "execution_count": 43,
   "metadata": {},
   "outputs": [
    {
     "data": {
      "text/plain": [
       "[25, 34, 36, 43, 46]"
      ]
     },
     "execution_count": 43,
     "metadata": {},
     "output_type": "execute_result"
    }
   ],
   "source": [
    "node_removal_indices.tolist()"
   ]
  },
  {
   "cell_type": "code",
   "execution_count": 44,
   "metadata": {
    "scrolled": true
   },
   "outputs": [
    {
     "data": {
      "text/plain": [
       "[[0.0, 12.88888888888889],\n",
       " [0.0, 12.88888888888889],\n",
       " [0.0, 12.88888888888889],\n",
       " [0.0, 12.88888888888889],\n",
       " [0.0, 12.88888888888889]]"
      ]
     },
     "execution_count": 44,
     "metadata": {},
     "output_type": "execute_result"
    }
   ],
   "source": [
    "[node_distance_min_max_step2[i] for i in node_removal_indices.tolist()]"
   ]
  },
  {
   "cell_type": "code",
   "execution_count": 45,
   "metadata": {},
   "outputs": [],
   "source": [
    "simulated_games_step3 = simulated_games_step2.drop(node_removal_indices)"
   ]
  },
  {
   "cell_type": "code",
   "execution_count": 46,
   "metadata": {
    "scrolled": true
   },
   "outputs": [
    {
     "data": {
      "text/html": [
       "<div>\n",
       "<style scoped>\n",
       "    .dataframe tbody tr th:only-of-type {\n",
       "        vertical-align: middle;\n",
       "    }\n",
       "\n",
       "    .dataframe tbody tr th {\n",
       "        vertical-align: top;\n",
       "    }\n",
       "\n",
       "    .dataframe thead th {\n",
       "        text-align: right;\n",
       "    }\n",
       "</style>\n",
       "<table border=\"1\" class=\"dataframe\">\n",
       "  <thead>\n",
       "    <tr style=\"text-align: right;\">\n",
       "      <th></th>\n",
       "      <th>0</th>\n",
       "      <th>1</th>\n",
       "      <th>2</th>\n",
       "      <th>3</th>\n",
       "      <th>4</th>\n",
       "      <th>5</th>\n",
       "      <th>6</th>\n",
       "      <th>7</th>\n",
       "      <th>8</th>\n",
       "      <th>9</th>\n",
       "      <th>10</th>\n",
       "      <th>11</th>\n",
       "      <th>12</th>\n",
       "      <th>13</th>\n",
       "      <th>14</th>\n",
       "      <th>15</th>\n",
       "      <th>16</th>\n",
       "      <th>17</th>\n",
       "      <th>18</th>\n",
       "      <th>19</th>\n",
       "    </tr>\n",
       "  </thead>\n",
       "  <tbody>\n",
       "    <tr>\n",
       "      <td>0</td>\n",
       "      <td>1.000000</td>\n",
       "      <td>0.000000</td>\n",
       "      <td>0.000000</td>\n",
       "      <td>0.0</td>\n",
       "      <td>0.083333</td>\n",
       "      <td>0.0</td>\n",
       "      <td>0.000000</td>\n",
       "      <td>0.083333</td>\n",
       "      <td>0.000000</td>\n",
       "      <td>0.083333</td>\n",
       "      <td>0.0</td>\n",
       "      <td>0.0</td>\n",
       "      <td>0.000000</td>\n",
       "      <td>1.0</td>\n",
       "      <td>0.0</td>\n",
       "      <td>0.0</td>\n",
       "      <td>0.000000</td>\n",
       "      <td>0.0</td>\n",
       "      <td>0.083333</td>\n",
       "      <td>0.916667</td>\n",
       "    </tr>\n",
       "    <tr>\n",
       "      <td>1</td>\n",
       "      <td>0.000000</td>\n",
       "      <td>0.000000</td>\n",
       "      <td>0.000000</td>\n",
       "      <td>0.0</td>\n",
       "      <td>0.000000</td>\n",
       "      <td>0.0</td>\n",
       "      <td>0.000000</td>\n",
       "      <td>0.000000</td>\n",
       "      <td>0.000000</td>\n",
       "      <td>1.000000</td>\n",
       "      <td>0.0</td>\n",
       "      <td>0.0</td>\n",
       "      <td>0.000000</td>\n",
       "      <td>1.0</td>\n",
       "      <td>0.0</td>\n",
       "      <td>0.0</td>\n",
       "      <td>0.000000</td>\n",
       "      <td>0.0</td>\n",
       "      <td>0.000000</td>\n",
       "      <td>0.000000</td>\n",
       "    </tr>\n",
       "    <tr>\n",
       "      <td>2</td>\n",
       "      <td>1.000000</td>\n",
       "      <td>1.000000</td>\n",
       "      <td>0.000000</td>\n",
       "      <td>0.0</td>\n",
       "      <td>0.000000</td>\n",
       "      <td>0.0</td>\n",
       "      <td>1.000000</td>\n",
       "      <td>0.000000</td>\n",
       "      <td>1.000000</td>\n",
       "      <td>0.000000</td>\n",
       "      <td>0.0</td>\n",
       "      <td>0.0</td>\n",
       "      <td>1.000000</td>\n",
       "      <td>1.0</td>\n",
       "      <td>0.0</td>\n",
       "      <td>0.0</td>\n",
       "      <td>0.000000</td>\n",
       "      <td>0.0</td>\n",
       "      <td>0.000000</td>\n",
       "      <td>1.000000</td>\n",
       "    </tr>\n",
       "    <tr>\n",
       "      <td>3</td>\n",
       "      <td>1.000000</td>\n",
       "      <td>0.000000</td>\n",
       "      <td>0.666667</td>\n",
       "      <td>0.0</td>\n",
       "      <td>1.000000</td>\n",
       "      <td>0.0</td>\n",
       "      <td>0.000000</td>\n",
       "      <td>0.000000</td>\n",
       "      <td>0.000000</td>\n",
       "      <td>0.000000</td>\n",
       "      <td>0.0</td>\n",
       "      <td>0.0</td>\n",
       "      <td>0.000000</td>\n",
       "      <td>1.0</td>\n",
       "      <td>0.0</td>\n",
       "      <td>0.0</td>\n",
       "      <td>0.000000</td>\n",
       "      <td>0.0</td>\n",
       "      <td>0.000000</td>\n",
       "      <td>1.000000</td>\n",
       "    </tr>\n",
       "    <tr>\n",
       "      <td>4</td>\n",
       "      <td>0.000000</td>\n",
       "      <td>0.000000</td>\n",
       "      <td>0.000000</td>\n",
       "      <td>0.0</td>\n",
       "      <td>0.000000</td>\n",
       "      <td>0.0</td>\n",
       "      <td>0.000000</td>\n",
       "      <td>1.000000</td>\n",
       "      <td>0.000000</td>\n",
       "      <td>0.000000</td>\n",
       "      <td>0.0</td>\n",
       "      <td>0.0</td>\n",
       "      <td>0.000000</td>\n",
       "      <td>1.0</td>\n",
       "      <td>0.0</td>\n",
       "      <td>0.0</td>\n",
       "      <td>0.666667</td>\n",
       "      <td>0.0</td>\n",
       "      <td>0.000000</td>\n",
       "      <td>1.000000</td>\n",
       "    </tr>\n",
       "    <tr>\n",
       "      <td>...</td>\n",
       "      <td>...</td>\n",
       "      <td>...</td>\n",
       "      <td>...</td>\n",
       "      <td>...</td>\n",
       "      <td>...</td>\n",
       "      <td>...</td>\n",
       "      <td>...</td>\n",
       "      <td>...</td>\n",
       "      <td>...</td>\n",
       "      <td>...</td>\n",
       "      <td>...</td>\n",
       "      <td>...</td>\n",
       "      <td>...</td>\n",
       "      <td>...</td>\n",
       "      <td>...</td>\n",
       "      <td>...</td>\n",
       "      <td>...</td>\n",
       "      <td>...</td>\n",
       "      <td>...</td>\n",
       "      <td>...</td>\n",
       "    </tr>\n",
       "    <tr>\n",
       "      <td>95</td>\n",
       "      <td>1.000000</td>\n",
       "      <td>1.000000</td>\n",
       "      <td>1.000000</td>\n",
       "      <td>1.0</td>\n",
       "      <td>1.000000</td>\n",
       "      <td>0.0</td>\n",
       "      <td>1.000000</td>\n",
       "      <td>1.000000</td>\n",
       "      <td>1.000000</td>\n",
       "      <td>0.000000</td>\n",
       "      <td>1.0</td>\n",
       "      <td>0.0</td>\n",
       "      <td>1.000000</td>\n",
       "      <td>0.0</td>\n",
       "      <td>1.0</td>\n",
       "      <td>1.0</td>\n",
       "      <td>0.000000</td>\n",
       "      <td>1.0</td>\n",
       "      <td>1.000000</td>\n",
       "      <td>1.000000</td>\n",
       "    </tr>\n",
       "    <tr>\n",
       "      <td>96</td>\n",
       "      <td>0.000000</td>\n",
       "      <td>1.000000</td>\n",
       "      <td>1.000000</td>\n",
       "      <td>1.0</td>\n",
       "      <td>1.000000</td>\n",
       "      <td>1.0</td>\n",
       "      <td>1.000000</td>\n",
       "      <td>0.000000</td>\n",
       "      <td>0.333333</td>\n",
       "      <td>0.000000</td>\n",
       "      <td>1.0</td>\n",
       "      <td>1.0</td>\n",
       "      <td>1.000000</td>\n",
       "      <td>0.0</td>\n",
       "      <td>1.0</td>\n",
       "      <td>1.0</td>\n",
       "      <td>1.000000</td>\n",
       "      <td>1.0</td>\n",
       "      <td>1.000000</td>\n",
       "      <td>1.000000</td>\n",
       "    </tr>\n",
       "    <tr>\n",
       "      <td>97</td>\n",
       "      <td>0.909091</td>\n",
       "      <td>0.909091</td>\n",
       "      <td>1.000000</td>\n",
       "      <td>1.0</td>\n",
       "      <td>1.000000</td>\n",
       "      <td>1.0</td>\n",
       "      <td>0.909091</td>\n",
       "      <td>0.000000</td>\n",
       "      <td>1.000000</td>\n",
       "      <td>0.000000</td>\n",
       "      <td>1.0</td>\n",
       "      <td>1.0</td>\n",
       "      <td>0.909091</td>\n",
       "      <td>0.0</td>\n",
       "      <td>1.0</td>\n",
       "      <td>1.0</td>\n",
       "      <td>1.000000</td>\n",
       "      <td>1.0</td>\n",
       "      <td>1.000000</td>\n",
       "      <td>1.000000</td>\n",
       "    </tr>\n",
       "    <tr>\n",
       "      <td>98</td>\n",
       "      <td>0.000000</td>\n",
       "      <td>1.000000</td>\n",
       "      <td>0.000000</td>\n",
       "      <td>1.0</td>\n",
       "      <td>0.000000</td>\n",
       "      <td>1.0</td>\n",
       "      <td>1.000000</td>\n",
       "      <td>0.000000</td>\n",
       "      <td>1.000000</td>\n",
       "      <td>0.000000</td>\n",
       "      <td>1.0</td>\n",
       "      <td>1.0</td>\n",
       "      <td>1.000000</td>\n",
       "      <td>0.0</td>\n",
       "      <td>1.0</td>\n",
       "      <td>1.0</td>\n",
       "      <td>0.000000</td>\n",
       "      <td>1.0</td>\n",
       "      <td>1.000000</td>\n",
       "      <td>1.000000</td>\n",
       "    </tr>\n",
       "    <tr>\n",
       "      <td>99</td>\n",
       "      <td>1.000000</td>\n",
       "      <td>1.000000</td>\n",
       "      <td>1.000000</td>\n",
       "      <td>1.0</td>\n",
       "      <td>1.000000</td>\n",
       "      <td>1.0</td>\n",
       "      <td>1.000000</td>\n",
       "      <td>0.000000</td>\n",
       "      <td>1.000000</td>\n",
       "      <td>0.000000</td>\n",
       "      <td>1.0</td>\n",
       "      <td>1.0</td>\n",
       "      <td>1.000000</td>\n",
       "      <td>0.0</td>\n",
       "      <td>1.0</td>\n",
       "      <td>0.0</td>\n",
       "      <td>1.000000</td>\n",
       "      <td>1.0</td>\n",
       "      <td>1.000000</td>\n",
       "      <td>0.000000</td>\n",
       "    </tr>\n",
       "  </tbody>\n",
       "</table>\n",
       "<p>95 rows × 20 columns</p>\n",
       "</div>"
      ],
      "text/plain": [
       "           0         1         2    3         4    5         6         7  \\\n",
       "0   1.000000  0.000000  0.000000  0.0  0.083333  0.0  0.000000  0.083333   \n",
       "1   0.000000  0.000000  0.000000  0.0  0.000000  0.0  0.000000  0.000000   \n",
       "2   1.000000  1.000000  0.000000  0.0  0.000000  0.0  1.000000  0.000000   \n",
       "3   1.000000  0.000000  0.666667  0.0  1.000000  0.0  0.000000  0.000000   \n",
       "4   0.000000  0.000000  0.000000  0.0  0.000000  0.0  0.000000  1.000000   \n",
       "..       ...       ...       ...  ...       ...  ...       ...       ...   \n",
       "95  1.000000  1.000000  1.000000  1.0  1.000000  0.0  1.000000  1.000000   \n",
       "96  0.000000  1.000000  1.000000  1.0  1.000000  1.0  1.000000  0.000000   \n",
       "97  0.909091  0.909091  1.000000  1.0  1.000000  1.0  0.909091  0.000000   \n",
       "98  0.000000  1.000000  0.000000  1.0  0.000000  1.0  1.000000  0.000000   \n",
       "99  1.000000  1.000000  1.000000  1.0  1.000000  1.0  1.000000  0.000000   \n",
       "\n",
       "           8         9   10   11        12   13   14   15        16   17  \\\n",
       "0   0.000000  0.083333  0.0  0.0  0.000000  1.0  0.0  0.0  0.000000  0.0   \n",
       "1   0.000000  1.000000  0.0  0.0  0.000000  1.0  0.0  0.0  0.000000  0.0   \n",
       "2   1.000000  0.000000  0.0  0.0  1.000000  1.0  0.0  0.0  0.000000  0.0   \n",
       "3   0.000000  0.000000  0.0  0.0  0.000000  1.0  0.0  0.0  0.000000  0.0   \n",
       "4   0.000000  0.000000  0.0  0.0  0.000000  1.0  0.0  0.0  0.666667  0.0   \n",
       "..       ...       ...  ...  ...       ...  ...  ...  ...       ...  ...   \n",
       "95  1.000000  0.000000  1.0  0.0  1.000000  0.0  1.0  1.0  0.000000  1.0   \n",
       "96  0.333333  0.000000  1.0  1.0  1.000000  0.0  1.0  1.0  1.000000  1.0   \n",
       "97  1.000000  0.000000  1.0  1.0  0.909091  0.0  1.0  1.0  1.000000  1.0   \n",
       "98  1.000000  0.000000  1.0  1.0  1.000000  0.0  1.0  1.0  0.000000  1.0   \n",
       "99  1.000000  0.000000  1.0  1.0  1.000000  0.0  1.0  0.0  1.000000  1.0   \n",
       "\n",
       "          18        19  \n",
       "0   0.083333  0.916667  \n",
       "1   0.000000  0.000000  \n",
       "2   0.000000  1.000000  \n",
       "3   0.000000  1.000000  \n",
       "4   0.000000  1.000000  \n",
       "..       ...       ...  \n",
       "95  1.000000  1.000000  \n",
       "96  1.000000  1.000000  \n",
       "97  1.000000  1.000000  \n",
       "98  1.000000  1.000000  \n",
       "99  1.000000  0.000000  \n",
       "\n",
       "[95 rows x 20 columns]"
      ]
     },
     "execution_count": 46,
     "metadata": {},
     "output_type": "execute_result"
    }
   ],
   "source": [
    "simulated_games_step3"
   ]
  },
  {
   "cell_type": "markdown",
   "metadata": {},
   "source": [
    "Looks like this process works well so we just need to convert it to a function and ensure we get the same results"
   ]
  },
  {
   "cell_type": "code",
   "execution_count": 47,
   "metadata": {},
   "outputs": [],
   "source": [
    "def drop_closest_nodes(node_table_input, node_minmax_distances):\n",
    "    '''\n",
    "    \n",
    "    '''\n",
    "    # calculate the min distance of the first element in each of the min/max lists\n",
    "    min_distance = min(extract_nth(node_minmax_distances,0))\n",
    "    \n",
    "    # calculate indices of the nodes which contain the minimum\n",
    "    node_min_indices = np.where(extract_nth(node_minmax_distances,0)==min_distance)[0]\n",
    "    \n",
    "    # generate a list of min/max distances for the nodes which contain the min distance\n",
    "    min_distance_node_distances = [node_minmax_distances[i] for i in node_min_indices]\n",
    "    \n",
    "    # of those distances, calculate the minimum max distance (the second element in the distance lists)\n",
    "    minmax_distance = min(extract_nth(min_distance_node_distances,1))\n",
    "    \n",
    "    # create an array containing the mininum and minimum maximum distance\n",
    "    node_removal_distances = np.asarray([min_distance, minmax_distance])\n",
    "    \n",
    "    # calculate the node indices from the distance table which match the node_removal_distances\n",
    "    node_removal_indices = np.where((extract_nth(node_minmax_distances,0)==node_removal_distances[0]) &\\\n",
    "                                (extract_nth(node_minmax_distances,1)==node_removal_distances[1]))[0]\n",
    "    \n",
    "    # drop the specified nodes from the resource table\n",
    "    reduced_node_table = node_table_input.drop(node_removal_indices)\n",
    "    \n",
    "    return(reduced_node_table)"
   ]
  },
  {
   "cell_type": "code",
   "execution_count": 48,
   "metadata": {},
   "outputs": [
    {
     "data": {
      "text/html": [
       "<div>\n",
       "<style scoped>\n",
       "    .dataframe tbody tr th:only-of-type {\n",
       "        vertical-align: middle;\n",
       "    }\n",
       "\n",
       "    .dataframe tbody tr th {\n",
       "        vertical-align: top;\n",
       "    }\n",
       "\n",
       "    .dataframe thead th {\n",
       "        text-align: right;\n",
       "    }\n",
       "</style>\n",
       "<table border=\"1\" class=\"dataframe\">\n",
       "  <thead>\n",
       "    <tr style=\"text-align: right;\">\n",
       "      <th></th>\n",
       "      <th>0</th>\n",
       "      <th>1</th>\n",
       "      <th>2</th>\n",
       "      <th>3</th>\n",
       "      <th>4</th>\n",
       "      <th>5</th>\n",
       "      <th>6</th>\n",
       "      <th>7</th>\n",
       "      <th>8</th>\n",
       "      <th>9</th>\n",
       "      <th>10</th>\n",
       "      <th>11</th>\n",
       "      <th>12</th>\n",
       "      <th>13</th>\n",
       "      <th>14</th>\n",
       "      <th>15</th>\n",
       "      <th>16</th>\n",
       "      <th>17</th>\n",
       "      <th>18</th>\n",
       "      <th>19</th>\n",
       "    </tr>\n",
       "  </thead>\n",
       "  <tbody>\n",
       "    <tr>\n",
       "      <td>0</td>\n",
       "      <td>True</td>\n",
       "      <td>True</td>\n",
       "      <td>True</td>\n",
       "      <td>True</td>\n",
       "      <td>True</td>\n",
       "      <td>True</td>\n",
       "      <td>True</td>\n",
       "      <td>True</td>\n",
       "      <td>True</td>\n",
       "      <td>True</td>\n",
       "      <td>True</td>\n",
       "      <td>True</td>\n",
       "      <td>True</td>\n",
       "      <td>True</td>\n",
       "      <td>True</td>\n",
       "      <td>True</td>\n",
       "      <td>True</td>\n",
       "      <td>True</td>\n",
       "      <td>True</td>\n",
       "      <td>True</td>\n",
       "    </tr>\n",
       "    <tr>\n",
       "      <td>1</td>\n",
       "      <td>True</td>\n",
       "      <td>True</td>\n",
       "      <td>True</td>\n",
       "      <td>True</td>\n",
       "      <td>True</td>\n",
       "      <td>True</td>\n",
       "      <td>True</td>\n",
       "      <td>True</td>\n",
       "      <td>True</td>\n",
       "      <td>True</td>\n",
       "      <td>True</td>\n",
       "      <td>True</td>\n",
       "      <td>True</td>\n",
       "      <td>True</td>\n",
       "      <td>True</td>\n",
       "      <td>True</td>\n",
       "      <td>True</td>\n",
       "      <td>True</td>\n",
       "      <td>True</td>\n",
       "      <td>True</td>\n",
       "    </tr>\n",
       "    <tr>\n",
       "      <td>2</td>\n",
       "      <td>True</td>\n",
       "      <td>True</td>\n",
       "      <td>True</td>\n",
       "      <td>True</td>\n",
       "      <td>True</td>\n",
       "      <td>True</td>\n",
       "      <td>True</td>\n",
       "      <td>True</td>\n",
       "      <td>True</td>\n",
       "      <td>True</td>\n",
       "      <td>True</td>\n",
       "      <td>True</td>\n",
       "      <td>True</td>\n",
       "      <td>True</td>\n",
       "      <td>True</td>\n",
       "      <td>True</td>\n",
       "      <td>True</td>\n",
       "      <td>True</td>\n",
       "      <td>True</td>\n",
       "      <td>True</td>\n",
       "    </tr>\n",
       "    <tr>\n",
       "      <td>3</td>\n",
       "      <td>True</td>\n",
       "      <td>True</td>\n",
       "      <td>True</td>\n",
       "      <td>True</td>\n",
       "      <td>True</td>\n",
       "      <td>True</td>\n",
       "      <td>True</td>\n",
       "      <td>True</td>\n",
       "      <td>True</td>\n",
       "      <td>True</td>\n",
       "      <td>True</td>\n",
       "      <td>True</td>\n",
       "      <td>True</td>\n",
       "      <td>True</td>\n",
       "      <td>True</td>\n",
       "      <td>True</td>\n",
       "      <td>True</td>\n",
       "      <td>True</td>\n",
       "      <td>True</td>\n",
       "      <td>True</td>\n",
       "    </tr>\n",
       "    <tr>\n",
       "      <td>4</td>\n",
       "      <td>True</td>\n",
       "      <td>True</td>\n",
       "      <td>True</td>\n",
       "      <td>True</td>\n",
       "      <td>True</td>\n",
       "      <td>True</td>\n",
       "      <td>True</td>\n",
       "      <td>True</td>\n",
       "      <td>True</td>\n",
       "      <td>True</td>\n",
       "      <td>True</td>\n",
       "      <td>True</td>\n",
       "      <td>True</td>\n",
       "      <td>True</td>\n",
       "      <td>True</td>\n",
       "      <td>True</td>\n",
       "      <td>True</td>\n",
       "      <td>True</td>\n",
       "      <td>True</td>\n",
       "      <td>True</td>\n",
       "    </tr>\n",
       "    <tr>\n",
       "      <td>...</td>\n",
       "      <td>...</td>\n",
       "      <td>...</td>\n",
       "      <td>...</td>\n",
       "      <td>...</td>\n",
       "      <td>...</td>\n",
       "      <td>...</td>\n",
       "      <td>...</td>\n",
       "      <td>...</td>\n",
       "      <td>...</td>\n",
       "      <td>...</td>\n",
       "      <td>...</td>\n",
       "      <td>...</td>\n",
       "      <td>...</td>\n",
       "      <td>...</td>\n",
       "      <td>...</td>\n",
       "      <td>...</td>\n",
       "      <td>...</td>\n",
       "      <td>...</td>\n",
       "      <td>...</td>\n",
       "      <td>...</td>\n",
       "    </tr>\n",
       "    <tr>\n",
       "      <td>95</td>\n",
       "      <td>True</td>\n",
       "      <td>True</td>\n",
       "      <td>True</td>\n",
       "      <td>True</td>\n",
       "      <td>True</td>\n",
       "      <td>True</td>\n",
       "      <td>True</td>\n",
       "      <td>True</td>\n",
       "      <td>True</td>\n",
       "      <td>True</td>\n",
       "      <td>True</td>\n",
       "      <td>True</td>\n",
       "      <td>True</td>\n",
       "      <td>True</td>\n",
       "      <td>True</td>\n",
       "      <td>True</td>\n",
       "      <td>True</td>\n",
       "      <td>True</td>\n",
       "      <td>True</td>\n",
       "      <td>True</td>\n",
       "    </tr>\n",
       "    <tr>\n",
       "      <td>96</td>\n",
       "      <td>True</td>\n",
       "      <td>True</td>\n",
       "      <td>True</td>\n",
       "      <td>True</td>\n",
       "      <td>True</td>\n",
       "      <td>True</td>\n",
       "      <td>True</td>\n",
       "      <td>True</td>\n",
       "      <td>True</td>\n",
       "      <td>True</td>\n",
       "      <td>True</td>\n",
       "      <td>True</td>\n",
       "      <td>True</td>\n",
       "      <td>True</td>\n",
       "      <td>True</td>\n",
       "      <td>True</td>\n",
       "      <td>True</td>\n",
       "      <td>True</td>\n",
       "      <td>True</td>\n",
       "      <td>True</td>\n",
       "    </tr>\n",
       "    <tr>\n",
       "      <td>97</td>\n",
       "      <td>True</td>\n",
       "      <td>True</td>\n",
       "      <td>True</td>\n",
       "      <td>True</td>\n",
       "      <td>True</td>\n",
       "      <td>True</td>\n",
       "      <td>True</td>\n",
       "      <td>True</td>\n",
       "      <td>True</td>\n",
       "      <td>True</td>\n",
       "      <td>True</td>\n",
       "      <td>True</td>\n",
       "      <td>True</td>\n",
       "      <td>True</td>\n",
       "      <td>True</td>\n",
       "      <td>True</td>\n",
       "      <td>True</td>\n",
       "      <td>True</td>\n",
       "      <td>True</td>\n",
       "      <td>True</td>\n",
       "    </tr>\n",
       "    <tr>\n",
       "      <td>98</td>\n",
       "      <td>True</td>\n",
       "      <td>True</td>\n",
       "      <td>True</td>\n",
       "      <td>True</td>\n",
       "      <td>True</td>\n",
       "      <td>True</td>\n",
       "      <td>True</td>\n",
       "      <td>True</td>\n",
       "      <td>True</td>\n",
       "      <td>True</td>\n",
       "      <td>True</td>\n",
       "      <td>True</td>\n",
       "      <td>True</td>\n",
       "      <td>True</td>\n",
       "      <td>True</td>\n",
       "      <td>True</td>\n",
       "      <td>True</td>\n",
       "      <td>True</td>\n",
       "      <td>True</td>\n",
       "      <td>True</td>\n",
       "    </tr>\n",
       "    <tr>\n",
       "      <td>99</td>\n",
       "      <td>True</td>\n",
       "      <td>True</td>\n",
       "      <td>True</td>\n",
       "      <td>True</td>\n",
       "      <td>True</td>\n",
       "      <td>True</td>\n",
       "      <td>True</td>\n",
       "      <td>True</td>\n",
       "      <td>True</td>\n",
       "      <td>True</td>\n",
       "      <td>True</td>\n",
       "      <td>True</td>\n",
       "      <td>True</td>\n",
       "      <td>True</td>\n",
       "      <td>True</td>\n",
       "      <td>True</td>\n",
       "      <td>True</td>\n",
       "      <td>True</td>\n",
       "      <td>True</td>\n",
       "      <td>True</td>\n",
       "    </tr>\n",
       "  </tbody>\n",
       "</table>\n",
       "<p>95 rows × 20 columns</p>\n",
       "</div>"
      ],
      "text/plain": [
       "       0     1     2     3     4     5     6     7     8     9    10    11  \\\n",
       "0   True  True  True  True  True  True  True  True  True  True  True  True   \n",
       "1   True  True  True  True  True  True  True  True  True  True  True  True   \n",
       "2   True  True  True  True  True  True  True  True  True  True  True  True   \n",
       "3   True  True  True  True  True  True  True  True  True  True  True  True   \n",
       "4   True  True  True  True  True  True  True  True  True  True  True  True   \n",
       "..   ...   ...   ...   ...   ...   ...   ...   ...   ...   ...   ...   ...   \n",
       "95  True  True  True  True  True  True  True  True  True  True  True  True   \n",
       "96  True  True  True  True  True  True  True  True  True  True  True  True   \n",
       "97  True  True  True  True  True  True  True  True  True  True  True  True   \n",
       "98  True  True  True  True  True  True  True  True  True  True  True  True   \n",
       "99  True  True  True  True  True  True  True  True  True  True  True  True   \n",
       "\n",
       "      12    13    14    15    16    17    18    19  \n",
       "0   True  True  True  True  True  True  True  True  \n",
       "1   True  True  True  True  True  True  True  True  \n",
       "2   True  True  True  True  True  True  True  True  \n",
       "3   True  True  True  True  True  True  True  True  \n",
       "4   True  True  True  True  True  True  True  True  \n",
       "..   ...   ...   ...   ...   ...   ...   ...   ...  \n",
       "95  True  True  True  True  True  True  True  True  \n",
       "96  True  True  True  True  True  True  True  True  \n",
       "97  True  True  True  True  True  True  True  True  \n",
       "98  True  True  True  True  True  True  True  True  \n",
       "99  True  True  True  True  True  True  True  True  \n",
       "\n",
       "[95 rows x 20 columns]"
      ]
     },
     "execution_count": 48,
     "metadata": {},
     "output_type": "execute_result"
    }
   ],
   "source": [
    "drop_closest_nodes(simulated_games_step2, node_distance_min_max_step2)==simulated_games_step3"
   ]
  },
  {
   "cell_type": "markdown",
   "metadata": {},
   "source": [
    "At this point, we have everything working and just need to stick all the pieces together:"
   ]
  },
  {
   "cell_type": "code",
   "execution_count": 49,
   "metadata": {},
   "outputs": [],
   "source": [
    "def node_reducer(node_dataframe_input, tolerance_input):\n",
    "    '''\n",
    "    input: a dataframe with nodes in the rows and binary features in the columns\n",
    "    output: a reduced version of the input table which creates hybrid nodes and removes the node(s) for which there is\n",
    "        the least difference to the other nodes.\n",
    "    '''\n",
    "    \n",
    "    # calculate node distances\n",
    "    node_distances = node_distancer(node_dataframe_input)\n",
    "    \n",
    "    # create new hybrid nodes\n",
    "    new_nodes = node_updater(node_dataframe_input, node_distances, tolerance_input)\n",
    "    \n",
    "    # calculate hybrid node distances\n",
    "    new_node_distances = node_distancer(new_nodes)\n",
    "    \n",
    "    # calculate the min and max distances per new hybrid node\n",
    "    new_node_minmax_distances = node_distance_min_maxer(new_node_distances)\n",
    "    \n",
    "    # drop the closest node(s)\n",
    "    reduced_node_dataframe = drop_closest_nodes(new_nodes, new_node_minmax_distances)\n",
    "    \n",
    "    return(reduced_node_dataframe)\n"
   ]
  },
  {
   "cell_type": "code",
   "execution_count": 50,
   "metadata": {},
   "outputs": [
    {
     "data": {
      "text/html": [
       "<div>\n",
       "<style scoped>\n",
       "    .dataframe tbody tr th:only-of-type {\n",
       "        vertical-align: middle;\n",
       "    }\n",
       "\n",
       "    .dataframe tbody tr th {\n",
       "        vertical-align: top;\n",
       "    }\n",
       "\n",
       "    .dataframe thead th {\n",
       "        text-align: right;\n",
       "    }\n",
       "</style>\n",
       "<table border=\"1\" class=\"dataframe\">\n",
       "  <thead>\n",
       "    <tr style=\"text-align: right;\">\n",
       "      <th></th>\n",
       "      <th>0</th>\n",
       "      <th>1</th>\n",
       "      <th>2</th>\n",
       "      <th>3</th>\n",
       "      <th>4</th>\n",
       "      <th>5</th>\n",
       "      <th>6</th>\n",
       "      <th>7</th>\n",
       "      <th>8</th>\n",
       "      <th>9</th>\n",
       "      <th>10</th>\n",
       "      <th>11</th>\n",
       "      <th>12</th>\n",
       "      <th>13</th>\n",
       "      <th>14</th>\n",
       "      <th>15</th>\n",
       "      <th>16</th>\n",
       "      <th>17</th>\n",
       "      <th>18</th>\n",
       "      <th>19</th>\n",
       "    </tr>\n",
       "  </thead>\n",
       "  <tbody>\n",
       "    <tr>\n",
       "      <td>0</td>\n",
       "      <td>1.000000</td>\n",
       "      <td>0.000000</td>\n",
       "      <td>0.000000</td>\n",
       "      <td>0.0</td>\n",
       "      <td>0.083333</td>\n",
       "      <td>0.0</td>\n",
       "      <td>0.000000</td>\n",
       "      <td>0.083333</td>\n",
       "      <td>0.000000</td>\n",
       "      <td>0.083333</td>\n",
       "      <td>0.0</td>\n",
       "      <td>0.0</td>\n",
       "      <td>0.000000</td>\n",
       "      <td>1.0</td>\n",
       "      <td>0.0</td>\n",
       "      <td>0.0</td>\n",
       "      <td>0.000000</td>\n",
       "      <td>0.0</td>\n",
       "      <td>0.083333</td>\n",
       "      <td>0.916667</td>\n",
       "    </tr>\n",
       "    <tr>\n",
       "      <td>1</td>\n",
       "      <td>0.000000</td>\n",
       "      <td>0.000000</td>\n",
       "      <td>0.000000</td>\n",
       "      <td>0.0</td>\n",
       "      <td>0.000000</td>\n",
       "      <td>0.0</td>\n",
       "      <td>0.000000</td>\n",
       "      <td>0.000000</td>\n",
       "      <td>0.000000</td>\n",
       "      <td>1.000000</td>\n",
       "      <td>0.0</td>\n",
       "      <td>0.0</td>\n",
       "      <td>0.000000</td>\n",
       "      <td>1.0</td>\n",
       "      <td>0.0</td>\n",
       "      <td>0.0</td>\n",
       "      <td>0.000000</td>\n",
       "      <td>0.0</td>\n",
       "      <td>0.000000</td>\n",
       "      <td>0.000000</td>\n",
       "    </tr>\n",
       "    <tr>\n",
       "      <td>2</td>\n",
       "      <td>1.000000</td>\n",
       "      <td>1.000000</td>\n",
       "      <td>0.000000</td>\n",
       "      <td>0.0</td>\n",
       "      <td>0.000000</td>\n",
       "      <td>0.0</td>\n",
       "      <td>1.000000</td>\n",
       "      <td>0.000000</td>\n",
       "      <td>1.000000</td>\n",
       "      <td>0.000000</td>\n",
       "      <td>0.0</td>\n",
       "      <td>0.0</td>\n",
       "      <td>1.000000</td>\n",
       "      <td>1.0</td>\n",
       "      <td>0.0</td>\n",
       "      <td>0.0</td>\n",
       "      <td>0.000000</td>\n",
       "      <td>0.0</td>\n",
       "      <td>0.000000</td>\n",
       "      <td>1.000000</td>\n",
       "    </tr>\n",
       "    <tr>\n",
       "      <td>3</td>\n",
       "      <td>1.000000</td>\n",
       "      <td>0.000000</td>\n",
       "      <td>0.666667</td>\n",
       "      <td>0.0</td>\n",
       "      <td>1.000000</td>\n",
       "      <td>0.0</td>\n",
       "      <td>0.000000</td>\n",
       "      <td>0.000000</td>\n",
       "      <td>0.000000</td>\n",
       "      <td>0.000000</td>\n",
       "      <td>0.0</td>\n",
       "      <td>0.0</td>\n",
       "      <td>0.000000</td>\n",
       "      <td>1.0</td>\n",
       "      <td>0.0</td>\n",
       "      <td>0.0</td>\n",
       "      <td>0.000000</td>\n",
       "      <td>0.0</td>\n",
       "      <td>0.000000</td>\n",
       "      <td>1.000000</td>\n",
       "    </tr>\n",
       "    <tr>\n",
       "      <td>4</td>\n",
       "      <td>0.000000</td>\n",
       "      <td>0.000000</td>\n",
       "      <td>0.000000</td>\n",
       "      <td>0.0</td>\n",
       "      <td>0.000000</td>\n",
       "      <td>0.0</td>\n",
       "      <td>0.000000</td>\n",
       "      <td>1.000000</td>\n",
       "      <td>0.000000</td>\n",
       "      <td>0.000000</td>\n",
       "      <td>0.0</td>\n",
       "      <td>0.0</td>\n",
       "      <td>0.000000</td>\n",
       "      <td>1.0</td>\n",
       "      <td>0.0</td>\n",
       "      <td>0.0</td>\n",
       "      <td>0.666667</td>\n",
       "      <td>0.0</td>\n",
       "      <td>0.000000</td>\n",
       "      <td>1.000000</td>\n",
       "    </tr>\n",
       "    <tr>\n",
       "      <td>...</td>\n",
       "      <td>...</td>\n",
       "      <td>...</td>\n",
       "      <td>...</td>\n",
       "      <td>...</td>\n",
       "      <td>...</td>\n",
       "      <td>...</td>\n",
       "      <td>...</td>\n",
       "      <td>...</td>\n",
       "      <td>...</td>\n",
       "      <td>...</td>\n",
       "      <td>...</td>\n",
       "      <td>...</td>\n",
       "      <td>...</td>\n",
       "      <td>...</td>\n",
       "      <td>...</td>\n",
       "      <td>...</td>\n",
       "      <td>...</td>\n",
       "      <td>...</td>\n",
       "      <td>...</td>\n",
       "      <td>...</td>\n",
       "    </tr>\n",
       "    <tr>\n",
       "      <td>95</td>\n",
       "      <td>1.000000</td>\n",
       "      <td>1.000000</td>\n",
       "      <td>1.000000</td>\n",
       "      <td>1.0</td>\n",
       "      <td>1.000000</td>\n",
       "      <td>0.0</td>\n",
       "      <td>1.000000</td>\n",
       "      <td>1.000000</td>\n",
       "      <td>1.000000</td>\n",
       "      <td>0.000000</td>\n",
       "      <td>1.0</td>\n",
       "      <td>0.0</td>\n",
       "      <td>1.000000</td>\n",
       "      <td>0.0</td>\n",
       "      <td>1.0</td>\n",
       "      <td>1.0</td>\n",
       "      <td>0.000000</td>\n",
       "      <td>1.0</td>\n",
       "      <td>1.000000</td>\n",
       "      <td>1.000000</td>\n",
       "    </tr>\n",
       "    <tr>\n",
       "      <td>96</td>\n",
       "      <td>0.000000</td>\n",
       "      <td>1.000000</td>\n",
       "      <td>1.000000</td>\n",
       "      <td>1.0</td>\n",
       "      <td>1.000000</td>\n",
       "      <td>1.0</td>\n",
       "      <td>1.000000</td>\n",
       "      <td>0.000000</td>\n",
       "      <td>0.333333</td>\n",
       "      <td>0.000000</td>\n",
       "      <td>1.0</td>\n",
       "      <td>1.0</td>\n",
       "      <td>1.000000</td>\n",
       "      <td>0.0</td>\n",
       "      <td>1.0</td>\n",
       "      <td>1.0</td>\n",
       "      <td>1.000000</td>\n",
       "      <td>1.0</td>\n",
       "      <td>1.000000</td>\n",
       "      <td>1.000000</td>\n",
       "    </tr>\n",
       "    <tr>\n",
       "      <td>97</td>\n",
       "      <td>0.909091</td>\n",
       "      <td>0.909091</td>\n",
       "      <td>1.000000</td>\n",
       "      <td>1.0</td>\n",
       "      <td>1.000000</td>\n",
       "      <td>1.0</td>\n",
       "      <td>0.909091</td>\n",
       "      <td>0.000000</td>\n",
       "      <td>1.000000</td>\n",
       "      <td>0.000000</td>\n",
       "      <td>1.0</td>\n",
       "      <td>1.0</td>\n",
       "      <td>0.909091</td>\n",
       "      <td>0.0</td>\n",
       "      <td>1.0</td>\n",
       "      <td>1.0</td>\n",
       "      <td>1.000000</td>\n",
       "      <td>1.0</td>\n",
       "      <td>1.000000</td>\n",
       "      <td>1.000000</td>\n",
       "    </tr>\n",
       "    <tr>\n",
       "      <td>98</td>\n",
       "      <td>0.000000</td>\n",
       "      <td>1.000000</td>\n",
       "      <td>0.000000</td>\n",
       "      <td>1.0</td>\n",
       "      <td>0.000000</td>\n",
       "      <td>1.0</td>\n",
       "      <td>1.000000</td>\n",
       "      <td>0.000000</td>\n",
       "      <td>1.000000</td>\n",
       "      <td>0.000000</td>\n",
       "      <td>1.0</td>\n",
       "      <td>1.0</td>\n",
       "      <td>1.000000</td>\n",
       "      <td>0.0</td>\n",
       "      <td>1.0</td>\n",
       "      <td>1.0</td>\n",
       "      <td>0.000000</td>\n",
       "      <td>1.0</td>\n",
       "      <td>1.000000</td>\n",
       "      <td>1.000000</td>\n",
       "    </tr>\n",
       "    <tr>\n",
       "      <td>99</td>\n",
       "      <td>1.000000</td>\n",
       "      <td>1.000000</td>\n",
       "      <td>1.000000</td>\n",
       "      <td>1.0</td>\n",
       "      <td>1.000000</td>\n",
       "      <td>1.0</td>\n",
       "      <td>1.000000</td>\n",
       "      <td>0.000000</td>\n",
       "      <td>1.000000</td>\n",
       "      <td>0.000000</td>\n",
       "      <td>1.0</td>\n",
       "      <td>1.0</td>\n",
       "      <td>1.000000</td>\n",
       "      <td>0.0</td>\n",
       "      <td>1.0</td>\n",
       "      <td>0.0</td>\n",
       "      <td>1.000000</td>\n",
       "      <td>1.0</td>\n",
       "      <td>1.000000</td>\n",
       "      <td>0.000000</td>\n",
       "    </tr>\n",
       "  </tbody>\n",
       "</table>\n",
       "<p>95 rows × 20 columns</p>\n",
       "</div>"
      ],
      "text/plain": [
       "           0         1         2    3         4    5         6         7  \\\n",
       "0   1.000000  0.000000  0.000000  0.0  0.083333  0.0  0.000000  0.083333   \n",
       "1   0.000000  0.000000  0.000000  0.0  0.000000  0.0  0.000000  0.000000   \n",
       "2   1.000000  1.000000  0.000000  0.0  0.000000  0.0  1.000000  0.000000   \n",
       "3   1.000000  0.000000  0.666667  0.0  1.000000  0.0  0.000000  0.000000   \n",
       "4   0.000000  0.000000  0.000000  0.0  0.000000  0.0  0.000000  1.000000   \n",
       "..       ...       ...       ...  ...       ...  ...       ...       ...   \n",
       "95  1.000000  1.000000  1.000000  1.0  1.000000  0.0  1.000000  1.000000   \n",
       "96  0.000000  1.000000  1.000000  1.0  1.000000  1.0  1.000000  0.000000   \n",
       "97  0.909091  0.909091  1.000000  1.0  1.000000  1.0  0.909091  0.000000   \n",
       "98  0.000000  1.000000  0.000000  1.0  0.000000  1.0  1.000000  0.000000   \n",
       "99  1.000000  1.000000  1.000000  1.0  1.000000  1.0  1.000000  0.000000   \n",
       "\n",
       "           8         9   10   11        12   13   14   15        16   17  \\\n",
       "0   0.000000  0.083333  0.0  0.0  0.000000  1.0  0.0  0.0  0.000000  0.0   \n",
       "1   0.000000  1.000000  0.0  0.0  0.000000  1.0  0.0  0.0  0.000000  0.0   \n",
       "2   1.000000  0.000000  0.0  0.0  1.000000  1.0  0.0  0.0  0.000000  0.0   \n",
       "3   0.000000  0.000000  0.0  0.0  0.000000  1.0  0.0  0.0  0.000000  0.0   \n",
       "4   0.000000  0.000000  0.0  0.0  0.000000  1.0  0.0  0.0  0.666667  0.0   \n",
       "..       ...       ...  ...  ...       ...  ...  ...  ...       ...  ...   \n",
       "95  1.000000  0.000000  1.0  0.0  1.000000  0.0  1.0  1.0  0.000000  1.0   \n",
       "96  0.333333  0.000000  1.0  1.0  1.000000  0.0  1.0  1.0  1.000000  1.0   \n",
       "97  1.000000  0.000000  1.0  1.0  0.909091  0.0  1.0  1.0  1.000000  1.0   \n",
       "98  1.000000  0.000000  1.0  1.0  1.000000  0.0  1.0  1.0  0.000000  1.0   \n",
       "99  1.000000  0.000000  1.0  1.0  1.000000  0.0  1.0  0.0  1.000000  1.0   \n",
       "\n",
       "          18        19  \n",
       "0   0.083333  0.916667  \n",
       "1   0.000000  0.000000  \n",
       "2   0.000000  1.000000  \n",
       "3   0.000000  1.000000  \n",
       "4   0.000000  1.000000  \n",
       "..       ...       ...  \n",
       "95  1.000000  1.000000  \n",
       "96  1.000000  1.000000  \n",
       "97  1.000000  1.000000  \n",
       "98  1.000000  1.000000  \n",
       "99  1.000000  0.000000  \n",
       "\n",
       "[95 rows x 20 columns]"
      ]
     },
     "execution_count": 50,
     "metadata": {},
     "output_type": "execute_result"
    }
   ],
   "source": [
    "node_reducer(simulated_games, 1)"
   ]
  },
  {
   "cell_type": "markdown",
   "metadata": {},
   "source": [
    "Next, we'll need to apply the cluster reducer down to k=1 and calculate the average distance between clusters at each step to get a sense of how many clusters should be included."
   ]
  },
  {
   "cell_type": "code",
   "execution_count": 51,
   "metadata": {},
   "outputs": [
    {
     "data": {
      "text/plain": [
       "array([[ 0.,  3.,  4., ..., 16., 14., 16.],\n",
       "       [ 3.,  0.,  7., ..., 19., 15., 17.],\n",
       "       [ 4.,  7.,  0., ..., 12., 10., 12.],\n",
       "       ...,\n",
       "       [16., 19., 12., ...,  0.,  4.,  2.],\n",
       "       [14., 15., 10., ...,  4.,  0.,  6.],\n",
       "       [16., 17., 12., ...,  2.,  6.,  0.]])"
      ]
     },
     "execution_count": 51,
     "metadata": {},
     "output_type": "execute_result"
    }
   ],
   "source": [
    "simulated_node_distances"
   ]
  },
  {
   "cell_type": "code",
   "execution_count": 52,
   "metadata": {},
   "outputs": [
    {
     "data": {
      "text/plain": [
       "array([ 9.1 ,  9.9 ,  9.08,  9.56, 10.26,  9.1 ,  9.1 ,  9.1 ,  8.7 ,\n",
       "        9.1 ,  9.92,  8.72,  8.64,  9.1 ,  9.42,  9.1 ,  9.92,  8.74,\n",
       "        9.9 ,  9.84,  9.9 ,  9.1 ,  8.7 ,  9.1 ,  9.14,  7.98,  8.78,\n",
       "        8.06,  7.96,  8.34,  9.24,  8.32,  9.42,  8.46,  7.98,  7.98,\n",
       "        7.98,  8.38,  8.32,  8.32,  8.78,  8.  ,  7.96,  7.98,  9.6 ,\n",
       "        8.78,  7.98,  9.12,  8.36,  8.8 ,  8.16,  8.06,  8.12,  8.08,\n",
       "        8.82,  8.5 ,  8.16,  8.52,  8.86,  9.34,  8.16,  8.94,  9.32,\n",
       "        8.46,  8.14,  8.18,  9.34,  8.58,  8.42,  8.14,  8.52,  8.46,\n",
       "        8.58,  8.8 ,  8.48,  9.28,  9.32,  9.28,  9.2 , 10.38,  9.28,\n",
       "        9.28,  9.26,  9.32, 10.46,  9.6 ,  9.28,  9.26,  8.94,  9.62,\n",
       "        9.28,  9.28,  9.5 ,  9.18,  9.22, 10.42,  9.3 ,  9.28,  8.48,\n",
       "        9.2 ])"
      ]
     },
     "execution_count": 52,
     "metadata": {},
     "output_type": "execute_result"
    }
   ],
   "source": [
    "np.mean(simulated_node_distances, axis = 0)"
   ]
  },
  {
   "cell_type": "code",
   "execution_count": 53,
   "metadata": {
    "scrolled": true
   },
   "outputs": [
    {
     "data": {
      "text/plain": [
       "8.9116"
      ]
     },
     "execution_count": 53,
     "metadata": {},
     "output_type": "execute_result"
    }
   ],
   "source": [
    "np.mean(np.mean(simulated_node_distances, axis = 0))"
   ]
  },
  {
   "cell_type": "markdown",
   "metadata": {},
   "source": [
    "So the average distance of each node to every other node is 8.4.  Ideally, this number gets larger as we decrease the number of clusters.  To that end, lets wrap all of these functions into a single function which stores the results at each stage as well as the average distances."
   ]
  },
  {
   "cell_type": "code",
   "execution_count": 54,
   "metadata": {},
   "outputs": [],
   "source": [
    "def binary_clusterer(node_dataframe_input, tolerance_input):\n",
    "    '''\n",
    "    input: node_dataframe_input: a dataframe with nodes in the rows and binary features in the columns\n",
    "           tolerance_input: value to be added to the minimum distance to be included in the closest nodes\n",
    "    output: clusters: for each step, the resulting hybrid clusters\n",
    "            average_distances: for each step, the resulting average distance to every other cluster\n",
    "            k: the number of centroids\n",
    "    '''\n",
    "    centroids = []\n",
    "    average_distances = []\n",
    "    ks = []\n",
    "    node_dataframe = node_dataframe_input\n",
    "      \n",
    "    k = len(node_dataframe_input)\n",
    "    \n",
    "    while k>=1:\n",
    "        # save results of current step\n",
    "        centroids.append(node_dataframe)\n",
    "        average_distances.append(np.mean(np.mean(node_distancer(node_dataframe), axis = 0)))\n",
    "        ks.append(k)\n",
    "        \n",
    "        # reduce node_dataframe\n",
    "        node_dataframe = node_reducer(node_dataframe, tolerance_input)\n",
    "        \n",
    "        # set k\n",
    "        k = len(node_dataframe)\n",
    "        \n",
    "    return([centroids,average_distances,ks])\n",
    "        \n",
    "    \n",
    "    "
   ]
  },
  {
   "cell_type": "code",
   "execution_count": 73,
   "metadata": {},
   "outputs": [],
   "source": [
    "cluster_results = binary_clusterer(simulated_games,1)"
   ]
  },
  {
   "cell_type": "code",
   "execution_count": 85,
   "metadata": {},
   "outputs": [],
   "source": [
    "# reverse the order (from smallest number of clusters to greatest) to make interpretation easier\n",
    "cluster_results[0].reverse()\n",
    "cluster_results[1].reverse()\n",
    "cluster_results[2].reverse()"
   ]
  },
  {
   "cell_type": "code",
   "execution_count": 94,
   "metadata": {},
   "outputs": [],
   "source": [
    "cluster_results_comparison = pd.DataFrame({'k_clusters':cluster_results[2],\n",
    "                                          'average_cluster_distance':cluster_results[1]})"
   ]
  },
  {
   "cell_type": "code",
   "execution_count": 108,
   "metadata": {},
   "outputs": [
    {
     "data": {
      "text/html": [
       "<div>\n",
       "<style scoped>\n",
       "    .dataframe tbody tr th:only-of-type {\n",
       "        vertical-align: middle;\n",
       "    }\n",
       "\n",
       "    .dataframe tbody tr th {\n",
       "        vertical-align: top;\n",
       "    }\n",
       "\n",
       "    .dataframe thead th {\n",
       "        text-align: right;\n",
       "    }\n",
       "</style>\n",
       "<table border=\"1\" class=\"dataframe\">\n",
       "  <thead>\n",
       "    <tr style=\"text-align: right;\">\n",
       "      <th></th>\n",
       "      <th>k_clusters</th>\n",
       "      <th>average_cluster_distance</th>\n",
       "    </tr>\n",
       "  </thead>\n",
       "  <tbody>\n",
       "    <tr>\n",
       "      <td>0</td>\n",
       "      <td>2</td>\n",
       "      <td>4.000000</td>\n",
       "    </tr>\n",
       "    <tr>\n",
       "      <td>1</td>\n",
       "      <td>3</td>\n",
       "      <td>4.444444</td>\n",
       "    </tr>\n",
       "    <tr>\n",
       "      <td>2</td>\n",
       "      <td>4</td>\n",
       "      <td>4.483333</td>\n",
       "    </tr>\n",
       "    <tr>\n",
       "      <td>3</td>\n",
       "      <td>6</td>\n",
       "      <td>7.044815</td>\n",
       "    </tr>\n",
       "    <tr>\n",
       "      <td>4</td>\n",
       "      <td>7</td>\n",
       "      <td>6.978776</td>\n",
       "    </tr>\n",
       "    <tr>\n",
       "      <td>5</td>\n",
       "      <td>8</td>\n",
       "      <td>6.916250</td>\n",
       "    </tr>\n",
       "    <tr>\n",
       "      <td>6</td>\n",
       "      <td>9</td>\n",
       "      <td>7.624691</td>\n",
       "    </tr>\n",
       "    <tr>\n",
       "      <td>7</td>\n",
       "      <td>10</td>\n",
       "      <td>8.080000</td>\n",
       "    </tr>\n",
       "    <tr>\n",
       "      <td>8</td>\n",
       "      <td>12</td>\n",
       "      <td>8.805556</td>\n",
       "    </tr>\n",
       "    <tr>\n",
       "      <td>9</td>\n",
       "      <td>13</td>\n",
       "      <td>8.834320</td>\n",
       "    </tr>\n",
       "    <tr>\n",
       "      <td>10</td>\n",
       "      <td>14</td>\n",
       "      <td>8.806122</td>\n",
       "    </tr>\n",
       "    <tr>\n",
       "      <td>11</td>\n",
       "      <td>15</td>\n",
       "      <td>8.864853</td>\n",
       "    </tr>\n",
       "    <tr>\n",
       "      <td>12</td>\n",
       "      <td>16</td>\n",
       "      <td>8.930625</td>\n",
       "    </tr>\n",
       "    <tr>\n",
       "      <td>13</td>\n",
       "      <td>20</td>\n",
       "      <td>8.988000</td>\n",
       "    </tr>\n",
       "    <tr>\n",
       "      <td>14</td>\n",
       "      <td>21</td>\n",
       "      <td>9.006803</td>\n",
       "    </tr>\n",
       "    <tr>\n",
       "      <td>15</td>\n",
       "      <td>22</td>\n",
       "      <td>9.076928</td>\n",
       "    </tr>\n",
       "    <tr>\n",
       "      <td>16</td>\n",
       "      <td>23</td>\n",
       "      <td>9.099836</td>\n",
       "    </tr>\n",
       "    <tr>\n",
       "      <td>17</td>\n",
       "      <td>24</td>\n",
       "      <td>9.141667</td>\n",
       "    </tr>\n",
       "    <tr>\n",
       "      <td>18</td>\n",
       "      <td>25</td>\n",
       "      <td>9.169493</td>\n",
       "    </tr>\n",
       "    <tr>\n",
       "      <td>19</td>\n",
       "      <td>26</td>\n",
       "      <td>9.134122</td>\n",
       "    </tr>\n",
       "  </tbody>\n",
       "</table>\n",
       "</div>"
      ],
      "text/plain": [
       "    k_clusters  average_cluster_distance\n",
       "0            2                  4.000000\n",
       "1            3                  4.444444\n",
       "2            4                  4.483333\n",
       "3            6                  7.044815\n",
       "4            7                  6.978776\n",
       "5            8                  6.916250\n",
       "6            9                  7.624691\n",
       "7           10                  8.080000\n",
       "8           12                  8.805556\n",
       "9           13                  8.834320\n",
       "10          14                  8.806122\n",
       "11          15                  8.864853\n",
       "12          16                  8.930625\n",
       "13          20                  8.988000\n",
       "14          21                  9.006803\n",
       "15          22                  9.076928\n",
       "16          23                  9.099836\n",
       "17          24                  9.141667\n",
       "18          25                  9.169493\n",
       "19          26                  9.134122"
      ]
     },
     "execution_count": 108,
     "metadata": {},
     "output_type": "execute_result"
    }
   ],
   "source": [
    "cluster_results_comparison[0:20]"
   ]
  },
  {
   "cell_type": "markdown",
   "metadata": {},
   "source": [
    "Based on these results, it seems that 6 clusters is about where the 'elbow' is since the jump from 4.48 to 7.04 is large relative to the other marginal distance changes.  This being the case, we'll select the centroids for k=6.  We know that we intended for 4 clusters, but because we introduce randomness with how the clusters were created, 6 seems feasible."
   ]
  },
  {
   "cell_type": "code",
   "execution_count": 112,
   "metadata": {},
   "outputs": [],
   "source": [
    "cluster_centroids = cluster_results[0][3]"
   ]
  },
  {
   "cell_type": "code",
   "execution_count": 113,
   "metadata": {},
   "outputs": [
    {
     "data": {
      "text/html": [
       "<div>\n",
       "<style scoped>\n",
       "    .dataframe tbody tr th:only-of-type {\n",
       "        vertical-align: middle;\n",
       "    }\n",
       "\n",
       "    .dataframe tbody tr th {\n",
       "        vertical-align: top;\n",
       "    }\n",
       "\n",
       "    .dataframe thead th {\n",
       "        text-align: right;\n",
       "    }\n",
       "</style>\n",
       "<table border=\"1\" class=\"dataframe\">\n",
       "  <thead>\n",
       "    <tr style=\"text-align: right;\">\n",
       "      <th></th>\n",
       "      <th>0</th>\n",
       "      <th>1</th>\n",
       "      <th>2</th>\n",
       "      <th>3</th>\n",
       "      <th>4</th>\n",
       "      <th>5</th>\n",
       "      <th>6</th>\n",
       "      <th>7</th>\n",
       "      <th>8</th>\n",
       "      <th>9</th>\n",
       "      <th>10</th>\n",
       "      <th>11</th>\n",
       "      <th>12</th>\n",
       "      <th>13</th>\n",
       "      <th>14</th>\n",
       "      <th>15</th>\n",
       "      <th>16</th>\n",
       "      <th>17</th>\n",
       "      <th>18</th>\n",
       "      <th>19</th>\n",
       "    </tr>\n",
       "  </thead>\n",
       "  <tbody>\n",
       "    <tr>\n",
       "      <td>0</td>\n",
       "      <td>0.593333</td>\n",
       "      <td>0.946667</td>\n",
       "      <td>0.0</td>\n",
       "      <td>0.093333</td>\n",
       "      <td>0.853333</td>\n",
       "      <td>1.0</td>\n",
       "      <td>0.0</td>\n",
       "      <td>0.093333</td>\n",
       "      <td>0.353333</td>\n",
       "      <td>0.593333</td>\n",
       "      <td>0.0</td>\n",
       "      <td>0.906667</td>\n",
       "      <td>0.353333</td>\n",
       "      <td>0.946667</td>\n",
       "      <td>0.26</td>\n",
       "      <td>0.946667</td>\n",
       "      <td>0.0</td>\n",
       "      <td>0.0</td>\n",
       "      <td>0.853333</td>\n",
       "      <td>0.0</td>\n",
       "    </tr>\n",
       "    <tr>\n",
       "      <td>1</td>\n",
       "      <td>0.000000</td>\n",
       "      <td>1.000000</td>\n",
       "      <td>0.0</td>\n",
       "      <td>1.000000</td>\n",
       "      <td>1.000000</td>\n",
       "      <td>1.0</td>\n",
       "      <td>1.0</td>\n",
       "      <td>0.000000</td>\n",
       "      <td>1.000000</td>\n",
       "      <td>1.000000</td>\n",
       "      <td>0.0</td>\n",
       "      <td>1.000000</td>\n",
       "      <td>1.000000</td>\n",
       "      <td>1.000000</td>\n",
       "      <td>0.00</td>\n",
       "      <td>1.000000</td>\n",
       "      <td>0.0</td>\n",
       "      <td>1.0</td>\n",
       "      <td>1.000000</td>\n",
       "      <td>0.0</td>\n",
       "    </tr>\n",
       "    <tr>\n",
       "      <td>2</td>\n",
       "      <td>0.000000</td>\n",
       "      <td>1.000000</td>\n",
       "      <td>0.0</td>\n",
       "      <td>1.000000</td>\n",
       "      <td>0.000000</td>\n",
       "      <td>1.0</td>\n",
       "      <td>0.0</td>\n",
       "      <td>1.000000</td>\n",
       "      <td>1.000000</td>\n",
       "      <td>0.000000</td>\n",
       "      <td>0.0</td>\n",
       "      <td>0.000000</td>\n",
       "      <td>1.000000</td>\n",
       "      <td>1.000000</td>\n",
       "      <td>0.00</td>\n",
       "      <td>1.000000</td>\n",
       "      <td>0.0</td>\n",
       "      <td>0.0</td>\n",
       "      <td>0.000000</td>\n",
       "      <td>0.0</td>\n",
       "    </tr>\n",
       "    <tr>\n",
       "      <td>4</td>\n",
       "      <td>1.000000</td>\n",
       "      <td>1.000000</td>\n",
       "      <td>1.0</td>\n",
       "      <td>1.000000</td>\n",
       "      <td>1.000000</td>\n",
       "      <td>1.0</td>\n",
       "      <td>0.0</td>\n",
       "      <td>0.000000</td>\n",
       "      <td>0.000000</td>\n",
       "      <td>0.000000</td>\n",
       "      <td>0.0</td>\n",
       "      <td>1.000000</td>\n",
       "      <td>1.000000</td>\n",
       "      <td>1.000000</td>\n",
       "      <td>0.00</td>\n",
       "      <td>1.000000</td>\n",
       "      <td>0.0</td>\n",
       "      <td>1.0</td>\n",
       "      <td>1.000000</td>\n",
       "      <td>0.0</td>\n",
       "    </tr>\n",
       "    <tr>\n",
       "      <td>5</td>\n",
       "      <td>1.000000</td>\n",
       "      <td>1.000000</td>\n",
       "      <td>1.0</td>\n",
       "      <td>1.000000</td>\n",
       "      <td>1.000000</td>\n",
       "      <td>0.0</td>\n",
       "      <td>1.0</td>\n",
       "      <td>0.000000</td>\n",
       "      <td>1.000000</td>\n",
       "      <td>1.000000</td>\n",
       "      <td>1.0</td>\n",
       "      <td>1.000000</td>\n",
       "      <td>1.000000</td>\n",
       "      <td>0.000000</td>\n",
       "      <td>1.00</td>\n",
       "      <td>1.000000</td>\n",
       "      <td>1.0</td>\n",
       "      <td>1.0</td>\n",
       "      <td>1.000000</td>\n",
       "      <td>1.0</td>\n",
       "    </tr>\n",
       "    <tr>\n",
       "      <td>6</td>\n",
       "      <td>1.000000</td>\n",
       "      <td>1.000000</td>\n",
       "      <td>1.0</td>\n",
       "      <td>0.000000</td>\n",
       "      <td>1.000000</td>\n",
       "      <td>1.0</td>\n",
       "      <td>1.0</td>\n",
       "      <td>0.000000</td>\n",
       "      <td>0.000000</td>\n",
       "      <td>1.000000</td>\n",
       "      <td>1.0</td>\n",
       "      <td>1.000000</td>\n",
       "      <td>1.000000</td>\n",
       "      <td>1.000000</td>\n",
       "      <td>1.00</td>\n",
       "      <td>1.000000</td>\n",
       "      <td>1.0</td>\n",
       "      <td>1.0</td>\n",
       "      <td>1.000000</td>\n",
       "      <td>1.0</td>\n",
       "    </tr>\n",
       "  </tbody>\n",
       "</table>\n",
       "</div>"
      ],
      "text/plain": [
       "          0         1    2         3         4    5    6         7         8  \\\n",
       "0  0.593333  0.946667  0.0  0.093333  0.853333  1.0  0.0  0.093333  0.353333   \n",
       "1  0.000000  1.000000  0.0  1.000000  1.000000  1.0  1.0  0.000000  1.000000   \n",
       "2  0.000000  1.000000  0.0  1.000000  0.000000  1.0  0.0  1.000000  1.000000   \n",
       "4  1.000000  1.000000  1.0  1.000000  1.000000  1.0  0.0  0.000000  0.000000   \n",
       "5  1.000000  1.000000  1.0  1.000000  1.000000  0.0  1.0  0.000000  1.000000   \n",
       "6  1.000000  1.000000  1.0  0.000000  1.000000  1.0  1.0  0.000000  0.000000   \n",
       "\n",
       "          9   10        11        12        13    14        15   16   17  \\\n",
       "0  0.593333  0.0  0.906667  0.353333  0.946667  0.26  0.946667  0.0  0.0   \n",
       "1  1.000000  0.0  1.000000  1.000000  1.000000  0.00  1.000000  0.0  1.0   \n",
       "2  0.000000  0.0  0.000000  1.000000  1.000000  0.00  1.000000  0.0  0.0   \n",
       "4  0.000000  0.0  1.000000  1.000000  1.000000  0.00  1.000000  0.0  1.0   \n",
       "5  1.000000  1.0  1.000000  1.000000  0.000000  1.00  1.000000  1.0  1.0   \n",
       "6  1.000000  1.0  1.000000  1.000000  1.000000  1.00  1.000000  1.0  1.0   \n",
       "\n",
       "         18   19  \n",
       "0  0.853333  0.0  \n",
       "1  1.000000  0.0  \n",
       "2  0.000000  0.0  \n",
       "4  1.000000  0.0  \n",
       "5  1.000000  1.0  \n",
       "6  1.000000  1.0  "
      ]
     },
     "execution_count": 113,
     "metadata": {},
     "output_type": "execute_result"
    }
   ],
   "source": [
    "cluster_centroids"
   ]
  },
  {
   "cell_type": "markdown",
   "metadata": {},
   "source": [
    "Finally, now that we have our centroids, we can classify each of the original games into clusters by its nearest centroid:"
   ]
  },
  {
   "cell_type": "code",
   "execution_count": 157,
   "metadata": {},
   "outputs": [],
   "source": [
    "def cluster_classifier(node_table_input, cluster_centroids):\n",
    "    clusters = []\n",
    "    \n",
    "    for i in range(len(node_table_input)):\n",
    "        node_distances = []\n",
    "        \n",
    "        # get distance to each cluster centroid:\n",
    "        for j in range(len(cluster_centroids)):\n",
    "            node_distances.append(cluster_distance_calculator(node_table_input.iloc[i], cluster_centroids.iloc[j]))\n",
    "        \n",
    "        min_distance = min(node_distances)\n",
    "        \n",
    "        clusters.append(np.where(np.asarray(node_distances)==min_distance)[0][0])\n",
    "    \n",
    "    return(clusters)"
   ]
  },
  {
   "cell_type": "code",
   "execution_count": 159,
   "metadata": {
    "scrolled": true
   },
   "outputs": [],
   "source": [
    "node_clusters = cluster_classifier(simulated_games, cluster_centroids)"
   ]
  },
  {
   "cell_type": "code",
   "execution_count": 161,
   "metadata": {},
   "outputs": [
    {
     "data": {
      "text/plain": [
       "[0, 0, 2, 3, 2, 0, 0, 0, 3, 0, 2, 2, 2, 0, 2, 0, 2, 2, 0, 5]"
      ]
     },
     "execution_count": 161,
     "metadata": {},
     "output_type": "execute_result"
    }
   ],
   "source": [
    "node_clusters[0:20]"
   ]
  },
  {
   "cell_type": "markdown",
   "metadata": {},
   "source": [
    "Just for fun, lets see how accurate our classifier if we select k=4 (the expected number of clusters):"
   ]
  },
  {
   "cell_type": "code",
   "execution_count": 162,
   "metadata": {},
   "outputs": [],
   "source": [
    "# select index = 2, which is 4 clusters\n",
    "cluster_centroids = cluster_results[0][2]\n",
    "node_clusters = cluster_classifier(simulated_games, cluster_centroids)"
   ]
  },
  {
   "cell_type": "markdown",
   "metadata": {},
   "source": [
    "We're expecting the groupings to show the first 25 in a cluster, the second 25 in a cluster, and so on, so lets investigate by each set of 25. First though, lets see how many nodes were classified in each cluster:"
   ]
  },
  {
   "cell_type": "code",
   "execution_count": 190,
   "metadata": {},
   "outputs": [
    {
     "name": "stdout",
     "output_type": "stream",
     "text": [
      "7\n",
      "36\n",
      "30\n",
      "27\n"
     ]
    }
   ],
   "source": [
    "print(node_clusters.count(0))\n",
    "print(node_clusters.count(1))\n",
    "print(node_clusters.count(2))\n",
    "print(node_clusters.count(3))"
   ]
  },
  {
   "cell_type": "markdown",
   "metadata": {},
   "source": [
    "Looks like several from the first cluster were pulled into the second.  Lets see how it looks per expected cluster:"
   ]
  },
  {
   "cell_type": "code",
   "execution_count": 191,
   "metadata": {},
   "outputs": [
    {
     "data": {
      "text/plain": [
       "[2, 2, 2, 3, 2, 2, 2, 2, 3, 2, 2, 2, 2, 0, 2, 2, 2, 2, 2, 2, 2, 2, 2, 0, 2]"
      ]
     },
     "execution_count": 191,
     "metadata": {},
     "output_type": "execute_result"
    }
   ],
   "source": [
    "node_clusters[0:25]"
   ]
  },
  {
   "cell_type": "markdown",
   "metadata": {},
   "source": [
    "Looks like this cluster was classified as '2' so lets see how many aren't 2:"
   ]
  },
  {
   "cell_type": "code",
   "execution_count": 192,
   "metadata": {
    "scrolled": true
   },
   "outputs": [
    {
     "data": {
      "text/plain": [
       "4"
      ]
     },
     "execution_count": 192,
     "metadata": {},
     "output_type": "execute_result"
    }
   ],
   "source": [
    "len(np.where(np.asarray(node_clusters[0:25])!=2)[0])"
   ]
  },
  {
   "cell_type": "markdown",
   "metadata": {},
   "source": [
    "84% isn't bad considering the noise we threw in.  Lets check out the other clusters:"
   ]
  },
  {
   "cell_type": "code",
   "execution_count": 193,
   "metadata": {
    "scrolled": true
   },
   "outputs": [
    {
     "data": {
      "text/plain": [
       "[1, 2, 1, 1, 1, 1, 1, 1, 2, 1, 1, 1, 3, 2, 1, 3, 3, 3, 1, 1, 1, 1, 2, 1, 2]"
      ]
     },
     "execution_count": 193,
     "metadata": {},
     "output_type": "execute_result"
    }
   ],
   "source": [
    "node_clusters[25:50]"
   ]
  },
  {
   "cell_type": "code",
   "execution_count": 194,
   "metadata": {},
   "outputs": [
    {
     "data": {
      "text/plain": [
       "9"
      ]
     },
     "execution_count": 194,
     "metadata": {},
     "output_type": "execute_result"
    }
   ],
   "source": [
    "len(np.where(np.asarray(node_clusters[25:50])!=1)[0])"
   ]
  },
  {
   "cell_type": "markdown",
   "metadata": {},
   "source": [
    "64% of the next 25 were in the same cluster."
   ]
  },
  {
   "cell_type": "code",
   "execution_count": 196,
   "metadata": {
    "scrolled": true
   },
   "outputs": [
    {
     "data": {
      "text/plain": [
       "[1, 1, 1, 1, 0, 1, 2, 2, 1, 2, 1, 0, 2, 1, 1, 3, 0, 0, 1, 1, 1, 0, 3, 1, 1]"
      ]
     },
     "execution_count": 196,
     "metadata": {},
     "output_type": "execute_result"
    }
   ],
   "source": [
    "node_clusters[50:75]"
   ]
  },
  {
   "cell_type": "code",
   "execution_count": 197,
   "metadata": {},
   "outputs": [
    {
     "data": {
      "text/plain": [
       "11"
      ]
     },
     "execution_count": 197,
     "metadata": {},
     "output_type": "execute_result"
    }
   ],
   "source": [
    "len(np.where(np.asarray(node_clusters[50:75])!=1)[0])"
   ]
  },
  {
   "cell_type": "markdown",
   "metadata": {},
   "source": [
    "56% of the next 25 were in the same cluster."
   ]
  },
  {
   "cell_type": "code",
   "execution_count": 199,
   "metadata": {},
   "outputs": [
    {
     "data": {
      "text/plain": [
       "[3, 3, 1, 1, 1, 3, 3, 3, 1, 3, 3, 3, 3, 3, 3, 3, 3, 1, 3, 3, 3, 3, 3, 1, 3]"
      ]
     },
     "execution_count": 199,
     "metadata": {},
     "output_type": "execute_result"
    }
   ],
   "source": [
    "node_clusters[75:100]"
   ]
  },
  {
   "cell_type": "code",
   "execution_count": 200,
   "metadata": {},
   "outputs": [
    {
     "data": {
      "text/plain": [
       "6"
      ]
     },
     "execution_count": 200,
     "metadata": {},
     "output_type": "execute_result"
    }
   ],
   "source": [
    "len(np.where(np.asarray(node_clusters[75:100])!=3)[0])"
   ]
  },
  {
   "cell_type": "markdown",
   "metadata": {},
   "source": [
    "76% of the last 25 were in the same cluster."
   ]
  },
  {
   "cell_type": "markdown",
   "metadata": {},
   "source": [
    "Overall, we're showing between 56% and 84% accuracy in grouping the nodes into the same clusters as we originally created. However, the inclusion of 25% noise when generating the data in an effort to appear more realistic is obfuscating the clarity of the results.  This being the case, we'll test again with only a 10% difference between any node and its medoid:"
   ]
  },
  {
   "cell_type": "code",
   "execution_count": 235,
   "metadata": {},
   "outputs": [],
   "source": [
    "first_medoid_cluster_simple = cluster_creator(first_medoid, [0,0.1], 24)\n",
    "second_medoid_cluster_simple = cluster_creator(second_medoid, [0,0.1], 24)\n",
    "third_medoid_cluster_simple = cluster_creator(third_medoid, [0,0.1], 24)\n",
    "fourth_medoid_cluster_simple = cluster_creator(fourth_medoid, [0,0.1], 24)"
   ]
  },
  {
   "cell_type": "code",
   "execution_count": 236,
   "metadata": {},
   "outputs": [],
   "source": [
    "simulated_games_simple = [first_medoid] + first_medoid_cluster_simple + [second_medoid] + \\\n",
    "    second_medoid_cluster_simple + [third_medoid] + third_medoid_cluster_simple + [fourth_medoid] + \\\n",
    "    fourth_medoid_cluster_simple"
   ]
  },
  {
   "cell_type": "code",
   "execution_count": 237,
   "metadata": {},
   "outputs": [],
   "source": [
    "simulated_games_simple = pd.DataFrame(np.array(simulated_games_simple))"
   ]
  },
  {
   "cell_type": "code",
   "execution_count": 238,
   "metadata": {},
   "outputs": [],
   "source": [
    "cluster_results_simple = binary_clusterer(simulated_games_simple, 1)"
   ]
  },
  {
   "cell_type": "code",
   "execution_count": 239,
   "metadata": {},
   "outputs": [],
   "source": [
    "# reverse the order (from smallest number of clusters to greatest) to make interpretation easier\n",
    "cluster_results_simple[0].reverse()\n",
    "cluster_results_simple[1].reverse()\n",
    "cluster_results_simple[2].reverse()"
   ]
  },
  {
   "cell_type": "code",
   "execution_count": 240,
   "metadata": {},
   "outputs": [],
   "source": [
    "cluster_results_simple_comparison = pd.DataFrame({'k_clusters':cluster_results_simple[2],\n",
    "                                                  'average_cluster_distance':cluster_results_simple[1]})"
   ]
  },
  {
   "cell_type": "code",
   "execution_count": 242,
   "metadata": {},
   "outputs": [
    {
     "data": {
      "text/html": [
       "<div>\n",
       "<style scoped>\n",
       "    .dataframe tbody tr th:only-of-type {\n",
       "        vertical-align: middle;\n",
       "    }\n",
       "\n",
       "    .dataframe tbody tr th {\n",
       "        vertical-align: top;\n",
       "    }\n",
       "\n",
       "    .dataframe thead th {\n",
       "        text-align: right;\n",
       "    }\n",
       "</style>\n",
       "<table border=\"1\" class=\"dataframe\">\n",
       "  <thead>\n",
       "    <tr style=\"text-align: right;\">\n",
       "      <th></th>\n",
       "      <th>k_clusters</th>\n",
       "      <th>average_cluster_distance</th>\n",
       "    </tr>\n",
       "  </thead>\n",
       "  <tbody>\n",
       "    <tr>\n",
       "      <td>0</td>\n",
       "      <td>2</td>\n",
       "      <td>5.500000</td>\n",
       "    </tr>\n",
       "    <tr>\n",
       "      <td>1</td>\n",
       "      <td>3</td>\n",
       "      <td>5.629630</td>\n",
       "    </tr>\n",
       "    <tr>\n",
       "      <td>2</td>\n",
       "      <td>4</td>\n",
       "      <td>5.303819</td>\n",
       "    </tr>\n",
       "    <tr>\n",
       "      <td>3</td>\n",
       "      <td>5</td>\n",
       "      <td>5.404444</td>\n",
       "    </tr>\n",
       "    <tr>\n",
       "      <td>4</td>\n",
       "      <td>6</td>\n",
       "      <td>5.833333</td>\n",
       "    </tr>\n",
       "    <tr>\n",
       "      <td>5</td>\n",
       "      <td>7</td>\n",
       "      <td>6.394558</td>\n",
       "    </tr>\n",
       "    <tr>\n",
       "      <td>6</td>\n",
       "      <td>8</td>\n",
       "      <td>6.679167</td>\n",
       "    </tr>\n",
       "    <tr>\n",
       "      <td>7</td>\n",
       "      <td>9</td>\n",
       "      <td>6.962963</td>\n",
       "    </tr>\n",
       "    <tr>\n",
       "      <td>8</td>\n",
       "      <td>10</td>\n",
       "      <td>6.820000</td>\n",
       "    </tr>\n",
       "    <tr>\n",
       "      <td>9</td>\n",
       "      <td>11</td>\n",
       "      <td>6.670893</td>\n",
       "    </tr>\n",
       "  </tbody>\n",
       "</table>\n",
       "</div>"
      ],
      "text/plain": [
       "   k_clusters  average_cluster_distance\n",
       "0           2                  5.500000\n",
       "1           3                  5.629630\n",
       "2           4                  5.303819\n",
       "3           5                  5.404444\n",
       "4           6                  5.833333\n",
       "5           7                  6.394558\n",
       "6           8                  6.679167\n",
       "7           9                  6.962963\n",
       "8          10                  6.820000\n",
       "9          11                  6.670893"
      ]
     },
     "execution_count": 242,
     "metadata": {},
     "output_type": "execute_result"
    }
   ],
   "source": [
    "cluster_results_simple_comparison[0:10]"
   ]
  },
  {
   "cell_type": "code",
   "execution_count": 245,
   "metadata": {},
   "outputs": [],
   "source": [
    "cluster_centroids_simple = cluster_results_simple[0][2]"
   ]
  },
  {
   "cell_type": "code",
   "execution_count": 246,
   "metadata": {},
   "outputs": [],
   "source": [
    "node_clusters_simple = cluster_classifier(simulated_games_simple, cluster_centroids_simple)"
   ]
  },
  {
   "cell_type": "code",
   "execution_count": 248,
   "metadata": {
    "scrolled": true
   },
   "outputs": [
    {
     "name": "stdout",
     "output_type": "stream",
     "text": [
      "26\n",
      "24\n",
      "25\n",
      "25\n"
     ]
    }
   ],
   "source": [
    "print(node_clusters_simple.count(0))\n",
    "print(node_clusters_simple.count(1))\n",
    "print(node_clusters_simple.count(2))\n",
    "print(node_clusters_simple.count(3))"
   ]
  },
  {
   "cell_type": "code",
   "execution_count": 249,
   "metadata": {
    "scrolled": true
   },
   "outputs": [
    {
     "data": {
      "text/plain": [
       "[2, 2, 1, 2, 2, 2, 2, 2, 2, 2, 2, 2, 2, 2, 2, 2, 2, 2, 2, 2, 2, 2, 2, 2, 2]"
      ]
     },
     "execution_count": 249,
     "metadata": {},
     "output_type": "execute_result"
    }
   ],
   "source": [
    "node_clusters_simple[0:25]"
   ]
  },
  {
   "cell_type": "code",
   "execution_count": 251,
   "metadata": {
    "scrolled": true
   },
   "outputs": [
    {
     "data": {
      "text/plain": [
       "1"
      ]
     },
     "execution_count": 251,
     "metadata": {},
     "output_type": "execute_result"
    }
   ],
   "source": [
    "len(np.where(np.asarray(node_clusters_simple[0:25])!=2)[0])"
   ]
  },
  {
   "cell_type": "markdown",
   "metadata": {},
   "source": [
    "That's 96% (24/25) accurate for the first cluster!"
   ]
  },
  {
   "cell_type": "code",
   "execution_count": 252,
   "metadata": {},
   "outputs": [
    {
     "data": {
      "text/plain": [
       "[0, 0, 0, 0, 0, 0, 0, 0, 0, 0, 0, 0, 0, 0, 0, 0, 0, 0, 0, 0, 0, 0, 0, 0, 0]"
      ]
     },
     "execution_count": 252,
     "metadata": {},
     "output_type": "execute_result"
    }
   ],
   "source": [
    "node_clusters_simple[25:50]"
   ]
  },
  {
   "cell_type": "code",
   "execution_count": 255,
   "metadata": {},
   "outputs": [
    {
     "data": {
      "text/plain": [
       "0"
      ]
     },
     "execution_count": 255,
     "metadata": {},
     "output_type": "execute_result"
    }
   ],
   "source": [
    "len(np.where(np.asarray(node_clusters_simple[25:50])!=0)[0])"
   ]
  },
  {
   "cell_type": "markdown",
   "metadata": {},
   "source": [
    "100% (25/25) accurate for the second cluster!"
   ]
  },
  {
   "cell_type": "code",
   "execution_count": 256,
   "metadata": {},
   "outputs": [
    {
     "data": {
      "text/plain": [
       "[1, 1, 1, 1, 1, 1, 1, 1, 1, 1, 1, 1, 0, 1, 1, 1, 1, 1, 1, 1, 1, 1, 1, 2, 1]"
      ]
     },
     "execution_count": 256,
     "metadata": {},
     "output_type": "execute_result"
    }
   ],
   "source": [
    "node_clusters_simple[50:75]"
   ]
  },
  {
   "cell_type": "code",
   "execution_count": 258,
   "metadata": {
    "scrolled": true
   },
   "outputs": [
    {
     "data": {
      "text/plain": [
       "2"
      ]
     },
     "execution_count": 258,
     "metadata": {},
     "output_type": "execute_result"
    }
   ],
   "source": [
    "len(np.where(np.asarray(node_clusters_simple[50:75])!=1)[0])"
   ]
  },
  {
   "cell_type": "markdown",
   "metadata": {},
   "source": [
    "92% (23/25) accurate for the third cluster."
   ]
  },
  {
   "cell_type": "code",
   "execution_count": 260,
   "metadata": {},
   "outputs": [
    {
     "data": {
      "text/plain": [
       "[3, 3, 3, 3, 3, 3, 3, 3, 3, 3, 3, 3, 3, 3, 3, 3, 3, 3, 3, 3, 3, 3, 3, 3, 3]"
      ]
     },
     "execution_count": 260,
     "metadata": {},
     "output_type": "execute_result"
    }
   ],
   "source": [
    "node_clusters_simple[75:100]"
   ]
  },
  {
   "cell_type": "code",
   "execution_count": 261,
   "metadata": {},
   "outputs": [
    {
     "data": {
      "text/plain": [
       "0"
      ]
     },
     "execution_count": 261,
     "metadata": {},
     "output_type": "execute_result"
    }
   ],
   "source": [
    "len(np.where(np.asarray(node_clusters_simple[75:100])!=3)[0])"
   ]
  },
  {
   "cell_type": "markdown",
   "metadata": {},
   "source": [
    "100% (25/25) accurate for the third cluster!"
   ]
  },
  {
   "cell_type": "markdown",
   "metadata": {},
   "source": [
    "It looks like our classifier is at 97% accurate when we reduce the noise around the medoids to 10% from 25%.  This isn't surprising, but the elbow method of identifying the right number of clusters didn't exactly make choosing the right number of clusters obvious.  In fact, at k=4 clusters, we're seeing a minimum of the average distance between clusters.  This leads me to believe that I've misinterpreted the average_cluster_distance and I should, instead, be attempting to select the k for which the average_cluster_distance is small and the k+1 distance is a large jump."
   ]
  },
  {
   "cell_type": "markdown",
   "metadata": {},
   "source": [
    "___\n",
    "# Takeaways\n",
    "\n",
    "In this script, an unsupervised binary classification algorithm was devised and tested with simulated data centered around 4 medoids. At 25% noise added around the 4 medoids, we had a 70% accuracy in classification.  At 10%, however, we saw a 97% accuracy.  \n",
    "\n",
    "Additionally, we learned that the correct approach to selecting k clusters is to identify the k for which the average distance between clusters is small and the k+1 cluster sees a relatively large increase in average distance."
   ]
  }
 ],
 "metadata": {
  "kernelspec": {
   "display_name": "Python 3",
   "language": "python",
   "name": "python3"
  },
  "language_info": {
   "codemirror_mode": {
    "name": "ipython",
    "version": 3
   },
   "file_extension": ".py",
   "mimetype": "text/x-python",
   "name": "python",
   "nbconvert_exporter": "python",
   "pygments_lexer": "ipython3",
   "version": "3.6.9"
  }
 },
 "nbformat": 4,
 "nbformat_minor": 2
}
