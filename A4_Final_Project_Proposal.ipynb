{
 "cells": [
  {
   "cell_type": "markdown",
   "metadata": {},
   "source": [
    "# A4: Final Project Proposal\n",
    "Will Wright  \n",
    "2019-11-06"
   ]
  },
  {
   "cell_type": "markdown",
   "metadata": {},
   "source": [
    "#### Motivation/Problem Statement:\n",
    "Context: Slay the Spire is currently the 64th most played game on Steam (out of more than 30,000 games).  It was released in late January 2019 and has received a 10/10 rating with “overwhelmingly positive” feedback.  It’s essentially a deck-building strategy and tactics game with rogue-like, procedurally-generated properties such that no two games play out the same.  Anyone who gets into the game and looks for resources on which cards are better soon finds https://spirelogs.com/ as the top resource.  The idea here is that you upload your game data and can see how you compare to others while providing spirelogs with data useful for determining ratings for cards and other powerups.  While the findings on this site are extremely useful to players, they lack decision-context or a sense of which final clusters of decks are best.  For instance, a certain card might have a high rating, but be damaging for the deck-build a player currently has.  My goal is to remedy this by clustering the ~20% of decks that win the game into distinct deck-archetypes and provide that context. My hypothesis is that there are only about 8 ways to beat the game, but I could be wildly off since this is just based on the ~300 games I’ve played in about 260 hours.\n",
    "\n",
    "To this end, I wrote the creator of spirelogs, Alleji, and asked for permission to use his data.  He responded with:\n",
    "\n",
    "_Hey!_\n",
    " \n",
    "_I have an archive of runs since 1.0 right here: https://spirelogs.com/archive/_\n",
    " \n",
    "_You're right in that there isn't any documentation on it, but I do get requests like yours occasionally and I'm certainly happy to share the data. Let me know if you publish your results anywhere online, I'd be interested in seeing them!_\n",
    " \n",
    "_Alleji_\n",
    "\n",
    "In these zipped files, there are over 280K completed games in JSON format that have never before had any sort of data science applied to them.  "
   ]
  },
  {
   "cell_type": "markdown",
   "metadata": {},
   "source": [
    "#### Data Used:\n",
    "While no link on his page directs to the archive of data, the link provided by the creator is publically available with his blessings (as per the email). The only ethical consideration could be that individuals might be identifiable if you know their playstyle well-enough (e.g. always chooses a certain set of cards or character to play), but because identifying an individual could only give you insights about their playstyle and when they were playing, I don’t think this is a major concern.  I can imagine an outlandish situation where, on identifying someone you know in the data, a person could build a timeline for when someone was playing the game, but I’m not sure how useful that would be for any sort of malicious intent.  \n",
    "\n",
    "As for the data itself, there is one tar.gz file per month since release. Within each of these zipped folders is a folder for each day of the month and within each of those is hundreds to thousands of game .run data.  This is all in JSON format and details which decisions the users make throughout their playthroughs and their results along the way.\n",
    "\n",
    "I’d like to point out that there isn’t a license for the data and I’m interpreting the creator’s expressed happiness to share the data as evidence that that I can use it. "
   ]
  },
  {
   "cell_type": "markdown",
   "metadata": {},
   "source": [
    "#### Unknown and dependencies:\n",
    "Ultimately, there are a TON of useful ways to review this data and I know I might be prone to want to go down the path of the coolest project: a mod that “solves” the game by providing real-time card/power-up recommendations.  Others have done something similar, but this is only based on local data and not from over 280K games. I’ve never built a mod, but I’m fairly certain that with this dataset, I could build it (given a lot more time). To save myself from going down that path and finishing in a timely manner, I’ll likely focus on the clustering victorious decks and subset to just one of the three characters.\n",
    "\n",
    "It’s also possible that Alleji stops hosting the data or turns off the site.  I’ll build my scripts to pick up the data directly from his archive to be reproducible, but if it does go down, I’ll make sure to reference the already-picked-up files and leave those publically available in a repo. "
   ]
  }
 ],
 "metadata": {
  "kernelspec": {
   "display_name": "Python 3",
   "language": "python",
   "name": "python3"
  },
  "language_info": {
   "codemirror_mode": {
    "name": "ipython",
    "version": 3
   },
   "file_extension": ".py",
   "mimetype": "text/x-python",
   "name": "python",
   "nbconvert_exporter": "python",
   "pygments_lexer": "ipython3",
   "version": "3.6.9"
  }
 },
 "nbformat": 4,
 "nbformat_minor": 2
}
