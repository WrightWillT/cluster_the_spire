{
 "cells": [
  {
   "cell_type": "markdown",
   "metadata": {},
   "source": [
    "# Clustering Algorithm Methodology and Testing\n",
    "Will Wright"
   ]
  },
  {
   "cell_type": "markdown",
   "metadata": {},
   "source": [
    "### Purpose and Context\n",
    "\n",
    "I've worked with several unsupervised clustering algorithms as part of my professional and academic career, but I had never built one from scratch.  Because the data for this project is binary and I had never worked exclusively with this type of data, I decided to test my creativity and see if I could build a functioning algorithmm from scratch with no outside influence.  \n",
    "\n",
    "Once complete, this algorithm will be used to classify the resource data from the Slay the Spire character datasets into resource-personas (i.e. the unique 'builds' possible to win with each character on Ascension 20)."
   ]
  },
  {
   "cell_type": "code",
   "execution_count": 628,
   "metadata": {},
   "outputs": [],
   "source": [
    "# Load packages\n",
    "import shutil\n",
    "from os import listdir\n",
    "import json\n",
    "import glob\n",
    "import os\n",
    "import numpy as np\n",
    "import pandas as pd\n",
    "import random\n",
    "import copy\n",
    "from heapq import nsmallest\n",
    "\n",
    "# increase viewable dataframe rows and columns\n",
    "pd.set_option('display.max_rows', 50)\n",
    "pd.set_option('display.max_columns', 20)"
   ]
  },
  {
   "cell_type": "markdown",
   "metadata": {},
   "source": [
    "___\n",
    "## Clustering Algorithm\n",
    "\n",
    "After much whiteboarding, testing, and deep thought on the matter, I devised the following algorithm for clustering:\n",
    "\n",
    "**Clustering Algorithm**\n",
    "1. Start with clusters equal to the number of nodes (k=m)\n",
    "2. While k>=1:\n",
    "    1. Calculate the distance between each node and every other node where distance is the sum of resources that don't match (i.e. if a card is in both decks, that resource adds 0 distance, but it if is in one and not the other, then it adds 1 distance.  \"Distance\" is the sum of all these resource differences)\n",
    "    2. For each node, calculate the nearest node(s) via distance + a user-defined tolerance distance and merge with the node via taking the mean \n",
    "    3. For each merged node, calculate the distances to all other merged nodes and the min and max distances per merged node.\n",
    "    4. For each min and max distance, add a weighted user-defined tolerance distance percent where the weight is relative to k such that weight = k/m (this applies a 100% weight when k=m and decreases to 0% as k decreases. i.e. it takes larger 'steps' toward a lower k and slows down as k approaches 0)\n",
    "    5. Drop the node(s) for which the min distance is smaller than or equal to the min distance + tolerance and, of those, the max distance is the smaller than the max distance + tolerance (this steps adds maximum distance between the nodes)\n",
    "    6. Store the resulting centroids, k, and average distance between nodes\n",
    "    7. Set k equal to the resulting number of undropped nodes\n",
    "4. Review average distance for k=2 through k=m\n",
    "5. Select a reasonable k based on the average distance between nodes"
   ]
  },
  {
   "cell_type": "markdown",
   "metadata": {},
   "source": [
    "### Simulating Test Data\n",
    "\n",
    "In order to know if the algorithm works, we'll want to see how it performs on a dataset where we know results.\n",
    "\n",
    "Lets imagine we have 20 resources in 100 games and 4 somewhat-tight clusters.  In order to do this, we'll create 4 medoids by drawing from the binomial distribution with p = 0.2, 0.4, 0.6, and 0.8 for each draw being a 1 instead of a 0 for each resource within a medoid."
   ]
  },
  {
   "cell_type": "code",
   "execution_count": 629,
   "metadata": {},
   "outputs": [
    {
     "name": "stdout",
     "output_type": "stream",
     "text": [
      "[0 0 0 0 0 1 1 0 0 0 0 1 1 0 1 0 1 0 0 0]\n",
      "[0 0 0 1 1 0 0 0 0 0 0 1 0 1 1 1 1 0 0 0]\n",
      "[1 1 0 0 1 1 1 0 1 0 0 1 0 1 0 1 0 1 0 1]\n",
      "[1 1 1 1 1 1 1 1 1 0 1 1 0 1 1 1 0 1 1 1]\n"
     ]
    }
   ],
   "source": [
    "seeded_random = np.random.RandomState(44932)\n",
    "first_medoid = seeded_random.binomial(1, 0.2, 20)\n",
    "second_medoid = seeded_random.binomial(1, 0.4, 20)\n",
    "third_medoid = seeded_random.binomial(1, 0.6, 20)\n",
    "fourth_medoid = seeded_random.binomial(1, 0.8, 20)\n",
    "\n",
    "print(first_medoid)\n",
    "print(second_medoid)\n",
    "print(third_medoid)\n",
    "print(fourth_medoid)\n"
   ]
  },
  {
   "cell_type": "markdown",
   "metadata": {},
   "source": [
    "We'll want a function to measure the distance between games (as described in step 2 of the algorithm):"
   ]
  },
  {
   "cell_type": "code",
   "execution_count": 630,
   "metadata": {},
   "outputs": [],
   "source": [
    "def cluster_distance_calculator(cluster1_input, cluster2_input):\n",
    "    '''\n",
    "    input: arrays of binary data for two clusters\n",
    "    output: a distance measurement\n",
    "    method: distance is the sum of differences in the binary data, by position\n",
    "    '''\n",
    "    distance = sum(abs(cluster1_input-cluster2_input))\n",
    "    return(distance)"
   ]
  },
  {
   "cell_type": "code",
   "execution_count": 631,
   "metadata": {},
   "outputs": [
    {
     "name": "stdout",
     "output_type": "stream",
     "text": [
      "0\n",
      "7\n",
      "11\n",
      "15\n"
     ]
    }
   ],
   "source": [
    "# test it out for the distance between the first medoid and the others\n",
    "print(cluster_distance_calculator(first_medoid, first_medoid))\n",
    "print(cluster_distance_calculator(first_medoid, second_medoid))\n",
    "print(cluster_distance_calculator(first_medoid, third_medoid))\n",
    "print(cluster_distance_calculator(first_medoid, fourth_medoid))\n"
   ]
  },
  {
   "cell_type": "markdown",
   "metadata": {},
   "source": [
    "As expected, there is 0 distance for the first medoid compared to itself. The second medoid has 7 differences, the third has 11, and the fourth has 15, all of which makes sense since we tried to make each medoid further away from the first. We'll want to see what the confusion matrix of each cluster's distance from each other cluster in a function for easy and comprehensive evaluation:"
   ]
  },
  {
   "cell_type": "code",
   "execution_count": 632,
   "metadata": {},
   "outputs": [],
   "source": [
    "def cluster_confusioner(cluster_list_input):\n",
    "    '''\n",
    "    input: a list of clusters of equal length\n",
    "    output: a matrix which applies the cluster_distance_calculator to each pair of clusters\n",
    "    '''\n",
    "    distance_matrix = np.empty((len(cluster_list_input), len(cluster_list_input)))\n",
    "    \n",
    "    # iterate through each comparison to populate the matrix\n",
    "    for i in range(len(cluster_list_input)):\n",
    "        for j in range(len(cluster_list_input)):\n",
    "            distance_matrix[i,j] = cluster_distance_calculator(cluster_list_input[i], cluster_list_input[j])\n",
    "    \n",
    "    return(distance_matrix)\n",
    "    "
   ]
  },
  {
   "cell_type": "code",
   "execution_count": 633,
   "metadata": {},
   "outputs": [
    {
     "data": {
      "text/plain": [
       "array([[ 0.,  7., 11., 15.],\n",
       "       [ 7.,  0., 10., 12.],\n",
       "       [11., 10.,  0.,  6.],\n",
       "       [15., 12.,  6.,  0.]])"
      ]
     },
     "execution_count": 633,
     "metadata": {},
     "output_type": "execute_result"
    }
   ],
   "source": [
    "cluster_confusioner([first_medoid, second_medoid, third_medoid, fourth_medoid])"
   ]
  },
  {
   "cell_type": "markdown",
   "metadata": {},
   "source": [
    "Here, we can see those same 0, 7, 11, and 15 values across the first row and down the first column as well as the distances between the other clusters.  It looks like the maximum distance is 15 (difference between the first and fourth medoid) and the minimum distance is a 6, which is between the third and fourth medoids.\n",
    "\n",
    "Next, we'll want to create 24 similar games per medoid to simulate a situation in which there were 4 winning sets of resources.  We'll do this by randomly selecting 0-25% of the elements in each cluster and flipping them. such that we'll have 75% to 100% similarity between each game intended for a cluster and its medoid (I say _intended_ because it's possible that, after applying the random changes, it becomes more similar to a different medoid)."
   ]
  },
  {
   "cell_type": "code",
   "execution_count": 634,
   "metadata": {},
   "outputs": [],
   "source": [
    "def cluster_creator(medoid_input, difference_percent_range, n_games):\n",
    "    '''\n",
    "    input: medoid_input is a one-dimensional array of binary data\n",
    "           difference_percent_range is a list with a min and max percent (e.g. [0,0.25] for 0-25%); cannot do <1% \n",
    "           n_games is the number of games needed in the output\n",
    "    output: a list of n games with the speficied similarity to the medoid_input\n",
    "    '''\n",
    "    simulated_games = []\n",
    "    \n",
    "    for i in range(n_games):\n",
    "        # create inner random state which is determined by i\n",
    "        inner_seeded_random = np.random.RandomState(i)\n",
    "        \n",
    "        # select how many elements will be changed\n",
    "        percent_change = inner_seeded_random.uniform(difference_percent_range[0],difference_percent_range[1])\n",
    "        \n",
    "        # convert the percent to an integer by multiplying by the total number of elements and rounding\n",
    "        element_change = round(len(medoid_input)*percent_change)\n",
    "        \n",
    "        # for unknown python reasons, i've got to set a seed too and it has to be based on i for reproducibility\n",
    "        random.seed(i)\n",
    "        \n",
    "        # set indices of elements to change\n",
    "        element_change_positions = random.choices(range(len(medoid_input)), k=element_change)\n",
    "        \n",
    "        # change those elements\n",
    "        simulated_game = copy.copy(medoid_input)\n",
    "        for k in range(len(element_change_positions)):\n",
    "            if simulated_game[element_change_positions[k]]==1:\n",
    "                simulated_game[element_change_positions[k]]=0\n",
    "            else:\n",
    "                simulated_game[element_change_positions[k]]=1\n",
    "        \n",
    "        # append to list of games\n",
    "        simulated_games.append(simulated_game)\n",
    "    \n",
    "    return(simulated_games)\n",
    "        "
   ]
  },
  {
   "cell_type": "code",
   "execution_count": 635,
   "metadata": {
    "scrolled": false
   },
   "outputs": [],
   "source": [
    "# create the cluster and add the medoid to it\n",
    "first_medoid_cluster = cluster_creator(first_medoid, [0,0.25], 24)"
   ]
  },
  {
   "cell_type": "code",
   "execution_count": 636,
   "metadata": {},
   "outputs": [
    {
     "data": {
      "text/plain": [
       "[array([0, 0, 0, 0, 0, 1, 1, 0, 1, 0, 0, 1, 1, 0, 1, 1, 0, 0, 0, 0]),\n",
       " array([0, 0, 1, 0, 0, 1, 1, 0, 0, 0, 0, 1, 1, 0, 1, 0, 0, 0, 0, 0]),\n",
       " array([0, 0, 0, 0, 0, 1, 1, 0, 0, 0, 0, 1, 1, 0, 1, 0, 1, 0, 1, 1]),\n",
       " array([0, 0, 0, 0, 1, 1, 1, 1, 0, 0, 1, 1, 1, 0, 1, 0, 1, 0, 0, 0]),\n",
       " array([0, 1, 1, 1, 1, 1, 1, 1, 0, 0, 0, 1, 1, 0, 1, 0, 1, 0, 0, 0]),\n",
       " array([0, 0, 0, 0, 0, 1, 1, 0, 0, 0, 0, 1, 0, 0, 1, 0, 1, 0, 0, 0]),\n",
       " array([0, 0, 0, 0, 0, 0, 1, 0, 0, 1, 0, 1, 1, 0, 1, 1, 0, 0, 0, 0]),\n",
       " array([0, 0, 0, 0, 0, 1, 1, 0, 0, 0, 0, 1, 1, 0, 1, 0, 1, 0, 0, 0]),\n",
       " array([0, 0, 1, 0, 1, 1, 1, 0, 0, 0, 0, 1, 1, 0, 0, 0, 1, 0, 0, 1]),\n",
       " array([0, 0, 0, 0, 0, 1, 1, 0, 0, 0, 0, 1, 1, 0, 1, 0, 1, 0, 0, 0]),\n",
       " array([0, 0, 0, 0, 1, 1, 1, 0, 1, 0, 0, 1, 1, 0, 1, 0, 1, 0, 0, 0]),\n",
       " array([0, 0, 0, 0, 0, 1, 1, 0, 0, 1, 0, 1, 1, 0, 1, 0, 1, 0, 0, 0]),\n",
       " array([0, 0, 0, 0, 0, 1, 1, 0, 0, 1, 0, 1, 1, 0, 1, 0, 1, 0, 0, 0]),\n",
       " array([0, 0, 0, 0, 0, 0, 1, 0, 0, 0, 0, 1, 1, 0, 1, 0, 0, 0, 0, 0]),\n",
       " array([0, 0, 1, 0, 0, 1, 1, 0, 0, 0, 0, 1, 1, 1, 0, 0, 1, 0, 0, 0]),\n",
       " array([1, 0, 0, 1, 0, 1, 1, 0, 0, 0, 0, 1, 1, 0, 0, 0, 1, 0, 0, 1]),\n",
       " array([0, 0, 0, 0, 0, 1, 1, 1, 0, 0, 0, 1, 1, 0, 1, 0, 1, 0, 0, 0]),\n",
       " array([0, 0, 0, 0, 0, 1, 1, 0, 0, 0, 1, 1, 1, 0, 1, 0, 1, 0, 0, 0]),\n",
       " array([0, 0, 0, 1, 0, 1, 0, 0, 0, 0, 0, 1, 1, 1, 1, 0, 1, 0, 0, 0]),\n",
       " array([0, 0, 0, 0, 0, 1, 1, 0, 0, 0, 0, 1, 1, 0, 1, 0, 1, 0, 0, 0]),\n",
       " array([0, 0, 0, 0, 0, 1, 1, 0, 0, 0, 0, 1, 1, 1, 1, 1, 1, 0, 1, 0]),\n",
       " array([0, 0, 0, 0, 0, 1, 1, 0, 0, 0, 0, 1, 1, 0, 1, 0, 1, 0, 0, 0]),\n",
       " array([0, 0, 0, 0, 0, 1, 1, 0, 0, 0, 0, 1, 1, 0, 1, 0, 1, 0, 0, 1]),\n",
       " array([0, 0, 0, 0, 0, 1, 1, 0, 0, 0, 0, 1, 1, 0, 1, 0, 1, 1, 0, 0])]"
      ]
     },
     "execution_count": 636,
     "metadata": {},
     "output_type": "execute_result"
    }
   ],
   "source": [
    "first_medoid_cluster"
   ]
  },
  {
   "cell_type": "markdown",
   "metadata": {},
   "source": [
    "Looks right, but just to test, let's make sure the differences between each simulated game and the medoid is less than or equal to 25% (5 elements of the 20):"
   ]
  },
  {
   "cell_type": "code",
   "execution_count": 637,
   "metadata": {
    "scrolled": false
   },
   "outputs": [
    {
     "name": "stdout",
     "output_type": "stream",
     "text": [
      "5\n"
     ]
    }
   ],
   "source": [
    "distances = []\n",
    "for i in range(len(first_medoid_cluster)):\n",
    "    distances = distances + [cluster_distance_calculator(first_medoid, first_medoid_cluster[i])]\n",
    "print(max(distances))"
   ]
  },
  {
   "cell_type": "markdown",
   "metadata": {},
   "source": [
    "Perfect! now to create the other clusters of games around the other medoids."
   ]
  },
  {
   "cell_type": "code",
   "execution_count": 638,
   "metadata": {},
   "outputs": [],
   "source": [
    "second_medoid_cluster = cluster_creator(second_medoid, [0,0.25], 24)\n",
    "third_medoid_cluster = cluster_creator(third_medoid, [0,0.25], 24)\n",
    "fourth_medoid_cluster = cluster_creator(fourth_medoid, [0,0.25], 24)"
   ]
  },
  {
   "cell_type": "markdown",
   "metadata": {},
   "source": [
    "Finally, we can stitch all the games together into one dataframe:"
   ]
  },
  {
   "cell_type": "code",
   "execution_count": 639,
   "metadata": {},
   "outputs": [],
   "source": [
    "simulated_games = [first_medoid] + first_medoid_cluster + [second_medoid] + second_medoid_cluster +\\\n",
    "[third_medoid] + third_medoid_cluster + [fourth_medoid] + fourth_medoid_cluster"
   ]
  },
  {
   "cell_type": "code",
   "execution_count": 640,
   "metadata": {},
   "outputs": [],
   "source": [
    "simulated_games = pd.DataFrame(np.array(simulated_games))"
   ]
  },
  {
   "cell_type": "code",
   "execution_count": 641,
   "metadata": {},
   "outputs": [
    {
     "data": {
      "text/html": [
       "<div>\n",
       "<style scoped>\n",
       "    .dataframe tbody tr th:only-of-type {\n",
       "        vertical-align: middle;\n",
       "    }\n",
       "\n",
       "    .dataframe tbody tr th {\n",
       "        vertical-align: top;\n",
       "    }\n",
       "\n",
       "    .dataframe thead th {\n",
       "        text-align: right;\n",
       "    }\n",
       "</style>\n",
       "<table border=\"1\" class=\"dataframe\">\n",
       "  <thead>\n",
       "    <tr style=\"text-align: right;\">\n",
       "      <th></th>\n",
       "      <th>0</th>\n",
       "      <th>1</th>\n",
       "      <th>2</th>\n",
       "      <th>3</th>\n",
       "      <th>4</th>\n",
       "      <th>5</th>\n",
       "      <th>6</th>\n",
       "      <th>7</th>\n",
       "      <th>8</th>\n",
       "      <th>9</th>\n",
       "      <th>10</th>\n",
       "      <th>11</th>\n",
       "      <th>12</th>\n",
       "      <th>13</th>\n",
       "      <th>14</th>\n",
       "      <th>15</th>\n",
       "      <th>16</th>\n",
       "      <th>17</th>\n",
       "      <th>18</th>\n",
       "      <th>19</th>\n",
       "    </tr>\n",
       "  </thead>\n",
       "  <tbody>\n",
       "    <tr>\n",
       "      <td>0</td>\n",
       "      <td>0</td>\n",
       "      <td>0</td>\n",
       "      <td>0</td>\n",
       "      <td>0</td>\n",
       "      <td>0</td>\n",
       "      <td>1</td>\n",
       "      <td>1</td>\n",
       "      <td>0</td>\n",
       "      <td>0</td>\n",
       "      <td>0</td>\n",
       "      <td>0</td>\n",
       "      <td>1</td>\n",
       "      <td>1</td>\n",
       "      <td>0</td>\n",
       "      <td>1</td>\n",
       "      <td>0</td>\n",
       "      <td>1</td>\n",
       "      <td>0</td>\n",
       "      <td>0</td>\n",
       "      <td>0</td>\n",
       "    </tr>\n",
       "    <tr>\n",
       "      <td>1</td>\n",
       "      <td>0</td>\n",
       "      <td>0</td>\n",
       "      <td>0</td>\n",
       "      <td>0</td>\n",
       "      <td>0</td>\n",
       "      <td>1</td>\n",
       "      <td>1</td>\n",
       "      <td>0</td>\n",
       "      <td>1</td>\n",
       "      <td>0</td>\n",
       "      <td>0</td>\n",
       "      <td>1</td>\n",
       "      <td>1</td>\n",
       "      <td>0</td>\n",
       "      <td>1</td>\n",
       "      <td>1</td>\n",
       "      <td>0</td>\n",
       "      <td>0</td>\n",
       "      <td>0</td>\n",
       "      <td>0</td>\n",
       "    </tr>\n",
       "    <tr>\n",
       "      <td>2</td>\n",
       "      <td>0</td>\n",
       "      <td>0</td>\n",
       "      <td>1</td>\n",
       "      <td>0</td>\n",
       "      <td>0</td>\n",
       "      <td>1</td>\n",
       "      <td>1</td>\n",
       "      <td>0</td>\n",
       "      <td>0</td>\n",
       "      <td>0</td>\n",
       "      <td>0</td>\n",
       "      <td>1</td>\n",
       "      <td>1</td>\n",
       "      <td>0</td>\n",
       "      <td>1</td>\n",
       "      <td>0</td>\n",
       "      <td>0</td>\n",
       "      <td>0</td>\n",
       "      <td>0</td>\n",
       "      <td>0</td>\n",
       "    </tr>\n",
       "    <tr>\n",
       "      <td>3</td>\n",
       "      <td>0</td>\n",
       "      <td>0</td>\n",
       "      <td>0</td>\n",
       "      <td>0</td>\n",
       "      <td>0</td>\n",
       "      <td>1</td>\n",
       "      <td>1</td>\n",
       "      <td>0</td>\n",
       "      <td>0</td>\n",
       "      <td>0</td>\n",
       "      <td>0</td>\n",
       "      <td>1</td>\n",
       "      <td>1</td>\n",
       "      <td>0</td>\n",
       "      <td>1</td>\n",
       "      <td>0</td>\n",
       "      <td>1</td>\n",
       "      <td>0</td>\n",
       "      <td>1</td>\n",
       "      <td>1</td>\n",
       "    </tr>\n",
       "    <tr>\n",
       "      <td>4</td>\n",
       "      <td>0</td>\n",
       "      <td>0</td>\n",
       "      <td>0</td>\n",
       "      <td>0</td>\n",
       "      <td>1</td>\n",
       "      <td>1</td>\n",
       "      <td>1</td>\n",
       "      <td>1</td>\n",
       "      <td>0</td>\n",
       "      <td>0</td>\n",
       "      <td>1</td>\n",
       "      <td>1</td>\n",
       "      <td>1</td>\n",
       "      <td>0</td>\n",
       "      <td>1</td>\n",
       "      <td>0</td>\n",
       "      <td>1</td>\n",
       "      <td>0</td>\n",
       "      <td>0</td>\n",
       "      <td>0</td>\n",
       "    </tr>\n",
       "    <tr>\n",
       "      <td>...</td>\n",
       "      <td>...</td>\n",
       "      <td>...</td>\n",
       "      <td>...</td>\n",
       "      <td>...</td>\n",
       "      <td>...</td>\n",
       "      <td>...</td>\n",
       "      <td>...</td>\n",
       "      <td>...</td>\n",
       "      <td>...</td>\n",
       "      <td>...</td>\n",
       "      <td>...</td>\n",
       "      <td>...</td>\n",
       "      <td>...</td>\n",
       "      <td>...</td>\n",
       "      <td>...</td>\n",
       "      <td>...</td>\n",
       "      <td>...</td>\n",
       "      <td>...</td>\n",
       "      <td>...</td>\n",
       "      <td>...</td>\n",
       "    </tr>\n",
       "    <tr>\n",
       "      <td>95</td>\n",
       "      <td>1</td>\n",
       "      <td>1</td>\n",
       "      <td>1</td>\n",
       "      <td>1</td>\n",
       "      <td>1</td>\n",
       "      <td>1</td>\n",
       "      <td>1</td>\n",
       "      <td>1</td>\n",
       "      <td>1</td>\n",
       "      <td>0</td>\n",
       "      <td>1</td>\n",
       "      <td>1</td>\n",
       "      <td>0</td>\n",
       "      <td>1</td>\n",
       "      <td>1</td>\n",
       "      <td>1</td>\n",
       "      <td>0</td>\n",
       "      <td>1</td>\n",
       "      <td>1</td>\n",
       "      <td>1</td>\n",
       "    </tr>\n",
       "    <tr>\n",
       "      <td>96</td>\n",
       "      <td>1</td>\n",
       "      <td>1</td>\n",
       "      <td>1</td>\n",
       "      <td>1</td>\n",
       "      <td>1</td>\n",
       "      <td>1</td>\n",
       "      <td>1</td>\n",
       "      <td>1</td>\n",
       "      <td>1</td>\n",
       "      <td>0</td>\n",
       "      <td>1</td>\n",
       "      <td>1</td>\n",
       "      <td>0</td>\n",
       "      <td>0</td>\n",
       "      <td>1</td>\n",
       "      <td>0</td>\n",
       "      <td>0</td>\n",
       "      <td>1</td>\n",
       "      <td>0</td>\n",
       "      <td>1</td>\n",
       "    </tr>\n",
       "    <tr>\n",
       "      <td>97</td>\n",
       "      <td>1</td>\n",
       "      <td>1</td>\n",
       "      <td>1</td>\n",
       "      <td>1</td>\n",
       "      <td>1</td>\n",
       "      <td>1</td>\n",
       "      <td>1</td>\n",
       "      <td>1</td>\n",
       "      <td>1</td>\n",
       "      <td>0</td>\n",
       "      <td>1</td>\n",
       "      <td>1</td>\n",
       "      <td>0</td>\n",
       "      <td>1</td>\n",
       "      <td>1</td>\n",
       "      <td>1</td>\n",
       "      <td>0</td>\n",
       "      <td>1</td>\n",
       "      <td>1</td>\n",
       "      <td>1</td>\n",
       "    </tr>\n",
       "    <tr>\n",
       "      <td>98</td>\n",
       "      <td>1</td>\n",
       "      <td>1</td>\n",
       "      <td>1</td>\n",
       "      <td>1</td>\n",
       "      <td>1</td>\n",
       "      <td>1</td>\n",
       "      <td>1</td>\n",
       "      <td>1</td>\n",
       "      <td>1</td>\n",
       "      <td>0</td>\n",
       "      <td>1</td>\n",
       "      <td>1</td>\n",
       "      <td>0</td>\n",
       "      <td>1</td>\n",
       "      <td>1</td>\n",
       "      <td>1</td>\n",
       "      <td>0</td>\n",
       "      <td>1</td>\n",
       "      <td>1</td>\n",
       "      <td>0</td>\n",
       "    </tr>\n",
       "    <tr>\n",
       "      <td>99</td>\n",
       "      <td>1</td>\n",
       "      <td>1</td>\n",
       "      <td>1</td>\n",
       "      <td>1</td>\n",
       "      <td>1</td>\n",
       "      <td>1</td>\n",
       "      <td>1</td>\n",
       "      <td>1</td>\n",
       "      <td>1</td>\n",
       "      <td>0</td>\n",
       "      <td>1</td>\n",
       "      <td>1</td>\n",
       "      <td>0</td>\n",
       "      <td>1</td>\n",
       "      <td>1</td>\n",
       "      <td>1</td>\n",
       "      <td>0</td>\n",
       "      <td>0</td>\n",
       "      <td>1</td>\n",
       "      <td>1</td>\n",
       "    </tr>\n",
       "  </tbody>\n",
       "</table>\n",
       "<p>100 rows × 20 columns</p>\n",
       "</div>"
      ],
      "text/plain": [
       "    0  1  2  3  4  5  6  7  8  9  10  11  12  13  14  15  16  17  18  19\n",
       "0   0  0  0  0  0  1  1  0  0  0   0   1   1   0   1   0   1   0   0   0\n",
       "1   0  0  0  0  0  1  1  0  1  0   0   1   1   0   1   1   0   0   0   0\n",
       "2   0  0  1  0  0  1  1  0  0  0   0   1   1   0   1   0   0   0   0   0\n",
       "3   0  0  0  0  0  1  1  0  0  0   0   1   1   0   1   0   1   0   1   1\n",
       "4   0  0  0  0  1  1  1  1  0  0   1   1   1   0   1   0   1   0   0   0\n",
       ".. .. .. .. .. .. .. .. .. .. ..  ..  ..  ..  ..  ..  ..  ..  ..  ..  ..\n",
       "95  1  1  1  1  1  1  1  1  1  0   1   1   0   1   1   1   0   1   1   1\n",
       "96  1  1  1  1  1  1  1  1  1  0   1   1   0   0   1   0   0   1   0   1\n",
       "97  1  1  1  1  1  1  1  1  1  0   1   1   0   1   1   1   0   1   1   1\n",
       "98  1  1  1  1  1  1  1  1  1  0   1   1   0   1   1   1   0   1   1   0\n",
       "99  1  1  1  1  1  1  1  1  1  0   1   1   0   1   1   1   0   0   1   1\n",
       "\n",
       "[100 rows x 20 columns]"
      ]
     },
     "execution_count": 641,
     "metadata": {},
     "output_type": "execute_result"
    }
   ],
   "source": [
    "simulated_games"
   ]
  },
  {
   "cell_type": "markdown",
   "metadata": {},
   "source": [
    "### Building the Clustering Algorithm\n",
    "So now, in total, we have 100 games of 20 resources with 25 in each cluster centered around 4 medoids. This is roughly what we should expect to find with the actual game data so it should serve as a relevant proxy.\n",
    "\n",
    "To restate the goal of the Algorithm:  \n",
    "**Clustering Algorithm**\n",
    "1. Start with clusters equal to the number of nodes (k=m)\n",
    "2. While k>=1:\n",
    "    1. Calculate the distance between each node and every other node where distance is the sum of resources that don't match (i.e. if a card is in both decks, that resource adds 0 distance, but it if is in one and not the other, then it adds 1 distance.  \"Distance\" is the sum of all these resource differences)\n",
    "    2. For each node, calculate the nearest node(s) via distance + a user-defined tolerance distance and merge with the node via taking the mean \n",
    "    3. For each merged node, calculate the distances to all other merged nodes and the min and max distances per merged node.\n",
    "    4. For each min and max distance, add a weighted user-defined tolerance distance percent where the weight is relative to k such that weight = k/m (this applies a 100% weight when k=m and decreases to 0% as k decreases. i.e. it takes larger 'steps' toward a lower k and slows down as k approaches 0)\n",
    "    5. Drop the node(s) for which the min distance is smaller than or equal to the min distance + tolerance and, of those, the max distance is the smaller than the max distance + tolerance (this steps adds maximum distance between the nodes)\n",
    "    6. Store the resulting centroids, k, and average distance between nodes\n",
    "    7. Set k equal to the resulting number of undropped nodes\n",
    "4. Review average distance for k=2 through k=m\n",
    "5. Select a reasonable k based on the average distance between nodes"
   ]
  },
  {
   "cell_type": "markdown",
   "metadata": {},
   "source": [
    "#### 2A. Calculate the distance between each node and every other node\n",
    "We'll need a function to calculate the distance between each node and every other node:"
   ]
  },
  {
   "cell_type": "code",
   "execution_count": 642,
   "metadata": {},
   "outputs": [],
   "source": [
    "def node_distancer(resource_dataframe_input):\n",
    "    '''\n",
    "    input: resouce_dataframe_input is a dataframe with resources in the columns and games in the rows with \n",
    "            binary data filling the table.\n",
    "           k_input is the number of clusters\n",
    "    output: k centroids\n",
    "    '''\n",
    "    # create empty array to hold all the distances comparing each combination\n",
    "    all_node_distances = np.zeros([len(resource_dataframe_input),len(resource_dataframe_input)])\n",
    "    # calculate distance between the ith game and the jth game\n",
    "    for i in range(len(all_node_distances)):\n",
    "        for j in range(len(all_node_distances)):\n",
    "            all_node_distances[i,j] = cluster_distance_calculator(resource_dataframe_input.iloc[i], resource_dataframe_input.iloc[j])\n",
    "    \n",
    "    return(all_node_distances)"
   ]
  },
  {
   "cell_type": "code",
   "execution_count": 643,
   "metadata": {},
   "outputs": [],
   "source": [
    "simulated_node_distances = node_distancer(simulated_games)"
   ]
  },
  {
   "cell_type": "code",
   "execution_count": 644,
   "metadata": {},
   "outputs": [
    {
     "data": {
      "text/plain": [
       "array([[ 0.,  3.,  2., ..., 15., 14., 14.],\n",
       "       [ 3.,  0.,  3., ..., 12., 11., 11.],\n",
       "       [ 2.,  3.,  0., ..., 13., 12., 12.],\n",
       "       ...,\n",
       "       [15., 12., 13., ...,  0.,  1.,  1.],\n",
       "       [14., 11., 12., ...,  1.,  0.,  2.],\n",
       "       [14., 11., 12., ...,  1.,  2.,  0.]])"
      ]
     },
     "execution_count": 644,
     "metadata": {},
     "output_type": "execute_result"
    }
   ],
   "source": [
    "simulated_node_distances"
   ]
  },
  {
   "cell_type": "markdown",
   "metadata": {},
   "source": [
    "Above is a 100x100 array which shows the distance of each node to every other node.  Below is just the first row, which compares the first node to all 100 other nodes, separated by cluster:"
   ]
  },
  {
   "cell_type": "code",
   "execution_count": 648,
   "metadata": {},
   "outputs": [
    {
     "name": "stdout",
     "output_type": "stream",
     "text": [
      "Cluster 1:  [0. 3. 2. 2. 3. 5. 1. 4. 0. 4. 0. 2. 1. 1. 2. 3. 4. 1. 1. 3. 0. 3. 0. 1.\n",
      " 1.]\n",
      "Cluster 2:  [7. 8. 9. 9. 8. 8. 6. 7. 7. 9. 7. 7. 8. 8. 7. 8. 9. 8. 8. 4. 7. 6. 7. 8.\n",
      " 8.]\n",
      "Cluster 3:  [11.  8. 11. 11. 12. 12. 10. 11. 11.  9. 11.  9. 12. 12. 11. 10.  9. 12.\n",
      " 12. 12. 11. 10. 11. 10. 10.]\n",
      "Cluster 4:  [15. 12. 13. 13. 12. 10. 14. 15. 15. 13. 15. 13. 16. 16. 15. 14. 13. 14.\n",
      " 14. 14. 15. 12. 15. 14. 14.]\n"
     ]
    }
   ],
   "source": [
    "print(\"Cluster 1: \", simulated_node_distances[0,0:25])\n",
    "print(\"Cluster 2: \", simulated_node_distances[0,25:50])\n",
    "print(\"Cluster 3: \", simulated_node_distances[0,50:75])\n",
    "print(\"Cluster 4: \", simulated_node_distances[0,75:100])"
   ]
  },
  {
   "cell_type": "markdown",
   "metadata": {},
   "source": [
    "Above is the first row of what I'm calling a 'node' distance separated into each of the medoid-centered groupings.  In this case, the node is 1 game, but we'll eventually be merging games of resources together so it's easier to call these the more generic 'node' than calling it 'the combination of game 1, game 10,..., game n'.  \n",
    "\n",
    "What it's showing is that the distance between the first node (the medoid for the cluster) and itself is, as expected, 0 and the distances between the first node and the others centered around that medoid ranges between 0 and 5. In Cluster 2, we see the difference between the first node and all the nodes in the second cluster, which range from 4 to 9. In general, Clusters 3 and 4 get further and further away."
   ]
  },
  {
   "cell_type": "markdown",
   "metadata": {},
   "source": [
    "#### 2B. For each node, calculate the nearest node(s) via distance + a user-defined tolerance distance and merge with the node via taking the mean\n",
    "As can be seen, the nearest of all the nodes (that isn't itself) is 0 and there are 3 nodes that have the same distance.  This means that 3 nodes are the same as the first node. When we're dealing with ties, it seems reasonable to simply take an average across all nodes that are equally close.  \n",
    "\n",
    "As per this plan, let's create a function which outputs an average of the nodes sent to it."
   ]
  },
  {
   "cell_type": "code",
   "execution_count": 649,
   "metadata": {},
   "outputs": [],
   "source": [
    "def node_averager(list_of_nodes):\n",
    "    return(np.mean((list_of_nodes), axis = 0))"
   ]
  },
  {
   "cell_type": "markdown",
   "metadata": {},
   "source": [
    "Next, for each row of 100 distances, we'll want to select the node(s) with the equally-minimal distance from the original node to send to the `node_averager()` and store the resulting nodes along with indices for the nodes included.  In other words, in the case of the first iteration when the nodes are equal to the games, we're finding the most similar other game(s) and creating an average new node.  \n",
    "\n",
    "Importantly, there is a parameter for 'tolerance_input' which allows the user to add a distance value to the minimum distance. In cases where the nearest node is identical, this pulls in nodes that are within the distance of the tolerance. Overall, this helps the node centroids get more centered in a larger area."
   ]
  },
  {
   "cell_type": "code",
   "execution_count": 650,
   "metadata": {},
   "outputs": [],
   "source": [
    "def new_noder(node_table_input, node_distance_table_input, node_index, tolerance_input):\n",
    "    '''\n",
    "    inputs: resource_table_input: a table with games in the rows and resources in the columns (mxn)\n",
    "            node_distance_table_input: an array of node distances (mxm)\n",
    "            node_index: an integer value (should range from 0 to m)\n",
    "            tolerance_input: value to be added to the minimum distance to be included in the closest nodes\n",
    "    output: a tuple of a new average node and a list of the nodes averaged together\n",
    "    '''\n",
    "    node_distances = node_distance_table_input[node_index]\n",
    "    min_distance = min(node_distances[1:])+tolerance_input # find the closest node(s) that aren't the primary node\n",
    "    closest_node_indices = np.where(node_distances<=min_distance)[0] # [0] since these are 1-dimensional slices\n",
    "    \n",
    "    # grab the closest nodes and put into a list\n",
    "    closest_nodes = []\n",
    "    for i in range(len(closest_node_indices)):\n",
    "        closest_nodes.append(node_table_input.iloc[closest_node_indices[i]].values)\n",
    "    \n",
    "    # grab primary_node and add to the list of closest_nodes\n",
    "    primary_node = node_table_input.iloc[node_index].values\n",
    "    closest_nodes.append(primary_node)\n",
    "    \n",
    "    # take an average of the primary and closest node(s)\n",
    "    new_node = node_averager(closest_nodes)\n",
    "    \n",
    "    return([new_node,[node_index,closest_node_indices]])\n",
    "    "
   ]
  },
  {
   "cell_type": "markdown",
   "metadata": {},
   "source": [
    "Let's first see the results when the tolerance is 0:"
   ]
  },
  {
   "cell_type": "code",
   "execution_count": 651,
   "metadata": {},
   "outputs": [],
   "source": [
    "# creating a new node for the first node where the tolerance is 0\n",
    "new_node = new_noder(simulated_games, simulated_node_distances, 0, 0)"
   ]
  },
  {
   "cell_type": "code",
   "execution_count": 667,
   "metadata": {
    "scrolled": false
   },
   "outputs": [
    {
     "data": {
      "text/plain": [
       "array([0., 0., 0., 0., 0., 1., 1., 0., 0., 0., 0., 1., 1., 0., 1., 0., 1.,\n",
       "       0., 0., 0.])"
      ]
     },
     "execution_count": 667,
     "metadata": {},
     "output_type": "execute_result"
    }
   ],
   "source": [
    "# average node resource values\n",
    "new_node[0]"
   ]
  },
  {
   "cell_type": "code",
   "execution_count": 666,
   "metadata": {
    "scrolled": true
   },
   "outputs": [
    {
     "data": {
      "text/plain": [
       "True"
      ]
     },
     "execution_count": 666,
     "metadata": {},
     "output_type": "execute_result"
    }
   ],
   "source": [
    "# test to show that the new node is identical to the original when there is 0 tolerance\n",
    "all(new_node[0]==simulated_games.iloc[0,])"
   ]
  },
  {
   "cell_type": "code",
   "execution_count": 655,
   "metadata": {},
   "outputs": [
    {
     "data": {
      "text/plain": [
       "[0, array([ 0,  8, 10, 20, 22])]"
      ]
     },
     "execution_count": 655,
     "metadata": {},
     "output_type": "execute_result"
    }
   ],
   "source": [
    "# average node index followed by the indices of the nodes which qualify for averaging\n",
    "new_node[1]"
   ]
  },
  {
   "cell_type": "markdown",
   "metadata": {},
   "source": [
    "And now, the results when we set the tolerance to 1:"
   ]
  },
  {
   "cell_type": "code",
   "execution_count": 669,
   "metadata": {},
   "outputs": [],
   "source": [
    "# creating a new node for the first node where the tolerance is 0\n",
    "new_node = new_noder(simulated_games, simulated_node_distances, 0, 1)"
   ]
  },
  {
   "cell_type": "code",
   "execution_count": 670,
   "metadata": {},
   "outputs": [
    {
     "data": {
      "text/plain": [
       "array([0.        , 0.        , 0.        , 0.        , 0.        ,\n",
       "       1.        , 1.        , 0.07692308, 0.        , 0.15384615,\n",
       "       0.07692308, 1.        , 0.92307692, 0.        , 1.        ,\n",
       "       0.        , 1.        , 0.07692308, 0.        , 0.07692308])"
      ]
     },
     "execution_count": 670,
     "metadata": {},
     "output_type": "execute_result"
    }
   ],
   "source": [
    "# average node resource values\n",
    "new_node[0]"
   ]
  },
  {
   "cell_type": "code",
   "execution_count": 671,
   "metadata": {},
   "outputs": [
    {
     "data": {
      "text/plain": [
       "False"
      ]
     },
     "execution_count": 671,
     "metadata": {},
     "output_type": "execute_result"
    }
   ],
   "source": [
    "# test to show that the new node is NOT identical to the original when there is 0 tolerance\n",
    "all(new_node[0]==simulated_games.iloc[0,])"
   ]
  },
  {
   "cell_type": "code",
   "execution_count": 672,
   "metadata": {},
   "outputs": [
    {
     "data": {
      "text/plain": [
       "[0, array([ 0,  6,  8, 10, 12, 13, 17, 18, 20, 22, 23, 24])]"
      ]
     },
     "execution_count": 672,
     "metadata": {},
     "output_type": "execute_result"
    }
   ],
   "source": [
    "# average node index followed by the indices of the nodes which qualify for averaging\n",
    "new_node[1]"
   ]
  },
  {
   "cell_type": "markdown",
   "metadata": {},
   "source": [
    "As can be seen, when we set the tolerance to 1, more nodes are included in the average."
   ]
  },
  {
   "cell_type": "markdown",
   "metadata": {},
   "source": [
    " As per the algorithm, we'll want to do this for all nodes before calculating the distances between each of them and removing the closest so we'll make a function to do this and then perform the operation with tolerance = 1."
   ]
  },
  {
   "cell_type": "code",
   "execution_count": 674,
   "metadata": {},
   "outputs": [],
   "source": [
    "def node_updater(node_table_input, node_distance_table_input, tolerance_input = 1):\n",
    "    '''\n",
    "    input: node_table_intput: a dataframe with observations in rows and features in columns with values between 0 and 1\n",
    "           node_distance_table_input: an array of distances between nodes\n",
    "           tolerance_input: value to be added to the minimum distance to be included in the closest nodes\n",
    "    output: a dataframe of the hybrid average-closest nodes\n",
    "    '''\n",
    "    new_resource_list = []\n",
    "    for i in range(len(node_table_input)):\n",
    "        new_resource_list.append(new_noder(node_table_input, node_distance_table_input,i,tolerance_input)[0])\n",
    "    \n",
    "    # convert to dataframe\n",
    "    updated_node_table = pd.DataFrame(np.array(new_resource_list))\n",
    "    \n",
    "    return(updated_node_table)"
   ]
  },
  {
   "cell_type": "code",
   "execution_count": 675,
   "metadata": {},
   "outputs": [],
   "source": [
    "simulated_games_updated_nodes = node_updater(simulated_games, simulated_node_distances,1)"
   ]
  },
  {
   "cell_type": "code",
   "execution_count": 676,
   "metadata": {},
   "outputs": [
    {
     "data": {
      "text/html": [
       "<div>\n",
       "<style scoped>\n",
       "    .dataframe tbody tr th:only-of-type {\n",
       "        vertical-align: middle;\n",
       "    }\n",
       "\n",
       "    .dataframe tbody tr th {\n",
       "        vertical-align: top;\n",
       "    }\n",
       "\n",
       "    .dataframe thead th {\n",
       "        text-align: right;\n",
       "    }\n",
       "</style>\n",
       "<table border=\"1\" class=\"dataframe\">\n",
       "  <thead>\n",
       "    <tr style=\"text-align: right;\">\n",
       "      <th></th>\n",
       "      <th>0</th>\n",
       "      <th>1</th>\n",
       "      <th>2</th>\n",
       "      <th>3</th>\n",
       "      <th>4</th>\n",
       "      <th>5</th>\n",
       "      <th>6</th>\n",
       "      <th>7</th>\n",
       "      <th>8</th>\n",
       "      <th>9</th>\n",
       "      <th>10</th>\n",
       "      <th>11</th>\n",
       "      <th>12</th>\n",
       "      <th>13</th>\n",
       "      <th>14</th>\n",
       "      <th>15</th>\n",
       "      <th>16</th>\n",
       "      <th>17</th>\n",
       "      <th>18</th>\n",
       "      <th>19</th>\n",
       "    </tr>\n",
       "  </thead>\n",
       "  <tbody>\n",
       "    <tr>\n",
       "      <td>0</td>\n",
       "      <td>0.0</td>\n",
       "      <td>0.0</td>\n",
       "      <td>0.0</td>\n",
       "      <td>0.0</td>\n",
       "      <td>0.0</td>\n",
       "      <td>1.0</td>\n",
       "      <td>1.0</td>\n",
       "      <td>0.076923</td>\n",
       "      <td>0.0</td>\n",
       "      <td>0.153846</td>\n",
       "      <td>0.076923</td>\n",
       "      <td>1.0</td>\n",
       "      <td>0.923077</td>\n",
       "      <td>0.0</td>\n",
       "      <td>1.0</td>\n",
       "      <td>0.0</td>\n",
       "      <td>1.0</td>\n",
       "      <td>0.076923</td>\n",
       "      <td>0.000000</td>\n",
       "      <td>0.076923</td>\n",
       "    </tr>\n",
       "    <tr>\n",
       "      <td>1</td>\n",
       "      <td>0.0</td>\n",
       "      <td>0.0</td>\n",
       "      <td>0.0</td>\n",
       "      <td>0.0</td>\n",
       "      <td>0.0</td>\n",
       "      <td>1.0</td>\n",
       "      <td>1.0</td>\n",
       "      <td>0.000000</td>\n",
       "      <td>1.0</td>\n",
       "      <td>0.000000</td>\n",
       "      <td>0.000000</td>\n",
       "      <td>1.0</td>\n",
       "      <td>1.000000</td>\n",
       "      <td>0.0</td>\n",
       "      <td>1.0</td>\n",
       "      <td>1.0</td>\n",
       "      <td>0.0</td>\n",
       "      <td>0.000000</td>\n",
       "      <td>0.000000</td>\n",
       "      <td>0.000000</td>\n",
       "    </tr>\n",
       "    <tr>\n",
       "      <td>2</td>\n",
       "      <td>0.0</td>\n",
       "      <td>0.0</td>\n",
       "      <td>1.0</td>\n",
       "      <td>0.0</td>\n",
       "      <td>0.0</td>\n",
       "      <td>1.0</td>\n",
       "      <td>1.0</td>\n",
       "      <td>0.000000</td>\n",
       "      <td>0.0</td>\n",
       "      <td>0.000000</td>\n",
       "      <td>0.000000</td>\n",
       "      <td>1.0</td>\n",
       "      <td>1.000000</td>\n",
       "      <td>0.0</td>\n",
       "      <td>1.0</td>\n",
       "      <td>0.0</td>\n",
       "      <td>0.0</td>\n",
       "      <td>0.000000</td>\n",
       "      <td>0.000000</td>\n",
       "      <td>0.000000</td>\n",
       "    </tr>\n",
       "    <tr>\n",
       "      <td>3</td>\n",
       "      <td>0.0</td>\n",
       "      <td>0.0</td>\n",
       "      <td>0.0</td>\n",
       "      <td>0.0</td>\n",
       "      <td>0.0</td>\n",
       "      <td>1.0</td>\n",
       "      <td>1.0</td>\n",
       "      <td>0.000000</td>\n",
       "      <td>0.0</td>\n",
       "      <td>0.000000</td>\n",
       "      <td>0.000000</td>\n",
       "      <td>1.0</td>\n",
       "      <td>1.000000</td>\n",
       "      <td>0.0</td>\n",
       "      <td>1.0</td>\n",
       "      <td>0.0</td>\n",
       "      <td>1.0</td>\n",
       "      <td>0.000000</td>\n",
       "      <td>0.666667</td>\n",
       "      <td>1.000000</td>\n",
       "    </tr>\n",
       "    <tr>\n",
       "      <td>4</td>\n",
       "      <td>0.0</td>\n",
       "      <td>0.0</td>\n",
       "      <td>0.0</td>\n",
       "      <td>0.0</td>\n",
       "      <td>1.0</td>\n",
       "      <td>1.0</td>\n",
       "      <td>1.0</td>\n",
       "      <td>1.000000</td>\n",
       "      <td>0.0</td>\n",
       "      <td>0.000000</td>\n",
       "      <td>1.000000</td>\n",
       "      <td>1.0</td>\n",
       "      <td>1.000000</td>\n",
       "      <td>0.0</td>\n",
       "      <td>1.0</td>\n",
       "      <td>0.0</td>\n",
       "      <td>1.0</td>\n",
       "      <td>0.000000</td>\n",
       "      <td>0.000000</td>\n",
       "      <td>0.000000</td>\n",
       "    </tr>\n",
       "    <tr>\n",
       "      <td>...</td>\n",
       "      <td>...</td>\n",
       "      <td>...</td>\n",
       "      <td>...</td>\n",
       "      <td>...</td>\n",
       "      <td>...</td>\n",
       "      <td>...</td>\n",
       "      <td>...</td>\n",
       "      <td>...</td>\n",
       "      <td>...</td>\n",
       "      <td>...</td>\n",
       "      <td>...</td>\n",
       "      <td>...</td>\n",
       "      <td>...</td>\n",
       "      <td>...</td>\n",
       "      <td>...</td>\n",
       "      <td>...</td>\n",
       "      <td>...</td>\n",
       "      <td>...</td>\n",
       "      <td>...</td>\n",
       "      <td>...</td>\n",
       "    </tr>\n",
       "    <tr>\n",
       "      <td>95</td>\n",
       "      <td>1.0</td>\n",
       "      <td>1.0</td>\n",
       "      <td>1.0</td>\n",
       "      <td>1.0</td>\n",
       "      <td>1.0</td>\n",
       "      <td>1.0</td>\n",
       "      <td>1.0</td>\n",
       "      <td>0.923077</td>\n",
       "      <td>1.0</td>\n",
       "      <td>0.153846</td>\n",
       "      <td>0.923077</td>\n",
       "      <td>1.0</td>\n",
       "      <td>0.076923</td>\n",
       "      <td>1.0</td>\n",
       "      <td>1.0</td>\n",
       "      <td>1.0</td>\n",
       "      <td>0.0</td>\n",
       "      <td>0.923077</td>\n",
       "      <td>1.000000</td>\n",
       "      <td>0.923077</td>\n",
       "    </tr>\n",
       "    <tr>\n",
       "      <td>96</td>\n",
       "      <td>1.0</td>\n",
       "      <td>1.0</td>\n",
       "      <td>1.0</td>\n",
       "      <td>1.0</td>\n",
       "      <td>1.0</td>\n",
       "      <td>1.0</td>\n",
       "      <td>1.0</td>\n",
       "      <td>1.000000</td>\n",
       "      <td>1.0</td>\n",
       "      <td>0.000000</td>\n",
       "      <td>1.000000</td>\n",
       "      <td>1.0</td>\n",
       "      <td>0.000000</td>\n",
       "      <td>0.0</td>\n",
       "      <td>1.0</td>\n",
       "      <td>0.0</td>\n",
       "      <td>0.0</td>\n",
       "      <td>1.000000</td>\n",
       "      <td>0.000000</td>\n",
       "      <td>1.000000</td>\n",
       "    </tr>\n",
       "    <tr>\n",
       "      <td>97</td>\n",
       "      <td>1.0</td>\n",
       "      <td>1.0</td>\n",
       "      <td>1.0</td>\n",
       "      <td>1.0</td>\n",
       "      <td>1.0</td>\n",
       "      <td>1.0</td>\n",
       "      <td>1.0</td>\n",
       "      <td>0.923077</td>\n",
       "      <td>1.0</td>\n",
       "      <td>0.153846</td>\n",
       "      <td>0.923077</td>\n",
       "      <td>1.0</td>\n",
       "      <td>0.076923</td>\n",
       "      <td>1.0</td>\n",
       "      <td>1.0</td>\n",
       "      <td>1.0</td>\n",
       "      <td>0.0</td>\n",
       "      <td>0.923077</td>\n",
       "      <td>1.000000</td>\n",
       "      <td>0.923077</td>\n",
       "    </tr>\n",
       "    <tr>\n",
       "      <td>98</td>\n",
       "      <td>1.0</td>\n",
       "      <td>1.0</td>\n",
       "      <td>1.0</td>\n",
       "      <td>1.0</td>\n",
       "      <td>1.0</td>\n",
       "      <td>1.0</td>\n",
       "      <td>1.0</td>\n",
       "      <td>1.000000</td>\n",
       "      <td>1.0</td>\n",
       "      <td>0.000000</td>\n",
       "      <td>1.000000</td>\n",
       "      <td>1.0</td>\n",
       "      <td>0.000000</td>\n",
       "      <td>1.0</td>\n",
       "      <td>1.0</td>\n",
       "      <td>1.0</td>\n",
       "      <td>0.0</td>\n",
       "      <td>1.000000</td>\n",
       "      <td>0.875000</td>\n",
       "      <td>0.625000</td>\n",
       "    </tr>\n",
       "    <tr>\n",
       "      <td>99</td>\n",
       "      <td>1.0</td>\n",
       "      <td>1.0</td>\n",
       "      <td>1.0</td>\n",
       "      <td>1.0</td>\n",
       "      <td>1.0</td>\n",
       "      <td>1.0</td>\n",
       "      <td>1.0</td>\n",
       "      <td>1.000000</td>\n",
       "      <td>1.0</td>\n",
       "      <td>0.000000</td>\n",
       "      <td>1.000000</td>\n",
       "      <td>1.0</td>\n",
       "      <td>0.000000</td>\n",
       "      <td>1.0</td>\n",
       "      <td>1.0</td>\n",
       "      <td>1.0</td>\n",
       "      <td>0.0</td>\n",
       "      <td>0.714286</td>\n",
       "      <td>1.000000</td>\n",
       "      <td>1.000000</td>\n",
       "    </tr>\n",
       "  </tbody>\n",
       "</table>\n",
       "<p>100 rows × 20 columns</p>\n",
       "</div>"
      ],
      "text/plain": [
       "      0    1    2    3    4    5    6         7    8         9        10   11  \\\n",
       "0   0.0  0.0  0.0  0.0  0.0  1.0  1.0  0.076923  0.0  0.153846  0.076923  1.0   \n",
       "1   0.0  0.0  0.0  0.0  0.0  1.0  1.0  0.000000  1.0  0.000000  0.000000  1.0   \n",
       "2   0.0  0.0  1.0  0.0  0.0  1.0  1.0  0.000000  0.0  0.000000  0.000000  1.0   \n",
       "3   0.0  0.0  0.0  0.0  0.0  1.0  1.0  0.000000  0.0  0.000000  0.000000  1.0   \n",
       "4   0.0  0.0  0.0  0.0  1.0  1.0  1.0  1.000000  0.0  0.000000  1.000000  1.0   \n",
       "..  ...  ...  ...  ...  ...  ...  ...       ...  ...       ...       ...  ...   \n",
       "95  1.0  1.0  1.0  1.0  1.0  1.0  1.0  0.923077  1.0  0.153846  0.923077  1.0   \n",
       "96  1.0  1.0  1.0  1.0  1.0  1.0  1.0  1.000000  1.0  0.000000  1.000000  1.0   \n",
       "97  1.0  1.0  1.0  1.0  1.0  1.0  1.0  0.923077  1.0  0.153846  0.923077  1.0   \n",
       "98  1.0  1.0  1.0  1.0  1.0  1.0  1.0  1.000000  1.0  0.000000  1.000000  1.0   \n",
       "99  1.0  1.0  1.0  1.0  1.0  1.0  1.0  1.000000  1.0  0.000000  1.000000  1.0   \n",
       "\n",
       "          12   13   14   15   16        17        18        19  \n",
       "0   0.923077  0.0  1.0  0.0  1.0  0.076923  0.000000  0.076923  \n",
       "1   1.000000  0.0  1.0  1.0  0.0  0.000000  0.000000  0.000000  \n",
       "2   1.000000  0.0  1.0  0.0  0.0  0.000000  0.000000  0.000000  \n",
       "3   1.000000  0.0  1.0  0.0  1.0  0.000000  0.666667  1.000000  \n",
       "4   1.000000  0.0  1.0  0.0  1.0  0.000000  0.000000  0.000000  \n",
       "..       ...  ...  ...  ...  ...       ...       ...       ...  \n",
       "95  0.076923  1.0  1.0  1.0  0.0  0.923077  1.000000  0.923077  \n",
       "96  0.000000  0.0  1.0  0.0  0.0  1.000000  0.000000  1.000000  \n",
       "97  0.076923  1.0  1.0  1.0  0.0  0.923077  1.000000  0.923077  \n",
       "98  0.000000  1.0  1.0  1.0  0.0  1.000000  0.875000  0.625000  \n",
       "99  0.000000  1.0  1.0  1.0  0.0  0.714286  1.000000  1.000000  \n",
       "\n",
       "[100 rows x 20 columns]"
      ]
     },
     "execution_count": 676,
     "metadata": {},
     "output_type": "execute_result"
    }
   ],
   "source": [
    "simulated_games_updated_nodes"
   ]
  },
  {
   "cell_type": "markdown",
   "metadata": {},
   "source": [
    "With the updated-nodes at this iteration complete, we're on to the next step."
   ]
  },
  {
   "cell_type": "markdown",
   "metadata": {},
   "source": [
    "#### 2C. For each updated node, calculate the distances to all other merged nodes and the min and max distances per updated node.  \n",
    "\n",
    "We can start by simply using the node_distancer function on the hybrid nodes in 'simulated_games_updated_nodes'."
   ]
  },
  {
   "cell_type": "code",
   "execution_count": 677,
   "metadata": {},
   "outputs": [],
   "source": [
    "node_distance_table_updated_nodes = node_distancer(simulated_games_updated_nodes)"
   ]
  },
  {
   "cell_type": "code",
   "execution_count": 678,
   "metadata": {},
   "outputs": [
    {
     "data": {
      "text/plain": [
       "array([ 0.        ,  3.53846154,  2.53846154,  2.05128205,  3.23076923,\n",
       "        5.38461538,  0.67032967,  4.23076923,  0.        ,  4.38461538,\n",
       "        0.        ,  2.53846154,  0.60576923,  0.60576923,  2.53846154,\n",
       "        3.53846154,  4.38461538,  0.67032967,  0.67032967,  3.53846154,\n",
       "        0.        ,  3.53846154,  0.        ,  0.88461538,  0.67032967,\n",
       "        6.84615385,  8.38461538,  9.38461538,  8.8974359 ,  8.07692308,\n",
       "        8.23076923,  7.0989011 ,  7.07692308,  6.84615385,  9.23076923,\n",
       "        6.84615385,  7.38461538,  7.45192308,  7.45192308,  7.38461538,\n",
       "        8.38461538,  9.23076923,  7.51648352,  7.51648352,  4.38461538,\n",
       "        6.84615385,  6.38461538,  6.84615385,  7.73076923,  7.51648352,\n",
       "       10.53846154,  8.07692308, 11.07692308, 10.8974359 , 11.76923077,\n",
       "       11.92307692, 10.79120879, 10.76923077, 10.53846154,  9.23076923,\n",
       "       10.53846154,  9.07692308, 11.14423077, 11.14423077, 11.07692308,\n",
       "       10.07692308,  9.23076923, 11.20879121, 11.20879121, 12.07692308,\n",
       "       10.53846154, 10.07692308, 10.53846154, 10.82692308, 10.79120879,\n",
       "       14.23076923, 11.76923077, 12.76923077, 13.25641026, 12.07692308,\n",
       "        9.92307692, 14.48351648, 14.46153846, 14.23076923, 12.92307692,\n",
       "       14.23076923, 12.76923077, 14.83653846, 14.83653846, 14.76923077,\n",
       "       13.76923077, 12.92307692, 14.48351648, 14.48351648, 13.76923077,\n",
       "       14.23076923, 11.76923077, 14.23076923, 14.26923077, 14.48351648])"
      ]
     },
     "execution_count": 678,
     "metadata": {},
     "output_type": "execute_result"
    }
   ],
   "source": [
    "# taking a look at the distances between the first updated node and every other updated node:\n",
    "node_distance_table_updated_nodes[0]"
   ]
  },
  {
   "cell_type": "markdown",
   "metadata": {},
   "source": [
    "Next, we calculate the min and max distances:"
   ]
  },
  {
   "cell_type": "code",
   "execution_count": 681,
   "metadata": {},
   "outputs": [
    {
     "data": {
      "text/plain": [
       "0.7857142857142857"
      ]
     },
     "execution_count": 681,
     "metadata": {},
     "output_type": "execute_result"
    }
   ],
   "source": [
    "# calculate the minimum, but without include the distance to itself\n",
    "min(node_distance_table_updated_nodes[i][[s for s in list(range(len(node_distance_table_updated_nodes[i]))) if s != i]])"
   ]
  },
  {
   "cell_type": "code",
   "execution_count": 682,
   "metadata": {},
   "outputs": [
    {
     "data": {
      "text/plain": [
       "14.875"
      ]
     },
     "execution_count": 682,
     "metadata": {},
     "output_type": "execute_result"
    }
   ],
   "source": [
    "max(node_distance_table_updated_nodes[i])"
   ]
  },
  {
   "cell_type": "markdown",
   "metadata": {},
   "source": [
    "It looks like the 0th node has a min distance of 0.79 (excluding the distance to itself) and a max distance of 14.9.  What we want to know is which nodes share the minimum distance, be it 0.79 or something smaller, then, of those, remove the node with the smallest maximum distance.  In order to do this, we'll create a function which returns those min and max values."
   ]
  },
  {
   "cell_type": "code",
   "execution_count": 683,
   "metadata": {},
   "outputs": [],
   "source": [
    "def node_distance_min_maxer(node_distance_table_input):\n",
    "    '''\n",
    "    input: node_distance_table_input: mxm array of distances between nodes\n",
    "    output: list of lists containing the minimum and maximum distances per node\n",
    "    '''\n",
    "    node_min_maxs= []\n",
    "    for i in range(len(node_distance_table_input)):\n",
    "        node_min = min(node_distance_table_input[i][[s for s in list(range(len(node_distance_table_input[i]))) \\\n",
    "                                                     if s != i]])\n",
    "        node_max = max(node_distance_table_input[i])\n",
    "        node_min_maxs.append([node_min, node_max])\n",
    "    return(node_min_maxs)"
   ]
  },
  {
   "cell_type": "code",
   "execution_count": 684,
   "metadata": {},
   "outputs": [],
   "source": [
    "node_distance_min_max_updated_nodes = node_distance_min_maxer(node_distance_table_updated_nodes)"
   ]
  },
  {
   "cell_type": "code",
   "execution_count": 685,
   "metadata": {},
   "outputs": [
    {
     "data": {
      "text/plain": [
       "[[0.0, 14.836538461538462],\n",
       " [3.0, 16.0],\n",
       " [2.0, 15.0],\n",
       " [1.1666666666666665, 14.333333333333334],\n",
       " [2.7142857142857144, 15.0],\n",
       " [4.0, 15.0],\n",
       " [0.5714285714285714, 15.089285714285714],\n",
       " [2.0, 16.0],\n",
       " [0.0, 14.836538461538462],\n",
       " [3.0, 15.0]]"
      ]
     },
     "execution_count": 685,
     "metadata": {},
     "output_type": "execute_result"
    }
   ],
   "source": [
    "# preview of min/max distances\n",
    "node_distance_min_max_updated_nodes[0:10]"
   ]
  },
  {
   "cell_type": "markdown",
   "metadata": {},
   "source": [
    "The first value in each list is the min and the second is the max.  \n",
    "\n",
    "Now, we need a way to subset to which node has the min first value and the minimum-max (minmax) second:"
   ]
  },
  {
   "cell_type": "code",
   "execution_count": 686,
   "metadata": {},
   "outputs": [],
   "source": [
    "# function to pull the nth element from a list used for getting min and minmax distances:\n",
    "def extract_nth(list_input, n): \n",
    "    return [element[n] for element in list_input] "
   ]
  },
  {
   "cell_type": "code",
   "execution_count": 687,
   "metadata": {},
   "outputs": [],
   "source": [
    "min_distance = min(extract_nth(node_distance_min_max_updated_nodes,0))"
   ]
  },
  {
   "cell_type": "code",
   "execution_count": 688,
   "metadata": {},
   "outputs": [
    {
     "data": {
      "text/plain": [
       "0.0"
      ]
     },
     "execution_count": 688,
     "metadata": {},
     "output_type": "execute_result"
    }
   ],
   "source": [
    "min_distance"
   ]
  },
  {
   "cell_type": "markdown",
   "metadata": {},
   "source": [
    "#### 2D. For each min and max distance, add a weighted user-defined tolerance distance percent where the weight is relative to k such that weight = k/m\n",
    "\n",
    "After testing with larger datasets, it became apparent that I'll want to establish a distance_tolerance_pct, which is a percent to add to the min and minmax distances in an effort to capture more nodes to be removed.  This is important because the computation is pretty intense and when we're dealing with thousands of observations/features where we're expecting a relatively small number of clusters, we aren't concerned with the clusters created for the large n or large m so the faster we can reduce while not losing the integrity of the reduction, the better."
   ]
  },
  {
   "cell_type": "code",
   "execution_count": 689,
   "metadata": {},
   "outputs": [],
   "source": [
    "distance_tolerance_pct = 0 # testing with 0, then we'll increase to see the effect"
   ]
  },
  {
   "cell_type": "code",
   "execution_count": 690,
   "metadata": {},
   "outputs": [],
   "source": [
    "min_distance = min_distance * (1 + distance_tolerance_pct)"
   ]
  },
  {
   "cell_type": "code",
   "execution_count": 691,
   "metadata": {},
   "outputs": [
    {
     "data": {
      "text/plain": [
       "0.0"
      ]
     },
     "execution_count": 691,
     "metadata": {},
     "output_type": "execute_result"
    }
   ],
   "source": [
    "min_distance"
   ]
  },
  {
   "cell_type": "code",
   "execution_count": 692,
   "metadata": {},
   "outputs": [],
   "source": [
    "# determine the indices which are less than or equal to the min distance * (1 + tolerance)\n",
    "node_min_indices = np.where(extract_nth(node_distance_min_max_updated_nodes,0)<=min_distance)[0]"
   ]
  },
  {
   "cell_type": "code",
   "execution_count": 693,
   "metadata": {},
   "outputs": [
    {
     "data": {
      "text/plain": [
       "array([ 0,  8, 10, 12, 13, 20, 22, 25, 33, 35, 37, 38, 45, 47, 50, 58, 60,\n",
       "       62, 63, 70, 72, 75, 83, 85, 87, 88, 95, 97])"
      ]
     },
     "execution_count": 693,
     "metadata": {},
     "output_type": "execute_result"
    }
   ],
   "source": [
    "node_min_indices"
   ]
  },
  {
   "cell_type": "code",
   "execution_count": 694,
   "metadata": {},
   "outputs": [],
   "source": [
    "min_distance_node_distances = [node_distance_min_max_updated_nodes[i] for i in node_min_indices]"
   ]
  },
  {
   "cell_type": "code",
   "execution_count": 695,
   "metadata": {},
   "outputs": [
    {
     "data": {
      "text/plain": [
       "[[0.0, 14.836538461538462],\n",
       " [0.0, 14.836538461538462],\n",
       " [0.0, 14.836538461538462],\n",
       " [0.0, 15.375],\n",
       " [0.0, 15.375],\n",
       " [0.0, 14.836538461538462],\n",
       " [0.0, 14.836538461538462],\n",
       " [0.0, 13.23076923076923],\n",
       " [0.0, 13.23076923076923],\n",
       " [0.0, 13.23076923076923],\n",
       " [0.0, 13.375],\n",
       " [0.0, 13.375],\n",
       " [0.0, 13.23076923076923],\n",
       " [0.0, 13.23076923076923],\n",
       " [0.0, 13.23076923076923],\n",
       " [0.0, 13.23076923076923],\n",
       " [0.0, 13.23076923076923],\n",
       " [0.0, 13.375],\n",
       " [0.0, 13.375],\n",
       " [0.0, 13.23076923076923],\n",
       " [0.0, 13.23076923076923],\n",
       " [0.0, 14.836538461538462],\n",
       " [0.0, 14.836538461538462],\n",
       " [0.0, 14.836538461538462],\n",
       " [0.0, 15.375],\n",
       " [0.0, 15.375],\n",
       " [0.0, 14.836538461538462],\n",
       " [0.0, 14.836538461538462]]"
      ]
     },
     "execution_count": 695,
     "metadata": {},
     "output_type": "execute_result"
    }
   ],
   "source": [
    "# preview of the min and max distances for which the node shares the minimum distance to the other nodes\n",
    "min_distance_node_distances"
   ]
  },
  {
   "cell_type": "markdown",
   "metadata": {},
   "source": [
    "This is a list of lists which contain the min and max distance to the nodes where they all share the same minimum value. What we want is to know which of these is the smallest maximum distance.  This will reveal the nodes that are the least 'interesting' for clustering, which can be dropped for the next iteration."
   ]
  },
  {
   "cell_type": "code",
   "execution_count": 696,
   "metadata": {
    "scrolled": true
   },
   "outputs": [],
   "source": [
    "minmax_distance = min(extract_nth(min_distance_node_distances,1))"
   ]
  },
  {
   "cell_type": "code",
   "execution_count": 697,
   "metadata": {},
   "outputs": [
    {
     "data": {
      "text/plain": [
       "13.23076923076923"
      ]
     },
     "execution_count": 697,
     "metadata": {},
     "output_type": "execute_result"
    }
   ],
   "source": [
    "# the minimum-max distance between nodes which share the minimum distance\n",
    "minmax_distance"
   ]
  },
  {
   "cell_type": "markdown",
   "metadata": {},
   "source": [
    "As with the min distance, we'll add the tolerance pct to the upper bound as well (0 in the case of this first test):"
   ]
  },
  {
   "cell_type": "code",
   "execution_count": 698,
   "metadata": {},
   "outputs": [],
   "source": [
    "minmax_distance = minmax_distance * (1 + distance_tolerance_pct)"
   ]
  },
  {
   "cell_type": "code",
   "execution_count": 699,
   "metadata": {},
   "outputs": [
    {
     "data": {
      "text/plain": [
       "13.23076923076923"
      ]
     },
     "execution_count": 699,
     "metadata": {},
     "output_type": "execute_result"
    }
   ],
   "source": [
    "minmax_distance"
   ]
  },
  {
   "cell_type": "markdown",
   "metadata": {},
   "source": [
    "Finally, we have the min and minmax distance conditions for which to subset:"
   ]
  },
  {
   "cell_type": "code",
   "execution_count": 700,
   "metadata": {},
   "outputs": [],
   "source": [
    "node_removal_distances = np.asarray([min_distance, minmax_distance])"
   ]
  },
  {
   "cell_type": "code",
   "execution_count": 701,
   "metadata": {},
   "outputs": [
    {
     "data": {
      "text/plain": [
       "array([ 0.        , 13.23076923])"
      ]
     },
     "execution_count": 701,
     "metadata": {},
     "output_type": "execute_result"
    }
   ],
   "source": [
    "node_removal_distances"
   ]
  },
  {
   "cell_type": "markdown",
   "metadata": {},
   "source": [
    "We can see several nodes tied at [0, 13.23].  This being the case, we should remove those nodes from simulated_games_updated_nodes and repeat the process. This will make it so that we're not stepping down from k=m to k=2 one-step-at-a-time.  Instead, k will drop by however many nodes meet the min and minmax criteria.  \n",
    "\n",
    "Now that we know which values we're looking for, we'll grab the indices for removal in the next step."
   ]
  },
  {
   "cell_type": "code",
   "execution_count": 702,
   "metadata": {},
   "outputs": [],
   "source": [
    "node_removal_indices = np.where((extract_nth(node_distance_min_max_updated_nodes,0)<=node_removal_distances[0]) &\\\n",
    "                                (extract_nth(node_distance_min_max_updated_nodes,1)<=node_removal_distances[1]))[0]"
   ]
  },
  {
   "cell_type": "code",
   "execution_count": 703,
   "metadata": {},
   "outputs": [
    {
     "data": {
      "text/plain": [
       "[25, 33, 35, 45, 47, 50, 58, 60, 70, 72]"
      ]
     },
     "execution_count": 703,
     "metadata": {},
     "output_type": "execute_result"
    }
   ],
   "source": [
    "# node indices to be removed\n",
    "node_removal_indices.tolist()"
   ]
  },
  {
   "cell_type": "code",
   "execution_count": 704,
   "metadata": {
    "scrolled": true
   },
   "outputs": [
    {
     "data": {
      "text/plain": [
       "[[0.0, 13.23076923076923],\n",
       " [0.0, 13.23076923076923],\n",
       " [0.0, 13.23076923076923],\n",
       " [0.0, 13.23076923076923],\n",
       " [0.0, 13.23076923076923],\n",
       " [0.0, 13.23076923076923],\n",
       " [0.0, 13.23076923076923],\n",
       " [0.0, 13.23076923076923],\n",
       " [0.0, 13.23076923076923],\n",
       " [0.0, 13.23076923076923]]"
      ]
     },
     "execution_count": 704,
     "metadata": {},
     "output_type": "execute_result"
    }
   ],
   "source": [
    "# nodes to be removed share the following values for min and minmax distances:\n",
    "[node_distance_min_max_updated_nodes[i] for i in node_removal_indices.tolist()]"
   ]
  },
  {
   "cell_type": "markdown",
   "metadata": {},
   "source": [
    "#### 2E. Drop the node(s) for which the min distance is smaller than or equal to the min distance + tolerance and, of those, the max distance is the smaller than the max distance + tolerance "
   ]
  },
  {
   "cell_type": "code",
   "execution_count": 707,
   "metadata": {},
   "outputs": [],
   "source": [
    "simulated_games_post_drop = simulated_games_updated_nodes.drop(node_removal_indices)"
   ]
  },
  {
   "cell_type": "code",
   "execution_count": 710,
   "metadata": {},
   "outputs": [
    {
     "data": {
      "text/plain": [
       "(90, 20)"
      ]
     },
     "execution_count": 710,
     "metadata": {},
     "output_type": "execute_result"
    }
   ],
   "source": [
    "simulated_games_post_drop.shape"
   ]
  },
  {
   "cell_type": "code",
   "execution_count": 708,
   "metadata": {
    "scrolled": true
   },
   "outputs": [
    {
     "data": {
      "text/html": [
       "<div>\n",
       "<style scoped>\n",
       "    .dataframe tbody tr th:only-of-type {\n",
       "        vertical-align: middle;\n",
       "    }\n",
       "\n",
       "    .dataframe tbody tr th {\n",
       "        vertical-align: top;\n",
       "    }\n",
       "\n",
       "    .dataframe thead th {\n",
       "        text-align: right;\n",
       "    }\n",
       "</style>\n",
       "<table border=\"1\" class=\"dataframe\">\n",
       "  <thead>\n",
       "    <tr style=\"text-align: right;\">\n",
       "      <th></th>\n",
       "      <th>0</th>\n",
       "      <th>1</th>\n",
       "      <th>2</th>\n",
       "      <th>3</th>\n",
       "      <th>4</th>\n",
       "      <th>5</th>\n",
       "      <th>6</th>\n",
       "      <th>7</th>\n",
       "      <th>8</th>\n",
       "      <th>9</th>\n",
       "      <th>10</th>\n",
       "      <th>11</th>\n",
       "      <th>12</th>\n",
       "      <th>13</th>\n",
       "      <th>14</th>\n",
       "      <th>15</th>\n",
       "      <th>16</th>\n",
       "      <th>17</th>\n",
       "      <th>18</th>\n",
       "      <th>19</th>\n",
       "    </tr>\n",
       "  </thead>\n",
       "  <tbody>\n",
       "    <tr>\n",
       "      <td>0</td>\n",
       "      <td>0.0</td>\n",
       "      <td>0.0</td>\n",
       "      <td>0.0</td>\n",
       "      <td>0.0</td>\n",
       "      <td>0.0</td>\n",
       "      <td>1.0</td>\n",
       "      <td>1.0</td>\n",
       "      <td>0.076923</td>\n",
       "      <td>0.0</td>\n",
       "      <td>0.153846</td>\n",
       "      <td>0.076923</td>\n",
       "      <td>1.0</td>\n",
       "      <td>0.923077</td>\n",
       "      <td>0.0</td>\n",
       "      <td>1.0</td>\n",
       "      <td>0.0</td>\n",
       "      <td>1.0</td>\n",
       "      <td>0.076923</td>\n",
       "      <td>0.000000</td>\n",
       "      <td>0.076923</td>\n",
       "    </tr>\n",
       "    <tr>\n",
       "      <td>1</td>\n",
       "      <td>0.0</td>\n",
       "      <td>0.0</td>\n",
       "      <td>0.0</td>\n",
       "      <td>0.0</td>\n",
       "      <td>0.0</td>\n",
       "      <td>1.0</td>\n",
       "      <td>1.0</td>\n",
       "      <td>0.000000</td>\n",
       "      <td>1.0</td>\n",
       "      <td>0.000000</td>\n",
       "      <td>0.000000</td>\n",
       "      <td>1.0</td>\n",
       "      <td>1.000000</td>\n",
       "      <td>0.0</td>\n",
       "      <td>1.0</td>\n",
       "      <td>1.0</td>\n",
       "      <td>0.0</td>\n",
       "      <td>0.000000</td>\n",
       "      <td>0.000000</td>\n",
       "      <td>0.000000</td>\n",
       "    </tr>\n",
       "    <tr>\n",
       "      <td>2</td>\n",
       "      <td>0.0</td>\n",
       "      <td>0.0</td>\n",
       "      <td>1.0</td>\n",
       "      <td>0.0</td>\n",
       "      <td>0.0</td>\n",
       "      <td>1.0</td>\n",
       "      <td>1.0</td>\n",
       "      <td>0.000000</td>\n",
       "      <td>0.0</td>\n",
       "      <td>0.000000</td>\n",
       "      <td>0.000000</td>\n",
       "      <td>1.0</td>\n",
       "      <td>1.000000</td>\n",
       "      <td>0.0</td>\n",
       "      <td>1.0</td>\n",
       "      <td>0.0</td>\n",
       "      <td>0.0</td>\n",
       "      <td>0.000000</td>\n",
       "      <td>0.000000</td>\n",
       "      <td>0.000000</td>\n",
       "    </tr>\n",
       "    <tr>\n",
       "      <td>3</td>\n",
       "      <td>0.0</td>\n",
       "      <td>0.0</td>\n",
       "      <td>0.0</td>\n",
       "      <td>0.0</td>\n",
       "      <td>0.0</td>\n",
       "      <td>1.0</td>\n",
       "      <td>1.0</td>\n",
       "      <td>0.000000</td>\n",
       "      <td>0.0</td>\n",
       "      <td>0.000000</td>\n",
       "      <td>0.000000</td>\n",
       "      <td>1.0</td>\n",
       "      <td>1.000000</td>\n",
       "      <td>0.0</td>\n",
       "      <td>1.0</td>\n",
       "      <td>0.0</td>\n",
       "      <td>1.0</td>\n",
       "      <td>0.000000</td>\n",
       "      <td>0.666667</td>\n",
       "      <td>1.000000</td>\n",
       "    </tr>\n",
       "    <tr>\n",
       "      <td>4</td>\n",
       "      <td>0.0</td>\n",
       "      <td>0.0</td>\n",
       "      <td>0.0</td>\n",
       "      <td>0.0</td>\n",
       "      <td>1.0</td>\n",
       "      <td>1.0</td>\n",
       "      <td>1.0</td>\n",
       "      <td>1.000000</td>\n",
       "      <td>0.0</td>\n",
       "      <td>0.000000</td>\n",
       "      <td>1.000000</td>\n",
       "      <td>1.0</td>\n",
       "      <td>1.000000</td>\n",
       "      <td>0.0</td>\n",
       "      <td>1.0</td>\n",
       "      <td>0.0</td>\n",
       "      <td>1.0</td>\n",
       "      <td>0.000000</td>\n",
       "      <td>0.000000</td>\n",
       "      <td>0.000000</td>\n",
       "    </tr>\n",
       "    <tr>\n",
       "      <td>...</td>\n",
       "      <td>...</td>\n",
       "      <td>...</td>\n",
       "      <td>...</td>\n",
       "      <td>...</td>\n",
       "      <td>...</td>\n",
       "      <td>...</td>\n",
       "      <td>...</td>\n",
       "      <td>...</td>\n",
       "      <td>...</td>\n",
       "      <td>...</td>\n",
       "      <td>...</td>\n",
       "      <td>...</td>\n",
       "      <td>...</td>\n",
       "      <td>...</td>\n",
       "      <td>...</td>\n",
       "      <td>...</td>\n",
       "      <td>...</td>\n",
       "      <td>...</td>\n",
       "      <td>...</td>\n",
       "      <td>...</td>\n",
       "    </tr>\n",
       "    <tr>\n",
       "      <td>95</td>\n",
       "      <td>1.0</td>\n",
       "      <td>1.0</td>\n",
       "      <td>1.0</td>\n",
       "      <td>1.0</td>\n",
       "      <td>1.0</td>\n",
       "      <td>1.0</td>\n",
       "      <td>1.0</td>\n",
       "      <td>0.923077</td>\n",
       "      <td>1.0</td>\n",
       "      <td>0.153846</td>\n",
       "      <td>0.923077</td>\n",
       "      <td>1.0</td>\n",
       "      <td>0.076923</td>\n",
       "      <td>1.0</td>\n",
       "      <td>1.0</td>\n",
       "      <td>1.0</td>\n",
       "      <td>0.0</td>\n",
       "      <td>0.923077</td>\n",
       "      <td>1.000000</td>\n",
       "      <td>0.923077</td>\n",
       "    </tr>\n",
       "    <tr>\n",
       "      <td>96</td>\n",
       "      <td>1.0</td>\n",
       "      <td>1.0</td>\n",
       "      <td>1.0</td>\n",
       "      <td>1.0</td>\n",
       "      <td>1.0</td>\n",
       "      <td>1.0</td>\n",
       "      <td>1.0</td>\n",
       "      <td>1.000000</td>\n",
       "      <td>1.0</td>\n",
       "      <td>0.000000</td>\n",
       "      <td>1.000000</td>\n",
       "      <td>1.0</td>\n",
       "      <td>0.000000</td>\n",
       "      <td>0.0</td>\n",
       "      <td>1.0</td>\n",
       "      <td>0.0</td>\n",
       "      <td>0.0</td>\n",
       "      <td>1.000000</td>\n",
       "      <td>0.000000</td>\n",
       "      <td>1.000000</td>\n",
       "    </tr>\n",
       "    <tr>\n",
       "      <td>97</td>\n",
       "      <td>1.0</td>\n",
       "      <td>1.0</td>\n",
       "      <td>1.0</td>\n",
       "      <td>1.0</td>\n",
       "      <td>1.0</td>\n",
       "      <td>1.0</td>\n",
       "      <td>1.0</td>\n",
       "      <td>0.923077</td>\n",
       "      <td>1.0</td>\n",
       "      <td>0.153846</td>\n",
       "      <td>0.923077</td>\n",
       "      <td>1.0</td>\n",
       "      <td>0.076923</td>\n",
       "      <td>1.0</td>\n",
       "      <td>1.0</td>\n",
       "      <td>1.0</td>\n",
       "      <td>0.0</td>\n",
       "      <td>0.923077</td>\n",
       "      <td>1.000000</td>\n",
       "      <td>0.923077</td>\n",
       "    </tr>\n",
       "    <tr>\n",
       "      <td>98</td>\n",
       "      <td>1.0</td>\n",
       "      <td>1.0</td>\n",
       "      <td>1.0</td>\n",
       "      <td>1.0</td>\n",
       "      <td>1.0</td>\n",
       "      <td>1.0</td>\n",
       "      <td>1.0</td>\n",
       "      <td>1.000000</td>\n",
       "      <td>1.0</td>\n",
       "      <td>0.000000</td>\n",
       "      <td>1.000000</td>\n",
       "      <td>1.0</td>\n",
       "      <td>0.000000</td>\n",
       "      <td>1.0</td>\n",
       "      <td>1.0</td>\n",
       "      <td>1.0</td>\n",
       "      <td>0.0</td>\n",
       "      <td>1.000000</td>\n",
       "      <td>0.875000</td>\n",
       "      <td>0.625000</td>\n",
       "    </tr>\n",
       "    <tr>\n",
       "      <td>99</td>\n",
       "      <td>1.0</td>\n",
       "      <td>1.0</td>\n",
       "      <td>1.0</td>\n",
       "      <td>1.0</td>\n",
       "      <td>1.0</td>\n",
       "      <td>1.0</td>\n",
       "      <td>1.0</td>\n",
       "      <td>1.000000</td>\n",
       "      <td>1.0</td>\n",
       "      <td>0.000000</td>\n",
       "      <td>1.000000</td>\n",
       "      <td>1.0</td>\n",
       "      <td>0.000000</td>\n",
       "      <td>1.0</td>\n",
       "      <td>1.0</td>\n",
       "      <td>1.0</td>\n",
       "      <td>0.0</td>\n",
       "      <td>0.714286</td>\n",
       "      <td>1.000000</td>\n",
       "      <td>1.000000</td>\n",
       "    </tr>\n",
       "  </tbody>\n",
       "</table>\n",
       "<p>90 rows × 20 columns</p>\n",
       "</div>"
      ],
      "text/plain": [
       "      0    1    2    3    4    5    6         7    8         9        10   11  \\\n",
       "0   0.0  0.0  0.0  0.0  0.0  1.0  1.0  0.076923  0.0  0.153846  0.076923  1.0   \n",
       "1   0.0  0.0  0.0  0.0  0.0  1.0  1.0  0.000000  1.0  0.000000  0.000000  1.0   \n",
       "2   0.0  0.0  1.0  0.0  0.0  1.0  1.0  0.000000  0.0  0.000000  0.000000  1.0   \n",
       "3   0.0  0.0  0.0  0.0  0.0  1.0  1.0  0.000000  0.0  0.000000  0.000000  1.0   \n",
       "4   0.0  0.0  0.0  0.0  1.0  1.0  1.0  1.000000  0.0  0.000000  1.000000  1.0   \n",
       "..  ...  ...  ...  ...  ...  ...  ...       ...  ...       ...       ...  ...   \n",
       "95  1.0  1.0  1.0  1.0  1.0  1.0  1.0  0.923077  1.0  0.153846  0.923077  1.0   \n",
       "96  1.0  1.0  1.0  1.0  1.0  1.0  1.0  1.000000  1.0  0.000000  1.000000  1.0   \n",
       "97  1.0  1.0  1.0  1.0  1.0  1.0  1.0  0.923077  1.0  0.153846  0.923077  1.0   \n",
       "98  1.0  1.0  1.0  1.0  1.0  1.0  1.0  1.000000  1.0  0.000000  1.000000  1.0   \n",
       "99  1.0  1.0  1.0  1.0  1.0  1.0  1.0  1.000000  1.0  0.000000  1.000000  1.0   \n",
       "\n",
       "          12   13   14   15   16        17        18        19  \n",
       "0   0.923077  0.0  1.0  0.0  1.0  0.076923  0.000000  0.076923  \n",
       "1   1.000000  0.0  1.0  1.0  0.0  0.000000  0.000000  0.000000  \n",
       "2   1.000000  0.0  1.0  0.0  0.0  0.000000  0.000000  0.000000  \n",
       "3   1.000000  0.0  1.0  0.0  1.0  0.000000  0.666667  1.000000  \n",
       "4   1.000000  0.0  1.0  0.0  1.0  0.000000  0.000000  0.000000  \n",
       "..       ...  ...  ...  ...  ...       ...       ...       ...  \n",
       "95  0.076923  1.0  1.0  1.0  0.0  0.923077  1.000000  0.923077  \n",
       "96  0.000000  0.0  1.0  0.0  0.0  1.000000  0.000000  1.000000  \n",
       "97  0.076923  1.0  1.0  1.0  0.0  0.923077  1.000000  0.923077  \n",
       "98  0.000000  1.0  1.0  1.0  0.0  1.000000  0.875000  0.625000  \n",
       "99  0.000000  1.0  1.0  1.0  0.0  0.714286  1.000000  1.000000  \n",
       "\n",
       "[90 rows x 20 columns]"
      ]
     },
     "execution_count": 708,
     "metadata": {},
     "output_type": "execute_result"
    }
   ],
   "source": [
    "simulated_games_post_drop"
   ]
  },
  {
   "cell_type": "markdown",
   "metadata": {},
   "source": [
    "In total, with 0 tolerance, we dropped 10 nodes which are within the min and minmax are smallest.  We'll want a function to do all these steps automatically:"
   ]
  },
  {
   "cell_type": "code",
   "execution_count": 711,
   "metadata": {},
   "outputs": [],
   "source": [
    "def drop_closest_nodes(node_table_input, node_minmax_distances, distance_tolerance_pct = 0):\n",
    "    '''\n",
    "    input: node_table_input: table with observations in rows, features in columns, and binary values\n",
    "           mode_minmax_distance: list of lists containing the min and max values to every other node\n",
    "           distance_tolerance: for larger datasets, it may be reasonable to drop more than just the nearest nodes\n",
    "               such that k is reduced more quickly in the beginning. This value is the percent to be added to the \n",
    "               min/max values used to calculate which nodes to drop\n",
    "    output: reduced_node_table: equal to node_table_input without the closest nodes\n",
    "    '''\n",
    "    # calculate the min distance of the first element in each of the min/max lists\n",
    "    min_distance = min(extract_nth(node_minmax_distances,0)) + distance_tolerance_pct\n",
    "    \n",
    "    # add the distance_tolerance_pct to the min_distance\n",
    "    min_distance = min_distance * (1 + distance_tolerance_pct)\n",
    "    \n",
    "    # calculate indices of the nodes which contain the minimum\n",
    "    node_min_indices = np.where(extract_nth(node_minmax_distances,0)<=min_distance)[0]\n",
    "    \n",
    "    # generate a list of min/max distances for the nodes which contain the min distance\n",
    "    min_distance_node_distances = [node_minmax_distances[i] for i in node_min_indices]\n",
    "    \n",
    "    # of those distances, calculate the minimum max distance (the second element in the distance lists)\n",
    "    minmax_distance = min(extract_nth(min_distance_node_distances,1))\n",
    "    \n",
    "    # add the distance_tolerance_pct to the minmax_distance\n",
    "    minmax_distance = minmax_distance * (1 + distance_tolerance_pct)\n",
    "    \n",
    "    # create an array containing the mininum and minimum maximum distance\n",
    "    node_removal_distances = np.asarray([min_distance, minmax_distance])\n",
    "    \n",
    "    # calculate the node indices from the distance table which are less than or equal to the node_removal_distances\n",
    "    node_removal_indices = np.where((extract_nth(node_minmax_distances,0)<=node_removal_distances[0]) &\\\n",
    "                                (extract_nth(node_minmax_distances,1)<=node_removal_distances[1]))[0]\n",
    "    \n",
    "    # drop the specified nodes from the resource table\n",
    "    reduced_node_table = node_table_input.drop(node_removal_indices)\n",
    "    \n",
    "    return(reduced_node_table)"
   ]
  },
  {
   "cell_type": "markdown",
   "metadata": {},
   "source": [
    "#### Testing impact of adjusting the distance tolerance parameter\n",
    "With a tolerance of 0, 10 nodes are removed.  As we increase this figure, we should expect more and more rows to be removed."
   ]
  },
  {
   "cell_type": "code",
   "execution_count": 730,
   "metadata": {},
   "outputs": [],
   "source": [
    "tolerance_impacts = []\n",
    "# test for tolerance values from 0 to 100%\n",
    "for i in range(0,11):\n",
    "    tolerance_impacts.append(100 - drop_closest_nodes(simulated_games_updated_nodes, \\\n",
    "                                           node_distance_min_max_updated_nodes,i/10).shape[0])"
   ]
  },
  {
   "cell_type": "code",
   "execution_count": 734,
   "metadata": {},
   "outputs": [
    {
     "data": {
      "text/plain": [
       "array([0. , 0.1, 0.2, 0.3, 0.4, 0.5, 0.6, 0.7, 0.8, 0.9, 1. ])"
      ]
     },
     "execution_count": 734,
     "metadata": {},
     "output_type": "execute_result"
    }
   ],
   "source": [
    "np.arange(0,1.1,0.1)"
   ]
  },
  {
   "cell_type": "code",
   "execution_count": 736,
   "metadata": {},
   "outputs": [],
   "source": [
    "tolerance_results = pd.DataFrame({'tolerance': np.arange(0,1.1,0.1),\n",
    "                                  'dropped_nodes': tolerance_impacts})"
   ]
  },
  {
   "cell_type": "code",
   "execution_count": 737,
   "metadata": {},
   "outputs": [
    {
     "data": {
      "text/html": [
       "<div>\n",
       "<style scoped>\n",
       "    .dataframe tbody tr th:only-of-type {\n",
       "        vertical-align: middle;\n",
       "    }\n",
       "\n",
       "    .dataframe tbody tr th {\n",
       "        vertical-align: top;\n",
       "    }\n",
       "\n",
       "    .dataframe thead th {\n",
       "        text-align: right;\n",
       "    }\n",
       "</style>\n",
       "<table border=\"1\" class=\"dataframe\">\n",
       "  <thead>\n",
       "    <tr style=\"text-align: right;\">\n",
       "      <th></th>\n",
       "      <th>tolerance</th>\n",
       "      <th>dropped_nodes</th>\n",
       "    </tr>\n",
       "  </thead>\n",
       "  <tbody>\n",
       "    <tr>\n",
       "      <td>0</td>\n",
       "      <td>0.0</td>\n",
       "      <td>10</td>\n",
       "    </tr>\n",
       "    <tr>\n",
       "      <td>1</td>\n",
       "      <td>0.1</td>\n",
       "      <td>14</td>\n",
       "    </tr>\n",
       "    <tr>\n",
       "      <td>2</td>\n",
       "      <td>0.2</td>\n",
       "      <td>28</td>\n",
       "    </tr>\n",
       "    <tr>\n",
       "      <td>3</td>\n",
       "      <td>0.3</td>\n",
       "      <td>28</td>\n",
       "    </tr>\n",
       "    <tr>\n",
       "      <td>4</td>\n",
       "      <td>0.4</td>\n",
       "      <td>28</td>\n",
       "    </tr>\n",
       "    <tr>\n",
       "      <td>5</td>\n",
       "      <td>0.5</td>\n",
       "      <td>44</td>\n",
       "    </tr>\n",
       "    <tr>\n",
       "      <td>6</td>\n",
       "      <td>0.6</td>\n",
       "      <td>48</td>\n",
       "    </tr>\n",
       "    <tr>\n",
       "      <td>7</td>\n",
       "      <td>0.7</td>\n",
       "      <td>52</td>\n",
       "    </tr>\n",
       "    <tr>\n",
       "      <td>8</td>\n",
       "      <td>0.8</td>\n",
       "      <td>52</td>\n",
       "    </tr>\n",
       "    <tr>\n",
       "      <td>9</td>\n",
       "      <td>0.9</td>\n",
       "      <td>52</td>\n",
       "    </tr>\n",
       "    <tr>\n",
       "      <td>10</td>\n",
       "      <td>1.0</td>\n",
       "      <td>64</td>\n",
       "    </tr>\n",
       "  </tbody>\n",
       "</table>\n",
       "</div>"
      ],
      "text/plain": [
       "    tolerance  dropped_nodes\n",
       "0         0.0             10\n",
       "1         0.1             14\n",
       "2         0.2             28\n",
       "3         0.3             28\n",
       "4         0.4             28\n",
       "5         0.5             44\n",
       "6         0.6             48\n",
       "7         0.7             52\n",
       "8         0.8             52\n",
       "9         0.9             52\n",
       "10        1.0             64"
      ]
     },
     "execution_count": 737,
     "metadata": {},
     "output_type": "execute_result"
    }
   ],
   "source": [
    "tolerance_results"
   ]
  },
  {
   "cell_type": "markdown",
   "metadata": {},
   "source": [
    "Looks like this tuning parameter should help speed up convergence!"
   ]
  },
  {
   "cell_type": "markdown",
   "metadata": {},
   "source": [
    "At this point, we have everything working and just need to stick all the pieces together:"
   ]
  },
  {
   "cell_type": "code",
   "execution_count": 738,
   "metadata": {},
   "outputs": [],
   "source": [
    "def node_reducer(node_dataframe_input, tolerance_input, distance_tolerance_pct):\n",
    "    '''\n",
    "    input: node_dataframe_input: a dataframe with nodes in the rows and binary features in the columns\n",
    "           tolerance_input: value to be added to the minimum distance to be included in the closest nodes\n",
    "           distance_tolerance_pct: for larger datasets, it may be reasonable to drop more than just the nearest nodes\n",
    "               such that k is reduced more quickly in the beginning. This value is the percent to be added to the \n",
    "               min/max values used to calculate which nodes to drop\n",
    "    output: a reduced version of the input table which creates hybrid nodes and removes the node(s) for which there is\n",
    "        the least difference to the other nodes.\n",
    "    '''\n",
    "    \n",
    "    # calculate node distances\n",
    "    node_distances = node_distancer(node_dataframe_input)\n",
    "    \n",
    "    # create new hybrid nodes\n",
    "    new_nodes = node_updater(node_dataframe_input, node_distances, tolerance_input)\n",
    "    \n",
    "    # calculate hybrid node distances\n",
    "    new_node_distances = node_distancer(new_nodes)\n",
    "    \n",
    "    # calculate the min and max distances per new hybrid node\n",
    "    new_node_minmax_distances = node_distance_min_maxer(new_node_distances)\n",
    "    \n",
    "    # drop the closest node(s)\n",
    "    reduced_node_dataframe = drop_closest_nodes(new_nodes, new_node_minmax_distances, distance_tolerance_pct)\n",
    "    \n",
    "    return(reduced_node_dataframe)\n"
   ]
  },
  {
   "cell_type": "markdown",
   "metadata": {},
   "source": [
    "Next, we'll need to apply the node reducer down to k=2 and calculate the average distance between clusters at each step to get a sense of how many clusters should be included."
   ]
  },
  {
   "cell_type": "code",
   "execution_count": 739,
   "metadata": {},
   "outputs": [
    {
     "data": {
      "text/plain": [
       "array([[ 0.,  3.,  2., ..., 15., 14., 14.],\n",
       "       [ 3.,  0.,  3., ..., 12., 11., 11.],\n",
       "       [ 2.,  3.,  0., ..., 13., 12., 12.],\n",
       "       ...,\n",
       "       [15., 12., 13., ...,  0.,  1.,  1.],\n",
       "       [14., 11., 12., ...,  1.,  0.,  2.],\n",
       "       [14., 11., 12., ...,  1.,  2.,  0.]])"
      ]
     },
     "execution_count": 739,
     "metadata": {},
     "output_type": "execute_result"
    }
   ],
   "source": [
    "simulated_node_distances"
   ]
  },
  {
   "cell_type": "markdown",
   "metadata": {},
   "source": [
    "Calculating the average distance between nodes:"
   ]
  },
  {
   "cell_type": "code",
   "execution_count": 740,
   "metadata": {
    "scrolled": true
   },
   "outputs": [
    {
     "data": {
      "text/plain": [
       "array([ 8.49,  8.11,  8.83,  8.91,  8.95,  8.87,  8.03,  9.29,  8.49,\n",
       "        8.87,  8.49,  8.15,  9.25,  9.25,  8.91,  8.83,  8.87,  8.87,\n",
       "        8.91,  8.57,  8.49,  8.15,  8.49,  8.49,  8.49,  7.81,  8.19,\n",
       "        8.15,  8.23,  8.95,  8.87,  8.27,  8.53,  7.81,  8.87,  7.81,\n",
       "        8.15,  8.57,  8.57,  7.39,  8.91,  8.19,  8.19,  8.23,  7.73,\n",
       "        7.81,  8.99,  7.81,  7.81,  7.81,  7.31,  7.69,  7.65,  7.73,\n",
       "        8.45,  8.37,  7.77,  8.87,  7.31,  7.61,  7.31,  7.65,  8.07,\n",
       "        8.07,  7.73,  7.65,  6.93,  7.69,  7.73,  8.15,  7.31,  8.49,\n",
       "        7.31,  7.31,  7.31,  8.49,  8.87,  8.15,  8.07,  8.03,  8.11,\n",
       "        8.95, 10.05,  8.49,  8.87,  8.49,  8.83,  9.25,  9.25,  8.91,\n",
       "        8.91,  8.87,  8.11,  8.07,  9.33,  8.49,  8.83,  8.49,  8.49,\n",
       "        8.49])"
      ]
     },
     "execution_count": 740,
     "metadata": {},
     "output_type": "execute_result"
    }
   ],
   "source": [
    "np.mean(simulated_node_distances, axis = 0)"
   ]
  },
  {
   "cell_type": "markdown",
   "metadata": {},
   "source": [
    "Calculating the average of those average distances:"
   ]
  },
  {
   "cell_type": "code",
   "execution_count": 742,
   "metadata": {
    "scrolled": true
   },
   "outputs": [
    {
     "data": {
      "text/plain": [
       "8.3306"
      ]
     },
     "execution_count": 742,
     "metadata": {},
     "output_type": "execute_result"
    }
   ],
   "source": [
    "np.mean(np.mean(simulated_node_distances, axis = 0))"
   ]
  },
  {
   "cell_type": "markdown",
   "metadata": {},
   "source": [
    "The average distance of each node to every other node is 8.33.  Ideally, this number gets larger as we decrease the number of clusters.  "
   ]
  },
  {
   "cell_type": "markdown",
   "metadata": {},
   "source": [
    "#### 2F. Store the resulting centroids, k, and average distance between nodes\n",
    "#### 3G. Set k equal to the resulting number of undropped nodes\n",
    "\n",
    "These steps can be completed at the same time within a function which wraps together all the other work:"
   ]
  },
  {
   "cell_type": "code",
   "execution_count": 743,
   "metadata": {},
   "outputs": [],
   "source": [
    "def binary_clusterer(node_dataframe_input, tolerance_input = 1, distance_tolerance_pct = 0):\n",
    "    '''\n",
    "    input: node_dataframe_input: a dataframe with nodes in the rows and binary features in the columns\n",
    "           tolerance_input: value to be added to the minimum distance to be included in the closest nodes\n",
    "           distance_tolerance_pct: for larger datasets, it may be reasonable to drop more than just the nearest nodes\n",
    "               such that k is reduced more quickly in the beginning. This value is the percent to be added to the \n",
    "               min/max values used to calculate which nodes to drop\n",
    "    output: clusters: for each step, the resulting hybrid clusters\n",
    "            average_distances: for each step, the resulting average distance to every other cluster\n",
    "            k: the number of centroids\n",
    "    '''\n",
    "    centroids = []\n",
    "    average_distances = []\n",
    "    ks = []\n",
    "    node_dataframe = node_dataframe_input\n",
    "      \n",
    "    k = len(node_dataframe_input)\n",
    "    \n",
    "    while k>=1:\n",
    "        # save results of current step\n",
    "        centroids.append(node_dataframe)\n",
    "        average_distances.append(np.mean(np.mean(node_distancer(node_dataframe), axis = 0)))\n",
    "        ks.append(k)\n",
    "        \n",
    "        # apply the distance_tolerance_pct more heavily when k is closer to the maximum number of nodes,\n",
    "            # then back off as we approach convergence by applying a weight relative to k\n",
    "        graduated_tolerance_pct = k/len(node_dataframe_input) * distance_tolerance_pct\n",
    "        \n",
    "        # reduce node_dataframe\n",
    "        node_dataframe = node_reducer(node_dataframe, tolerance_input, graduated_tolerance_pct)\n",
    "        \n",
    "        # set k\n",
    "        k = len(node_dataframe)\n",
    "    \n",
    "    cluster_results = [centroids,average_distances,ks]\n",
    "    \n",
    "    # reverse the order (from smallest number of clusters to greatest) to make interpretation easier\n",
    "    cluster_results[0].reverse()\n",
    "    cluster_results[1].reverse()\n",
    "    cluster_results[2].reverse()\n",
    "    \n",
    "    return(cluster_results)\n",
    "        \n",
    "    \n",
    "    "
   ]
  },
  {
   "cell_type": "markdown",
   "metadata": {},
   "source": [
    "## Testing Results"
   ]
  },
  {
   "cell_type": "markdown",
   "metadata": {},
   "source": [
    "Test with 0% tolerance (this should have the maximum number of clusters and take the longest to process)"
   ]
  },
  {
   "cell_type": "code",
   "execution_count": 744,
   "metadata": {},
   "outputs": [],
   "source": [
    "cluster_results = binary_clusterer(simulated_games,1,0)"
   ]
  },
  {
   "cell_type": "code",
   "execution_count": 745,
   "metadata": {},
   "outputs": [],
   "source": [
    "cluster_results_comparison = pd.DataFrame({'k_clusters':cluster_results[2],\n",
    "                                          'average_cluster_distance':cluster_results[1]})"
   ]
  },
  {
   "cell_type": "code",
   "execution_count": 746,
   "metadata": {},
   "outputs": [
    {
     "data": {
      "text/plain": [
       "(50, 2)"
      ]
     },
     "execution_count": 746,
     "metadata": {},
     "output_type": "execute_result"
    }
   ],
   "source": [
    "cluster_results_comparison.shape"
   ]
  },
  {
   "cell_type": "code",
   "execution_count": 749,
   "metadata": {
    "scrolled": true
   },
   "outputs": [
    {
     "data": {
      "text/html": [
       "<div>\n",
       "<style scoped>\n",
       "    .dataframe tbody tr th:only-of-type {\n",
       "        vertical-align: middle;\n",
       "    }\n",
       "\n",
       "    .dataframe tbody tr th {\n",
       "        vertical-align: top;\n",
       "    }\n",
       "\n",
       "    .dataframe thead th {\n",
       "        text-align: right;\n",
       "    }\n",
       "</style>\n",
       "<table border=\"1\" class=\"dataframe\">\n",
       "  <thead>\n",
       "    <tr style=\"text-align: right;\">\n",
       "      <th></th>\n",
       "      <th>k_clusters</th>\n",
       "      <th>average_cluster_distance</th>\n",
       "    </tr>\n",
       "  </thead>\n",
       "  <tbody>\n",
       "    <tr>\n",
       "      <td>0</td>\n",
       "      <td>2</td>\n",
       "      <td>4.277778</td>\n",
       "    </tr>\n",
       "    <tr>\n",
       "      <td>1</td>\n",
       "      <td>3</td>\n",
       "      <td>5.407407</td>\n",
       "    </tr>\n",
       "    <tr>\n",
       "      <td>2</td>\n",
       "      <td>4</td>\n",
       "      <td>5.843750</td>\n",
       "    </tr>\n",
       "    <tr>\n",
       "      <td>3</td>\n",
       "      <td>5</td>\n",
       "      <td>6.880000</td>\n",
       "    </tr>\n",
       "    <tr>\n",
       "      <td>4</td>\n",
       "      <td>6</td>\n",
       "      <td>7.444444</td>\n",
       "    </tr>\n",
       "    <tr>\n",
       "      <td>5</td>\n",
       "      <td>7</td>\n",
       "      <td>7.918367</td>\n",
       "    </tr>\n",
       "    <tr>\n",
       "      <td>6</td>\n",
       "      <td>8</td>\n",
       "      <td>7.927083</td>\n",
       "    </tr>\n",
       "    <tr>\n",
       "      <td>7</td>\n",
       "      <td>10</td>\n",
       "      <td>8.260000</td>\n",
       "    </tr>\n",
       "    <tr>\n",
       "      <td>8</td>\n",
       "      <td>11</td>\n",
       "      <td>8.320441</td>\n",
       "    </tr>\n",
       "    <tr>\n",
       "      <td>9</td>\n",
       "      <td>16</td>\n",
       "      <td>8.335938</td>\n",
       "    </tr>\n",
       "  </tbody>\n",
       "</table>\n",
       "</div>"
      ],
      "text/plain": [
       "   k_clusters  average_cluster_distance\n",
       "0           2                  4.277778\n",
       "1           3                  5.407407\n",
       "2           4                  5.843750\n",
       "3           5                  6.880000\n",
       "4           6                  7.444444\n",
       "5           7                  7.918367\n",
       "6           8                  7.927083\n",
       "7          10                  8.260000\n",
       "8          11                  8.320441\n",
       "9          16                  8.335938"
      ]
     },
     "execution_count": 749,
     "metadata": {},
     "output_type": "execute_result"
    }
   ],
   "source": [
    "cluster_results_comparison[0:10]"
   ]
  },
  {
   "cell_type": "code",
   "execution_count": 750,
   "metadata": {},
   "outputs": [
    {
     "data": {
      "text/plain": [
       "8.566752697674302"
      ]
     },
     "execution_count": 750,
     "metadata": {},
     "output_type": "execute_result"
    }
   ],
   "source": [
    "max(cluster_results_comparison.average_cluster_distance)"
   ]
  },
  {
   "cell_type": "markdown",
   "metadata": {},
   "source": [
    "This took about 4 minutes to process.  We can see from the average cluster distances that we approach the maximum at k=10 or so.  This is somewhat to be expected given how much noise we introduced to the dataset.\n",
    "\n",
    "Lets compare with a 50% tolerance:"
   ]
  },
  {
   "cell_type": "code",
   "execution_count": 751,
   "metadata": {},
   "outputs": [],
   "source": [
    "cluster_results_high_tolerance = binary_clusterer(simulated_games,1,0.50)"
   ]
  },
  {
   "cell_type": "code",
   "execution_count": 752,
   "metadata": {},
   "outputs": [],
   "source": [
    "cluster_results_high_tolerance_comparison = pd.DataFrame({'k_clusters':cluster_results_high_tolerance[2],\n",
    "                                                          'average_cluster_distance':cluster_results_high_tolerance[1]})"
   ]
  },
  {
   "cell_type": "code",
   "execution_count": 753,
   "metadata": {},
   "outputs": [
    {
     "data": {
      "text/plain": [
       "(17, 2)"
      ]
     },
     "execution_count": 753,
     "metadata": {},
     "output_type": "execute_result"
    }
   ],
   "source": [
    "cluster_results_high_tolerance_comparison.shape"
   ]
  },
  {
   "cell_type": "code",
   "execution_count": 754,
   "metadata": {},
   "outputs": [
    {
     "data": {
      "text/html": [
       "<div>\n",
       "<style scoped>\n",
       "    .dataframe tbody tr th:only-of-type {\n",
       "        vertical-align: middle;\n",
       "    }\n",
       "\n",
       "    .dataframe tbody tr th {\n",
       "        vertical-align: top;\n",
       "    }\n",
       "\n",
       "    .dataframe thead th {\n",
       "        text-align: right;\n",
       "    }\n",
       "</style>\n",
       "<table border=\"1\" class=\"dataframe\">\n",
       "  <thead>\n",
       "    <tr style=\"text-align: right;\">\n",
       "      <th></th>\n",
       "      <th>k_clusters</th>\n",
       "      <th>average_cluster_distance</th>\n",
       "    </tr>\n",
       "  </thead>\n",
       "  <tbody>\n",
       "    <tr>\n",
       "      <td>0</td>\n",
       "      <td>2</td>\n",
       "      <td>4.487654</td>\n",
       "    </tr>\n",
       "    <tr>\n",
       "      <td>1</td>\n",
       "      <td>3</td>\n",
       "      <td>5.185185</td>\n",
       "    </tr>\n",
       "    <tr>\n",
       "      <td>2</td>\n",
       "      <td>4</td>\n",
       "      <td>6.444444</td>\n",
       "    </tr>\n",
       "    <tr>\n",
       "      <td>3</td>\n",
       "      <td>5</td>\n",
       "      <td>6.933333</td>\n",
       "    </tr>\n",
       "    <tr>\n",
       "      <td>4</td>\n",
       "      <td>6</td>\n",
       "      <td>7.722222</td>\n",
       "    </tr>\n",
       "    <tr>\n",
       "      <td>5</td>\n",
       "      <td>7</td>\n",
       "      <td>7.660771</td>\n",
       "    </tr>\n",
       "    <tr>\n",
       "      <td>6</td>\n",
       "      <td>8</td>\n",
       "      <td>7.684028</td>\n",
       "    </tr>\n",
       "    <tr>\n",
       "      <td>7</td>\n",
       "      <td>10</td>\n",
       "      <td>7.486667</td>\n",
       "    </tr>\n",
       "    <tr>\n",
       "      <td>8</td>\n",
       "      <td>11</td>\n",
       "      <td>7.669421</td>\n",
       "    </tr>\n",
       "    <tr>\n",
       "      <td>9</td>\n",
       "      <td>13</td>\n",
       "      <td>8.213018</td>\n",
       "    </tr>\n",
       "    <tr>\n",
       "      <td>10</td>\n",
       "      <td>18</td>\n",
       "      <td>8.432099</td>\n",
       "    </tr>\n",
       "    <tr>\n",
       "      <td>11</td>\n",
       "      <td>19</td>\n",
       "      <td>8.446907</td>\n",
       "    </tr>\n",
       "    <tr>\n",
       "      <td>12</td>\n",
       "      <td>24</td>\n",
       "      <td>8.517361</td>\n",
       "    </tr>\n",
       "    <tr>\n",
       "      <td>13</td>\n",
       "      <td>35</td>\n",
       "      <td>8.414694</td>\n",
       "    </tr>\n",
       "    <tr>\n",
       "      <td>14</td>\n",
       "      <td>48</td>\n",
       "      <td>8.546766</td>\n",
       "    </tr>\n",
       "    <tr>\n",
       "      <td>15</td>\n",
       "      <td>56</td>\n",
       "      <td>8.453178</td>\n",
       "    </tr>\n",
       "    <tr>\n",
       "      <td>16</td>\n",
       "      <td>100</td>\n",
       "      <td>8.330600</td>\n",
       "    </tr>\n",
       "  </tbody>\n",
       "</table>\n",
       "</div>"
      ],
      "text/plain": [
       "    k_clusters  average_cluster_distance\n",
       "0            2                  4.487654\n",
       "1            3                  5.185185\n",
       "2            4                  6.444444\n",
       "3            5                  6.933333\n",
       "4            6                  7.722222\n",
       "5            7                  7.660771\n",
       "6            8                  7.684028\n",
       "7           10                  7.486667\n",
       "8           11                  7.669421\n",
       "9           13                  8.213018\n",
       "10          18                  8.432099\n",
       "11          19                  8.446907\n",
       "12          24                  8.517361\n",
       "13          35                  8.414694\n",
       "14          48                  8.546766\n",
       "15          56                  8.453178\n",
       "16         100                  8.330600"
      ]
     },
     "execution_count": 754,
     "metadata": {},
     "output_type": "execute_result"
    }
   ],
   "source": [
    "cluster_results_high_tolerance_comparison"
   ]
  },
  {
   "cell_type": "markdown",
   "metadata": {},
   "source": [
    "Here, we're getting similar results with k=10 looking ideal.  With a 50% tolerance, however, convergence is reached in only 16 iterations vs the 50 with 0% tolerance and it only took around 30 seconds. This should lead to significant gains in performance in larger datasets."
   ]
  },
  {
   "cell_type": "markdown",
   "metadata": {},
   "source": [
    "Lets take a look at the centroids for when k=10:"
   ]
  },
  {
   "cell_type": "code",
   "execution_count": 755,
   "metadata": {},
   "outputs": [],
   "source": [
    "cluster_centroids = cluster_results[0][7]"
   ]
  },
  {
   "cell_type": "code",
   "execution_count": 756,
   "metadata": {},
   "outputs": [
    {
     "data": {
      "text/html": [
       "<div>\n",
       "<style scoped>\n",
       "    .dataframe tbody tr th:only-of-type {\n",
       "        vertical-align: middle;\n",
       "    }\n",
       "\n",
       "    .dataframe tbody tr th {\n",
       "        vertical-align: top;\n",
       "    }\n",
       "\n",
       "    .dataframe thead th {\n",
       "        text-align: right;\n",
       "    }\n",
       "</style>\n",
       "<table border=\"1\" class=\"dataframe\">\n",
       "  <thead>\n",
       "    <tr style=\"text-align: right;\">\n",
       "      <th></th>\n",
       "      <th>0</th>\n",
       "      <th>1</th>\n",
       "      <th>2</th>\n",
       "      <th>3</th>\n",
       "      <th>4</th>\n",
       "      <th>5</th>\n",
       "      <th>6</th>\n",
       "      <th>7</th>\n",
       "      <th>8</th>\n",
       "      <th>9</th>\n",
       "      <th>10</th>\n",
       "      <th>11</th>\n",
       "      <th>12</th>\n",
       "      <th>13</th>\n",
       "      <th>14</th>\n",
       "      <th>15</th>\n",
       "      <th>16</th>\n",
       "      <th>17</th>\n",
       "      <th>18</th>\n",
       "      <th>19</th>\n",
       "    </tr>\n",
       "  </thead>\n",
       "  <tbody>\n",
       "    <tr>\n",
       "      <td>1</td>\n",
       "      <td>0.0</td>\n",
       "      <td>0.0</td>\n",
       "      <td>0.0</td>\n",
       "      <td>0.0</td>\n",
       "      <td>0.0</td>\n",
       "      <td>1.0</td>\n",
       "      <td>1.0</td>\n",
       "      <td>0.0</td>\n",
       "      <td>0.0</td>\n",
       "      <td>0.0</td>\n",
       "      <td>0.0</td>\n",
       "      <td>1.0</td>\n",
       "      <td>1.0</td>\n",
       "      <td>1.0</td>\n",
       "      <td>1.0</td>\n",
       "      <td>1.0</td>\n",
       "      <td>1.0</td>\n",
       "      <td>0.0</td>\n",
       "      <td>1.0</td>\n",
       "      <td>0.0</td>\n",
       "    </tr>\n",
       "    <tr>\n",
       "      <td>2</td>\n",
       "      <td>0.0</td>\n",
       "      <td>0.0</td>\n",
       "      <td>0.0</td>\n",
       "      <td>1.0</td>\n",
       "      <td>0.0</td>\n",
       "      <td>0.0</td>\n",
       "      <td>0.0</td>\n",
       "      <td>1.0</td>\n",
       "      <td>0.0</td>\n",
       "      <td>0.0</td>\n",
       "      <td>1.0</td>\n",
       "      <td>1.0</td>\n",
       "      <td>0.0</td>\n",
       "      <td>1.0</td>\n",
       "      <td>1.0</td>\n",
       "      <td>1.0</td>\n",
       "      <td>1.0</td>\n",
       "      <td>0.0</td>\n",
       "      <td>0.0</td>\n",
       "      <td>0.0</td>\n",
       "    </tr>\n",
       "    <tr>\n",
       "      <td>3</td>\n",
       "      <td>1.0</td>\n",
       "      <td>0.0</td>\n",
       "      <td>0.0</td>\n",
       "      <td>0.0</td>\n",
       "      <td>1.0</td>\n",
       "      <td>0.0</td>\n",
       "      <td>0.0</td>\n",
       "      <td>0.0</td>\n",
       "      <td>0.0</td>\n",
       "      <td>0.0</td>\n",
       "      <td>0.0</td>\n",
       "      <td>1.0</td>\n",
       "      <td>0.0</td>\n",
       "      <td>1.0</td>\n",
       "      <td>0.0</td>\n",
       "      <td>1.0</td>\n",
       "      <td>1.0</td>\n",
       "      <td>0.0</td>\n",
       "      <td>0.0</td>\n",
       "      <td>1.0</td>\n",
       "    </tr>\n",
       "    <tr>\n",
       "      <td>4</td>\n",
       "      <td>0.0</td>\n",
       "      <td>0.0</td>\n",
       "      <td>0.0</td>\n",
       "      <td>1.0</td>\n",
       "      <td>1.0</td>\n",
       "      <td>0.0</td>\n",
       "      <td>0.0</td>\n",
       "      <td>0.0</td>\n",
       "      <td>0.0</td>\n",
       "      <td>0.0</td>\n",
       "      <td>0.0</td>\n",
       "      <td>1.0</td>\n",
       "      <td>0.0</td>\n",
       "      <td>0.0</td>\n",
       "      <td>1.0</td>\n",
       "      <td>0.0</td>\n",
       "      <td>1.0</td>\n",
       "      <td>0.0</td>\n",
       "      <td>1.0</td>\n",
       "      <td>0.0</td>\n",
       "    </tr>\n",
       "    <tr>\n",
       "      <td>5</td>\n",
       "      <td>1.0</td>\n",
       "      <td>1.0</td>\n",
       "      <td>0.0</td>\n",
       "      <td>0.0</td>\n",
       "      <td>0.0</td>\n",
       "      <td>1.0</td>\n",
       "      <td>1.0</td>\n",
       "      <td>1.0</td>\n",
       "      <td>1.0</td>\n",
       "      <td>0.0</td>\n",
       "      <td>1.0</td>\n",
       "      <td>1.0</td>\n",
       "      <td>0.0</td>\n",
       "      <td>1.0</td>\n",
       "      <td>0.0</td>\n",
       "      <td>1.0</td>\n",
       "      <td>0.0</td>\n",
       "      <td>1.0</td>\n",
       "      <td>0.0</td>\n",
       "      <td>1.0</td>\n",
       "    </tr>\n",
       "    <tr>\n",
       "      <td>6</td>\n",
       "      <td>1.0</td>\n",
       "      <td>1.0</td>\n",
       "      <td>0.0</td>\n",
       "      <td>0.0</td>\n",
       "      <td>1.0</td>\n",
       "      <td>0.0</td>\n",
       "      <td>1.0</td>\n",
       "      <td>0.0</td>\n",
       "      <td>1.0</td>\n",
       "      <td>1.0</td>\n",
       "      <td>0.0</td>\n",
       "      <td>1.0</td>\n",
       "      <td>0.0</td>\n",
       "      <td>1.0</td>\n",
       "      <td>0.0</td>\n",
       "      <td>0.0</td>\n",
       "      <td>1.0</td>\n",
       "      <td>1.0</td>\n",
       "      <td>0.0</td>\n",
       "      <td>1.0</td>\n",
       "    </tr>\n",
       "    <tr>\n",
       "      <td>7</td>\n",
       "      <td>0.0</td>\n",
       "      <td>1.0</td>\n",
       "      <td>0.0</td>\n",
       "      <td>1.0</td>\n",
       "      <td>1.0</td>\n",
       "      <td>1.0</td>\n",
       "      <td>1.0</td>\n",
       "      <td>0.0</td>\n",
       "      <td>1.0</td>\n",
       "      <td>0.0</td>\n",
       "      <td>0.0</td>\n",
       "      <td>1.0</td>\n",
       "      <td>0.0</td>\n",
       "      <td>1.0</td>\n",
       "      <td>1.0</td>\n",
       "      <td>1.0</td>\n",
       "      <td>0.0</td>\n",
       "      <td>1.0</td>\n",
       "      <td>0.0</td>\n",
       "      <td>0.0</td>\n",
       "    </tr>\n",
       "    <tr>\n",
       "      <td>8</td>\n",
       "      <td>1.0</td>\n",
       "      <td>1.0</td>\n",
       "      <td>0.0</td>\n",
       "      <td>0.0</td>\n",
       "      <td>1.0</td>\n",
       "      <td>1.0</td>\n",
       "      <td>1.0</td>\n",
       "      <td>0.0</td>\n",
       "      <td>1.0</td>\n",
       "      <td>0.0</td>\n",
       "      <td>0.0</td>\n",
       "      <td>1.0</td>\n",
       "      <td>0.0</td>\n",
       "      <td>0.0</td>\n",
       "      <td>0.0</td>\n",
       "      <td>0.0</td>\n",
       "      <td>0.0</td>\n",
       "      <td>1.0</td>\n",
       "      <td>1.0</td>\n",
       "      <td>1.0</td>\n",
       "    </tr>\n",
       "    <tr>\n",
       "      <td>9</td>\n",
       "      <td>0.0</td>\n",
       "      <td>1.0</td>\n",
       "      <td>1.0</td>\n",
       "      <td>0.0</td>\n",
       "      <td>1.0</td>\n",
       "      <td>1.0</td>\n",
       "      <td>1.0</td>\n",
       "      <td>1.0</td>\n",
       "      <td>1.0</td>\n",
       "      <td>0.0</td>\n",
       "      <td>1.0</td>\n",
       "      <td>1.0</td>\n",
       "      <td>0.0</td>\n",
       "      <td>1.0</td>\n",
       "      <td>0.0</td>\n",
       "      <td>1.0</td>\n",
       "      <td>0.0</td>\n",
       "      <td>1.0</td>\n",
       "      <td>1.0</td>\n",
       "      <td>0.0</td>\n",
       "    </tr>\n",
       "    <tr>\n",
       "      <td>10</td>\n",
       "      <td>1.0</td>\n",
       "      <td>1.0</td>\n",
       "      <td>1.0</td>\n",
       "      <td>1.0</td>\n",
       "      <td>1.0</td>\n",
       "      <td>1.0</td>\n",
       "      <td>1.0</td>\n",
       "      <td>1.0</td>\n",
       "      <td>1.0</td>\n",
       "      <td>0.0</td>\n",
       "      <td>1.0</td>\n",
       "      <td>1.0</td>\n",
       "      <td>0.0</td>\n",
       "      <td>0.0</td>\n",
       "      <td>1.0</td>\n",
       "      <td>0.0</td>\n",
       "      <td>0.0</td>\n",
       "      <td>1.0</td>\n",
       "      <td>0.0</td>\n",
       "      <td>1.0</td>\n",
       "    </tr>\n",
       "  </tbody>\n",
       "</table>\n",
       "</div>"
      ],
      "text/plain": [
       "      0    1    2    3    4    5    6    7    8    9   10   11   12   13   14  \\\n",
       "1   0.0  0.0  0.0  0.0  0.0  1.0  1.0  0.0  0.0  0.0  0.0  1.0  1.0  1.0  1.0   \n",
       "2   0.0  0.0  0.0  1.0  0.0  0.0  0.0  1.0  0.0  0.0  1.0  1.0  0.0  1.0  1.0   \n",
       "3   1.0  0.0  0.0  0.0  1.0  0.0  0.0  0.0  0.0  0.0  0.0  1.0  0.0  1.0  0.0   \n",
       "4   0.0  0.0  0.0  1.0  1.0  0.0  0.0  0.0  0.0  0.0  0.0  1.0  0.0  0.0  1.0   \n",
       "5   1.0  1.0  0.0  0.0  0.0  1.0  1.0  1.0  1.0  0.0  1.0  1.0  0.0  1.0  0.0   \n",
       "6   1.0  1.0  0.0  0.0  1.0  0.0  1.0  0.0  1.0  1.0  0.0  1.0  0.0  1.0  0.0   \n",
       "7   0.0  1.0  0.0  1.0  1.0  1.0  1.0  0.0  1.0  0.0  0.0  1.0  0.0  1.0  1.0   \n",
       "8   1.0  1.0  0.0  0.0  1.0  1.0  1.0  0.0  1.0  0.0  0.0  1.0  0.0  0.0  0.0   \n",
       "9   0.0  1.0  1.0  0.0  1.0  1.0  1.0  1.0  1.0  0.0  1.0  1.0  0.0  1.0  0.0   \n",
       "10  1.0  1.0  1.0  1.0  1.0  1.0  1.0  1.0  1.0  0.0  1.0  1.0  0.0  0.0  1.0   \n",
       "\n",
       "     15   16   17   18   19  \n",
       "1   1.0  1.0  0.0  1.0  0.0  \n",
       "2   1.0  1.0  0.0  0.0  0.0  \n",
       "3   1.0  1.0  0.0  0.0  1.0  \n",
       "4   0.0  1.0  0.0  1.0  0.0  \n",
       "5   1.0  0.0  1.0  0.0  1.0  \n",
       "6   0.0  1.0  1.0  0.0  1.0  \n",
       "7   1.0  0.0  1.0  0.0  0.0  \n",
       "8   0.0  0.0  1.0  1.0  1.0  \n",
       "9   1.0  0.0  1.0  1.0  0.0  \n",
       "10  0.0  0.0  1.0  0.0  1.0  "
      ]
     },
     "execution_count": 756,
     "metadata": {},
     "output_type": "execute_result"
    }
   ],
   "source": [
    "cluster_centroids"
   ]
  },
  {
   "cell_type": "markdown",
   "metadata": {},
   "source": [
    "Now that we have our centroids, we can classify each of the original simulated games into clusters by its nearest centroid:"
   ]
  },
  {
   "cell_type": "code",
   "execution_count": 757,
   "metadata": {},
   "outputs": [],
   "source": [
    "def cluster_classifier(node_table_input, cluster_centroids):\n",
    "    '''\n",
    "    input: node_table_input: a dataframe with nodes in the rows and binary features in the columns\n",
    "           cluster_centroids: the centroids resulting from the binary clustering algorithm\n",
    "    output: a list which classifies each node into a cluster based on shortest distance\n",
    "    \n",
    "    '''\n",
    "    clusters = []\n",
    "    \n",
    "    for i in range(len(node_table_input)):\n",
    "        node_distances = []\n",
    "        \n",
    "        # get distance to each cluster centroid:\n",
    "        for j in range(len(cluster_centroids)):\n",
    "            node_distances.append(cluster_distance_calculator(node_table_input.iloc[i], cluster_centroids.iloc[j]))\n",
    "        \n",
    "        min_distance = min(node_distances)\n",
    "        \n",
    "        clusters.append(np.where(np.asarray(node_distances)==min_distance)[0][0])\n",
    "    \n",
    "    return(clusters)"
   ]
  },
  {
   "cell_type": "code",
   "execution_count": 758,
   "metadata": {
    "scrolled": true
   },
   "outputs": [],
   "source": [
    "node_clusters = cluster_classifier(simulated_games, cluster_centroids)"
   ]
  },
  {
   "cell_type": "code",
   "execution_count": 763,
   "metadata": {},
   "outputs": [
    {
     "data": {
      "text/plain": [
       "array([[0, 0, 0, 0, 0, 3, 0, 0, 0, 0, 0, 0, 0, 0, 0, 0, 0, 0, 0, 0, 0, 0,\n",
       "        0, 0, 0],\n",
       "       [1, 3, 1, 3, 1, 1, 1, 3, 1, 2, 1, 1, 1, 1, 6, 3, 2, 1, 1, 3, 1, 3,\n",
       "        1, 2, 1],\n",
       "       [4, 5, 5, 7, 4, 4, 4, 5, 4, 6, 4, 4, 5, 5, 5, 7, 6, 4, 4, 7, 4, 7,\n",
       "        4, 6, 4],\n",
       "       [9, 9, 4, 9, 6, 4, 9, 9, 9, 4, 9, 4, 9, 9, 9, 4, 8, 9, 9, 9, 9, 9,\n",
       "        9, 8, 9]])"
      ]
     },
     "execution_count": 763,
     "metadata": {},
     "output_type": "execute_result"
    }
   ],
   "source": [
    "np.asarray(node_clusters).reshape(4,25)"
   ]
  },
  {
   "cell_type": "markdown",
   "metadata": {},
   "source": [
    "Wow! It looks like it's classifying all 25 of the first cluster into that cluster. Most of the second cluster are 1s, most of the third are 4s and most of the fourth are 9s.  This shows that it's working well, but the noise we introduced made getting an exact match to the original difficult.  \n",
    "\n",
    "Even with the noise, lets see how it performs when we select k = 4:"
   ]
  },
  {
   "cell_type": "code",
   "execution_count": 764,
   "metadata": {},
   "outputs": [],
   "source": [
    "# select index = 2, which is 4 clusters\n",
    "cluster_centroids = cluster_results[0][2]\n",
    "node_clusters = cluster_classifier(simulated_games, cluster_centroids)"
   ]
  },
  {
   "cell_type": "markdown",
   "metadata": {},
   "source": [
    "We're expecting the groupings to show the first 25 in a cluster, the second 25 in a cluster, and so on, so lets investigate by each set of 25. First though, lets see how many nodes were classified in each cluster:"
   ]
  },
  {
   "cell_type": "code",
   "execution_count": 765,
   "metadata": {},
   "outputs": [
    {
     "name": "stdout",
     "output_type": "stream",
     "text": [
      "28\n",
      "25\n",
      "27\n",
      "20\n"
     ]
    }
   ],
   "source": [
    "print(node_clusters.count(0))\n",
    "print(node_clusters.count(1))\n",
    "print(node_clusters.count(2))\n",
    "print(node_clusters.count(3))"
   ]
  },
  {
   "cell_type": "markdown",
   "metadata": {},
   "source": [
    "Looks good overall! Let's see how each cluster performed:"
   ]
  },
  {
   "cell_type": "code",
   "execution_count": 766,
   "metadata": {},
   "outputs": [
    {
     "data": {
      "text/plain": [
       "[0, 2, 0, 0, 0, 3, 0, 2, 0, 0, 0, 0, 0, 0, 0, 0, 0, 0, 0, 0, 0, 2, 0, 0, 0]"
      ]
     },
     "execution_count": 766,
     "metadata": {},
     "output_type": "execute_result"
    }
   ],
   "source": [
    "node_clusters[0:25]"
   ]
  },
  {
   "cell_type": "markdown",
   "metadata": {},
   "source": [
    "Looks like this cluster was classified as '0' so lets see how many aren't 0:"
   ]
  },
  {
   "cell_type": "code",
   "execution_count": 767,
   "metadata": {
    "scrolled": true
   },
   "outputs": [
    {
     "data": {
      "text/plain": [
       "4"
      ]
     },
     "execution_count": 767,
     "metadata": {},
     "output_type": "execute_result"
    }
   ],
   "source": [
    "len(np.where(np.asarray(node_clusters[0:25])!=0)[0])"
   ]
  },
  {
   "cell_type": "markdown",
   "metadata": {},
   "source": [
    "21/25 isn't bad!"
   ]
  },
  {
   "cell_type": "code",
   "execution_count": 768,
   "metadata": {
    "scrolled": true
   },
   "outputs": [
    {
     "data": {
      "text/plain": [
       "[2, 2, 2, 0, 2, 2, 2, 2, 2, 0, 2, 2, 2, 2, 2, 0, 0, 2, 2, 0, 2, 0, 2, 0, 2]"
      ]
     },
     "execution_count": 768,
     "metadata": {},
     "output_type": "execute_result"
    }
   ],
   "source": [
    "node_clusters[25:50]"
   ]
  },
  {
   "cell_type": "code",
   "execution_count": 769,
   "metadata": {},
   "outputs": [
    {
     "data": {
      "text/plain": [
       "7"
      ]
     },
     "execution_count": 769,
     "metadata": {},
     "output_type": "execute_result"
    }
   ],
   "source": [
    "len(np.where(np.asarray(node_clusters[25:50])!=2)[0])"
   ]
  },
  {
   "cell_type": "markdown",
   "metadata": {},
   "source": [
    "18/25 for the second cluster."
   ]
  },
  {
   "cell_type": "code",
   "execution_count": 770,
   "metadata": {
    "scrolled": true
   },
   "outputs": [
    {
     "data": {
      "text/plain": [
       "[1, 1, 1, 2, 1, 1, 1, 1, 1, 2, 1, 1, 1, 1, 1, 3, 2, 1, 1, 2, 1, 1, 1, 2, 1]"
      ]
     },
     "execution_count": 770,
     "metadata": {},
     "output_type": "execute_result"
    }
   ],
   "source": [
    "node_clusters[50:75]"
   ]
  },
  {
   "cell_type": "code",
   "execution_count": 771,
   "metadata": {},
   "outputs": [
    {
     "data": {
      "text/plain": [
       "6"
      ]
     },
     "execution_count": 771,
     "metadata": {},
     "output_type": "execute_result"
    }
   ],
   "source": [
    "len(np.where(np.asarray(node_clusters[50:75])!=1)[0])"
   ]
  },
  {
   "cell_type": "markdown",
   "metadata": {},
   "source": [
    "19/25 for the third."
   ]
  },
  {
   "cell_type": "code",
   "execution_count": 772,
   "metadata": {},
   "outputs": [
    {
     "data": {
      "text/plain": [
       "[3, 3, 1, 3, 2, 1, 3, 3, 3, 1, 3, 1, 3, 3, 3, 1, 1, 3, 3, 3, 3, 3, 3, 3, 3]"
      ]
     },
     "execution_count": 772,
     "metadata": {},
     "output_type": "execute_result"
    }
   ],
   "source": [
    "node_clusters[75:100]"
   ]
  },
  {
   "cell_type": "code",
   "execution_count": 773,
   "metadata": {},
   "outputs": [
    {
     "data": {
      "text/plain": [
       "7"
      ]
     },
     "execution_count": 773,
     "metadata": {},
     "output_type": "execute_result"
    }
   ],
   "source": [
    "len(np.where(np.asarray(node_clusters[75:100])!=3)[0])"
   ]
  },
  {
   "cell_type": "markdown",
   "metadata": {},
   "source": [
    "18/25 for the fourth."
   ]
  },
  {
   "cell_type": "markdown",
   "metadata": {},
   "source": [
    "Overall, we're showing 76% accuracy. \n",
    "\n",
    "## Testing with Tighter Simulated Clusters\n",
    "The inclusion of 25% noise when generating the data in an effort to appear more realistic is obfuscating the clarity of the results.  This being the case, we'll test again with only a 10% difference between any node and its medoid:"
   ]
  },
  {
   "cell_type": "code",
   "execution_count": 774,
   "metadata": {},
   "outputs": [],
   "source": [
    "first_medoid_cluster_simple = cluster_creator(first_medoid, [0,0.1], 24)\n",
    "second_medoid_cluster_simple = cluster_creator(second_medoid, [0,0.1], 24)\n",
    "third_medoid_cluster_simple = cluster_creator(third_medoid, [0,0.1], 24)\n",
    "fourth_medoid_cluster_simple = cluster_creator(fourth_medoid, [0,0.1], 24)"
   ]
  },
  {
   "cell_type": "code",
   "execution_count": 775,
   "metadata": {},
   "outputs": [],
   "source": [
    "simulated_games_simple = [first_medoid] + first_medoid_cluster_simple + [second_medoid] + \\\n",
    "    second_medoid_cluster_simple + [third_medoid] + third_medoid_cluster_simple + [fourth_medoid] + \\\n",
    "    fourth_medoid_cluster_simple"
   ]
  },
  {
   "cell_type": "code",
   "execution_count": 776,
   "metadata": {},
   "outputs": [],
   "source": [
    "simulated_games_simple = pd.DataFrame(np.array(simulated_games_simple))"
   ]
  },
  {
   "cell_type": "code",
   "execution_count": 788,
   "metadata": {},
   "outputs": [],
   "source": [
    "cluster_results_simple = binary_clusterer(simulated_games_simple, 1, .2)"
   ]
  },
  {
   "cell_type": "code",
   "execution_count": 789,
   "metadata": {},
   "outputs": [],
   "source": [
    "cluster_results_simple_comparison = pd.DataFrame({'k_clusters':cluster_results_simple[2],\n",
    "                                                  'average_cluster_distance':cluster_results_simple[1]})"
   ]
  },
  {
   "cell_type": "code",
   "execution_count": 790,
   "metadata": {},
   "outputs": [
    {
     "data": {
      "text/html": [
       "<div>\n",
       "<style scoped>\n",
       "    .dataframe tbody tr th:only-of-type {\n",
       "        vertical-align: middle;\n",
       "    }\n",
       "\n",
       "    .dataframe tbody tr th {\n",
       "        vertical-align: top;\n",
       "    }\n",
       "\n",
       "    .dataframe thead th {\n",
       "        text-align: right;\n",
       "    }\n",
       "</style>\n",
       "<table border=\"1\" class=\"dataframe\">\n",
       "  <thead>\n",
       "    <tr style=\"text-align: right;\">\n",
       "      <th></th>\n",
       "      <th>k_clusters</th>\n",
       "      <th>average_cluster_distance</th>\n",
       "    </tr>\n",
       "  </thead>\n",
       "  <tbody>\n",
       "    <tr>\n",
       "      <td>0</td>\n",
       "      <td>2</td>\n",
       "      <td>3.333333</td>\n",
       "    </tr>\n",
       "    <tr>\n",
       "      <td>1</td>\n",
       "      <td>3</td>\n",
       "      <td>3.555556</td>\n",
       "    </tr>\n",
       "    <tr>\n",
       "      <td>2</td>\n",
       "      <td>5</td>\n",
       "      <td>4.586667</td>\n",
       "    </tr>\n",
       "    <tr>\n",
       "      <td>3</td>\n",
       "      <td>6</td>\n",
       "      <td>5.370370</td>\n",
       "    </tr>\n",
       "    <tr>\n",
       "      <td>4</td>\n",
       "      <td>7</td>\n",
       "      <td>5.659864</td>\n",
       "    </tr>\n",
       "    <tr>\n",
       "      <td>5</td>\n",
       "      <td>8</td>\n",
       "      <td>5.595833</td>\n",
       "    </tr>\n",
       "    <tr>\n",
       "      <td>6</td>\n",
       "      <td>11</td>\n",
       "      <td>7.442424</td>\n",
       "    </tr>\n",
       "    <tr>\n",
       "      <td>7</td>\n",
       "      <td>13</td>\n",
       "      <td>8.228797</td>\n",
       "    </tr>\n",
       "    <tr>\n",
       "      <td>8</td>\n",
       "      <td>15</td>\n",
       "      <td>8.383858</td>\n",
       "    </tr>\n",
       "    <tr>\n",
       "      <td>9</td>\n",
       "      <td>17</td>\n",
       "      <td>8.359769</td>\n",
       "    </tr>\n",
       "  </tbody>\n",
       "</table>\n",
       "</div>"
      ],
      "text/plain": [
       "   k_clusters  average_cluster_distance\n",
       "0           2                  3.333333\n",
       "1           3                  3.555556\n",
       "2           5                  4.586667\n",
       "3           6                  5.370370\n",
       "4           7                  5.659864\n",
       "5           8                  5.595833\n",
       "6          11                  7.442424\n",
       "7          13                  8.228797\n",
       "8          15                  8.383858\n",
       "9          17                  8.359769"
      ]
     },
     "execution_count": 790,
     "metadata": {},
     "output_type": "execute_result"
    }
   ],
   "source": [
    "cluster_results_simple_comparison[0:10]"
   ]
  },
  {
   "cell_type": "code",
   "execution_count": 791,
   "metadata": {},
   "outputs": [],
   "source": [
    "cluster_centroids_simple = cluster_results_simple[0][2]"
   ]
  },
  {
   "cell_type": "code",
   "execution_count": 792,
   "metadata": {},
   "outputs": [],
   "source": [
    "node_clusters_simple = cluster_classifier(simulated_games_simple, cluster_centroids_simple)"
   ]
  },
  {
   "cell_type": "code",
   "execution_count": 793,
   "metadata": {
    "scrolled": true
   },
   "outputs": [
    {
     "name": "stdout",
     "output_type": "stream",
     "text": [
      "69\n",
      "20\n",
      "1\n",
      "1\n"
     ]
    }
   ],
   "source": [
    "print(node_clusters_simple.count(0))\n",
    "print(node_clusters_simple.count(1))\n",
    "print(node_clusters_simple.count(2))\n",
    "print(node_clusters_simple.count(3))"
   ]
  },
  {
   "cell_type": "markdown",
   "metadata": {},
   "source": [
    "Hmm, my first testing showed 97% accuracy, but after I fixed an issue to ensure reproducibility, it looks like there may be an issue where the algorithm is attracted to outliers.  This needs more development, and after seeing the results on the final dataset, I can see how the final results were a bit skewed."
   ]
  }
 ],
 "metadata": {
  "kernelspec": {
   "display_name": "Python 3",
   "language": "python",
   "name": "python3"
  },
  "language_info": {
   "codemirror_mode": {
    "name": "ipython",
    "version": 3
   },
   "file_extension": ".py",
   "mimetype": "text/x-python",
   "name": "python",
   "nbconvert_exporter": "python",
   "pygments_lexer": "ipython3",
   "version": "3.6.9"
  }
 },
 "nbformat": 4,
 "nbformat_minor": 2
}
