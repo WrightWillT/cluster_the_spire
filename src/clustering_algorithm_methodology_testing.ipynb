{
 "cells": [
  {
   "cell_type": "markdown",
   "metadata": {},
   "source": [
    "# Clustering Algorithm Methodology and Testing\n",
    "Will Wright"
   ]
  },
  {
   "cell_type": "markdown",
   "metadata": {},
   "source": [
    "### Purpose and Context\n",
    "\n",
    "I've worked with several unsupervised clustering algorithms as part of my professional and academic career, but I had never built one from scratch.  Because the data for this project is binary and I had never worked exclusively with this type of data, I decided to test my creativity and see if I could build a functioning algorithmm from scratch with no outside influence.  \n",
    "\n",
    "Once complete, this algorithm will be used to classify the resource data from the Slay the Spire character datasets into resource-personas (i.e. the unique 'builds' possible to win with each character on Ascension 20)."
   ]
  },
  {
   "cell_type": "code",
   "execution_count": 356,
   "metadata": {},
   "outputs": [],
   "source": [
    "# Load packages\n",
    "import shutil\n",
    "from os import listdir\n",
    "import json\n",
    "import glob\n",
    "import os\n",
    "import numpy as np\n",
    "import pandas as pd\n",
    "import random\n",
    "import copy\n",
    "from heapq import nsmallest\n",
    "\n",
    "# increase viewable dataframe rows and columns\n",
    "pd.set_option('display.max_rows', 50)\n",
    "pd.set_option('display.max_columns', 20)\n",
    "\n",
    "# set random seed\n",
    "random.seed(30)"
   ]
  },
  {
   "cell_type": "markdown",
   "metadata": {},
   "source": [
    "___\n",
    "## Clustering Algorithm\n",
    "\n",
    "After much whiteboarding, testing, and deep thought on the matter, I devised the following algorithm for clustering:\n",
    "\n",
    "**Clustering Algorithm**\n",
    "1. Start with clusters equal to the number of nodes (k=m)\n",
    "2. While k>=1:\n",
    "    1. Calculate the distance between each node and every other node where distance is the sum of resources that don't match (i.e. if a card is in both decks, that resource adds 0 distance, but it if is in one and not the other, then it adds 1 distance.  \"Distance\" is the sum of all these resource differences)\n",
    "    2. For each node, calculate the nearest node(s) via distance + a user-defined tolerance distance and merge with the node via taking the mean \n",
    "    3. For each merged node, calculate the distances to all other merged nodes and the min and max distances per merged node.\n",
    "    4. For each min and max distance, add a weighted user-defined tolerance distance percent where the weight is relative to k such that weight = k/m (this applies a 100% weight when k=m and decreases to 0% as k decreases. i.e. it takes larger 'steps' toward a lower k and slows down as k approaches 0)\n",
    "    5. Drop the node(s) for which the min distance is smaller than or equal to the min distance + tolerance and, of those, the max distance is the smaller than the max distance + tolerance (this steps adds maximum distance between the nodes)\n",
    "    6. Store the resulting centroids, k, and average distance between nodes\n",
    "    7. Set k equal to the resulting number of undropped nodes\n",
    "4. Review average distance for k=2 through k=m\n",
    "5. Select a reasonable k based on the average distance between nodes"
   ]
  },
  {
   "cell_type": "markdown",
   "metadata": {},
   "source": [
    "### Simulating Test Data\n",
    "\n",
    "In order to know if the algorithm works, we'll want to see how it performs on a dataset where we know results.\n",
    "\n",
    "Lets imagine we have 20 resources in 100 games and 4 somewhat-tight clusters.  In order to do this, we'll create 4 medoids by drawing from the binomial distribution with p = 0.2, 0.4, 0.6, and 0.8 for each draw being a 1 instead of a 0 for each resource within a medoid."
   ]
  },
  {
   "cell_type": "code",
   "execution_count": 2,
   "metadata": {},
   "outputs": [
    {
     "name": "stdout",
     "output_type": "stream",
     "text": [
      "[1 0 0 0 0 0 0 0 0 0 0 0 0 1 0 0 0 0 0 1]\n",
      "[0 0 0 1 0 1 1 0 0 0 1 1 0 0 0 0 0 1 0 0]\n",
      "[0 1 0 1 1 1 0 0 1 0 0 1 1 1 0 1 0 0 1 0]\n",
      "[1 1 1 1 1 1 1 0 1 0 1 1 1 0 1 1 1 1 1 1]\n"
     ]
    }
   ],
   "source": [
    "first_medoid = np.random.binomial(1, 0.2, 20)\n",
    "second_medoid = np.random.binomial(1, 0.4, 20)\n",
    "third_medoid = np.random.binomial(1, 0.6, 20)\n",
    "fourth_medoid = np.random.binomial(1, 0.8, 20)\n",
    "\n",
    "print(first_medoid)\n",
    "print(second_medoid)\n",
    "print(third_medoid)\n",
    "print(fourth_medoid)\n"
   ]
  },
  {
   "cell_type": "markdown",
   "metadata": {},
   "source": [
    "We'll want a function to measure the distance between games (as described in step 2 of the algorithm):"
   ]
  },
  {
   "cell_type": "code",
   "execution_count": 3,
   "metadata": {},
   "outputs": [],
   "source": [
    "def cluster_distance_calculator(cluster1_input, cluster2_input):\n",
    "    '''\n",
    "    input: arrays of binary data for two clusters\n",
    "    output: a distance measurement\n",
    "    method: distance is the sum of differences in the binary data, by position\n",
    "    '''\n",
    "    distance = sum(abs(cluster1_input-cluster2_input))\n",
    "    return(distance)"
   ]
  },
  {
   "cell_type": "code",
   "execution_count": 4,
   "metadata": {},
   "outputs": [
    {
     "name": "stdout",
     "output_type": "stream",
     "text": [
      "0\n",
      "9\n",
      "11\n",
      "16\n"
     ]
    }
   ],
   "source": [
    "# test it out for the distance between the first medoid and the others\n",
    "print(cluster_distance_calculator(first_medoid, first_medoid))\n",
    "print(cluster_distance_calculator(first_medoid, second_medoid))\n",
    "print(cluster_distance_calculator(first_medoid, third_medoid))\n",
    "print(cluster_distance_calculator(first_medoid, fourth_medoid))\n"
   ]
  },
  {
   "cell_type": "markdown",
   "metadata": {},
   "source": [
    "As expected, there is 0 distance for the first medoid compared to itself. Both the second and the third medoids have 9 total differences and the fourth medoid has 14. We'll want to see what the confusion matrix of each cluster's distance from each other cluster in a function for easy and comprehensive evaluation:"
   ]
  },
  {
   "cell_type": "code",
   "execution_count": 5,
   "metadata": {},
   "outputs": [],
   "source": [
    "def cluster_confusioner(cluster_list_input):\n",
    "    '''\n",
    "    input: a list of clusters of equal length\n",
    "    output: a matrix which applies the cluster_distance_calculator to each pair of clusters\n",
    "    '''\n",
    "    distance_matrix = np.empty((len(cluster_list_input), len(cluster_list_input)))\n",
    "    \n",
    "    # iterate through each comparison to populate the matrix\n",
    "    for i in range(len(cluster_list_input)):\n",
    "        for j in range(len(cluster_list_input)):\n",
    "            distance_matrix[i,j] = cluster_distance_calculator(cluster_list_input[i], cluster_list_input[j])\n",
    "    \n",
    "    return(distance_matrix)\n",
    "    "
   ]
  },
  {
   "cell_type": "code",
   "execution_count": 6,
   "metadata": {},
   "outputs": [
    {
     "data": {
      "text/plain": [
       "array([[ 0.,  9., 11., 16.],\n",
       "       [ 9.,  0., 10., 11.],\n",
       "       [11., 10.,  0.,  9.],\n",
       "       [16., 11.,  9.,  0.]])"
      ]
     },
     "execution_count": 6,
     "metadata": {},
     "output_type": "execute_result"
    }
   ],
   "source": [
    "cluster_confusioner([first_medoid, second_medoid, third_medoid, fourth_medoid])"
   ]
  },
  {
   "cell_type": "markdown",
   "metadata": {},
   "source": [
    "Here, we can see those same 0, 9, 9, 14 values across the first row and down the first column as well as the distances between the other clusters.  It looks like the maximum distance is 14 (difference between the first and fourth medoid) and the minimum distance is a three-way tie between medoids 1:2, 1:3, and 2:4 with a distance of 9.\n",
    "\n",
    "Next, we'll want to create 24 similar games per medoid to simulate a situation in which there were 4 winning sets of resources.  We'll do this by randomly selecting 0-25% of the elements in each cluster and flipping them. such that we'll have 75% to 100% similarity between each game intended for a cluster and its medoid (I say _intended_ because it's possible that, after applying the random changes, it becomes more similar to a different medoid)."
   ]
  },
  {
   "cell_type": "code",
   "execution_count": 7,
   "metadata": {},
   "outputs": [],
   "source": [
    "def cluster_creator(medoid_input, difference_percent_range, n_games):\n",
    "    '''\n",
    "    input: medoid_input is a one-dimensional array of binary data\n",
    "           difference_percent_range is a list with a min and max percent (e.g. [0,0.25] for 0-25%); cannot do <1% \n",
    "           n_games is the number of games needed in the output\n",
    "    output: a list of n games with the speficied similarity to the medoid_input\n",
    "    '''\n",
    "    \n",
    "    simulated_games = []\n",
    "    \n",
    "    for i in range(n_games):\n",
    "        # select how many elements will be changed\n",
    "        # must multiply by 100 and add 1 due to randrange needing integers and being exclusive with the high end\n",
    "        percent_change = random.randrange(difference_percent_range[0]*100, (difference_percent_range[1]+0.01)*100, 1)/100\n",
    "        \n",
    "        # convert the percent to an integer by multiplying by the total number of elements and rounding\n",
    "        element_change = round(len(medoid_input)*percent_change)\n",
    "        \n",
    "        # select which elements will be changed\n",
    "        element_change_positions = []\n",
    "        for j in range(element_change):\n",
    "            element_change_positions.append(random.randrange(0,len(medoid_input)))\n",
    "        \n",
    "        # change those elements\n",
    "        simulated_game = copy.copy(medoid_input)\n",
    "        for k in range(len(element_change_positions)):\n",
    "            if simulated_game[element_change_positions[k]]==1:\n",
    "                simulated_game[element_change_positions[k]]=0\n",
    "            else:\n",
    "                simulated_game[element_change_positions[k]]=1\n",
    "        \n",
    "        # append to list of games\n",
    "        simulated_games.append(simulated_game)\n",
    "    \n",
    "    return(simulated_games)\n",
    "        "
   ]
  },
  {
   "cell_type": "code",
   "execution_count": 8,
   "metadata": {
    "scrolled": false
   },
   "outputs": [],
   "source": [
    "# create the cluster and add the medoid to it\n",
    "first_medoid_cluster = cluster_creator(first_medoid, [0,0.25], 24)"
   ]
  },
  {
   "cell_type": "code",
   "execution_count": 9,
   "metadata": {},
   "outputs": [
    {
     "data": {
      "text/plain": [
       "[array([0, 0, 0, 0, 0, 0, 0, 0, 0, 1, 0, 0, 0, 1, 0, 0, 0, 0, 0, 0]),\n",
       " array([1, 1, 0, 0, 0, 0, 1, 0, 1, 0, 0, 0, 1, 1, 0, 0, 0, 0, 0, 1]),\n",
       " array([1, 0, 1, 0, 1, 0, 0, 0, 0, 0, 0, 0, 0, 1, 0, 0, 0, 0, 0, 1]),\n",
       " array([0, 0, 0, 0, 0, 0, 0, 1, 0, 0, 0, 0, 0, 1, 0, 0, 1, 0, 0, 1]),\n",
       " array([1, 0, 0, 0, 0, 0, 0, 0, 0, 0, 0, 0, 0, 1, 0, 0, 0, 0, 0, 1]),\n",
       " array([1, 0, 0, 0, 0, 0, 0, 0, 0, 0, 0, 0, 0, 1, 0, 0, 0, 0, 0, 1]),\n",
       " array([1, 0, 0, 0, 0, 0, 0, 0, 0, 0, 0, 0, 0, 1, 0, 0, 0, 0, 0, 0]),\n",
       " array([1, 0, 0, 0, 0, 0, 0, 0, 0, 0, 0, 1, 1, 1, 0, 0, 0, 1, 0, 1]),\n",
       " array([1, 0, 0, 0, 0, 0, 0, 0, 0, 0, 0, 0, 0, 1, 0, 0, 0, 0, 0, 1]),\n",
       " array([0, 0, 0, 0, 0, 0, 0, 1, 0, 0, 0, 0, 0, 1, 0, 0, 0, 0, 0, 1]),\n",
       " array([1, 0, 0, 1, 0, 0, 0, 0, 1, 0, 0, 0, 0, 0, 0, 0, 0, 0, 0, 1]),\n",
       " array([1, 0, 0, 1, 0, 0, 0, 0, 1, 0, 0, 0, 0, 1, 0, 0, 0, 1, 0, 0]),\n",
       " array([1, 0, 0, 0, 1, 0, 0, 0, 0, 0, 0, 0, 0, 1, 0, 0, 0, 0, 0, 1]),\n",
       " array([1, 0, 0, 0, 0, 0, 0, 0, 1, 0, 0, 0, 0, 1, 0, 0, 1, 0, 0, 1]),\n",
       " array([1, 0, 0, 0, 0, 0, 0, 0, 0, 0, 0, 0, 0, 1, 0, 0, 0, 0, 0, 1]),\n",
       " array([1, 0, 0, 0, 0, 0, 0, 1, 0, 0, 0, 0, 0, 1, 0, 0, 0, 0, 0, 1]),\n",
       " array([0, 0, 0, 1, 0, 0, 0, 0, 0, 0, 1, 0, 0, 0, 0, 0, 0, 0, 0, 1]),\n",
       " array([1, 0, 0, 0, 0, 0, 0, 0, 0, 1, 0, 0, 0, 1, 0, 0, 0, 0, 0, 1]),\n",
       " array([1, 0, 0, 0, 0, 0, 0, 0, 0, 0, 1, 0, 0, 1, 1, 0, 1, 0, 0, 1]),\n",
       " array([1, 0, 1, 0, 0, 0, 0, 0, 0, 0, 0, 0, 0, 1, 0, 0, 1, 0, 0, 1]),\n",
       " array([1, 0, 0, 0, 0, 0, 0, 0, 0, 0, 0, 0, 0, 1, 0, 0, 0, 0, 0, 1]),\n",
       " array([1, 0, 0, 1, 0, 0, 0, 0, 1, 0, 0, 0, 0, 1, 0, 0, 0, 0, 0, 1]),\n",
       " array([1, 0, 0, 0, 0, 0, 0, 0, 0, 0, 0, 0, 0, 1, 0, 0, 0, 0, 1, 1]),\n",
       " array([1, 0, 0, 0, 0, 1, 0, 0, 0, 0, 0, 0, 0, 1, 0, 0, 1, 0, 0, 1])]"
      ]
     },
     "execution_count": 9,
     "metadata": {},
     "output_type": "execute_result"
    }
   ],
   "source": [
    "first_medoid_cluster"
   ]
  },
  {
   "cell_type": "markdown",
   "metadata": {},
   "source": [
    "Looks right, but just to test, let's make sure the differences between each simulated game and the medoid is less than or equal to 25% (5 elements of the 20):"
   ]
  },
  {
   "cell_type": "code",
   "execution_count": 10,
   "metadata": {
    "scrolled": false
   },
   "outputs": [
    {
     "name": "stdout",
     "output_type": "stream",
     "text": [
      "4\n"
     ]
    }
   ],
   "source": [
    "distances = []\n",
    "for i in range(len(first_medoid_cluster)):\n",
    "    distances = distances + [cluster_distance_calculator(first_medoid, first_medoid_cluster[i])]\n",
    "print(max(distances))"
   ]
  },
  {
   "cell_type": "markdown",
   "metadata": {},
   "source": [
    "Perfect! now to create the other clusters of games around the other medoids."
   ]
  },
  {
   "cell_type": "code",
   "execution_count": 11,
   "metadata": {},
   "outputs": [],
   "source": [
    "second_medoid_cluster = cluster_creator(second_medoid, [0,0.25], 24)\n",
    "third_medoid_cluster = cluster_creator(third_medoid, [0,0.25], 24)\n",
    "fourth_medoid_cluster = cluster_creator(fourth_medoid, [0,0.25], 24)"
   ]
  },
  {
   "cell_type": "markdown",
   "metadata": {},
   "source": [
    "Finally, we can stitch all the games together into one dataframe:"
   ]
  },
  {
   "cell_type": "code",
   "execution_count": 12,
   "metadata": {},
   "outputs": [],
   "source": [
    "simulated_games = [first_medoid] + first_medoid_cluster + [second_medoid] + second_medoid_cluster +\\\n",
    "[third_medoid] + third_medoid_cluster + [fourth_medoid] + fourth_medoid_cluster"
   ]
  },
  {
   "cell_type": "code",
   "execution_count": 13,
   "metadata": {},
   "outputs": [],
   "source": [
    "simulated_games = pd.DataFrame(np.array(simulated_games))"
   ]
  },
  {
   "cell_type": "code",
   "execution_count": 14,
   "metadata": {},
   "outputs": [
    {
     "data": {
      "text/html": [
       "<div>\n",
       "<style scoped>\n",
       "    .dataframe tbody tr th:only-of-type {\n",
       "        vertical-align: middle;\n",
       "    }\n",
       "\n",
       "    .dataframe tbody tr th {\n",
       "        vertical-align: top;\n",
       "    }\n",
       "\n",
       "    .dataframe thead th {\n",
       "        text-align: right;\n",
       "    }\n",
       "</style>\n",
       "<table border=\"1\" class=\"dataframe\">\n",
       "  <thead>\n",
       "    <tr style=\"text-align: right;\">\n",
       "      <th></th>\n",
       "      <th>0</th>\n",
       "      <th>1</th>\n",
       "      <th>2</th>\n",
       "      <th>3</th>\n",
       "      <th>4</th>\n",
       "      <th>5</th>\n",
       "      <th>6</th>\n",
       "      <th>7</th>\n",
       "      <th>8</th>\n",
       "      <th>9</th>\n",
       "      <th>10</th>\n",
       "      <th>11</th>\n",
       "      <th>12</th>\n",
       "      <th>13</th>\n",
       "      <th>14</th>\n",
       "      <th>15</th>\n",
       "      <th>16</th>\n",
       "      <th>17</th>\n",
       "      <th>18</th>\n",
       "      <th>19</th>\n",
       "    </tr>\n",
       "  </thead>\n",
       "  <tbody>\n",
       "    <tr>\n",
       "      <td>0</td>\n",
       "      <td>1</td>\n",
       "      <td>0</td>\n",
       "      <td>0</td>\n",
       "      <td>0</td>\n",
       "      <td>0</td>\n",
       "      <td>0</td>\n",
       "      <td>0</td>\n",
       "      <td>0</td>\n",
       "      <td>0</td>\n",
       "      <td>0</td>\n",
       "      <td>0</td>\n",
       "      <td>0</td>\n",
       "      <td>0</td>\n",
       "      <td>1</td>\n",
       "      <td>0</td>\n",
       "      <td>0</td>\n",
       "      <td>0</td>\n",
       "      <td>0</td>\n",
       "      <td>0</td>\n",
       "      <td>1</td>\n",
       "    </tr>\n",
       "    <tr>\n",
       "      <td>1</td>\n",
       "      <td>0</td>\n",
       "      <td>0</td>\n",
       "      <td>0</td>\n",
       "      <td>0</td>\n",
       "      <td>0</td>\n",
       "      <td>0</td>\n",
       "      <td>0</td>\n",
       "      <td>0</td>\n",
       "      <td>0</td>\n",
       "      <td>1</td>\n",
       "      <td>0</td>\n",
       "      <td>0</td>\n",
       "      <td>0</td>\n",
       "      <td>1</td>\n",
       "      <td>0</td>\n",
       "      <td>0</td>\n",
       "      <td>0</td>\n",
       "      <td>0</td>\n",
       "      <td>0</td>\n",
       "      <td>0</td>\n",
       "    </tr>\n",
       "    <tr>\n",
       "      <td>2</td>\n",
       "      <td>1</td>\n",
       "      <td>1</td>\n",
       "      <td>0</td>\n",
       "      <td>0</td>\n",
       "      <td>0</td>\n",
       "      <td>0</td>\n",
       "      <td>1</td>\n",
       "      <td>0</td>\n",
       "      <td>1</td>\n",
       "      <td>0</td>\n",
       "      <td>0</td>\n",
       "      <td>0</td>\n",
       "      <td>1</td>\n",
       "      <td>1</td>\n",
       "      <td>0</td>\n",
       "      <td>0</td>\n",
       "      <td>0</td>\n",
       "      <td>0</td>\n",
       "      <td>0</td>\n",
       "      <td>1</td>\n",
       "    </tr>\n",
       "    <tr>\n",
       "      <td>3</td>\n",
       "      <td>1</td>\n",
       "      <td>0</td>\n",
       "      <td>1</td>\n",
       "      <td>0</td>\n",
       "      <td>1</td>\n",
       "      <td>0</td>\n",
       "      <td>0</td>\n",
       "      <td>0</td>\n",
       "      <td>0</td>\n",
       "      <td>0</td>\n",
       "      <td>0</td>\n",
       "      <td>0</td>\n",
       "      <td>0</td>\n",
       "      <td>1</td>\n",
       "      <td>0</td>\n",
       "      <td>0</td>\n",
       "      <td>0</td>\n",
       "      <td>0</td>\n",
       "      <td>0</td>\n",
       "      <td>1</td>\n",
       "    </tr>\n",
       "    <tr>\n",
       "      <td>4</td>\n",
       "      <td>0</td>\n",
       "      <td>0</td>\n",
       "      <td>0</td>\n",
       "      <td>0</td>\n",
       "      <td>0</td>\n",
       "      <td>0</td>\n",
       "      <td>0</td>\n",
       "      <td>1</td>\n",
       "      <td>0</td>\n",
       "      <td>0</td>\n",
       "      <td>0</td>\n",
       "      <td>0</td>\n",
       "      <td>0</td>\n",
       "      <td>1</td>\n",
       "      <td>0</td>\n",
       "      <td>0</td>\n",
       "      <td>1</td>\n",
       "      <td>0</td>\n",
       "      <td>0</td>\n",
       "      <td>1</td>\n",
       "    </tr>\n",
       "    <tr>\n",
       "      <td>...</td>\n",
       "      <td>...</td>\n",
       "      <td>...</td>\n",
       "      <td>...</td>\n",
       "      <td>...</td>\n",
       "      <td>...</td>\n",
       "      <td>...</td>\n",
       "      <td>...</td>\n",
       "      <td>...</td>\n",
       "      <td>...</td>\n",
       "      <td>...</td>\n",
       "      <td>...</td>\n",
       "      <td>...</td>\n",
       "      <td>...</td>\n",
       "      <td>...</td>\n",
       "      <td>...</td>\n",
       "      <td>...</td>\n",
       "      <td>...</td>\n",
       "      <td>...</td>\n",
       "      <td>...</td>\n",
       "      <td>...</td>\n",
       "    </tr>\n",
       "    <tr>\n",
       "      <td>95</td>\n",
       "      <td>1</td>\n",
       "      <td>1</td>\n",
       "      <td>1</td>\n",
       "      <td>1</td>\n",
       "      <td>1</td>\n",
       "      <td>0</td>\n",
       "      <td>1</td>\n",
       "      <td>1</td>\n",
       "      <td>1</td>\n",
       "      <td>0</td>\n",
       "      <td>1</td>\n",
       "      <td>0</td>\n",
       "      <td>1</td>\n",
       "      <td>0</td>\n",
       "      <td>1</td>\n",
       "      <td>1</td>\n",
       "      <td>0</td>\n",
       "      <td>1</td>\n",
       "      <td>1</td>\n",
       "      <td>1</td>\n",
       "    </tr>\n",
       "    <tr>\n",
       "      <td>96</td>\n",
       "      <td>0</td>\n",
       "      <td>1</td>\n",
       "      <td>1</td>\n",
       "      <td>1</td>\n",
       "      <td>1</td>\n",
       "      <td>1</td>\n",
       "      <td>1</td>\n",
       "      <td>0</td>\n",
       "      <td>0</td>\n",
       "      <td>0</td>\n",
       "      <td>1</td>\n",
       "      <td>1</td>\n",
       "      <td>1</td>\n",
       "      <td>0</td>\n",
       "      <td>1</td>\n",
       "      <td>1</td>\n",
       "      <td>1</td>\n",
       "      <td>1</td>\n",
       "      <td>1</td>\n",
       "      <td>1</td>\n",
       "    </tr>\n",
       "    <tr>\n",
       "      <td>97</td>\n",
       "      <td>1</td>\n",
       "      <td>1</td>\n",
       "      <td>1</td>\n",
       "      <td>1</td>\n",
       "      <td>1</td>\n",
       "      <td>1</td>\n",
       "      <td>1</td>\n",
       "      <td>0</td>\n",
       "      <td>1</td>\n",
       "      <td>0</td>\n",
       "      <td>1</td>\n",
       "      <td>1</td>\n",
       "      <td>1</td>\n",
       "      <td>0</td>\n",
       "      <td>1</td>\n",
       "      <td>1</td>\n",
       "      <td>1</td>\n",
       "      <td>1</td>\n",
       "      <td>1</td>\n",
       "      <td>1</td>\n",
       "    </tr>\n",
       "    <tr>\n",
       "      <td>98</td>\n",
       "      <td>0</td>\n",
       "      <td>1</td>\n",
       "      <td>0</td>\n",
       "      <td>1</td>\n",
       "      <td>0</td>\n",
       "      <td>1</td>\n",
       "      <td>1</td>\n",
       "      <td>0</td>\n",
       "      <td>1</td>\n",
       "      <td>0</td>\n",
       "      <td>1</td>\n",
       "      <td>1</td>\n",
       "      <td>1</td>\n",
       "      <td>0</td>\n",
       "      <td>1</td>\n",
       "      <td>1</td>\n",
       "      <td>0</td>\n",
       "      <td>1</td>\n",
       "      <td>1</td>\n",
       "      <td>1</td>\n",
       "    </tr>\n",
       "    <tr>\n",
       "      <td>99</td>\n",
       "      <td>1</td>\n",
       "      <td>1</td>\n",
       "      <td>1</td>\n",
       "      <td>1</td>\n",
       "      <td>1</td>\n",
       "      <td>1</td>\n",
       "      <td>1</td>\n",
       "      <td>0</td>\n",
       "      <td>1</td>\n",
       "      <td>0</td>\n",
       "      <td>1</td>\n",
       "      <td>1</td>\n",
       "      <td>1</td>\n",
       "      <td>0</td>\n",
       "      <td>1</td>\n",
       "      <td>0</td>\n",
       "      <td>1</td>\n",
       "      <td>1</td>\n",
       "      <td>1</td>\n",
       "      <td>0</td>\n",
       "    </tr>\n",
       "  </tbody>\n",
       "</table>\n",
       "<p>100 rows × 20 columns</p>\n",
       "</div>"
      ],
      "text/plain": [
       "    0  1  2  3  4  5  6  7  8  9  10  11  12  13  14  15  16  17  18  19\n",
       "0   1  0  0  0  0  0  0  0  0  0   0   0   0   1   0   0   0   0   0   1\n",
       "1   0  0  0  0  0  0  0  0  0  1   0   0   0   1   0   0   0   0   0   0\n",
       "2   1  1  0  0  0  0  1  0  1  0   0   0   1   1   0   0   0   0   0   1\n",
       "3   1  0  1  0  1  0  0  0  0  0   0   0   0   1   0   0   0   0   0   1\n",
       "4   0  0  0  0  0  0  0  1  0  0   0   0   0   1   0   0   1   0   0   1\n",
       ".. .. .. .. .. .. .. .. .. .. ..  ..  ..  ..  ..  ..  ..  ..  ..  ..  ..\n",
       "95  1  1  1  1  1  0  1  1  1  0   1   0   1   0   1   1   0   1   1   1\n",
       "96  0  1  1  1  1  1  1  0  0  0   1   1   1   0   1   1   1   1   1   1\n",
       "97  1  1  1  1  1  1  1  0  1  0   1   1   1   0   1   1   1   1   1   1\n",
       "98  0  1  0  1  0  1  1  0  1  0   1   1   1   0   1   1   0   1   1   1\n",
       "99  1  1  1  1  1  1  1  0  1  0   1   1   1   0   1   0   1   1   1   0\n",
       "\n",
       "[100 rows x 20 columns]"
      ]
     },
     "execution_count": 14,
     "metadata": {},
     "output_type": "execute_result"
    }
   ],
   "source": [
    "simulated_games"
   ]
  },
  {
   "cell_type": "markdown",
   "metadata": {},
   "source": [
    "### Building the Clustering Algorithm\n",
    "So now, in total, we have 100 games of 20 resources with 25 in each cluster centered around 4 medoids. This is roughly what we should expect to find with the actual game data so it should serve as a relevant proxy.\n",
    "\n",
    "To restate the goal of the Algorithm:  \n",
    "**Clustering Algorithm**\n",
    "1. Start with clusters equal to the number of nodes (k=m)\n",
    "2. While k>=1:\n",
    "    1. Calculate the distance between each node and every other node where distance is the sum of resources that don't match (i.e. if a card is in both decks, that resource adds 0 distance, but it if is in one and not the other, then it adds 1 distance.  \"Distance\" is the sum of all these resource differences)\n",
    "    2. For each node, calculate the nearest node(s) via distance + a user-defined tolerance distance and merge with the node via taking the mean \n",
    "    3. For each merged node, calculate the distances to all other merged nodes and the min and max distances per merged node.\n",
    "    4. For each min and max distance, add a weighted user-defined tolerance distance percent where the weight is relative to k such that weight = k/m (this applies a 100% weight when k=m and decreases to 0% as k decreases. i.e. it takes larger 'steps' toward a lower k and slows down as k approaches 0)\n",
    "    5. Drop the node(s) for which the min distance is smaller than or equal to the min distance + tolerance and, of those, the max distance is the smaller than the max distance + tolerance (this steps adds maximum distance between the nodes)\n",
    "    6. Store the resulting centroids, k, and average distance between nodes\n",
    "    7. Set k equal to the resulting number of undropped nodes\n",
    "4. Review average distance for k=2 through k=m\n",
    "5. Select a reasonable k based on the average distance between nodes"
   ]
  },
  {
   "cell_type": "markdown",
   "metadata": {},
   "source": [
    "As per 2A., we'll want to be able to calculate the distance between each node and every other node:"
   ]
  },
  {
   "cell_type": "code",
   "execution_count": 15,
   "metadata": {},
   "outputs": [],
   "source": [
    "def node_distancer(resource_dataframe_input):\n",
    "    '''\n",
    "    input: resouce_dataframe_input is a dataframe with resources in the columns and games in the rows with \n",
    "            binary data filling the table.\n",
    "           k_input is the number of clusters\n",
    "    output: k centroids\n",
    "    '''\n",
    "    # create empty array to hold all the distances comparing each combination\n",
    "    all_node_distances = np.zeros([len(resource_dataframe_input),len(resource_dataframe_input)])\n",
    "    # calculate distance between the ith game and the jth game\n",
    "    for i in range(len(all_node_distances)):\n",
    "        for j in range(len(all_node_distances)):\n",
    "            all_node_distances[i,j] = cluster_distance_calculator(resource_dataframe_input.iloc[i], resource_dataframe_input.iloc[j])\n",
    "    \n",
    "    return(all_node_distances)"
   ]
  },
  {
   "cell_type": "code",
   "execution_count": 16,
   "metadata": {},
   "outputs": [],
   "source": [
    "simulated_node_distances = node_distancer(simulated_games)"
   ]
  },
  {
   "cell_type": "code",
   "execution_count": 17,
   "metadata": {},
   "outputs": [
    {
     "data": {
      "text/plain": [
       "array([[ 0.,  3.,  4., ..., 16., 14., 16.],\n",
       "       [ 3.,  0.,  7., ..., 19., 15., 17.],\n",
       "       [ 4.,  7.,  0., ..., 12., 10., 12.],\n",
       "       ...,\n",
       "       [16., 19., 12., ...,  0.,  4.,  2.],\n",
       "       [14., 15., 10., ...,  4.,  0.,  6.],\n",
       "       [16., 17., 12., ...,  2.,  6.,  0.]])"
      ]
     },
     "execution_count": 17,
     "metadata": {},
     "output_type": "execute_result"
    }
   ],
   "source": [
    "simulated_node_distances"
   ]
  },
  {
   "cell_type": "markdown",
   "metadata": {},
   "source": [
    "Above is a 100x100 array which shows the distance of each node to every other node.  Below is just the first row, which compares the first node to all 100 other nodes, separated by cluster:"
   ]
  },
  {
   "cell_type": "code",
   "execution_count": 18,
   "metadata": {},
   "outputs": [
    {
     "name": "stdout",
     "output_type": "stream",
     "text": [
      "[0. 3. 4. 2. 3. 0. 0. 1. 3. 0. 2. 3. 4. 1. 2. 0. 1. 4. 1. 3. 2. 0. 2. 1.\n",
      " 2.]\n",
      "[ 9.  9. 10.  7. 11. 11. 11.  8.  5.  9. 11.  9.  9.  8. 10. 11.  6.  8.\n",
      "  9. 11.  8.  9.  8. 10. 10.]\n",
      "[11.  9. 12. 10.  8. 12.  9. 10. 14.  9. 10. 11. 13. 10. 13. 11.  8. 10.\n",
      " 12. 10. 12.  7. 11. 11. 12.]\n",
      "[16. 15. 17. 16. 16. 16. 12. 15. 15. 14. 14. 16. 15. 13. 14. 16. 16. 16.\n",
      " 14. 12. 14. 16. 16. 14. 16.]\n"
     ]
    }
   ],
   "source": [
    "print(simulated_node_distances[0,0:25])\n",
    "print(simulated_node_distances[0,25:50])\n",
    "print(simulated_node_distances[0,50:75])\n",
    "print(simulated_node_distances[0,75:100])"
   ]
  },
  {
   "cell_type": "markdown",
   "metadata": {},
   "source": [
    "Above is the first row of what I'm calling a 'node' distance separated into each of the medoid-centered groupings.  In this case, the node is 1 game, but we'll eventually be merging games of resources together so it's easier to call these the more generic 'node' than calling it 'the combination of game 1, game 10,..., game n'.  \n",
    "\n",
    "What it's showing is that the distance between the first node and itself is, as expected, 0 and the distances between the first node and the others centered around that medoid ranges between 0 and 5.  Compared to the second medoid and the simulated games around it, we see values from 9 to 12. We see a difference of 8-13 for the third medoid cluster and 12-17 for the fourth medoid cluster. In all, it seems to be working as expected.\n",
    "\n",
    "At step 2B. in the algorithm, we calculate the nearest node and combine the two by taking the average of the resources. As can be seen, the nearest of all the nodes (that isn't itself) is 1 and there are 7 nodes that have the same distance.  This means that 7 nodes have only a 1-resource difference to the first node. I'm not exactly sure how to handle ties, but it seems reasonable to simply take an average across all nodes that are equally close.  I can imagine a better (and more complex) strategy doing backtracking and seeing which node-pairing results in a smaller distance in the n+1 iteration and going with that, but I'll keep this version simple. \n",
    "\n",
    "As per this plan, let's create a function which creates a new node based on an average of the equally-close nodes:"
   ]
  },
  {
   "cell_type": "code",
   "execution_count": 19,
   "metadata": {},
   "outputs": [],
   "source": [
    "def node_averager(list_of_nodes):\n",
    "    return(np.mean((list_of_nodes), axis = 0))"
   ]
  },
  {
   "cell_type": "markdown",
   "metadata": {},
   "source": [
    "Next, for each row of 100 distances, we'll want to select the node(s) with the equally-minimal distance from the original node to send to the `node_averager()` and store the resulting nodes along with indices for the nodes included.  In other words, in the case of the first iteration when the nodes are equal to the games, we're finding the most similar other game(s) and creating an average new node."
   ]
  },
  {
   "cell_type": "code",
   "execution_count": 20,
   "metadata": {},
   "outputs": [],
   "source": [
    "def new_noder(node_table_input, node_distance_table_input, node_index, tolerance_input):\n",
    "    '''\n",
    "    inputs: resource_table_input: a table with games in the rows and resources in the columns (mxn)\n",
    "            node_distance_table_input: an array of node distances (mxm)\n",
    "            node_index: an integer value (should range from 0 to m)\n",
    "            tolerance_input: value to be added to the minimum distance to be included in the closest nodes\n",
    "    output: a tuple of a new average node and a list of the nodes averaged together\n",
    "    '''\n",
    "    node_distances = node_distance_table_input[node_index]\n",
    "    min_distance = min(node_distances[1:])+tolerance_input # find the closest node(s) that aren't the primary node\n",
    "    closest_node_indices = np.where(node_distances<=min_distance)[0] # [0] since these are 1-dimensional slices\n",
    "    \n",
    "    # grab the closest nodes and put into a list\n",
    "    closest_nodes = []\n",
    "    for i in range(len(closest_node_indices)):\n",
    "        closest_nodes.append(node_table_input.iloc[closest_node_indices[i]].values)\n",
    "    \n",
    "    # grab primary_node and add to the list of closest_nodes\n",
    "    primary_node = node_table_input.iloc[node_index].values\n",
    "    closest_nodes.append(primary_node)\n",
    "    \n",
    "    # take an average of the primary and closest node(s)\n",
    "    new_node = node_averager(closest_nodes)\n",
    "    \n",
    "    return([new_node,[node_index,closest_node_indices]])\n",
    "    "
   ]
  },
  {
   "cell_type": "code",
   "execution_count": 21,
   "metadata": {},
   "outputs": [],
   "source": [
    "new_node = new_noder(simulated_games, simulated_node_distances, 0,0)"
   ]
  },
  {
   "cell_type": "markdown",
   "metadata": {},
   "source": [
    "Excellent! We now have a way of generating a new node, which is the average of the closest nodes (within some tolerance), along with the indices for the primary node and the nodes closest.  \n",
    "\n",
    "As per the algorithm, we'll want to do this for all nodes before calculating the distances between each of them and removing the closest."
   ]
  },
  {
   "cell_type": "code",
   "execution_count": 311,
   "metadata": {},
   "outputs": [],
   "source": [
    "def node_updater(node_table_input, node_distance_table_input, tolerance_input = 1):\n",
    "    '''\n",
    "    input: node_table_intput: a dataframe with observations in rows and features in columns with values between 0 and 1\n",
    "           node_distance_table_input: an array of distances between nodes\n",
    "           tolerance_input: value to be added to the minimum distance to be included in the closest nodes\n",
    "    output: a dataframe of the hybrid average-closest nodes\n",
    "    '''\n",
    "    new_resource_list = []\n",
    "    for i in range(len(node_table_input)):\n",
    "        new_resource_list.append(new_noder(node_table_input, node_distance_table_input,i,tolerance_input)[0])\n",
    "    \n",
    "    # convert to dataframe\n",
    "    updated_node_table = pd.DataFrame(np.array(new_resource_list))\n",
    "    \n",
    "    return(updated_node_table)"
   ]
  },
  {
   "cell_type": "code",
   "execution_count": 23,
   "metadata": {},
   "outputs": [],
   "source": [
    "simulated_games_step2 = node_updater(simulated_games, simulated_node_distances,1)"
   ]
  },
  {
   "cell_type": "code",
   "execution_count": 24,
   "metadata": {},
   "outputs": [
    {
     "data": {
      "text/html": [
       "<div>\n",
       "<style scoped>\n",
       "    .dataframe tbody tr th:only-of-type {\n",
       "        vertical-align: middle;\n",
       "    }\n",
       "\n",
       "    .dataframe tbody tr th {\n",
       "        vertical-align: top;\n",
       "    }\n",
       "\n",
       "    .dataframe thead th {\n",
       "        text-align: right;\n",
       "    }\n",
       "</style>\n",
       "<table border=\"1\" class=\"dataframe\">\n",
       "  <thead>\n",
       "    <tr style=\"text-align: right;\">\n",
       "      <th></th>\n",
       "      <th>0</th>\n",
       "      <th>1</th>\n",
       "      <th>2</th>\n",
       "      <th>3</th>\n",
       "      <th>4</th>\n",
       "      <th>5</th>\n",
       "      <th>6</th>\n",
       "      <th>7</th>\n",
       "      <th>8</th>\n",
       "      <th>9</th>\n",
       "      <th>10</th>\n",
       "      <th>11</th>\n",
       "      <th>12</th>\n",
       "      <th>13</th>\n",
       "      <th>14</th>\n",
       "      <th>15</th>\n",
       "      <th>16</th>\n",
       "      <th>17</th>\n",
       "      <th>18</th>\n",
       "      <th>19</th>\n",
       "    </tr>\n",
       "  </thead>\n",
       "  <tbody>\n",
       "    <tr>\n",
       "      <td>0</td>\n",
       "      <td>1.000000</td>\n",
       "      <td>0.000000</td>\n",
       "      <td>0.000000</td>\n",
       "      <td>0.0</td>\n",
       "      <td>0.083333</td>\n",
       "      <td>0.0</td>\n",
       "      <td>0.000000</td>\n",
       "      <td>0.083333</td>\n",
       "      <td>0.000000</td>\n",
       "      <td>0.083333</td>\n",
       "      <td>0.0</td>\n",
       "      <td>0.0</td>\n",
       "      <td>0.000000</td>\n",
       "      <td>1.0</td>\n",
       "      <td>0.0</td>\n",
       "      <td>0.0</td>\n",
       "      <td>0.000000</td>\n",
       "      <td>0.0</td>\n",
       "      <td>0.083333</td>\n",
       "      <td>0.916667</td>\n",
       "    </tr>\n",
       "    <tr>\n",
       "      <td>1</td>\n",
       "      <td>0.000000</td>\n",
       "      <td>0.000000</td>\n",
       "      <td>0.000000</td>\n",
       "      <td>0.0</td>\n",
       "      <td>0.000000</td>\n",
       "      <td>0.0</td>\n",
       "      <td>0.000000</td>\n",
       "      <td>0.000000</td>\n",
       "      <td>0.000000</td>\n",
       "      <td>1.000000</td>\n",
       "      <td>0.0</td>\n",
       "      <td>0.0</td>\n",
       "      <td>0.000000</td>\n",
       "      <td>1.0</td>\n",
       "      <td>0.0</td>\n",
       "      <td>0.0</td>\n",
       "      <td>0.000000</td>\n",
       "      <td>0.0</td>\n",
       "      <td>0.000000</td>\n",
       "      <td>0.000000</td>\n",
       "    </tr>\n",
       "    <tr>\n",
       "      <td>2</td>\n",
       "      <td>1.000000</td>\n",
       "      <td>1.000000</td>\n",
       "      <td>0.000000</td>\n",
       "      <td>0.0</td>\n",
       "      <td>0.000000</td>\n",
       "      <td>0.0</td>\n",
       "      <td>1.000000</td>\n",
       "      <td>0.000000</td>\n",
       "      <td>1.000000</td>\n",
       "      <td>0.000000</td>\n",
       "      <td>0.0</td>\n",
       "      <td>0.0</td>\n",
       "      <td>1.000000</td>\n",
       "      <td>1.0</td>\n",
       "      <td>0.0</td>\n",
       "      <td>0.0</td>\n",
       "      <td>0.000000</td>\n",
       "      <td>0.0</td>\n",
       "      <td>0.000000</td>\n",
       "      <td>1.000000</td>\n",
       "    </tr>\n",
       "    <tr>\n",
       "      <td>3</td>\n",
       "      <td>1.000000</td>\n",
       "      <td>0.000000</td>\n",
       "      <td>0.666667</td>\n",
       "      <td>0.0</td>\n",
       "      <td>1.000000</td>\n",
       "      <td>0.0</td>\n",
       "      <td>0.000000</td>\n",
       "      <td>0.000000</td>\n",
       "      <td>0.000000</td>\n",
       "      <td>0.000000</td>\n",
       "      <td>0.0</td>\n",
       "      <td>0.0</td>\n",
       "      <td>0.000000</td>\n",
       "      <td>1.0</td>\n",
       "      <td>0.0</td>\n",
       "      <td>0.0</td>\n",
       "      <td>0.000000</td>\n",
       "      <td>0.0</td>\n",
       "      <td>0.000000</td>\n",
       "      <td>1.000000</td>\n",
       "    </tr>\n",
       "    <tr>\n",
       "      <td>4</td>\n",
       "      <td>0.000000</td>\n",
       "      <td>0.000000</td>\n",
       "      <td>0.000000</td>\n",
       "      <td>0.0</td>\n",
       "      <td>0.000000</td>\n",
       "      <td>0.0</td>\n",
       "      <td>0.000000</td>\n",
       "      <td>1.000000</td>\n",
       "      <td>0.000000</td>\n",
       "      <td>0.000000</td>\n",
       "      <td>0.0</td>\n",
       "      <td>0.0</td>\n",
       "      <td>0.000000</td>\n",
       "      <td>1.0</td>\n",
       "      <td>0.0</td>\n",
       "      <td>0.0</td>\n",
       "      <td>0.666667</td>\n",
       "      <td>0.0</td>\n",
       "      <td>0.000000</td>\n",
       "      <td>1.000000</td>\n",
       "    </tr>\n",
       "    <tr>\n",
       "      <td>...</td>\n",
       "      <td>...</td>\n",
       "      <td>...</td>\n",
       "      <td>...</td>\n",
       "      <td>...</td>\n",
       "      <td>...</td>\n",
       "      <td>...</td>\n",
       "      <td>...</td>\n",
       "      <td>...</td>\n",
       "      <td>...</td>\n",
       "      <td>...</td>\n",
       "      <td>...</td>\n",
       "      <td>...</td>\n",
       "      <td>...</td>\n",
       "      <td>...</td>\n",
       "      <td>...</td>\n",
       "      <td>...</td>\n",
       "      <td>...</td>\n",
       "      <td>...</td>\n",
       "      <td>...</td>\n",
       "      <td>...</td>\n",
       "    </tr>\n",
       "    <tr>\n",
       "      <td>95</td>\n",
       "      <td>1.000000</td>\n",
       "      <td>1.000000</td>\n",
       "      <td>1.000000</td>\n",
       "      <td>1.0</td>\n",
       "      <td>1.000000</td>\n",
       "      <td>0.0</td>\n",
       "      <td>1.000000</td>\n",
       "      <td>1.000000</td>\n",
       "      <td>1.000000</td>\n",
       "      <td>0.000000</td>\n",
       "      <td>1.0</td>\n",
       "      <td>0.0</td>\n",
       "      <td>1.000000</td>\n",
       "      <td>0.0</td>\n",
       "      <td>1.0</td>\n",
       "      <td>1.0</td>\n",
       "      <td>0.000000</td>\n",
       "      <td>1.0</td>\n",
       "      <td>1.000000</td>\n",
       "      <td>1.000000</td>\n",
       "    </tr>\n",
       "    <tr>\n",
       "      <td>96</td>\n",
       "      <td>0.000000</td>\n",
       "      <td>1.000000</td>\n",
       "      <td>1.000000</td>\n",
       "      <td>1.0</td>\n",
       "      <td>1.000000</td>\n",
       "      <td>1.0</td>\n",
       "      <td>1.000000</td>\n",
       "      <td>0.000000</td>\n",
       "      <td>0.333333</td>\n",
       "      <td>0.000000</td>\n",
       "      <td>1.0</td>\n",
       "      <td>1.0</td>\n",
       "      <td>1.000000</td>\n",
       "      <td>0.0</td>\n",
       "      <td>1.0</td>\n",
       "      <td>1.0</td>\n",
       "      <td>1.000000</td>\n",
       "      <td>1.0</td>\n",
       "      <td>1.000000</td>\n",
       "      <td>1.000000</td>\n",
       "    </tr>\n",
       "    <tr>\n",
       "      <td>97</td>\n",
       "      <td>0.909091</td>\n",
       "      <td>0.909091</td>\n",
       "      <td>1.000000</td>\n",
       "      <td>1.0</td>\n",
       "      <td>1.000000</td>\n",
       "      <td>1.0</td>\n",
       "      <td>0.909091</td>\n",
       "      <td>0.000000</td>\n",
       "      <td>1.000000</td>\n",
       "      <td>0.000000</td>\n",
       "      <td>1.0</td>\n",
       "      <td>1.0</td>\n",
       "      <td>0.909091</td>\n",
       "      <td>0.0</td>\n",
       "      <td>1.0</td>\n",
       "      <td>1.0</td>\n",
       "      <td>1.000000</td>\n",
       "      <td>1.0</td>\n",
       "      <td>1.000000</td>\n",
       "      <td>1.000000</td>\n",
       "    </tr>\n",
       "    <tr>\n",
       "      <td>98</td>\n",
       "      <td>0.000000</td>\n",
       "      <td>1.000000</td>\n",
       "      <td>0.000000</td>\n",
       "      <td>1.0</td>\n",
       "      <td>0.000000</td>\n",
       "      <td>1.0</td>\n",
       "      <td>1.000000</td>\n",
       "      <td>0.000000</td>\n",
       "      <td>1.000000</td>\n",
       "      <td>0.000000</td>\n",
       "      <td>1.0</td>\n",
       "      <td>1.0</td>\n",
       "      <td>1.000000</td>\n",
       "      <td>0.0</td>\n",
       "      <td>1.0</td>\n",
       "      <td>1.0</td>\n",
       "      <td>0.000000</td>\n",
       "      <td>1.0</td>\n",
       "      <td>1.000000</td>\n",
       "      <td>1.000000</td>\n",
       "    </tr>\n",
       "    <tr>\n",
       "      <td>99</td>\n",
       "      <td>1.000000</td>\n",
       "      <td>1.000000</td>\n",
       "      <td>1.000000</td>\n",
       "      <td>1.0</td>\n",
       "      <td>1.000000</td>\n",
       "      <td>1.0</td>\n",
       "      <td>1.000000</td>\n",
       "      <td>0.000000</td>\n",
       "      <td>1.000000</td>\n",
       "      <td>0.000000</td>\n",
       "      <td>1.0</td>\n",
       "      <td>1.0</td>\n",
       "      <td>1.000000</td>\n",
       "      <td>0.0</td>\n",
       "      <td>1.0</td>\n",
       "      <td>0.0</td>\n",
       "      <td>1.000000</td>\n",
       "      <td>1.0</td>\n",
       "      <td>1.000000</td>\n",
       "      <td>0.000000</td>\n",
       "    </tr>\n",
       "  </tbody>\n",
       "</table>\n",
       "<p>100 rows × 20 columns</p>\n",
       "</div>"
      ],
      "text/plain": [
       "           0         1         2    3         4    5         6         7  \\\n",
       "0   1.000000  0.000000  0.000000  0.0  0.083333  0.0  0.000000  0.083333   \n",
       "1   0.000000  0.000000  0.000000  0.0  0.000000  0.0  0.000000  0.000000   \n",
       "2   1.000000  1.000000  0.000000  0.0  0.000000  0.0  1.000000  0.000000   \n",
       "3   1.000000  0.000000  0.666667  0.0  1.000000  0.0  0.000000  0.000000   \n",
       "4   0.000000  0.000000  0.000000  0.0  0.000000  0.0  0.000000  1.000000   \n",
       "..       ...       ...       ...  ...       ...  ...       ...       ...   \n",
       "95  1.000000  1.000000  1.000000  1.0  1.000000  0.0  1.000000  1.000000   \n",
       "96  0.000000  1.000000  1.000000  1.0  1.000000  1.0  1.000000  0.000000   \n",
       "97  0.909091  0.909091  1.000000  1.0  1.000000  1.0  0.909091  0.000000   \n",
       "98  0.000000  1.000000  0.000000  1.0  0.000000  1.0  1.000000  0.000000   \n",
       "99  1.000000  1.000000  1.000000  1.0  1.000000  1.0  1.000000  0.000000   \n",
       "\n",
       "           8         9   10   11        12   13   14   15        16   17  \\\n",
       "0   0.000000  0.083333  0.0  0.0  0.000000  1.0  0.0  0.0  0.000000  0.0   \n",
       "1   0.000000  1.000000  0.0  0.0  0.000000  1.0  0.0  0.0  0.000000  0.0   \n",
       "2   1.000000  0.000000  0.0  0.0  1.000000  1.0  0.0  0.0  0.000000  0.0   \n",
       "3   0.000000  0.000000  0.0  0.0  0.000000  1.0  0.0  0.0  0.000000  0.0   \n",
       "4   0.000000  0.000000  0.0  0.0  0.000000  1.0  0.0  0.0  0.666667  0.0   \n",
       "..       ...       ...  ...  ...       ...  ...  ...  ...       ...  ...   \n",
       "95  1.000000  0.000000  1.0  0.0  1.000000  0.0  1.0  1.0  0.000000  1.0   \n",
       "96  0.333333  0.000000  1.0  1.0  1.000000  0.0  1.0  1.0  1.000000  1.0   \n",
       "97  1.000000  0.000000  1.0  1.0  0.909091  0.0  1.0  1.0  1.000000  1.0   \n",
       "98  1.000000  0.000000  1.0  1.0  1.000000  0.0  1.0  1.0  0.000000  1.0   \n",
       "99  1.000000  0.000000  1.0  1.0  1.000000  0.0  1.0  0.0  1.000000  1.0   \n",
       "\n",
       "          18        19  \n",
       "0   0.083333  0.916667  \n",
       "1   0.000000  0.000000  \n",
       "2   0.000000  1.000000  \n",
       "3   0.000000  1.000000  \n",
       "4   0.000000  1.000000  \n",
       "..       ...       ...  \n",
       "95  1.000000  1.000000  \n",
       "96  1.000000  1.000000  \n",
       "97  1.000000  1.000000  \n",
       "98  1.000000  1.000000  \n",
       "99  1.000000  0.000000  \n",
       "\n",
       "[100 rows x 20 columns]"
      ]
     },
     "execution_count": 24,
     "metadata": {},
     "output_type": "execute_result"
    }
   ],
   "source": [
    "simulated_games_step2"
   ]
  },
  {
   "cell_type": "markdown",
   "metadata": {},
   "source": [
    "With the hybrid-nodes at this iteration complete, we're on to step 2C: For each merged node, calculate the distances to all other merged nodes and the min and max distances per merged node. We can start by simply using the node_distancer function on the hybrid nodes in 'simulated_games_step2'."
   ]
  },
  {
   "cell_type": "code",
   "execution_count": 25,
   "metadata": {},
   "outputs": [],
   "source": [
    "node_distance_table_step2 = node_distancer(simulated_games_step2)"
   ]
  },
  {
   "cell_type": "code",
   "execution_count": 26,
   "metadata": {},
   "outputs": [],
   "source": [
    "i = 0"
   ]
  },
  {
   "cell_type": "code",
   "execution_count": 27,
   "metadata": {},
   "outputs": [
    {
     "data": {
      "text/plain": [
       "array([ 0.        ,  3.08333333,  4.41666667,  1.91666667,  2.91666667,\n",
       "        0.        ,  0.        ,  0.5       ,  3.41666667,  0.        ,\n",
       "        2.25      ,  3.08333333,  4.25      ,  0.69444444,  2.41666667,\n",
       "        0.        ,  0.69444444,  4.41666667,  0.5       ,  3.41666667,\n",
       "        2.41666667,  0.        ,  2.75      ,  0.5       ,  2.41666667,\n",
       "        9.41666667,  9.41666667,  9.53571429,  7.41666667, 10.91666667,\n",
       "       11.08333333, 10.75      ,  8.08333333,  5.25      ,  9.41666667,\n",
       "       11.25      ,  9.41666667,  9.25      ,  8.41666667,  9.88333333,\n",
       "       10.91666667,  6.08333333,  8.08333333,  9.41666667, 10.58333333,\n",
       "        8.25      ,  9.41666667,  8.25      , 10.08333333,  9.36111111,\n",
       "       10.58333333,  9.25      , 11.91666667,  9.91666667,  7.91666667,\n",
       "       11.41666667,  9.08333333, 10.25      , 13.75      ,  9.08333333,\n",
       "       10.25      , 10.91666667, 12.91666667, 10.41666667, 12.58333333,\n",
       "       10.91666667,  7.75      ,  9.91666667, 11.91666667, 10.25      ,\n",
       "       12.08333333,  7.08333333, 10.91666667, 10.91666667, 11.91666667,\n",
       "       15.90151515, 15.83333333, 16.30555556, 15.91666667, 15.91666667,\n",
       "       15.90151515, 12.08333333, 15.83333333, 15.08333333, 13.91666667,\n",
       "       14.08333333, 15.90151515, 15.83333333, 13.41666667, 14.08333333,\n",
       "       15.90151515, 15.90151515, 15.91666667, 14.08333333, 12.08333333,\n",
       "       13.91666667, 16.41666667, 15.90151515, 14.25      , 15.91666667])"
      ]
     },
     "execution_count": 27,
     "metadata": {},
     "output_type": "execute_result"
    }
   ],
   "source": [
    "# taking a look at the distances between the first hybrid node and every other hybrid node:\n",
    "node_distance_table_step2[i]"
   ]
  },
  {
   "cell_type": "markdown",
   "metadata": {},
   "source": [
    "Next, we calculate the min and max distances:"
   ]
  },
  {
   "cell_type": "code",
   "execution_count": 28,
   "metadata": {},
   "outputs": [
    {
     "data": {
      "text/plain": [
       "0.0"
      ]
     },
     "execution_count": 28,
     "metadata": {},
     "output_type": "execute_result"
    }
   ],
   "source": [
    "min(node_distance_table_step2[i][[s for s in list(range(len(node_distance_table_step2[i]))) if s != i]])"
   ]
  },
  {
   "cell_type": "code",
   "execution_count": 29,
   "metadata": {},
   "outputs": [
    {
     "data": {
      "text/plain": [
       "16.416666666666664"
      ]
     },
     "execution_count": 29,
     "metadata": {},
     "output_type": "execute_result"
    }
   ],
   "source": [
    "max(node_distance_table_step2[i])"
   ]
  },
  {
   "cell_type": "markdown",
   "metadata": {},
   "source": [
    "It looks like the 0th node has a min distance of 1.73 (excluding the distance to itself) and a max distance of 15.87.  What we want to know is which nodes share the minimum distance, be it 1.73 or something smaller, then, of those, remove the node with the smallest maximum distance.  In order to do this, we'll create a function which returns those min and max values."
   ]
  },
  {
   "cell_type": "code",
   "execution_count": 30,
   "metadata": {},
   "outputs": [],
   "source": [
    "def node_distance_min_maxer(node_distance_table_input):\n",
    "    '''\n",
    "    input: node_distance_table_input: mxm array of distances between nodes\n",
    "    output: list of lists containing the minimum and maximum distances per node\n",
    "    '''\n",
    "    node_min_maxs= []\n",
    "    for i in range(len(node_distance_table_input)):\n",
    "        node_min = min(node_distance_table_input[i][[s for s in list(range(len(node_distance_table_input[i]))) \\\n",
    "                                                     if s != i]])\n",
    "        node_max = max(node_distance_table_input[i])\n",
    "        node_min_maxs.append([node_min, node_max])\n",
    "    return(node_min_maxs)"
   ]
  },
  {
   "cell_type": "code",
   "execution_count": 31,
   "metadata": {},
   "outputs": [],
   "source": [
    "node_distance_min_max_step2 = node_distance_min_maxer(node_distance_table_step2)"
   ]
  },
  {
   "cell_type": "code",
   "execution_count": 357,
   "metadata": {},
   "outputs": [
    {
     "data": {
      "text/plain": [
       "[[0.0, 16.416666666666664],\n",
       " [2.75, 18.75],\n",
       " [4.0, 13.666666666666668],\n",
       " [1.2222222222222223, 15.666666666666666],\n",
       " [0.6666666666666666, 17.333333333333336],\n",
       " [0.0, 16.416666666666664],\n",
       " [0.0, 16.416666666666664],\n",
       " [0.49999999999999994, 16.583333333333332],\n",
       " [3.25, 15.0],\n",
       " [0.0, 16.416666666666664]]"
      ]
     },
     "execution_count": 357,
     "metadata": {},
     "output_type": "execute_result"
    }
   ],
   "source": [
    "# preview of min/max distances\n",
    "node_distance_min_max_step2[0:10]"
   ]
  },
  {
   "cell_type": "markdown",
   "metadata": {},
   "source": [
    "Great, now we need a way to subset to which node has the min first value and the minimum-max (minmax) second:"
   ]
  },
  {
   "cell_type": "code",
   "execution_count": 33,
   "metadata": {},
   "outputs": [],
   "source": [
    "def extract_nth(list_input, n): \n",
    "    return [element[n] for element in list_input] "
   ]
  },
  {
   "cell_type": "code",
   "execution_count": 280,
   "metadata": {},
   "outputs": [],
   "source": [
    "min_distance = min(extract_nth(node_distance_min_max_step2,0))"
   ]
  },
  {
   "cell_type": "code",
   "execution_count": 281,
   "metadata": {},
   "outputs": [
    {
     "data": {
      "text/plain": [
       "0.0"
      ]
     },
     "execution_count": 281,
     "metadata": {},
     "output_type": "execute_result"
    }
   ],
   "source": [
    "min_distance"
   ]
  },
  {
   "cell_type": "markdown",
   "metadata": {},
   "source": [
    "2D. After testing with larger datasets, it became apparent that I'll want to establish a distance_tolerance_pct, which is a percent to add to the min and minmax distances in an effort to capture more nodes to be removed.  This is important because the computation is pretty intense and when we're dealing with thousands of observations/features where we're expecting a relatively small number of clusters, we aren't concerned with the clusters created for the large n or large m so the faster we can reduce while not losing the integrity of the reduction, the better."
   ]
  },
  {
   "cell_type": "code",
   "execution_count": 282,
   "metadata": {},
   "outputs": [],
   "source": [
    "distance_tolerance_pct = 0 # testing with 0, then we'll increase to see the effect"
   ]
  },
  {
   "cell_type": "code",
   "execution_count": 283,
   "metadata": {},
   "outputs": [],
   "source": [
    "min_distance = min_distance * (1 + distance_tolerance_pct)"
   ]
  },
  {
   "cell_type": "code",
   "execution_count": 284,
   "metadata": {},
   "outputs": [
    {
     "data": {
      "text/plain": [
       "0.0"
      ]
     },
     "execution_count": 284,
     "metadata": {},
     "output_type": "execute_result"
    }
   ],
   "source": [
    "min_distance"
   ]
  },
  {
   "cell_type": "code",
   "execution_count": 285,
   "metadata": {},
   "outputs": [],
   "source": [
    "# using '<=' instead of '==' since we're adding the tolerance\n",
    "node_min_indices = np.where(extract_nth(node_distance_min_max_step2,0)<=min_distance)[0]"
   ]
  },
  {
   "cell_type": "code",
   "execution_count": 286,
   "metadata": {},
   "outputs": [
    {
     "data": {
      "text/plain": [
       "array([ 0,  5,  6,  9, 15, 21, 25, 34, 36, 43, 46, 75, 80, 86, 90, 91, 97])"
      ]
     },
     "execution_count": 286,
     "metadata": {},
     "output_type": "execute_result"
    }
   ],
   "source": [
    "node_min_indices"
   ]
  },
  {
   "cell_type": "code",
   "execution_count": 287,
   "metadata": {},
   "outputs": [],
   "source": [
    "min_distance_node_distances = [node_distance_min_max_step2[i] for i in node_min_indices]"
   ]
  },
  {
   "cell_type": "code",
   "execution_count": 288,
   "metadata": {},
   "outputs": [
    {
     "data": {
      "text/plain": [
       "[[0.0, 16.416666666666664],\n",
       " [0.0, 16.416666666666664],\n",
       " [0.0, 16.416666666666664],\n",
       " [0.0, 16.416666666666664],\n",
       " [0.0, 16.416666666666664],\n",
       " [0.0, 16.416666666666664],\n",
       " [0.0, 12.88888888888889],\n",
       " [0.0, 12.88888888888889],\n",
       " [0.0, 12.88888888888889],\n",
       " [0.0, 12.88888888888889],\n",
       " [0.0, 12.88888888888889],\n",
       " [0.0, 18.636363636363633],\n",
       " [0.0, 18.636363636363633],\n",
       " [0.0, 18.636363636363633],\n",
       " [0.0, 18.636363636363633],\n",
       " [0.0, 18.636363636363633],\n",
       " [0.0, 18.636363636363633]]"
      ]
     },
     "execution_count": 288,
     "metadata": {},
     "output_type": "execute_result"
    }
   ],
   "source": [
    "# preview of the min and max distances for which the node shares the minimum distance to the other nodes\n",
    "min_distance_node_distances"
   ]
  },
  {
   "cell_type": "code",
   "execution_count": 39,
   "metadata": {
    "scrolled": true
   },
   "outputs": [],
   "source": [
    "minmax_distance = min(extract_nth(min_distance_node_distances,1))"
   ]
  },
  {
   "cell_type": "code",
   "execution_count": 289,
   "metadata": {},
   "outputs": [
    {
     "data": {
      "text/plain": [
       "12.88888888888889"
      ]
     },
     "execution_count": 289,
     "metadata": {},
     "output_type": "execute_result"
    }
   ],
   "source": [
    "# the minimum-max distance between nodes which share the minimum distance\n",
    "minmax_distance"
   ]
  },
  {
   "cell_type": "markdown",
   "metadata": {},
   "source": [
    "As with the min distance, we'll add the tolerance pct to the upper bound as well (0 in the case of this first test):"
   ]
  },
  {
   "cell_type": "code",
   "execution_count": 290,
   "metadata": {},
   "outputs": [],
   "source": [
    "minmax_distance = minmax_distance * (1 + distance_tolerance_pct)"
   ]
  },
  {
   "cell_type": "code",
   "execution_count": 291,
   "metadata": {},
   "outputs": [
    {
     "data": {
      "text/plain": [
       "12.88888888888889"
      ]
     },
     "execution_count": 291,
     "metadata": {},
     "output_type": "execute_result"
    }
   ],
   "source": [
    "minmax_distance"
   ]
  },
  {
   "cell_type": "markdown",
   "metadata": {},
   "source": [
    "Finally, we have the min and minmax distance conditions for which to subset:"
   ]
  },
  {
   "cell_type": "code",
   "execution_count": 292,
   "metadata": {},
   "outputs": [],
   "source": [
    "node_removal_distances = np.asarray([min_distance, minmax_distance])"
   ]
  },
  {
   "cell_type": "code",
   "execution_count": 293,
   "metadata": {},
   "outputs": [
    {
     "data": {
      "text/plain": [
       "array([ 0.        , 12.88888889])"
      ]
     },
     "execution_count": 293,
     "metadata": {},
     "output_type": "execute_result"
    }
   ],
   "source": [
    "node_removal_distances"
   ]
  },
  {
   "cell_type": "markdown",
   "metadata": {},
   "source": [
    "We can see that the 0, 1, 2, 3, 4, and 5th index of the min node distances are all tied at [0, 13].  This being the case, we should remove those nodes from simulated_games_step2 and repeat the process.  What this means is we'll start with k=100 clusters, then go to k=95 since we're removing 6 nodes.  In other words, this is an algorithm which will return arbitrary viable values for k and this makes sense since we can imagine data which has distances that share min and max properties."
   ]
  },
  {
   "cell_type": "code",
   "execution_count": 294,
   "metadata": {},
   "outputs": [],
   "source": [
    "node_removal_indices = np.where((extract_nth(node_distance_min_max_step2,0)<=node_removal_distances[0]) &\\\n",
    "                                (extract_nth(node_distance_min_max_step2,1)<=node_removal_distances[1]))[0]"
   ]
  },
  {
   "cell_type": "code",
   "execution_count": 295,
   "metadata": {},
   "outputs": [
    {
     "data": {
      "text/plain": [
       "[25, 34, 36, 43, 46]"
      ]
     },
     "execution_count": 295,
     "metadata": {},
     "output_type": "execute_result"
    }
   ],
   "source": [
    "# node indices to be removed\n",
    "node_removal_indices.tolist()"
   ]
  },
  {
   "cell_type": "code",
   "execution_count": 296,
   "metadata": {
    "scrolled": true
   },
   "outputs": [
    {
     "data": {
      "text/plain": [
       "[[0.0, 12.88888888888889],\n",
       " [0.0, 12.88888888888889],\n",
       " [0.0, 12.88888888888889],\n",
       " [0.0, 12.88888888888889],\n",
       " [0.0, 12.88888888888889]]"
      ]
     },
     "execution_count": 296,
     "metadata": {},
     "output_type": "execute_result"
    }
   ],
   "source": [
    "# nodes to be removed share the following values for min and minmax distances:\n",
    "[node_distance_min_max_step2[i] for i in node_removal_indices.tolist()]"
   ]
  },
  {
   "cell_type": "markdown",
   "metadata": {},
   "source": [
    "As per 2E., we'll want to drop those nodes:"
   ]
  },
  {
   "cell_type": "code",
   "execution_count": 297,
   "metadata": {},
   "outputs": [],
   "source": [
    "simulated_games_step3 = simulated_games_step2.drop(node_removal_indices)"
   ]
  },
  {
   "cell_type": "code",
   "execution_count": 298,
   "metadata": {
    "scrolled": true
   },
   "outputs": [
    {
     "data": {
      "text/html": [
       "<div>\n",
       "<style scoped>\n",
       "    .dataframe tbody tr th:only-of-type {\n",
       "        vertical-align: middle;\n",
       "    }\n",
       "\n",
       "    .dataframe tbody tr th {\n",
       "        vertical-align: top;\n",
       "    }\n",
       "\n",
       "    .dataframe thead th {\n",
       "        text-align: right;\n",
       "    }\n",
       "</style>\n",
       "<table border=\"1\" class=\"dataframe\">\n",
       "  <thead>\n",
       "    <tr style=\"text-align: right;\">\n",
       "      <th></th>\n",
       "      <th>0</th>\n",
       "      <th>1</th>\n",
       "      <th>2</th>\n",
       "      <th>3</th>\n",
       "      <th>4</th>\n",
       "      <th>5</th>\n",
       "      <th>6</th>\n",
       "      <th>7</th>\n",
       "      <th>8</th>\n",
       "      <th>9</th>\n",
       "      <th>10</th>\n",
       "      <th>11</th>\n",
       "      <th>12</th>\n",
       "      <th>13</th>\n",
       "      <th>14</th>\n",
       "      <th>15</th>\n",
       "      <th>16</th>\n",
       "      <th>17</th>\n",
       "      <th>18</th>\n",
       "      <th>19</th>\n",
       "    </tr>\n",
       "  </thead>\n",
       "  <tbody>\n",
       "    <tr>\n",
       "      <td>0</td>\n",
       "      <td>1.000000</td>\n",
       "      <td>0.000000</td>\n",
       "      <td>0.000000</td>\n",
       "      <td>0.0</td>\n",
       "      <td>0.083333</td>\n",
       "      <td>0.0</td>\n",
       "      <td>0.000000</td>\n",
       "      <td>0.083333</td>\n",
       "      <td>0.000000</td>\n",
       "      <td>0.083333</td>\n",
       "      <td>0.0</td>\n",
       "      <td>0.0</td>\n",
       "      <td>0.000000</td>\n",
       "      <td>1.0</td>\n",
       "      <td>0.0</td>\n",
       "      <td>0.0</td>\n",
       "      <td>0.000000</td>\n",
       "      <td>0.0</td>\n",
       "      <td>0.083333</td>\n",
       "      <td>0.916667</td>\n",
       "    </tr>\n",
       "    <tr>\n",
       "      <td>1</td>\n",
       "      <td>0.000000</td>\n",
       "      <td>0.000000</td>\n",
       "      <td>0.000000</td>\n",
       "      <td>0.0</td>\n",
       "      <td>0.000000</td>\n",
       "      <td>0.0</td>\n",
       "      <td>0.000000</td>\n",
       "      <td>0.000000</td>\n",
       "      <td>0.000000</td>\n",
       "      <td>1.000000</td>\n",
       "      <td>0.0</td>\n",
       "      <td>0.0</td>\n",
       "      <td>0.000000</td>\n",
       "      <td>1.0</td>\n",
       "      <td>0.0</td>\n",
       "      <td>0.0</td>\n",
       "      <td>0.000000</td>\n",
       "      <td>0.0</td>\n",
       "      <td>0.000000</td>\n",
       "      <td>0.000000</td>\n",
       "    </tr>\n",
       "    <tr>\n",
       "      <td>2</td>\n",
       "      <td>1.000000</td>\n",
       "      <td>1.000000</td>\n",
       "      <td>0.000000</td>\n",
       "      <td>0.0</td>\n",
       "      <td>0.000000</td>\n",
       "      <td>0.0</td>\n",
       "      <td>1.000000</td>\n",
       "      <td>0.000000</td>\n",
       "      <td>1.000000</td>\n",
       "      <td>0.000000</td>\n",
       "      <td>0.0</td>\n",
       "      <td>0.0</td>\n",
       "      <td>1.000000</td>\n",
       "      <td>1.0</td>\n",
       "      <td>0.0</td>\n",
       "      <td>0.0</td>\n",
       "      <td>0.000000</td>\n",
       "      <td>0.0</td>\n",
       "      <td>0.000000</td>\n",
       "      <td>1.000000</td>\n",
       "    </tr>\n",
       "    <tr>\n",
       "      <td>3</td>\n",
       "      <td>1.000000</td>\n",
       "      <td>0.000000</td>\n",
       "      <td>0.666667</td>\n",
       "      <td>0.0</td>\n",
       "      <td>1.000000</td>\n",
       "      <td>0.0</td>\n",
       "      <td>0.000000</td>\n",
       "      <td>0.000000</td>\n",
       "      <td>0.000000</td>\n",
       "      <td>0.000000</td>\n",
       "      <td>0.0</td>\n",
       "      <td>0.0</td>\n",
       "      <td>0.000000</td>\n",
       "      <td>1.0</td>\n",
       "      <td>0.0</td>\n",
       "      <td>0.0</td>\n",
       "      <td>0.000000</td>\n",
       "      <td>0.0</td>\n",
       "      <td>0.000000</td>\n",
       "      <td>1.000000</td>\n",
       "    </tr>\n",
       "    <tr>\n",
       "      <td>4</td>\n",
       "      <td>0.000000</td>\n",
       "      <td>0.000000</td>\n",
       "      <td>0.000000</td>\n",
       "      <td>0.0</td>\n",
       "      <td>0.000000</td>\n",
       "      <td>0.0</td>\n",
       "      <td>0.000000</td>\n",
       "      <td>1.000000</td>\n",
       "      <td>0.000000</td>\n",
       "      <td>0.000000</td>\n",
       "      <td>0.0</td>\n",
       "      <td>0.0</td>\n",
       "      <td>0.000000</td>\n",
       "      <td>1.0</td>\n",
       "      <td>0.0</td>\n",
       "      <td>0.0</td>\n",
       "      <td>0.666667</td>\n",
       "      <td>0.0</td>\n",
       "      <td>0.000000</td>\n",
       "      <td>1.000000</td>\n",
       "    </tr>\n",
       "    <tr>\n",
       "      <td>...</td>\n",
       "      <td>...</td>\n",
       "      <td>...</td>\n",
       "      <td>...</td>\n",
       "      <td>...</td>\n",
       "      <td>...</td>\n",
       "      <td>...</td>\n",
       "      <td>...</td>\n",
       "      <td>...</td>\n",
       "      <td>...</td>\n",
       "      <td>...</td>\n",
       "      <td>...</td>\n",
       "      <td>...</td>\n",
       "      <td>...</td>\n",
       "      <td>...</td>\n",
       "      <td>...</td>\n",
       "      <td>...</td>\n",
       "      <td>...</td>\n",
       "      <td>...</td>\n",
       "      <td>...</td>\n",
       "      <td>...</td>\n",
       "    </tr>\n",
       "    <tr>\n",
       "      <td>95</td>\n",
       "      <td>1.000000</td>\n",
       "      <td>1.000000</td>\n",
       "      <td>1.000000</td>\n",
       "      <td>1.0</td>\n",
       "      <td>1.000000</td>\n",
       "      <td>0.0</td>\n",
       "      <td>1.000000</td>\n",
       "      <td>1.000000</td>\n",
       "      <td>1.000000</td>\n",
       "      <td>0.000000</td>\n",
       "      <td>1.0</td>\n",
       "      <td>0.0</td>\n",
       "      <td>1.000000</td>\n",
       "      <td>0.0</td>\n",
       "      <td>1.0</td>\n",
       "      <td>1.0</td>\n",
       "      <td>0.000000</td>\n",
       "      <td>1.0</td>\n",
       "      <td>1.000000</td>\n",
       "      <td>1.000000</td>\n",
       "    </tr>\n",
       "    <tr>\n",
       "      <td>96</td>\n",
       "      <td>0.000000</td>\n",
       "      <td>1.000000</td>\n",
       "      <td>1.000000</td>\n",
       "      <td>1.0</td>\n",
       "      <td>1.000000</td>\n",
       "      <td>1.0</td>\n",
       "      <td>1.000000</td>\n",
       "      <td>0.000000</td>\n",
       "      <td>0.333333</td>\n",
       "      <td>0.000000</td>\n",
       "      <td>1.0</td>\n",
       "      <td>1.0</td>\n",
       "      <td>1.000000</td>\n",
       "      <td>0.0</td>\n",
       "      <td>1.0</td>\n",
       "      <td>1.0</td>\n",
       "      <td>1.000000</td>\n",
       "      <td>1.0</td>\n",
       "      <td>1.000000</td>\n",
       "      <td>1.000000</td>\n",
       "    </tr>\n",
       "    <tr>\n",
       "      <td>97</td>\n",
       "      <td>0.909091</td>\n",
       "      <td>0.909091</td>\n",
       "      <td>1.000000</td>\n",
       "      <td>1.0</td>\n",
       "      <td>1.000000</td>\n",
       "      <td>1.0</td>\n",
       "      <td>0.909091</td>\n",
       "      <td>0.000000</td>\n",
       "      <td>1.000000</td>\n",
       "      <td>0.000000</td>\n",
       "      <td>1.0</td>\n",
       "      <td>1.0</td>\n",
       "      <td>0.909091</td>\n",
       "      <td>0.0</td>\n",
       "      <td>1.0</td>\n",
       "      <td>1.0</td>\n",
       "      <td>1.000000</td>\n",
       "      <td>1.0</td>\n",
       "      <td>1.000000</td>\n",
       "      <td>1.000000</td>\n",
       "    </tr>\n",
       "    <tr>\n",
       "      <td>98</td>\n",
       "      <td>0.000000</td>\n",
       "      <td>1.000000</td>\n",
       "      <td>0.000000</td>\n",
       "      <td>1.0</td>\n",
       "      <td>0.000000</td>\n",
       "      <td>1.0</td>\n",
       "      <td>1.000000</td>\n",
       "      <td>0.000000</td>\n",
       "      <td>1.000000</td>\n",
       "      <td>0.000000</td>\n",
       "      <td>1.0</td>\n",
       "      <td>1.0</td>\n",
       "      <td>1.000000</td>\n",
       "      <td>0.0</td>\n",
       "      <td>1.0</td>\n",
       "      <td>1.0</td>\n",
       "      <td>0.000000</td>\n",
       "      <td>1.0</td>\n",
       "      <td>1.000000</td>\n",
       "      <td>1.000000</td>\n",
       "    </tr>\n",
       "    <tr>\n",
       "      <td>99</td>\n",
       "      <td>1.000000</td>\n",
       "      <td>1.000000</td>\n",
       "      <td>1.000000</td>\n",
       "      <td>1.0</td>\n",
       "      <td>1.000000</td>\n",
       "      <td>1.0</td>\n",
       "      <td>1.000000</td>\n",
       "      <td>0.000000</td>\n",
       "      <td>1.000000</td>\n",
       "      <td>0.000000</td>\n",
       "      <td>1.0</td>\n",
       "      <td>1.0</td>\n",
       "      <td>1.000000</td>\n",
       "      <td>0.0</td>\n",
       "      <td>1.0</td>\n",
       "      <td>0.0</td>\n",
       "      <td>1.000000</td>\n",
       "      <td>1.0</td>\n",
       "      <td>1.000000</td>\n",
       "      <td>0.000000</td>\n",
       "    </tr>\n",
       "  </tbody>\n",
       "</table>\n",
       "<p>95 rows × 20 columns</p>\n",
       "</div>"
      ],
      "text/plain": [
       "           0         1         2    3         4    5         6         7  \\\n",
       "0   1.000000  0.000000  0.000000  0.0  0.083333  0.0  0.000000  0.083333   \n",
       "1   0.000000  0.000000  0.000000  0.0  0.000000  0.0  0.000000  0.000000   \n",
       "2   1.000000  1.000000  0.000000  0.0  0.000000  0.0  1.000000  0.000000   \n",
       "3   1.000000  0.000000  0.666667  0.0  1.000000  0.0  0.000000  0.000000   \n",
       "4   0.000000  0.000000  0.000000  0.0  0.000000  0.0  0.000000  1.000000   \n",
       "..       ...       ...       ...  ...       ...  ...       ...       ...   \n",
       "95  1.000000  1.000000  1.000000  1.0  1.000000  0.0  1.000000  1.000000   \n",
       "96  0.000000  1.000000  1.000000  1.0  1.000000  1.0  1.000000  0.000000   \n",
       "97  0.909091  0.909091  1.000000  1.0  1.000000  1.0  0.909091  0.000000   \n",
       "98  0.000000  1.000000  0.000000  1.0  0.000000  1.0  1.000000  0.000000   \n",
       "99  1.000000  1.000000  1.000000  1.0  1.000000  1.0  1.000000  0.000000   \n",
       "\n",
       "           8         9   10   11        12   13   14   15        16   17  \\\n",
       "0   0.000000  0.083333  0.0  0.0  0.000000  1.0  0.0  0.0  0.000000  0.0   \n",
       "1   0.000000  1.000000  0.0  0.0  0.000000  1.0  0.0  0.0  0.000000  0.0   \n",
       "2   1.000000  0.000000  0.0  0.0  1.000000  1.0  0.0  0.0  0.000000  0.0   \n",
       "3   0.000000  0.000000  0.0  0.0  0.000000  1.0  0.0  0.0  0.000000  0.0   \n",
       "4   0.000000  0.000000  0.0  0.0  0.000000  1.0  0.0  0.0  0.666667  0.0   \n",
       "..       ...       ...  ...  ...       ...  ...  ...  ...       ...  ...   \n",
       "95  1.000000  0.000000  1.0  0.0  1.000000  0.0  1.0  1.0  0.000000  1.0   \n",
       "96  0.333333  0.000000  1.0  1.0  1.000000  0.0  1.0  1.0  1.000000  1.0   \n",
       "97  1.000000  0.000000  1.0  1.0  0.909091  0.0  1.0  1.0  1.000000  1.0   \n",
       "98  1.000000  0.000000  1.0  1.0  1.000000  0.0  1.0  1.0  0.000000  1.0   \n",
       "99  1.000000  0.000000  1.0  1.0  1.000000  0.0  1.0  0.0  1.000000  1.0   \n",
       "\n",
       "          18        19  \n",
       "0   0.083333  0.916667  \n",
       "1   0.000000  0.000000  \n",
       "2   0.000000  1.000000  \n",
       "3   0.000000  1.000000  \n",
       "4   0.000000  1.000000  \n",
       "..       ...       ...  \n",
       "95  1.000000  1.000000  \n",
       "96  1.000000  1.000000  \n",
       "97  1.000000  1.000000  \n",
       "98  1.000000  1.000000  \n",
       "99  1.000000  0.000000  \n",
       "\n",
       "[95 rows x 20 columns]"
      ]
     },
     "execution_count": 298,
     "metadata": {},
     "output_type": "execute_result"
    }
   ],
   "source": [
    "simulated_games_step3"
   ]
  },
  {
   "cell_type": "markdown",
   "metadata": {},
   "source": [
    "Looks like this process works well so we just need to convert it to a function and ensure we get the same results"
   ]
  },
  {
   "cell_type": "code",
   "execution_count": 270,
   "metadata": {},
   "outputs": [],
   "source": [
    "def drop_closest_nodes(node_table_input, node_minmax_distances, distance_tolerance_pct = 0):\n",
    "    '''\n",
    "    input: node_table_input: table with observations in rows, features in columns, and binary values\n",
    "           mode_minmax_distance: list of lists containing the min and max values to every other node\n",
    "           distance_tolerance: for larger datasets, it may be reasonable to drop more than just the nearest nodes\n",
    "               such that k is reduced more quickly in the beginning. This value is the percent to be added to the \n",
    "               min/max values used to calculate which nodes to drop\n",
    "    output: reduced_node_table: equal to node_table_input without the closest nodes\n",
    "    '''\n",
    "    # calculate the min distance of the first element in each of the min/max lists\n",
    "    min_distance = min(extract_nth(node_minmax_distances,0)) + distance_tolerance_pct\n",
    "    \n",
    "    # add the distance_tolerance_pct to the min_distance\n",
    "    min_distance = min_distance * (1 + distance_tolerance_pct)\n",
    "    \n",
    "    # calculate indices of the nodes which contain the minimum\n",
    "    node_min_indices = np.where(extract_nth(node_minmax_distances,0)<=min_distance)[0]\n",
    "    \n",
    "    # generate a list of min/max distances for the nodes which contain the min distance\n",
    "    min_distance_node_distances = [node_minmax_distances[i] for i in node_min_indices]\n",
    "    \n",
    "    # of those distances, calculate the minimum max distance (the second element in the distance lists)\n",
    "    minmax_distance = min(extract_nth(min_distance_node_distances,1))\n",
    "    \n",
    "    # add the distance_tolerance_pct to the minmax_distance\n",
    "    minmax_distance = minmax_distance * (1 + distance_tolerance_pct)\n",
    "    \n",
    "    # create an array containing the mininum and minimum maximum distance\n",
    "    node_removal_distances = np.asarray([min_distance, minmax_distance])\n",
    "    \n",
    "    # calculate the node indices from the distance table which are less than or equal to the node_removal_distances\n",
    "    node_removal_indices = np.where((extract_nth(node_minmax_distances,0)<=node_removal_distances[0]) &\\\n",
    "                                (extract_nth(node_minmax_distances,1)<=node_removal_distances[1]))[0]\n",
    "    \n",
    "    # drop the specified nodes from the resource table\n",
    "    reduced_node_table = node_table_input.drop(node_removal_indices)\n",
    "    \n",
    "    return(reduced_node_table)"
   ]
  },
  {
   "cell_type": "code",
   "execution_count": 299,
   "metadata": {},
   "outputs": [
    {
     "data": {
      "text/html": [
       "<div>\n",
       "<style scoped>\n",
       "    .dataframe tbody tr th:only-of-type {\n",
       "        vertical-align: middle;\n",
       "    }\n",
       "\n",
       "    .dataframe tbody tr th {\n",
       "        vertical-align: top;\n",
       "    }\n",
       "\n",
       "    .dataframe thead th {\n",
       "        text-align: right;\n",
       "    }\n",
       "</style>\n",
       "<table border=\"1\" class=\"dataframe\">\n",
       "  <thead>\n",
       "    <tr style=\"text-align: right;\">\n",
       "      <th></th>\n",
       "      <th>0</th>\n",
       "      <th>1</th>\n",
       "      <th>2</th>\n",
       "      <th>3</th>\n",
       "      <th>4</th>\n",
       "      <th>5</th>\n",
       "      <th>6</th>\n",
       "      <th>7</th>\n",
       "      <th>8</th>\n",
       "      <th>9</th>\n",
       "      <th>10</th>\n",
       "      <th>11</th>\n",
       "      <th>12</th>\n",
       "      <th>13</th>\n",
       "      <th>14</th>\n",
       "      <th>15</th>\n",
       "      <th>16</th>\n",
       "      <th>17</th>\n",
       "      <th>18</th>\n",
       "      <th>19</th>\n",
       "    </tr>\n",
       "  </thead>\n",
       "  <tbody>\n",
       "    <tr>\n",
       "      <td>0</td>\n",
       "      <td>True</td>\n",
       "      <td>True</td>\n",
       "      <td>True</td>\n",
       "      <td>True</td>\n",
       "      <td>True</td>\n",
       "      <td>True</td>\n",
       "      <td>True</td>\n",
       "      <td>True</td>\n",
       "      <td>True</td>\n",
       "      <td>True</td>\n",
       "      <td>True</td>\n",
       "      <td>True</td>\n",
       "      <td>True</td>\n",
       "      <td>True</td>\n",
       "      <td>True</td>\n",
       "      <td>True</td>\n",
       "      <td>True</td>\n",
       "      <td>True</td>\n",
       "      <td>True</td>\n",
       "      <td>True</td>\n",
       "    </tr>\n",
       "    <tr>\n",
       "      <td>1</td>\n",
       "      <td>True</td>\n",
       "      <td>True</td>\n",
       "      <td>True</td>\n",
       "      <td>True</td>\n",
       "      <td>True</td>\n",
       "      <td>True</td>\n",
       "      <td>True</td>\n",
       "      <td>True</td>\n",
       "      <td>True</td>\n",
       "      <td>True</td>\n",
       "      <td>True</td>\n",
       "      <td>True</td>\n",
       "      <td>True</td>\n",
       "      <td>True</td>\n",
       "      <td>True</td>\n",
       "      <td>True</td>\n",
       "      <td>True</td>\n",
       "      <td>True</td>\n",
       "      <td>True</td>\n",
       "      <td>True</td>\n",
       "    </tr>\n",
       "    <tr>\n",
       "      <td>2</td>\n",
       "      <td>True</td>\n",
       "      <td>True</td>\n",
       "      <td>True</td>\n",
       "      <td>True</td>\n",
       "      <td>True</td>\n",
       "      <td>True</td>\n",
       "      <td>True</td>\n",
       "      <td>True</td>\n",
       "      <td>True</td>\n",
       "      <td>True</td>\n",
       "      <td>True</td>\n",
       "      <td>True</td>\n",
       "      <td>True</td>\n",
       "      <td>True</td>\n",
       "      <td>True</td>\n",
       "      <td>True</td>\n",
       "      <td>True</td>\n",
       "      <td>True</td>\n",
       "      <td>True</td>\n",
       "      <td>True</td>\n",
       "    </tr>\n",
       "    <tr>\n",
       "      <td>3</td>\n",
       "      <td>True</td>\n",
       "      <td>True</td>\n",
       "      <td>True</td>\n",
       "      <td>True</td>\n",
       "      <td>True</td>\n",
       "      <td>True</td>\n",
       "      <td>True</td>\n",
       "      <td>True</td>\n",
       "      <td>True</td>\n",
       "      <td>True</td>\n",
       "      <td>True</td>\n",
       "      <td>True</td>\n",
       "      <td>True</td>\n",
       "      <td>True</td>\n",
       "      <td>True</td>\n",
       "      <td>True</td>\n",
       "      <td>True</td>\n",
       "      <td>True</td>\n",
       "      <td>True</td>\n",
       "      <td>True</td>\n",
       "    </tr>\n",
       "    <tr>\n",
       "      <td>4</td>\n",
       "      <td>True</td>\n",
       "      <td>True</td>\n",
       "      <td>True</td>\n",
       "      <td>True</td>\n",
       "      <td>True</td>\n",
       "      <td>True</td>\n",
       "      <td>True</td>\n",
       "      <td>True</td>\n",
       "      <td>True</td>\n",
       "      <td>True</td>\n",
       "      <td>True</td>\n",
       "      <td>True</td>\n",
       "      <td>True</td>\n",
       "      <td>True</td>\n",
       "      <td>True</td>\n",
       "      <td>True</td>\n",
       "      <td>True</td>\n",
       "      <td>True</td>\n",
       "      <td>True</td>\n",
       "      <td>True</td>\n",
       "    </tr>\n",
       "    <tr>\n",
       "      <td>...</td>\n",
       "      <td>...</td>\n",
       "      <td>...</td>\n",
       "      <td>...</td>\n",
       "      <td>...</td>\n",
       "      <td>...</td>\n",
       "      <td>...</td>\n",
       "      <td>...</td>\n",
       "      <td>...</td>\n",
       "      <td>...</td>\n",
       "      <td>...</td>\n",
       "      <td>...</td>\n",
       "      <td>...</td>\n",
       "      <td>...</td>\n",
       "      <td>...</td>\n",
       "      <td>...</td>\n",
       "      <td>...</td>\n",
       "      <td>...</td>\n",
       "      <td>...</td>\n",
       "      <td>...</td>\n",
       "      <td>...</td>\n",
       "    </tr>\n",
       "    <tr>\n",
       "      <td>95</td>\n",
       "      <td>True</td>\n",
       "      <td>True</td>\n",
       "      <td>True</td>\n",
       "      <td>True</td>\n",
       "      <td>True</td>\n",
       "      <td>True</td>\n",
       "      <td>True</td>\n",
       "      <td>True</td>\n",
       "      <td>True</td>\n",
       "      <td>True</td>\n",
       "      <td>True</td>\n",
       "      <td>True</td>\n",
       "      <td>True</td>\n",
       "      <td>True</td>\n",
       "      <td>True</td>\n",
       "      <td>True</td>\n",
       "      <td>True</td>\n",
       "      <td>True</td>\n",
       "      <td>True</td>\n",
       "      <td>True</td>\n",
       "    </tr>\n",
       "    <tr>\n",
       "      <td>96</td>\n",
       "      <td>True</td>\n",
       "      <td>True</td>\n",
       "      <td>True</td>\n",
       "      <td>True</td>\n",
       "      <td>True</td>\n",
       "      <td>True</td>\n",
       "      <td>True</td>\n",
       "      <td>True</td>\n",
       "      <td>True</td>\n",
       "      <td>True</td>\n",
       "      <td>True</td>\n",
       "      <td>True</td>\n",
       "      <td>True</td>\n",
       "      <td>True</td>\n",
       "      <td>True</td>\n",
       "      <td>True</td>\n",
       "      <td>True</td>\n",
       "      <td>True</td>\n",
       "      <td>True</td>\n",
       "      <td>True</td>\n",
       "    </tr>\n",
       "    <tr>\n",
       "      <td>97</td>\n",
       "      <td>True</td>\n",
       "      <td>True</td>\n",
       "      <td>True</td>\n",
       "      <td>True</td>\n",
       "      <td>True</td>\n",
       "      <td>True</td>\n",
       "      <td>True</td>\n",
       "      <td>True</td>\n",
       "      <td>True</td>\n",
       "      <td>True</td>\n",
       "      <td>True</td>\n",
       "      <td>True</td>\n",
       "      <td>True</td>\n",
       "      <td>True</td>\n",
       "      <td>True</td>\n",
       "      <td>True</td>\n",
       "      <td>True</td>\n",
       "      <td>True</td>\n",
       "      <td>True</td>\n",
       "      <td>True</td>\n",
       "    </tr>\n",
       "    <tr>\n",
       "      <td>98</td>\n",
       "      <td>True</td>\n",
       "      <td>True</td>\n",
       "      <td>True</td>\n",
       "      <td>True</td>\n",
       "      <td>True</td>\n",
       "      <td>True</td>\n",
       "      <td>True</td>\n",
       "      <td>True</td>\n",
       "      <td>True</td>\n",
       "      <td>True</td>\n",
       "      <td>True</td>\n",
       "      <td>True</td>\n",
       "      <td>True</td>\n",
       "      <td>True</td>\n",
       "      <td>True</td>\n",
       "      <td>True</td>\n",
       "      <td>True</td>\n",
       "      <td>True</td>\n",
       "      <td>True</td>\n",
       "      <td>True</td>\n",
       "    </tr>\n",
       "    <tr>\n",
       "      <td>99</td>\n",
       "      <td>True</td>\n",
       "      <td>True</td>\n",
       "      <td>True</td>\n",
       "      <td>True</td>\n",
       "      <td>True</td>\n",
       "      <td>True</td>\n",
       "      <td>True</td>\n",
       "      <td>True</td>\n",
       "      <td>True</td>\n",
       "      <td>True</td>\n",
       "      <td>True</td>\n",
       "      <td>True</td>\n",
       "      <td>True</td>\n",
       "      <td>True</td>\n",
       "      <td>True</td>\n",
       "      <td>True</td>\n",
       "      <td>True</td>\n",
       "      <td>True</td>\n",
       "      <td>True</td>\n",
       "      <td>True</td>\n",
       "    </tr>\n",
       "  </tbody>\n",
       "</table>\n",
       "<p>95 rows × 20 columns</p>\n",
       "</div>"
      ],
      "text/plain": [
       "       0     1     2     3     4     5     6     7     8     9    10    11  \\\n",
       "0   True  True  True  True  True  True  True  True  True  True  True  True   \n",
       "1   True  True  True  True  True  True  True  True  True  True  True  True   \n",
       "2   True  True  True  True  True  True  True  True  True  True  True  True   \n",
       "3   True  True  True  True  True  True  True  True  True  True  True  True   \n",
       "4   True  True  True  True  True  True  True  True  True  True  True  True   \n",
       "..   ...   ...   ...   ...   ...   ...   ...   ...   ...   ...   ...   ...   \n",
       "95  True  True  True  True  True  True  True  True  True  True  True  True   \n",
       "96  True  True  True  True  True  True  True  True  True  True  True  True   \n",
       "97  True  True  True  True  True  True  True  True  True  True  True  True   \n",
       "98  True  True  True  True  True  True  True  True  True  True  True  True   \n",
       "99  True  True  True  True  True  True  True  True  True  True  True  True   \n",
       "\n",
       "      12    13    14    15    16    17    18    19  \n",
       "0   True  True  True  True  True  True  True  True  \n",
       "1   True  True  True  True  True  True  True  True  \n",
       "2   True  True  True  True  True  True  True  True  \n",
       "3   True  True  True  True  True  True  True  True  \n",
       "4   True  True  True  True  True  True  True  True  \n",
       "..   ...   ...   ...   ...   ...   ...   ...   ...  \n",
       "95  True  True  True  True  True  True  True  True  \n",
       "96  True  True  True  True  True  True  True  True  \n",
       "97  True  True  True  True  True  True  True  True  \n",
       "98  True  True  True  True  True  True  True  True  \n",
       "99  True  True  True  True  True  True  True  True  \n",
       "\n",
       "[95 rows x 20 columns]"
      ]
     },
     "execution_count": 299,
     "metadata": {},
     "output_type": "execute_result"
    }
   ],
   "source": [
    "drop_closest_nodes(simulated_games_step2, node_distance_min_max_step2,0)==simulated_games_step3"
   ]
  },
  {
   "cell_type": "markdown",
   "metadata": {},
   "source": [
    "#### Testing impact of adjusting the distance tolerance parameter\n",
    "Looks like they're the same! And now we can test the impact of adjusting the tolerance on how much the dataframe is reduced.  We can see that with a tolerance of 0, 5 rows are removed.  As we increase this figure, we should expect more and more rows to be removed."
   ]
  },
  {
   "cell_type": "code",
   "execution_count": 305,
   "metadata": {},
   "outputs": [
    {
     "data": {
      "text/plain": [
       "(95, 20)"
      ]
     },
     "execution_count": 305,
     "metadata": {},
     "output_type": "execute_result"
    }
   ],
   "source": [
    "drop_closest_nodes(simulated_games_step2, node_distance_min_max_step2,0.1).shape"
   ]
  },
  {
   "cell_type": "markdown",
   "metadata": {},
   "source": [
    "No impact with a 10% tolerance, but lets see how it looks as we increase up to 100%:"
   ]
  },
  {
   "cell_type": "code",
   "execution_count": 301,
   "metadata": {},
   "outputs": [
    {
     "data": {
      "text/plain": [
       "(95, 20)"
      ]
     },
     "execution_count": 301,
     "metadata": {},
     "output_type": "execute_result"
    }
   ],
   "source": [
    "drop_closest_nodes(simulated_games_step2, node_distance_min_max_step2,0.2).shape"
   ]
  },
  {
   "cell_type": "code",
   "execution_count": 302,
   "metadata": {},
   "outputs": [
    {
     "data": {
      "text/plain": [
       "(87, 20)"
      ]
     },
     "execution_count": 302,
     "metadata": {},
     "output_type": "execute_result"
    }
   ],
   "source": [
    "drop_closest_nodes(simulated_games_step2, node_distance_min_max_step2,0.3).shape"
   ]
  },
  {
   "cell_type": "code",
   "execution_count": 303,
   "metadata": {},
   "outputs": [
    {
     "data": {
      "text/plain": [
       "(80, 20)"
      ]
     },
     "execution_count": 303,
     "metadata": {},
     "output_type": "execute_result"
    }
   ],
   "source": [
    "drop_closest_nodes(simulated_games_step2, node_distance_min_max_step2,0.4).shape"
   ]
  },
  {
   "cell_type": "code",
   "execution_count": 304,
   "metadata": {
    "scrolled": true
   },
   "outputs": [
    {
     "data": {
      "text/plain": [
       "(62, 20)"
      ]
     },
     "execution_count": 304,
     "metadata": {},
     "output_type": "execute_result"
    }
   ],
   "source": [
    "drop_closest_nodes(simulated_games_step2, node_distance_min_max_step2,0.5).shape"
   ]
  },
  {
   "cell_type": "code",
   "execution_count": 306,
   "metadata": {},
   "outputs": [
    {
     "data": {
      "text/plain": [
       "(60, 20)"
      ]
     },
     "execution_count": 306,
     "metadata": {},
     "output_type": "execute_result"
    }
   ],
   "source": [
    "drop_closest_nodes(simulated_games_step2, node_distance_min_max_step2,0.6).shape"
   ]
  },
  {
   "cell_type": "code",
   "execution_count": 307,
   "metadata": {},
   "outputs": [
    {
     "data": {
      "text/plain": [
       "(60, 20)"
      ]
     },
     "execution_count": 307,
     "metadata": {},
     "output_type": "execute_result"
    }
   ],
   "source": [
    "drop_closest_nodes(simulated_games_step2, node_distance_min_max_step2,0.7).shape"
   ]
  },
  {
   "cell_type": "code",
   "execution_count": 308,
   "metadata": {},
   "outputs": [
    {
     "data": {
      "text/plain": [
       "(49, 20)"
      ]
     },
     "execution_count": 308,
     "metadata": {},
     "output_type": "execute_result"
    }
   ],
   "source": [
    "drop_closest_nodes(simulated_games_step2, node_distance_min_max_step2,0.8).shape"
   ]
  },
  {
   "cell_type": "code",
   "execution_count": 309,
   "metadata": {},
   "outputs": [
    {
     "data": {
      "text/plain": [
       "(49, 20)"
      ]
     },
     "execution_count": 309,
     "metadata": {},
     "output_type": "execute_result"
    }
   ],
   "source": [
    "drop_closest_nodes(simulated_games_step2, node_distance_min_max_step2,0.9).shape"
   ]
  },
  {
   "cell_type": "code",
   "execution_count": 310,
   "metadata": {},
   "outputs": [
    {
     "data": {
      "text/plain": [
       "(37, 20)"
      ]
     },
     "execution_count": 310,
     "metadata": {},
     "output_type": "execute_result"
    }
   ],
   "source": [
    "drop_closest_nodes(simulated_games_step2, node_distance_min_max_step2,1.0).shape"
   ]
  },
  {
   "cell_type": "markdown",
   "metadata": {},
   "source": [
    "Perfect! So now we have a tuning parameter we can use to speed up the convergence."
   ]
  },
  {
   "cell_type": "markdown",
   "metadata": {},
   "source": [
    "At this point, we have everything working and just need to stick all the pieces together:"
   ]
  },
  {
   "cell_type": "code",
   "execution_count": 312,
   "metadata": {},
   "outputs": [],
   "source": [
    "def node_reducer(node_dataframe_input, tolerance_input, distance_tolerance_pct):\n",
    "    '''\n",
    "    input: node_dataframe_input: a dataframe with nodes in the rows and binary features in the columns\n",
    "           tolerance_input: value to be added to the minimum distance to be included in the closest nodes\n",
    "           distance_tolerance_pct: for larger datasets, it may be reasonable to drop more than just the nearest nodes\n",
    "               such that k is reduced more quickly in the beginning. This value is the percent to be added to the \n",
    "               min/max values used to calculate which nodes to drop\n",
    "    output: a reduced version of the input table which creates hybrid nodes and removes the node(s) for which there is\n",
    "        the least difference to the other nodes.\n",
    "    '''\n",
    "    \n",
    "    # calculate node distances\n",
    "    node_distances = node_distancer(node_dataframe_input)\n",
    "    \n",
    "    # create new hybrid nodes\n",
    "    new_nodes = node_updater(node_dataframe_input, node_distances, tolerance_input)\n",
    "    \n",
    "    # calculate hybrid node distances\n",
    "    new_node_distances = node_distancer(new_nodes)\n",
    "    \n",
    "    # calculate the min and max distances per new hybrid node\n",
    "    new_node_minmax_distances = node_distance_min_maxer(new_node_distances)\n",
    "    \n",
    "    # drop the closest node(s)\n",
    "    reduced_node_dataframe = drop_closest_nodes(new_nodes, new_node_minmax_distances, distance_tolerance_pct)\n",
    "    \n",
    "    return(reduced_node_dataframe)\n"
   ]
  },
  {
   "cell_type": "code",
   "execution_count": 50,
   "metadata": {},
   "outputs": [
    {
     "data": {
      "text/html": [
       "<div>\n",
       "<style scoped>\n",
       "    .dataframe tbody tr th:only-of-type {\n",
       "        vertical-align: middle;\n",
       "    }\n",
       "\n",
       "    .dataframe tbody tr th {\n",
       "        vertical-align: top;\n",
       "    }\n",
       "\n",
       "    .dataframe thead th {\n",
       "        text-align: right;\n",
       "    }\n",
       "</style>\n",
       "<table border=\"1\" class=\"dataframe\">\n",
       "  <thead>\n",
       "    <tr style=\"text-align: right;\">\n",
       "      <th></th>\n",
       "      <th>0</th>\n",
       "      <th>1</th>\n",
       "      <th>2</th>\n",
       "      <th>3</th>\n",
       "      <th>4</th>\n",
       "      <th>5</th>\n",
       "      <th>6</th>\n",
       "      <th>7</th>\n",
       "      <th>8</th>\n",
       "      <th>9</th>\n",
       "      <th>10</th>\n",
       "      <th>11</th>\n",
       "      <th>12</th>\n",
       "      <th>13</th>\n",
       "      <th>14</th>\n",
       "      <th>15</th>\n",
       "      <th>16</th>\n",
       "      <th>17</th>\n",
       "      <th>18</th>\n",
       "      <th>19</th>\n",
       "    </tr>\n",
       "  </thead>\n",
       "  <tbody>\n",
       "    <tr>\n",
       "      <td>0</td>\n",
       "      <td>1.000000</td>\n",
       "      <td>0.000000</td>\n",
       "      <td>0.000000</td>\n",
       "      <td>0.0</td>\n",
       "      <td>0.083333</td>\n",
       "      <td>0.0</td>\n",
       "      <td>0.000000</td>\n",
       "      <td>0.083333</td>\n",
       "      <td>0.000000</td>\n",
       "      <td>0.083333</td>\n",
       "      <td>0.0</td>\n",
       "      <td>0.0</td>\n",
       "      <td>0.000000</td>\n",
       "      <td>1.0</td>\n",
       "      <td>0.0</td>\n",
       "      <td>0.0</td>\n",
       "      <td>0.000000</td>\n",
       "      <td>0.0</td>\n",
       "      <td>0.083333</td>\n",
       "      <td>0.916667</td>\n",
       "    </tr>\n",
       "    <tr>\n",
       "      <td>1</td>\n",
       "      <td>0.000000</td>\n",
       "      <td>0.000000</td>\n",
       "      <td>0.000000</td>\n",
       "      <td>0.0</td>\n",
       "      <td>0.000000</td>\n",
       "      <td>0.0</td>\n",
       "      <td>0.000000</td>\n",
       "      <td>0.000000</td>\n",
       "      <td>0.000000</td>\n",
       "      <td>1.000000</td>\n",
       "      <td>0.0</td>\n",
       "      <td>0.0</td>\n",
       "      <td>0.000000</td>\n",
       "      <td>1.0</td>\n",
       "      <td>0.0</td>\n",
       "      <td>0.0</td>\n",
       "      <td>0.000000</td>\n",
       "      <td>0.0</td>\n",
       "      <td>0.000000</td>\n",
       "      <td>0.000000</td>\n",
       "    </tr>\n",
       "    <tr>\n",
       "      <td>2</td>\n",
       "      <td>1.000000</td>\n",
       "      <td>1.000000</td>\n",
       "      <td>0.000000</td>\n",
       "      <td>0.0</td>\n",
       "      <td>0.000000</td>\n",
       "      <td>0.0</td>\n",
       "      <td>1.000000</td>\n",
       "      <td>0.000000</td>\n",
       "      <td>1.000000</td>\n",
       "      <td>0.000000</td>\n",
       "      <td>0.0</td>\n",
       "      <td>0.0</td>\n",
       "      <td>1.000000</td>\n",
       "      <td>1.0</td>\n",
       "      <td>0.0</td>\n",
       "      <td>0.0</td>\n",
       "      <td>0.000000</td>\n",
       "      <td>0.0</td>\n",
       "      <td>0.000000</td>\n",
       "      <td>1.000000</td>\n",
       "    </tr>\n",
       "    <tr>\n",
       "      <td>3</td>\n",
       "      <td>1.000000</td>\n",
       "      <td>0.000000</td>\n",
       "      <td>0.666667</td>\n",
       "      <td>0.0</td>\n",
       "      <td>1.000000</td>\n",
       "      <td>0.0</td>\n",
       "      <td>0.000000</td>\n",
       "      <td>0.000000</td>\n",
       "      <td>0.000000</td>\n",
       "      <td>0.000000</td>\n",
       "      <td>0.0</td>\n",
       "      <td>0.0</td>\n",
       "      <td>0.000000</td>\n",
       "      <td>1.0</td>\n",
       "      <td>0.0</td>\n",
       "      <td>0.0</td>\n",
       "      <td>0.000000</td>\n",
       "      <td>0.0</td>\n",
       "      <td>0.000000</td>\n",
       "      <td>1.000000</td>\n",
       "    </tr>\n",
       "    <tr>\n",
       "      <td>4</td>\n",
       "      <td>0.000000</td>\n",
       "      <td>0.000000</td>\n",
       "      <td>0.000000</td>\n",
       "      <td>0.0</td>\n",
       "      <td>0.000000</td>\n",
       "      <td>0.0</td>\n",
       "      <td>0.000000</td>\n",
       "      <td>1.000000</td>\n",
       "      <td>0.000000</td>\n",
       "      <td>0.000000</td>\n",
       "      <td>0.0</td>\n",
       "      <td>0.0</td>\n",
       "      <td>0.000000</td>\n",
       "      <td>1.0</td>\n",
       "      <td>0.0</td>\n",
       "      <td>0.0</td>\n",
       "      <td>0.666667</td>\n",
       "      <td>0.0</td>\n",
       "      <td>0.000000</td>\n",
       "      <td>1.000000</td>\n",
       "    </tr>\n",
       "    <tr>\n",
       "      <td>...</td>\n",
       "      <td>...</td>\n",
       "      <td>...</td>\n",
       "      <td>...</td>\n",
       "      <td>...</td>\n",
       "      <td>...</td>\n",
       "      <td>...</td>\n",
       "      <td>...</td>\n",
       "      <td>...</td>\n",
       "      <td>...</td>\n",
       "      <td>...</td>\n",
       "      <td>...</td>\n",
       "      <td>...</td>\n",
       "      <td>...</td>\n",
       "      <td>...</td>\n",
       "      <td>...</td>\n",
       "      <td>...</td>\n",
       "      <td>...</td>\n",
       "      <td>...</td>\n",
       "      <td>...</td>\n",
       "      <td>...</td>\n",
       "    </tr>\n",
       "    <tr>\n",
       "      <td>95</td>\n",
       "      <td>1.000000</td>\n",
       "      <td>1.000000</td>\n",
       "      <td>1.000000</td>\n",
       "      <td>1.0</td>\n",
       "      <td>1.000000</td>\n",
       "      <td>0.0</td>\n",
       "      <td>1.000000</td>\n",
       "      <td>1.000000</td>\n",
       "      <td>1.000000</td>\n",
       "      <td>0.000000</td>\n",
       "      <td>1.0</td>\n",
       "      <td>0.0</td>\n",
       "      <td>1.000000</td>\n",
       "      <td>0.0</td>\n",
       "      <td>1.0</td>\n",
       "      <td>1.0</td>\n",
       "      <td>0.000000</td>\n",
       "      <td>1.0</td>\n",
       "      <td>1.000000</td>\n",
       "      <td>1.000000</td>\n",
       "    </tr>\n",
       "    <tr>\n",
       "      <td>96</td>\n",
       "      <td>0.000000</td>\n",
       "      <td>1.000000</td>\n",
       "      <td>1.000000</td>\n",
       "      <td>1.0</td>\n",
       "      <td>1.000000</td>\n",
       "      <td>1.0</td>\n",
       "      <td>1.000000</td>\n",
       "      <td>0.000000</td>\n",
       "      <td>0.333333</td>\n",
       "      <td>0.000000</td>\n",
       "      <td>1.0</td>\n",
       "      <td>1.0</td>\n",
       "      <td>1.000000</td>\n",
       "      <td>0.0</td>\n",
       "      <td>1.0</td>\n",
       "      <td>1.0</td>\n",
       "      <td>1.000000</td>\n",
       "      <td>1.0</td>\n",
       "      <td>1.000000</td>\n",
       "      <td>1.000000</td>\n",
       "    </tr>\n",
       "    <tr>\n",
       "      <td>97</td>\n",
       "      <td>0.909091</td>\n",
       "      <td>0.909091</td>\n",
       "      <td>1.000000</td>\n",
       "      <td>1.0</td>\n",
       "      <td>1.000000</td>\n",
       "      <td>1.0</td>\n",
       "      <td>0.909091</td>\n",
       "      <td>0.000000</td>\n",
       "      <td>1.000000</td>\n",
       "      <td>0.000000</td>\n",
       "      <td>1.0</td>\n",
       "      <td>1.0</td>\n",
       "      <td>0.909091</td>\n",
       "      <td>0.0</td>\n",
       "      <td>1.0</td>\n",
       "      <td>1.0</td>\n",
       "      <td>1.000000</td>\n",
       "      <td>1.0</td>\n",
       "      <td>1.000000</td>\n",
       "      <td>1.000000</td>\n",
       "    </tr>\n",
       "    <tr>\n",
       "      <td>98</td>\n",
       "      <td>0.000000</td>\n",
       "      <td>1.000000</td>\n",
       "      <td>0.000000</td>\n",
       "      <td>1.0</td>\n",
       "      <td>0.000000</td>\n",
       "      <td>1.0</td>\n",
       "      <td>1.000000</td>\n",
       "      <td>0.000000</td>\n",
       "      <td>1.000000</td>\n",
       "      <td>0.000000</td>\n",
       "      <td>1.0</td>\n",
       "      <td>1.0</td>\n",
       "      <td>1.000000</td>\n",
       "      <td>0.0</td>\n",
       "      <td>1.0</td>\n",
       "      <td>1.0</td>\n",
       "      <td>0.000000</td>\n",
       "      <td>1.0</td>\n",
       "      <td>1.000000</td>\n",
       "      <td>1.000000</td>\n",
       "    </tr>\n",
       "    <tr>\n",
       "      <td>99</td>\n",
       "      <td>1.000000</td>\n",
       "      <td>1.000000</td>\n",
       "      <td>1.000000</td>\n",
       "      <td>1.0</td>\n",
       "      <td>1.000000</td>\n",
       "      <td>1.0</td>\n",
       "      <td>1.000000</td>\n",
       "      <td>0.000000</td>\n",
       "      <td>1.000000</td>\n",
       "      <td>0.000000</td>\n",
       "      <td>1.0</td>\n",
       "      <td>1.0</td>\n",
       "      <td>1.000000</td>\n",
       "      <td>0.0</td>\n",
       "      <td>1.0</td>\n",
       "      <td>0.0</td>\n",
       "      <td>1.000000</td>\n",
       "      <td>1.0</td>\n",
       "      <td>1.000000</td>\n",
       "      <td>0.000000</td>\n",
       "    </tr>\n",
       "  </tbody>\n",
       "</table>\n",
       "<p>95 rows × 20 columns</p>\n",
       "</div>"
      ],
      "text/plain": [
       "           0         1         2    3         4    5         6         7  \\\n",
       "0   1.000000  0.000000  0.000000  0.0  0.083333  0.0  0.000000  0.083333   \n",
       "1   0.000000  0.000000  0.000000  0.0  0.000000  0.0  0.000000  0.000000   \n",
       "2   1.000000  1.000000  0.000000  0.0  0.000000  0.0  1.000000  0.000000   \n",
       "3   1.000000  0.000000  0.666667  0.0  1.000000  0.0  0.000000  0.000000   \n",
       "4   0.000000  0.000000  0.000000  0.0  0.000000  0.0  0.000000  1.000000   \n",
       "..       ...       ...       ...  ...       ...  ...       ...       ...   \n",
       "95  1.000000  1.000000  1.000000  1.0  1.000000  0.0  1.000000  1.000000   \n",
       "96  0.000000  1.000000  1.000000  1.0  1.000000  1.0  1.000000  0.000000   \n",
       "97  0.909091  0.909091  1.000000  1.0  1.000000  1.0  0.909091  0.000000   \n",
       "98  0.000000  1.000000  0.000000  1.0  0.000000  1.0  1.000000  0.000000   \n",
       "99  1.000000  1.000000  1.000000  1.0  1.000000  1.0  1.000000  0.000000   \n",
       "\n",
       "           8         9   10   11        12   13   14   15        16   17  \\\n",
       "0   0.000000  0.083333  0.0  0.0  0.000000  1.0  0.0  0.0  0.000000  0.0   \n",
       "1   0.000000  1.000000  0.0  0.0  0.000000  1.0  0.0  0.0  0.000000  0.0   \n",
       "2   1.000000  0.000000  0.0  0.0  1.000000  1.0  0.0  0.0  0.000000  0.0   \n",
       "3   0.000000  0.000000  0.0  0.0  0.000000  1.0  0.0  0.0  0.000000  0.0   \n",
       "4   0.000000  0.000000  0.0  0.0  0.000000  1.0  0.0  0.0  0.666667  0.0   \n",
       "..       ...       ...  ...  ...       ...  ...  ...  ...       ...  ...   \n",
       "95  1.000000  0.000000  1.0  0.0  1.000000  0.0  1.0  1.0  0.000000  1.0   \n",
       "96  0.333333  0.000000  1.0  1.0  1.000000  0.0  1.0  1.0  1.000000  1.0   \n",
       "97  1.000000  0.000000  1.0  1.0  0.909091  0.0  1.0  1.0  1.000000  1.0   \n",
       "98  1.000000  0.000000  1.0  1.0  1.000000  0.0  1.0  1.0  0.000000  1.0   \n",
       "99  1.000000  0.000000  1.0  1.0  1.000000  0.0  1.0  0.0  1.000000  1.0   \n",
       "\n",
       "          18        19  \n",
       "0   0.083333  0.916667  \n",
       "1   0.000000  0.000000  \n",
       "2   0.000000  1.000000  \n",
       "3   0.000000  1.000000  \n",
       "4   0.000000  1.000000  \n",
       "..       ...       ...  \n",
       "95  1.000000  1.000000  \n",
       "96  1.000000  1.000000  \n",
       "97  1.000000  1.000000  \n",
       "98  1.000000  1.000000  \n",
       "99  1.000000  0.000000  \n",
       "\n",
       "[95 rows x 20 columns]"
      ]
     },
     "execution_count": 50,
     "metadata": {},
     "output_type": "execute_result"
    }
   ],
   "source": [
    "node_reducer(simulated_games, 1)"
   ]
  },
  {
   "cell_type": "markdown",
   "metadata": {},
   "source": [
    "Next, we'll need to apply the cluster reducer down to k=1 and calculate the average distance between clusters at each step to get a sense of how many clusters should be included."
   ]
  },
  {
   "cell_type": "code",
   "execution_count": 51,
   "metadata": {},
   "outputs": [
    {
     "data": {
      "text/plain": [
       "array([[ 0.,  3.,  4., ..., 16., 14., 16.],\n",
       "       [ 3.,  0.,  7., ..., 19., 15., 17.],\n",
       "       [ 4.,  7.,  0., ..., 12., 10., 12.],\n",
       "       ...,\n",
       "       [16., 19., 12., ...,  0.,  4.,  2.],\n",
       "       [14., 15., 10., ...,  4.,  0.,  6.],\n",
       "       [16., 17., 12., ...,  2.,  6.,  0.]])"
      ]
     },
     "execution_count": 51,
     "metadata": {},
     "output_type": "execute_result"
    }
   ],
   "source": [
    "simulated_node_distances"
   ]
  },
  {
   "cell_type": "code",
   "execution_count": 52,
   "metadata": {},
   "outputs": [
    {
     "data": {
      "text/plain": [
       "array([ 9.1 ,  9.9 ,  9.08,  9.56, 10.26,  9.1 ,  9.1 ,  9.1 ,  8.7 ,\n",
       "        9.1 ,  9.92,  8.72,  8.64,  9.1 ,  9.42,  9.1 ,  9.92,  8.74,\n",
       "        9.9 ,  9.84,  9.9 ,  9.1 ,  8.7 ,  9.1 ,  9.14,  7.98,  8.78,\n",
       "        8.06,  7.96,  8.34,  9.24,  8.32,  9.42,  8.46,  7.98,  7.98,\n",
       "        7.98,  8.38,  8.32,  8.32,  8.78,  8.  ,  7.96,  7.98,  9.6 ,\n",
       "        8.78,  7.98,  9.12,  8.36,  8.8 ,  8.16,  8.06,  8.12,  8.08,\n",
       "        8.82,  8.5 ,  8.16,  8.52,  8.86,  9.34,  8.16,  8.94,  9.32,\n",
       "        8.46,  8.14,  8.18,  9.34,  8.58,  8.42,  8.14,  8.52,  8.46,\n",
       "        8.58,  8.8 ,  8.48,  9.28,  9.32,  9.28,  9.2 , 10.38,  9.28,\n",
       "        9.28,  9.26,  9.32, 10.46,  9.6 ,  9.28,  9.26,  8.94,  9.62,\n",
       "        9.28,  9.28,  9.5 ,  9.18,  9.22, 10.42,  9.3 ,  9.28,  8.48,\n",
       "        9.2 ])"
      ]
     },
     "execution_count": 52,
     "metadata": {},
     "output_type": "execute_result"
    }
   ],
   "source": [
    "np.mean(simulated_node_distances, axis = 0)"
   ]
  },
  {
   "cell_type": "code",
   "execution_count": 53,
   "metadata": {
    "scrolled": true
   },
   "outputs": [
    {
     "data": {
      "text/plain": [
       "8.9116"
      ]
     },
     "execution_count": 53,
     "metadata": {},
     "output_type": "execute_result"
    }
   ],
   "source": [
    "np.mean(np.mean(simulated_node_distances, axis = 0))"
   ]
  },
  {
   "cell_type": "markdown",
   "metadata": {},
   "source": [
    "**2F. and 2G.**  \n",
    "So the average distance of each node to every other node is 8.4.  Ideally, this number gets larger as we decrease the number of clusters.  To that end, lets wrap all of these functions into a single function which stores the results at each stage as well as the average distances."
   ]
  },
  {
   "cell_type": "code",
   "execution_count": 342,
   "metadata": {},
   "outputs": [],
   "source": [
    "def binary_clusterer(node_dataframe_input, tolerance_input = 1, distance_tolerance_pct = 0):\n",
    "    '''\n",
    "    input: node_dataframe_input: a dataframe with nodes in the rows and binary features in the columns\n",
    "           tolerance_input: value to be added to the minimum distance to be included in the closest nodes\n",
    "           distance_tolerance_pct: for larger datasets, it may be reasonable to drop more than just the nearest nodes\n",
    "               such that k is reduced more quickly in the beginning. This value is the percent to be added to the \n",
    "               min/max values used to calculate which nodes to drop\n",
    "    output: clusters: for each step, the resulting hybrid clusters\n",
    "            average_distances: for each step, the resulting average distance to every other cluster\n",
    "            k: the number of centroids\n",
    "    '''\n",
    "    centroids = []\n",
    "    average_distances = []\n",
    "    ks = []\n",
    "    node_dataframe = node_dataframe_input\n",
    "      \n",
    "    k = len(node_dataframe_input)\n",
    "    \n",
    "    while k>=1:\n",
    "        # save results of current step\n",
    "        centroids.append(node_dataframe)\n",
    "        average_distances.append(np.mean(np.mean(node_distancer(node_dataframe), axis = 0)))\n",
    "        ks.append(k)\n",
    "        \n",
    "        # apply the distance_tolerance_pct more heavily when k is closer to the maximum number of nodes,\n",
    "            # then back off as we approach convergence by applying a weight relative to k\n",
    "        graduated_tolerance_pct = k/len(node_dataframe_input) * distance_tolerance_pct\n",
    "        \n",
    "        # reduce node_dataframe\n",
    "        node_dataframe = node_reducer(node_dataframe, tolerance_input, graduated_tolerance_pct)\n",
    "        \n",
    "        # set k\n",
    "        k = len(node_dataframe)\n",
    "    \n",
    "    cluster_results = [centroids,average_distances,ks]\n",
    "    \n",
    "    # reverse the order (from smallest number of clusters to greatest) to make interpretation easier\n",
    "    cluster_results[0].reverse()\n",
    "    cluster_results[1].reverse()\n",
    "    cluster_results[2].reverse()\n",
    "    \n",
    "    return(cluster_results)\n",
    "        \n",
    "    \n",
    "    "
   ]
  },
  {
   "cell_type": "markdown",
   "metadata": {},
   "source": [
    "Test with 0% tolerance (this should have the maximum number of clusters and take the longest to process)"
   ]
  },
  {
   "cell_type": "code",
   "execution_count": 343,
   "metadata": {},
   "outputs": [],
   "source": [
    "cluster_results = binary_clusterer(simulated_games,1,0)"
   ]
  },
  {
   "cell_type": "code",
   "execution_count": 344,
   "metadata": {},
   "outputs": [],
   "source": [
    "cluster_results_comparison = pd.DataFrame({'k_clusters':cluster_results[2],\n",
    "                                          'average_cluster_distance':cluster_results[1]})"
   ]
  },
  {
   "cell_type": "code",
   "execution_count": 345,
   "metadata": {},
   "outputs": [
    {
     "data": {
      "text/plain": [
       "(48, 2)"
      ]
     },
     "execution_count": 345,
     "metadata": {},
     "output_type": "execute_result"
    }
   ],
   "source": [
    "cluster_results_comparison.shape"
   ]
  },
  {
   "cell_type": "code",
   "execution_count": 359,
   "metadata": {},
   "outputs": [
    {
     "ename": "ModuleNotFoundError",
     "evalue": "No module named 'matplotlib'",
     "output_type": "error",
     "traceback": [
      "\u001b[0;31m---------------------------------------------------------------------------\u001b[0m",
      "\u001b[0;31mModuleNotFoundError\u001b[0m                       Traceback (most recent call last)",
      "\u001b[0;32m<ipython-input-359-a0d2faabd9e9>\u001b[0m in \u001b[0;36m<module>\u001b[0;34m\u001b[0m\n\u001b[0;32m----> 1\u001b[0;31m \u001b[0;32mimport\u001b[0m \u001b[0mmatplotlib\u001b[0m\u001b[0;34m.\u001b[0m\u001b[0mpyplot\u001b[0m \u001b[0;32mas\u001b[0m \u001b[0mplt\u001b[0m\u001b[0;34m\u001b[0m\u001b[0;34m\u001b[0m\u001b[0m\n\u001b[0m",
      "\u001b[0;31mModuleNotFoundError\u001b[0m: No module named 'matplotlib'"
     ]
    }
   ],
   "source": [
    "import matplotlib.pyplot as plt"
   ]
  },
  {
   "cell_type": "code",
   "execution_count": 352,
   "metadata": {
    "scrolled": true
   },
   "outputs": [
    {
     "data": {
      "text/html": [
       "<div>\n",
       "<style scoped>\n",
       "    .dataframe tbody tr th:only-of-type {\n",
       "        vertical-align: middle;\n",
       "    }\n",
       "\n",
       "    .dataframe tbody tr th {\n",
       "        vertical-align: top;\n",
       "    }\n",
       "\n",
       "    .dataframe thead th {\n",
       "        text-align: right;\n",
       "    }\n",
       "</style>\n",
       "<table border=\"1\" class=\"dataframe\">\n",
       "  <thead>\n",
       "    <tr style=\"text-align: right;\">\n",
       "      <th></th>\n",
       "      <th>k_clusters</th>\n",
       "      <th>average_cluster_distance</th>\n",
       "    </tr>\n",
       "  </thead>\n",
       "  <tbody>\n",
       "    <tr>\n",
       "      <td>0</td>\n",
       "      <td>2</td>\n",
       "      <td>5.086420</td>\n",
       "    </tr>\n",
       "    <tr>\n",
       "      <td>1</td>\n",
       "      <td>3</td>\n",
       "      <td>5.650206</td>\n",
       "    </tr>\n",
       "    <tr>\n",
       "      <td>2</td>\n",
       "      <td>4</td>\n",
       "      <td>5.530093</td>\n",
       "    </tr>\n",
       "    <tr>\n",
       "      <td>3</td>\n",
       "      <td>5</td>\n",
       "      <td>6.302222</td>\n",
       "    </tr>\n",
       "    <tr>\n",
       "      <td>4</td>\n",
       "      <td>6</td>\n",
       "      <td>6.793210</td>\n",
       "    </tr>\n",
       "    <tr>\n",
       "      <td>5</td>\n",
       "      <td>7</td>\n",
       "      <td>7.217687</td>\n",
       "    </tr>\n",
       "    <tr>\n",
       "      <td>6</td>\n",
       "      <td>8</td>\n",
       "      <td>7.323717</td>\n",
       "    </tr>\n",
       "    <tr>\n",
       "      <td>7</td>\n",
       "      <td>9</td>\n",
       "      <td>7.383767</td>\n",
       "    </tr>\n",
       "    <tr>\n",
       "      <td>8</td>\n",
       "      <td>10</td>\n",
       "      <td>7.689846</td>\n",
       "    </tr>\n",
       "    <tr>\n",
       "      <td>9</td>\n",
       "      <td>11</td>\n",
       "      <td>7.925921</td>\n",
       "    </tr>\n",
       "    <tr>\n",
       "      <td>10</td>\n",
       "      <td>12</td>\n",
       "      <td>8.170354</td>\n",
       "    </tr>\n",
       "    <tr>\n",
       "      <td>11</td>\n",
       "      <td>14</td>\n",
       "      <td>8.356309</td>\n",
       "    </tr>\n",
       "    <tr>\n",
       "      <td>12</td>\n",
       "      <td>15</td>\n",
       "      <td>8.247237</td>\n",
       "    </tr>\n",
       "    <tr>\n",
       "      <td>13</td>\n",
       "      <td>17</td>\n",
       "      <td>8.209181</td>\n",
       "    </tr>\n",
       "    <tr>\n",
       "      <td>14</td>\n",
       "      <td>18</td>\n",
       "      <td>8.224572</td>\n",
       "    </tr>\n",
       "    <tr>\n",
       "      <td>15</td>\n",
       "      <td>19</td>\n",
       "      <td>8.167208</td>\n",
       "    </tr>\n",
       "    <tr>\n",
       "      <td>16</td>\n",
       "      <td>20</td>\n",
       "      <td>8.301471</td>\n",
       "    </tr>\n",
       "    <tr>\n",
       "      <td>17</td>\n",
       "      <td>21</td>\n",
       "      <td>8.262034</td>\n",
       "    </tr>\n",
       "    <tr>\n",
       "      <td>18</td>\n",
       "      <td>22</td>\n",
       "      <td>8.262444</td>\n",
       "    </tr>\n",
       "    <tr>\n",
       "      <td>19</td>\n",
       "      <td>23</td>\n",
       "      <td>8.280378</td>\n",
       "    </tr>\n",
       "    <tr>\n",
       "      <td>20</td>\n",
       "      <td>24</td>\n",
       "      <td>8.212905</td>\n",
       "    </tr>\n",
       "    <tr>\n",
       "      <td>21</td>\n",
       "      <td>25</td>\n",
       "      <td>8.228114</td>\n",
       "    </tr>\n",
       "    <tr>\n",
       "      <td>22</td>\n",
       "      <td>26</td>\n",
       "      <td>8.162698</td>\n",
       "    </tr>\n",
       "    <tr>\n",
       "      <td>23</td>\n",
       "      <td>27</td>\n",
       "      <td>8.160239</td>\n",
       "    </tr>\n",
       "    <tr>\n",
       "      <td>24</td>\n",
       "      <td>28</td>\n",
       "      <td>8.112305</td>\n",
       "    </tr>\n",
       "    <tr>\n",
       "      <td>25</td>\n",
       "      <td>29</td>\n",
       "      <td>8.019778</td>\n",
       "    </tr>\n",
       "    <tr>\n",
       "      <td>26</td>\n",
       "      <td>31</td>\n",
       "      <td>8.395407</td>\n",
       "    </tr>\n",
       "    <tr>\n",
       "      <td>27</td>\n",
       "      <td>32</td>\n",
       "      <td>8.353164</td>\n",
       "    </tr>\n",
       "    <tr>\n",
       "      <td>28</td>\n",
       "      <td>34</td>\n",
       "      <td>8.387834</td>\n",
       "    </tr>\n",
       "    <tr>\n",
       "      <td>29</td>\n",
       "      <td>36</td>\n",
       "      <td>8.363450</td>\n",
       "    </tr>\n",
       "    <tr>\n",
       "      <td>30</td>\n",
       "      <td>38</td>\n",
       "      <td>8.297592</td>\n",
       "    </tr>\n",
       "    <tr>\n",
       "      <td>31</td>\n",
       "      <td>40</td>\n",
       "      <td>8.242554</td>\n",
       "    </tr>\n",
       "    <tr>\n",
       "      <td>32</td>\n",
       "      <td>42</td>\n",
       "      <td>8.160091</td>\n",
       "    </tr>\n",
       "    <tr>\n",
       "      <td>33</td>\n",
       "      <td>44</td>\n",
       "      <td>8.058135</td>\n",
       "    </tr>\n",
       "    <tr>\n",
       "      <td>34</td>\n",
       "      <td>46</td>\n",
       "      <td>8.241783</td>\n",
       "    </tr>\n",
       "    <tr>\n",
       "      <td>35</td>\n",
       "      <td>47</td>\n",
       "      <td>8.310172</td>\n",
       "    </tr>\n",
       "    <tr>\n",
       "      <td>36</td>\n",
       "      <td>49</td>\n",
       "      <td>8.408564</td>\n",
       "    </tr>\n",
       "    <tr>\n",
       "      <td>37</td>\n",
       "      <td>50</td>\n",
       "      <td>8.441852</td>\n",
       "    </tr>\n",
       "    <tr>\n",
       "      <td>38</td>\n",
       "      <td>60</td>\n",
       "      <td>8.421930</td>\n",
       "    </tr>\n",
       "    <tr>\n",
       "      <td>39</td>\n",
       "      <td>63</td>\n",
       "      <td>8.353450</td>\n",
       "    </tr>\n",
       "    <tr>\n",
       "      <td>40</td>\n",
       "      <td>71</td>\n",
       "      <td>8.617059</td>\n",
       "    </tr>\n",
       "    <tr>\n",
       "      <td>41</td>\n",
       "      <td>75</td>\n",
       "      <td>8.636528</td>\n",
       "    </tr>\n",
       "    <tr>\n",
       "      <td>42</td>\n",
       "      <td>83</td>\n",
       "      <td>8.475768</td>\n",
       "    </tr>\n",
       "    <tr>\n",
       "      <td>43</td>\n",
       "      <td>86</td>\n",
       "      <td>8.392182</td>\n",
       "    </tr>\n",
       "    <tr>\n",
       "      <td>44</td>\n",
       "      <td>88</td>\n",
       "      <td>8.403218</td>\n",
       "    </tr>\n",
       "    <tr>\n",
       "      <td>45</td>\n",
       "      <td>96</td>\n",
       "      <td>8.374036</td>\n",
       "    </tr>\n",
       "    <tr>\n",
       "      <td>46</td>\n",
       "      <td>98</td>\n",
       "      <td>8.431928</td>\n",
       "    </tr>\n",
       "    <tr>\n",
       "      <td>47</td>\n",
       "      <td>100</td>\n",
       "      <td>8.522000</td>\n",
       "    </tr>\n",
       "  </tbody>\n",
       "</table>\n",
       "</div>"
      ],
      "text/plain": [
       "    k_clusters  average_cluster_distance\n",
       "0            2                  5.086420\n",
       "1            3                  5.650206\n",
       "2            4                  5.530093\n",
       "3            5                  6.302222\n",
       "4            6                  6.793210\n",
       "5            7                  7.217687\n",
       "6            8                  7.323717\n",
       "7            9                  7.383767\n",
       "8           10                  7.689846\n",
       "9           11                  7.925921\n",
       "10          12                  8.170354\n",
       "11          14                  8.356309\n",
       "12          15                  8.247237\n",
       "13          17                  8.209181\n",
       "14          18                  8.224572\n",
       "15          19                  8.167208\n",
       "16          20                  8.301471\n",
       "17          21                  8.262034\n",
       "18          22                  8.262444\n",
       "19          23                  8.280378\n",
       "20          24                  8.212905\n",
       "21          25                  8.228114\n",
       "22          26                  8.162698\n",
       "23          27                  8.160239\n",
       "24          28                  8.112305\n",
       "25          29                  8.019778\n",
       "26          31                  8.395407\n",
       "27          32                  8.353164\n",
       "28          34                  8.387834\n",
       "29          36                  8.363450\n",
       "30          38                  8.297592\n",
       "31          40                  8.242554\n",
       "32          42                  8.160091\n",
       "33          44                  8.058135\n",
       "34          46                  8.241783\n",
       "35          47                  8.310172\n",
       "36          49                  8.408564\n",
       "37          50                  8.441852\n",
       "38          60                  8.421930\n",
       "39          63                  8.353450\n",
       "40          71                  8.617059\n",
       "41          75                  8.636528\n",
       "42          83                  8.475768\n",
       "43          86                  8.392182\n",
       "44          88                  8.403218\n",
       "45          96                  8.374036\n",
       "46          98                  8.431928\n",
       "47         100                  8.522000"
      ]
     },
     "execution_count": 352,
     "metadata": {},
     "output_type": "execute_result"
    }
   ],
   "source": [
    "cluster_results_comparison"
   ]
  },
  {
   "cell_type": "markdown",
   "metadata": {},
   "source": [
    "Lets compare with a 50% tolerance:"
   ]
  },
  {
   "cell_type": "code",
   "execution_count": 347,
   "metadata": {},
   "outputs": [],
   "source": [
    "cluster_results_high_tolerance = binary_clusterer(simulated_games,1,0.50)"
   ]
  },
  {
   "cell_type": "code",
   "execution_count": 348,
   "metadata": {},
   "outputs": [],
   "source": [
    "cluster_results_high_tolerance_comparison = pd.DataFrame({'k_clusters':cluster_results_high_tolerance[2],\n",
    "                                                          'average_cluster_distance':cluster_results_high_tolerance[1]})"
   ]
  },
  {
   "cell_type": "code",
   "execution_count": 349,
   "metadata": {},
   "outputs": [
    {
     "data": {
      "text/plain": [
       "(15, 2)"
      ]
     },
     "execution_count": 349,
     "metadata": {},
     "output_type": "execute_result"
    }
   ],
   "source": [
    "cluster_results_high_tolerance_comparison.shape"
   ]
  },
  {
   "cell_type": "code",
   "execution_count": 353,
   "metadata": {},
   "outputs": [
    {
     "data": {
      "text/html": [
       "<div>\n",
       "<style scoped>\n",
       "    .dataframe tbody tr th:only-of-type {\n",
       "        vertical-align: middle;\n",
       "    }\n",
       "\n",
       "    .dataframe tbody tr th {\n",
       "        vertical-align: top;\n",
       "    }\n",
       "\n",
       "    .dataframe thead th {\n",
       "        text-align: right;\n",
       "    }\n",
       "</style>\n",
       "<table border=\"1\" class=\"dataframe\">\n",
       "  <thead>\n",
       "    <tr style=\"text-align: right;\">\n",
       "      <th></th>\n",
       "      <th>k_clusters</th>\n",
       "      <th>average_cluster_distance</th>\n",
       "    </tr>\n",
       "  </thead>\n",
       "  <tbody>\n",
       "    <tr>\n",
       "      <td>0</td>\n",
       "      <td>2</td>\n",
       "      <td>5.481481</td>\n",
       "    </tr>\n",
       "    <tr>\n",
       "      <td>1</td>\n",
       "      <td>3</td>\n",
       "      <td>6.148148</td>\n",
       "    </tr>\n",
       "    <tr>\n",
       "      <td>2</td>\n",
       "      <td>4</td>\n",
       "      <td>6.987500</td>\n",
       "    </tr>\n",
       "    <tr>\n",
       "      <td>3</td>\n",
       "      <td>6</td>\n",
       "      <td>7.244444</td>\n",
       "    </tr>\n",
       "    <tr>\n",
       "      <td>4</td>\n",
       "      <td>7</td>\n",
       "      <td>7.209524</td>\n",
       "    </tr>\n",
       "    <tr>\n",
       "      <td>5</td>\n",
       "      <td>9</td>\n",
       "      <td>7.396159</td>\n",
       "    </tr>\n",
       "    <tr>\n",
       "      <td>6</td>\n",
       "      <td>11</td>\n",
       "      <td>7.857668</td>\n",
       "    </tr>\n",
       "    <tr>\n",
       "      <td>7</td>\n",
       "      <td>13</td>\n",
       "      <td>7.662722</td>\n",
       "    </tr>\n",
       "    <tr>\n",
       "      <td>8</td>\n",
       "      <td>15</td>\n",
       "      <td>8.109926</td>\n",
       "    </tr>\n",
       "    <tr>\n",
       "      <td>9</td>\n",
       "      <td>20</td>\n",
       "      <td>8.432167</td>\n",
       "    </tr>\n",
       "    <tr>\n",
       "      <td>10</td>\n",
       "      <td>23</td>\n",
       "      <td>8.570006</td>\n",
       "    </tr>\n",
       "    <tr>\n",
       "      <td>11</td>\n",
       "      <td>29</td>\n",
       "      <td>8.313241</td>\n",
       "    </tr>\n",
       "    <tr>\n",
       "      <td>12</td>\n",
       "      <td>31</td>\n",
       "      <td>8.229206</td>\n",
       "    </tr>\n",
       "    <tr>\n",
       "      <td>13</td>\n",
       "      <td>51</td>\n",
       "      <td>8.420326</td>\n",
       "    </tr>\n",
       "    <tr>\n",
       "      <td>14</td>\n",
       "      <td>100</td>\n",
       "      <td>8.522000</td>\n",
       "    </tr>\n",
       "  </tbody>\n",
       "</table>\n",
       "</div>"
      ],
      "text/plain": [
       "    k_clusters  average_cluster_distance\n",
       "0            2                  5.481481\n",
       "1            3                  6.148148\n",
       "2            4                  6.987500\n",
       "3            6                  7.244444\n",
       "4            7                  7.209524\n",
       "5            9                  7.396159\n",
       "6           11                  7.857668\n",
       "7           13                  7.662722\n",
       "8           15                  8.109926\n",
       "9           20                  8.432167\n",
       "10          23                  8.570006\n",
       "11          29                  8.313241\n",
       "12          31                  8.229206\n",
       "13          51                  8.420326\n",
       "14         100                  8.522000"
      ]
     },
     "execution_count": 353,
     "metadata": {},
     "output_type": "execute_result"
    }
   ],
   "source": [
    "cluster_results_high_tolerance_comparison"
   ]
  },
  {
   "cell_type": "markdown",
   "metadata": {},
   "source": [
    "With a 50% tolerance, convergence is reached in only 15 iterations vs the 48 with 0% tolerance. This should lead to significant gains in performance in larger datasets."
   ]
  },
  {
   "cell_type": "markdown",
   "metadata": {},
   "source": [
    "Based on these results, it seems that 6 clusters is about where the 'elbow' is since the jump from 4.48 to 7.04 is large relative to the other marginal distance changes.  This being the case, we'll select the centroids for k=6.  We know that we intended for 4 clusters, but because we introduce randomness with how the clusters were created, 6 seems feasible."
   ]
  },
  {
   "cell_type": "code",
   "execution_count": 329,
   "metadata": {},
   "outputs": [],
   "source": [
    "cluster_centroids = cluster_results[0][3]"
   ]
  },
  {
   "cell_type": "code",
   "execution_count": 330,
   "metadata": {},
   "outputs": [
    {
     "data": {
      "text/html": [
       "<div>\n",
       "<style scoped>\n",
       "    .dataframe tbody tr th:only-of-type {\n",
       "        vertical-align: middle;\n",
       "    }\n",
       "\n",
       "    .dataframe tbody tr th {\n",
       "        vertical-align: top;\n",
       "    }\n",
       "\n",
       "    .dataframe thead th {\n",
       "        text-align: right;\n",
       "    }\n",
       "</style>\n",
       "<table border=\"1\" class=\"dataframe\">\n",
       "  <thead>\n",
       "    <tr style=\"text-align: right;\">\n",
       "      <th></th>\n",
       "      <th>0</th>\n",
       "      <th>1</th>\n",
       "      <th>2</th>\n",
       "      <th>3</th>\n",
       "      <th>4</th>\n",
       "      <th>5</th>\n",
       "      <th>6</th>\n",
       "      <th>7</th>\n",
       "      <th>8</th>\n",
       "      <th>9</th>\n",
       "      <th>10</th>\n",
       "      <th>11</th>\n",
       "      <th>12</th>\n",
       "      <th>13</th>\n",
       "      <th>14</th>\n",
       "      <th>15</th>\n",
       "      <th>16</th>\n",
       "      <th>17</th>\n",
       "      <th>18</th>\n",
       "      <th>19</th>\n",
       "    </tr>\n",
       "  </thead>\n",
       "  <tbody>\n",
       "    <tr>\n",
       "      <td>0</td>\n",
       "      <td>0.0</td>\n",
       "      <td>0.666667</td>\n",
       "      <td>0.00</td>\n",
       "      <td>0.416667</td>\n",
       "      <td>0.5</td>\n",
       "      <td>1.0</td>\n",
       "      <td>0.388889</td>\n",
       "      <td>0.0</td>\n",
       "      <td>0.5</td>\n",
       "      <td>0.222222</td>\n",
       "      <td>0.75</td>\n",
       "      <td>1.0</td>\n",
       "      <td>0.5</td>\n",
       "      <td>0.250000</td>\n",
       "      <td>0.0</td>\n",
       "      <td>0.50</td>\n",
       "      <td>0.0</td>\n",
       "      <td>0.5</td>\n",
       "      <td>0.5</td>\n",
       "      <td>0.166667</td>\n",
       "    </tr>\n",
       "    <tr>\n",
       "      <td>2</td>\n",
       "      <td>0.0</td>\n",
       "      <td>1.000000</td>\n",
       "      <td>0.75</td>\n",
       "      <td>1.000000</td>\n",
       "      <td>1.0</td>\n",
       "      <td>1.0</td>\n",
       "      <td>0.000000</td>\n",
       "      <td>0.0</td>\n",
       "      <td>1.0</td>\n",
       "      <td>0.750000</td>\n",
       "      <td>0.00</td>\n",
       "      <td>1.0</td>\n",
       "      <td>1.0</td>\n",
       "      <td>1.000000</td>\n",
       "      <td>0.0</td>\n",
       "      <td>1.00</td>\n",
       "      <td>0.0</td>\n",
       "      <td>0.0</td>\n",
       "      <td>1.0</td>\n",
       "      <td>0.000000</td>\n",
       "    </tr>\n",
       "    <tr>\n",
       "      <td>3</td>\n",
       "      <td>0.0</td>\n",
       "      <td>1.000000</td>\n",
       "      <td>0.00</td>\n",
       "      <td>0.000000</td>\n",
       "      <td>1.0</td>\n",
       "      <td>1.0</td>\n",
       "      <td>0.000000</td>\n",
       "      <td>0.0</td>\n",
       "      <td>1.0</td>\n",
       "      <td>0.000000</td>\n",
       "      <td>0.00</td>\n",
       "      <td>1.0</td>\n",
       "      <td>1.0</td>\n",
       "      <td>0.000000</td>\n",
       "      <td>0.0</td>\n",
       "      <td>1.00</td>\n",
       "      <td>0.0</td>\n",
       "      <td>0.0</td>\n",
       "      <td>1.0</td>\n",
       "      <td>0.000000</td>\n",
       "    </tr>\n",
       "    <tr>\n",
       "      <td>4</td>\n",
       "      <td>1.0</td>\n",
       "      <td>1.000000</td>\n",
       "      <td>0.25</td>\n",
       "      <td>1.000000</td>\n",
       "      <td>1.0</td>\n",
       "      <td>1.0</td>\n",
       "      <td>1.000000</td>\n",
       "      <td>0.0</td>\n",
       "      <td>1.0</td>\n",
       "      <td>0.000000</td>\n",
       "      <td>1.00</td>\n",
       "      <td>1.0</td>\n",
       "      <td>1.0</td>\n",
       "      <td>0.000000</td>\n",
       "      <td>1.0</td>\n",
       "      <td>0.25</td>\n",
       "      <td>1.0</td>\n",
       "      <td>1.0</td>\n",
       "      <td>1.0</td>\n",
       "      <td>1.000000</td>\n",
       "    </tr>\n",
       "    <tr>\n",
       "      <td>5</td>\n",
       "      <td>1.0</td>\n",
       "      <td>1.000000</td>\n",
       "      <td>1.00</td>\n",
       "      <td>1.000000</td>\n",
       "      <td>1.0</td>\n",
       "      <td>0.0</td>\n",
       "      <td>1.000000</td>\n",
       "      <td>0.0</td>\n",
       "      <td>1.0</td>\n",
       "      <td>0.000000</td>\n",
       "      <td>1.00</td>\n",
       "      <td>1.0</td>\n",
       "      <td>1.0</td>\n",
       "      <td>0.666667</td>\n",
       "      <td>1.0</td>\n",
       "      <td>1.00</td>\n",
       "      <td>1.0</td>\n",
       "      <td>1.0</td>\n",
       "      <td>1.0</td>\n",
       "      <td>1.000000</td>\n",
       "    </tr>\n",
       "  </tbody>\n",
       "</table>\n",
       "</div>"
      ],
      "text/plain": [
       "     0         1     2         3    4    5         6    7    8         9  \\\n",
       "0  0.0  0.666667  0.00  0.416667  0.5  1.0  0.388889  0.0  0.5  0.222222   \n",
       "2  0.0  1.000000  0.75  1.000000  1.0  1.0  0.000000  0.0  1.0  0.750000   \n",
       "3  0.0  1.000000  0.00  0.000000  1.0  1.0  0.000000  0.0  1.0  0.000000   \n",
       "4  1.0  1.000000  0.25  1.000000  1.0  1.0  1.000000  0.0  1.0  0.000000   \n",
       "5  1.0  1.000000  1.00  1.000000  1.0  0.0  1.000000  0.0  1.0  0.000000   \n",
       "\n",
       "     10   11   12        13   14    15   16   17   18        19  \n",
       "0  0.75  1.0  0.5  0.250000  0.0  0.50  0.0  0.5  0.5  0.166667  \n",
       "2  0.00  1.0  1.0  1.000000  0.0  1.00  0.0  0.0  1.0  0.000000  \n",
       "3  0.00  1.0  1.0  0.000000  0.0  1.00  0.0  0.0  1.0  0.000000  \n",
       "4  1.00  1.0  1.0  0.000000  1.0  0.25  1.0  1.0  1.0  1.000000  \n",
       "5  1.00  1.0  1.0  0.666667  1.0  1.00  1.0  1.0  1.0  1.000000  "
      ]
     },
     "execution_count": 330,
     "metadata": {},
     "output_type": "execute_result"
    }
   ],
   "source": [
    "cluster_centroids"
   ]
  },
  {
   "cell_type": "markdown",
   "metadata": {},
   "source": [
    "Finally, now that we have our centroids, we can classify each of the original games into clusters by its nearest centroid:"
   ]
  },
  {
   "cell_type": "code",
   "execution_count": 331,
   "metadata": {},
   "outputs": [],
   "source": [
    "def cluster_classifier(node_table_input, cluster_centroids):\n",
    "    '''\n",
    "    input: node_table_input: a dataframe with nodes in the rows and binary features in the columns\n",
    "           cluster_centroids: the centroids resulting from the binary clustering algorithm\n",
    "    output: a list which classifies each node into a cluster based on shortest distance\n",
    "    \n",
    "    '''\n",
    "    clusters = []\n",
    "    \n",
    "    for i in range(len(node_table_input)):\n",
    "        node_distances = []\n",
    "        \n",
    "        # get distance to each cluster centroid:\n",
    "        for j in range(len(cluster_centroids)):\n",
    "            node_distances.append(cluster_distance_calculator(node_table_input.iloc[i], cluster_centroids.iloc[j]))\n",
    "        \n",
    "        min_distance = min(node_distances)\n",
    "        \n",
    "        clusters.append(np.where(np.asarray(node_distances)==min_distance)[0][0])\n",
    "    \n",
    "    return(clusters)"
   ]
  },
  {
   "cell_type": "code",
   "execution_count": 332,
   "metadata": {
    "scrolled": true
   },
   "outputs": [],
   "source": [
    "node_clusters = cluster_classifier(simulated_games, cluster_centroids)"
   ]
  },
  {
   "cell_type": "code",
   "execution_count": 333,
   "metadata": {},
   "outputs": [
    {
     "data": {
      "text/plain": [
       "[0, 0, 0, 0, 2, 0, 0, 0, 0, 0, 0, 2, 0, 0, 0, 0, 0, 0, 0, 0]"
      ]
     },
     "execution_count": 333,
     "metadata": {},
     "output_type": "execute_result"
    }
   ],
   "source": [
    "node_clusters[0:20]"
   ]
  },
  {
   "cell_type": "markdown",
   "metadata": {},
   "source": [
    "Just for fun, lets see how accurate our classifier if we select k=4 (the expected number of clusters):"
   ]
  },
  {
   "cell_type": "code",
   "execution_count": 334,
   "metadata": {},
   "outputs": [],
   "source": [
    "# select index = 2, which is 4 clusters\n",
    "cluster_centroids = cluster_results[0][2]\n",
    "node_clusters = cluster_classifier(simulated_games, cluster_centroids)"
   ]
  },
  {
   "cell_type": "markdown",
   "metadata": {},
   "source": [
    "We're expecting the groupings to show the first 25 in a cluster, the second 25 in a cluster, and so on, so lets investigate by each set of 25. First though, lets see how many nodes were classified in each cluster:"
   ]
  },
  {
   "cell_type": "code",
   "execution_count": 335,
   "metadata": {},
   "outputs": [
    {
     "name": "stdout",
     "output_type": "stream",
     "text": [
      "47\n",
      "23\n",
      "5\n",
      "25\n"
     ]
    }
   ],
   "source": [
    "print(node_clusters.count(0))\n",
    "print(node_clusters.count(1))\n",
    "print(node_clusters.count(2))\n",
    "print(node_clusters.count(3))"
   ]
  },
  {
   "cell_type": "markdown",
   "metadata": {},
   "source": [
    "Looks like several from the first cluster were pulled into the second.  Lets see how it looks per expected cluster:"
   ]
  },
  {
   "cell_type": "code",
   "execution_count": 336,
   "metadata": {},
   "outputs": [
    {
     "data": {
      "text/plain": [
       "[0, 0, 0, 0, 2, 0, 0, 0, 0, 0, 0, 2, 0, 0, 0, 0, 0, 0, 0, 0, 2, 0, 0, 0, 0]"
      ]
     },
     "execution_count": 336,
     "metadata": {},
     "output_type": "execute_result"
    }
   ],
   "source": [
    "node_clusters[0:25]"
   ]
  },
  {
   "cell_type": "markdown",
   "metadata": {},
   "source": [
    "Looks like this cluster was classified as '2' so lets see how many aren't 2:"
   ]
  },
  {
   "cell_type": "code",
   "execution_count": 337,
   "metadata": {
    "scrolled": true
   },
   "outputs": [
    {
     "data": {
      "text/plain": [
       "22"
      ]
     },
     "execution_count": 337,
     "metadata": {},
     "output_type": "execute_result"
    }
   ],
   "source": [
    "len(np.where(np.asarray(node_clusters[0:25])!=2)[0])"
   ]
  },
  {
   "cell_type": "markdown",
   "metadata": {},
   "source": [
    "84% isn't bad considering the noise we threw in.  Lets check out the other clusters:"
   ]
  },
  {
   "cell_type": "code",
   "execution_count": 338,
   "metadata": {
    "scrolled": true
   },
   "outputs": [
    {
     "data": {
      "text/plain": [
       "[0, 0, 0, 0, 0, 0, 0, 0, 0, 0, 0, 0, 0, 0, 0, 0, 0, 0, 0, 0, 0, 0, 0, 0, 0]"
      ]
     },
     "execution_count": 338,
     "metadata": {},
     "output_type": "execute_result"
    }
   ],
   "source": [
    "node_clusters[25:50]"
   ]
  },
  {
   "cell_type": "code",
   "execution_count": 339,
   "metadata": {},
   "outputs": [
    {
     "data": {
      "text/plain": [
       "25"
      ]
     },
     "execution_count": 339,
     "metadata": {},
     "output_type": "execute_result"
    }
   ],
   "source": [
    "len(np.where(np.asarray(node_clusters[25:50])!=1)[0])"
   ]
  },
  {
   "cell_type": "markdown",
   "metadata": {},
   "source": [
    "64% of the next 25 were in the same cluster."
   ]
  },
  {
   "cell_type": "code",
   "execution_count": 340,
   "metadata": {
    "scrolled": true
   },
   "outputs": [
    {
     "data": {
      "text/plain": [
       "[1, 1, 1, 1, 1, 1, 1, 1, 1, 1, 1, 1, 1, 1, 1, 2, 1, 1, 1, 1, 2, 1, 1, 1, 1]"
      ]
     },
     "execution_count": 340,
     "metadata": {},
     "output_type": "execute_result"
    }
   ],
   "source": [
    "node_clusters[50:75]"
   ]
  },
  {
   "cell_type": "code",
   "execution_count": 341,
   "metadata": {},
   "outputs": [
    {
     "data": {
      "text/plain": [
       "2"
      ]
     },
     "execution_count": 341,
     "metadata": {},
     "output_type": "execute_result"
    }
   ],
   "source": [
    "len(np.where(np.asarray(node_clusters[50:75])!=1)[0])"
   ]
  },
  {
   "cell_type": "markdown",
   "metadata": {},
   "source": [
    "56% of the next 25 were in the same cluster."
   ]
  },
  {
   "cell_type": "code",
   "execution_count": 199,
   "metadata": {},
   "outputs": [
    {
     "data": {
      "text/plain": [
       "[3, 3, 1, 1, 1, 3, 3, 3, 1, 3, 3, 3, 3, 3, 3, 3, 3, 1, 3, 3, 3, 3, 3, 1, 3]"
      ]
     },
     "execution_count": 199,
     "metadata": {},
     "output_type": "execute_result"
    }
   ],
   "source": [
    "node_clusters[75:100]"
   ]
  },
  {
   "cell_type": "code",
   "execution_count": 200,
   "metadata": {},
   "outputs": [
    {
     "data": {
      "text/plain": [
       "6"
      ]
     },
     "execution_count": 200,
     "metadata": {},
     "output_type": "execute_result"
    }
   ],
   "source": [
    "len(np.where(np.asarray(node_clusters[75:100])!=3)[0])"
   ]
  },
  {
   "cell_type": "markdown",
   "metadata": {},
   "source": [
    "76% of the last 25 were in the same cluster."
   ]
  },
  {
   "cell_type": "markdown",
   "metadata": {},
   "source": [
    "Overall, we're showing between 56% and 84% accuracy in grouping the nodes into the same clusters as we originally created. However, the inclusion of 25% noise when generating the data in an effort to appear more realistic is obfuscating the clarity of the results.  This being the case, we'll test again with only a 10% difference between any node and its medoid:"
   ]
  },
  {
   "cell_type": "code",
   "execution_count": 235,
   "metadata": {},
   "outputs": [],
   "source": [
    "first_medoid_cluster_simple = cluster_creator(first_medoid, [0,0.1], 24)\n",
    "second_medoid_cluster_simple = cluster_creator(second_medoid, [0,0.1], 24)\n",
    "third_medoid_cluster_simple = cluster_creator(third_medoid, [0,0.1], 24)\n",
    "fourth_medoid_cluster_simple = cluster_creator(fourth_medoid, [0,0.1], 24)"
   ]
  },
  {
   "cell_type": "code",
   "execution_count": 236,
   "metadata": {},
   "outputs": [],
   "source": [
    "simulated_games_simple = [first_medoid] + first_medoid_cluster_simple + [second_medoid] + \\\n",
    "    second_medoid_cluster_simple + [third_medoid] + third_medoid_cluster_simple + [fourth_medoid] + \\\n",
    "    fourth_medoid_cluster_simple"
   ]
  },
  {
   "cell_type": "code",
   "execution_count": 237,
   "metadata": {},
   "outputs": [],
   "source": [
    "simulated_games_simple = pd.DataFrame(np.array(simulated_games_simple))"
   ]
  },
  {
   "cell_type": "code",
   "execution_count": 238,
   "metadata": {},
   "outputs": [],
   "source": [
    "cluster_results_simple = binary_clusterer(simulated_games_simple, 1)"
   ]
  },
  {
   "cell_type": "code",
   "execution_count": 239,
   "metadata": {},
   "outputs": [],
   "source": [
    "# reverse the order (from smallest number of clusters to greatest) to make interpretation easier\n",
    "cluster_results_simple[0].reverse()\n",
    "cluster_results_simple[1].reverse()\n",
    "cluster_results_simple[2].reverse()"
   ]
  },
  {
   "cell_type": "code",
   "execution_count": 240,
   "metadata": {},
   "outputs": [],
   "source": [
    "cluster_results_simple_comparison = pd.DataFrame({'k_clusters':cluster_results_simple[2],\n",
    "                                                  'average_cluster_distance':cluster_results_simple[1]})"
   ]
  },
  {
   "cell_type": "code",
   "execution_count": 242,
   "metadata": {},
   "outputs": [
    {
     "data": {
      "text/html": [
       "<div>\n",
       "<style scoped>\n",
       "    .dataframe tbody tr th:only-of-type {\n",
       "        vertical-align: middle;\n",
       "    }\n",
       "\n",
       "    .dataframe tbody tr th {\n",
       "        vertical-align: top;\n",
       "    }\n",
       "\n",
       "    .dataframe thead th {\n",
       "        text-align: right;\n",
       "    }\n",
       "</style>\n",
       "<table border=\"1\" class=\"dataframe\">\n",
       "  <thead>\n",
       "    <tr style=\"text-align: right;\">\n",
       "      <th></th>\n",
       "      <th>k_clusters</th>\n",
       "      <th>average_cluster_distance</th>\n",
       "    </tr>\n",
       "  </thead>\n",
       "  <tbody>\n",
       "    <tr>\n",
       "      <td>0</td>\n",
       "      <td>2</td>\n",
       "      <td>5.500000</td>\n",
       "    </tr>\n",
       "    <tr>\n",
       "      <td>1</td>\n",
       "      <td>3</td>\n",
       "      <td>5.629630</td>\n",
       "    </tr>\n",
       "    <tr>\n",
       "      <td>2</td>\n",
       "      <td>4</td>\n",
       "      <td>5.303819</td>\n",
       "    </tr>\n",
       "    <tr>\n",
       "      <td>3</td>\n",
       "      <td>5</td>\n",
       "      <td>5.404444</td>\n",
       "    </tr>\n",
       "    <tr>\n",
       "      <td>4</td>\n",
       "      <td>6</td>\n",
       "      <td>5.833333</td>\n",
       "    </tr>\n",
       "    <tr>\n",
       "      <td>5</td>\n",
       "      <td>7</td>\n",
       "      <td>6.394558</td>\n",
       "    </tr>\n",
       "    <tr>\n",
       "      <td>6</td>\n",
       "      <td>8</td>\n",
       "      <td>6.679167</td>\n",
       "    </tr>\n",
       "    <tr>\n",
       "      <td>7</td>\n",
       "      <td>9</td>\n",
       "      <td>6.962963</td>\n",
       "    </tr>\n",
       "    <tr>\n",
       "      <td>8</td>\n",
       "      <td>10</td>\n",
       "      <td>6.820000</td>\n",
       "    </tr>\n",
       "    <tr>\n",
       "      <td>9</td>\n",
       "      <td>11</td>\n",
       "      <td>6.670893</td>\n",
       "    </tr>\n",
       "  </tbody>\n",
       "</table>\n",
       "</div>"
      ],
      "text/plain": [
       "   k_clusters  average_cluster_distance\n",
       "0           2                  5.500000\n",
       "1           3                  5.629630\n",
       "2           4                  5.303819\n",
       "3           5                  5.404444\n",
       "4           6                  5.833333\n",
       "5           7                  6.394558\n",
       "6           8                  6.679167\n",
       "7           9                  6.962963\n",
       "8          10                  6.820000\n",
       "9          11                  6.670893"
      ]
     },
     "execution_count": 242,
     "metadata": {},
     "output_type": "execute_result"
    }
   ],
   "source": [
    "cluster_results_simple_comparison[0:10]"
   ]
  },
  {
   "cell_type": "code",
   "execution_count": 245,
   "metadata": {},
   "outputs": [],
   "source": [
    "cluster_centroids_simple = cluster_results_simple[0][2]"
   ]
  },
  {
   "cell_type": "code",
   "execution_count": 246,
   "metadata": {},
   "outputs": [],
   "source": [
    "node_clusters_simple = cluster_classifier(simulated_games_simple, cluster_centroids_simple)"
   ]
  },
  {
   "cell_type": "code",
   "execution_count": 248,
   "metadata": {
    "scrolled": true
   },
   "outputs": [
    {
     "name": "stdout",
     "output_type": "stream",
     "text": [
      "26\n",
      "24\n",
      "25\n",
      "25\n"
     ]
    }
   ],
   "source": [
    "print(node_clusters_simple.count(0))\n",
    "print(node_clusters_simple.count(1))\n",
    "print(node_clusters_simple.count(2))\n",
    "print(node_clusters_simple.count(3))"
   ]
  },
  {
   "cell_type": "code",
   "execution_count": 249,
   "metadata": {
    "scrolled": true
   },
   "outputs": [
    {
     "data": {
      "text/plain": [
       "[2, 2, 1, 2, 2, 2, 2, 2, 2, 2, 2, 2, 2, 2, 2, 2, 2, 2, 2, 2, 2, 2, 2, 2, 2]"
      ]
     },
     "execution_count": 249,
     "metadata": {},
     "output_type": "execute_result"
    }
   ],
   "source": [
    "node_clusters_simple[0:25]"
   ]
  },
  {
   "cell_type": "code",
   "execution_count": 251,
   "metadata": {
    "scrolled": true
   },
   "outputs": [
    {
     "data": {
      "text/plain": [
       "1"
      ]
     },
     "execution_count": 251,
     "metadata": {},
     "output_type": "execute_result"
    }
   ],
   "source": [
    "len(np.where(np.asarray(node_clusters_simple[0:25])!=2)[0])"
   ]
  },
  {
   "cell_type": "markdown",
   "metadata": {},
   "source": [
    "That's 96% (24/25) accurate for the first cluster!"
   ]
  },
  {
   "cell_type": "code",
   "execution_count": 252,
   "metadata": {},
   "outputs": [
    {
     "data": {
      "text/plain": [
       "[0, 0, 0, 0, 0, 0, 0, 0, 0, 0, 0, 0, 0, 0, 0, 0, 0, 0, 0, 0, 0, 0, 0, 0, 0]"
      ]
     },
     "execution_count": 252,
     "metadata": {},
     "output_type": "execute_result"
    }
   ],
   "source": [
    "node_clusters_simple[25:50]"
   ]
  },
  {
   "cell_type": "code",
   "execution_count": 255,
   "metadata": {},
   "outputs": [
    {
     "data": {
      "text/plain": [
       "0"
      ]
     },
     "execution_count": 255,
     "metadata": {},
     "output_type": "execute_result"
    }
   ],
   "source": [
    "len(np.where(np.asarray(node_clusters_simple[25:50])!=0)[0])"
   ]
  },
  {
   "cell_type": "markdown",
   "metadata": {},
   "source": [
    "100% (25/25) accurate for the second cluster!"
   ]
  },
  {
   "cell_type": "code",
   "execution_count": 256,
   "metadata": {},
   "outputs": [
    {
     "data": {
      "text/plain": [
       "[1, 1, 1, 1, 1, 1, 1, 1, 1, 1, 1, 1, 0, 1, 1, 1, 1, 1, 1, 1, 1, 1, 1, 2, 1]"
      ]
     },
     "execution_count": 256,
     "metadata": {},
     "output_type": "execute_result"
    }
   ],
   "source": [
    "node_clusters_simple[50:75]"
   ]
  },
  {
   "cell_type": "code",
   "execution_count": 258,
   "metadata": {
    "scrolled": true
   },
   "outputs": [
    {
     "data": {
      "text/plain": [
       "2"
      ]
     },
     "execution_count": 258,
     "metadata": {},
     "output_type": "execute_result"
    }
   ],
   "source": [
    "len(np.where(np.asarray(node_clusters_simple[50:75])!=1)[0])"
   ]
  },
  {
   "cell_type": "markdown",
   "metadata": {},
   "source": [
    "92% (23/25) accurate for the third cluster."
   ]
  },
  {
   "cell_type": "code",
   "execution_count": 260,
   "metadata": {},
   "outputs": [
    {
     "data": {
      "text/plain": [
       "[3, 3, 3, 3, 3, 3, 3, 3, 3, 3, 3, 3, 3, 3, 3, 3, 3, 3, 3, 3, 3, 3, 3, 3, 3]"
      ]
     },
     "execution_count": 260,
     "metadata": {},
     "output_type": "execute_result"
    }
   ],
   "source": [
    "node_clusters_simple[75:100]"
   ]
  },
  {
   "cell_type": "code",
   "execution_count": 261,
   "metadata": {},
   "outputs": [
    {
     "data": {
      "text/plain": [
       "0"
      ]
     },
     "execution_count": 261,
     "metadata": {},
     "output_type": "execute_result"
    }
   ],
   "source": [
    "len(np.where(np.asarray(node_clusters_simple[75:100])!=3)[0])"
   ]
  },
  {
   "cell_type": "markdown",
   "metadata": {},
   "source": [
    "100% (25/25) accurate for the third cluster!"
   ]
  },
  {
   "cell_type": "markdown",
   "metadata": {},
   "source": [
    "It looks like our classifier is at 97% accurate when we reduce the noise around the medoids to 10% from 25%.  This isn't surprising, but the elbow method of identifying the right number of clusters didn't exactly make choosing the right number of clusters obvious.  In fact, at k=4 clusters, we're seeing a minimum of the average distance between clusters.  This leads me to believe that I've misinterpreted the average_cluster_distance and I should, instead, be attempting to select the k for which the average_cluster_distance is small and the k+1 distance is a large jump."
   ]
  },
  {
   "cell_type": "markdown",
   "metadata": {},
   "source": [
    "___\n",
    "# Takeaways\n",
    "\n",
    "In this script, an unsupervised binary classification algorithm was devised and tested with simulated data centered around 4 medoids. At 25% noise added around the 4 medoids, we had a 70% accuracy in classification.  At 10%, however, we saw a 97% accuracy.  \n",
    "\n",
    "Additionally, we learned that the correct approach to selecting k clusters is to identify the k for which the average distance between clusters is small and the k+1 cluster sees a relatively large increase in average distance."
   ]
  }
 ],
 "metadata": {
  "kernelspec": {
   "display_name": "Python 3",
   "language": "python",
   "name": "python3"
  },
  "language_info": {
   "codemirror_mode": {
    "name": "ipython",
    "version": 3
   },
   "file_extension": ".py",
   "mimetype": "text/x-python",
   "name": "python",
   "nbconvert_exporter": "python",
   "pygments_lexer": "ipython3",
   "version": "3.6.9"
  }
 },
 "nbformat": 4,
 "nbformat_minor": 2
}
